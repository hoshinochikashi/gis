{
 "cells": [
  {
   "cell_type": "code",
   "execution_count": 1,
   "metadata": {},
   "outputs": [],
   "source": [
    "import geopandas as gpd\n",
    "import pandas as pd\n",
    "import contextily as ctx\n",
    "import plotly.express as px\n",
    "import contextily as cx\n",
    "import numpy as np\n",
    "import matplotlib.pyplot as plt\n",
    "\n",
    "# set font\n",
    "import matplotlib as mpl\n",
    "\n",
    "# for Mac\n",
    "#mpl.rc('font',family='Hiragino Maru Gothic Pro')\n",
    "\n",
    "# for PC\n",
    "mpl.rc('font',family='MS Gothic')\n"
   ]
  },
  {
   "cell_type": "code",
   "execution_count": 3,
   "metadata": {},
   "outputs": [],
   "source": [
    "osakamesh1 = gpd.read_file('osakadata/SDDSWS5135.zip')\n",
    "osakamesh2 = gpd.read_file('osakadata/SDDSWS5235.zip')"
   ]
  },
  {
   "cell_type": "code",
   "execution_count": 4,
   "metadata": {},
   "outputs": [],
   "source": [
    "osakamesh = gpd.pd.concat([osakamesh1,osakamesh2])"
   ]
  },
  {
   "cell_type": "code",
   "execution_count": 8,
   "metadata": {},
   "outputs": [
    {
     "data": {
      "text/plain": [
       "<Axes: >"
      ]
     },
     "execution_count": 8,
     "metadata": {},
     "output_type": "execute_result"
    },
    {
     "data": {
      "image/png": "[encoded data removed]",
      "text/plain": [
       "<Figure size 1000x1000 with 1 Axes>"
      ]
     },
     "metadata": {},
     "output_type": "display_data"
    }
   ],
   "source": [
    "osakamesh.plot(figsize=(10,10),edgecolor='white',linewidth=0.1,column='MESH1_ID')"
   ]
  },
  {
   "cell_type": "code",
   "execution_count": 22,
   "metadata": {},
   "outputs": [],
   "source": [
    "# csvデータなので pandas (pd) でインポート\n",
    "# 文字化け予防のために encoding='cp932' \n",
    "osakadata1 = pd.read_csv('osakadata/tblT001100S5135.zip', encoding='cp932')\n",
    "osakadata2 = pd.read_csv('osakadata/tblT001100S5235.zip', encoding='cp932')\n",
    "osakadata3 = pd.read_csv('osakadata/tblT000846S5135.zip', encoding='cp932')\n",
    "osakadata4 = pd.read_csv('osakadata/tblT000846S5235.zip', encoding='cp932')"
   ]
  },
  {
   "cell_type": "code",
   "execution_count": 26,
   "metadata": {},
   "outputs": [],
   "source": [
    "# 8つのテーブルから１行目を削除\n",
    "osakadata1 = osakadata1[1:]\n",
    "osakadata2 = osakadata2[1:]\n",
    "osakadata3 = osakadata3[1:]\n",
    "osakadata4 = osakadata4[1:]"
   ]
  },
  {
   "cell_type": "code",
   "execution_count": 27,
   "metadata": {},
   "outputs": [],
   "source": [
    "# ４つのテーブルから「＊」を非数に置き換える\n",
    "osakadata1 = osakadata1.replace('*',np.nan)\n",
    "osakadata2 = osakadata2.replace('*',np.nan)\n",
    "osakadata3 = osakadata3.replace('*',np.nan)\n",
    "osakadata4 = osakadata4.replace('*',np.nan)"
   ]
  },
  {
   "cell_type": "code",
   "execution_count": 30,
   "metadata": {},
   "outputs": [],
   "source": [
    "osakadata2020 = pd.concat([osakadata1,osakadata2])"
   ]
  },
  {
   "cell_type": "code",
   "execution_count": 31,
   "metadata": {},
   "outputs": [],
   "source": [
    "osakadata2015 = pd.concat([osakadata3,osakadata4])"
   ]
  },
  {
   "cell_type": "code",
   "execution_count": 34,
   "metadata": {},
   "outputs": [],
   "source": [
    "columns_to_drop = ['HTKSYORI','HTKSAKI','GASSAN']\n",
    "osakadata2020 = osakadata2020.drop(columns=columns_to_drop)"
   ]
  },
  {
   "cell_type": "code",
   "execution_count": 36,
   "metadata": {},
   "outputs": [],
   "source": [
    "columns_to_drop = ['HTKSYORI','HTKSAKI','GASSAN']\n",
    "osakadata2015 = osakadata2015.drop(columns=columns_to_drop)"
   ]
  },
  {
   "cell_type": "code",
   "execution_count": 38,
   "metadata": {},
   "outputs": [
    {
     "data": {
      "text/plain": [
       "Index(['T001100001', 'T001100002', 'T001100003', 'T001100004', 'T001100005',\n",
       "       'T001100006', 'T001100007', 'T001100008', 'T001100009', 'T001100010',\n",
       "       'T001100011', 'T001100012', 'T001100013', 'T001100014', 'T001100015',\n",
       "       'T001100016', 'T001100017', 'T001100018', 'T001100019', 'T001100020',\n",
       "       'T001100021', 'T001100022', 'T001100023', 'T001100024', 'T001100025',\n",
       "       'T001100026', 'T001100027', 'T001100028', 'T001100029', 'T001100030',\n",
       "       'T001100031', 'T001100032', 'T001100033', 'T001100034', 'T001100035',\n",
       "       'T001100036', 'T001100037', 'T001100038', 'T001100039', 'T001100040',\n",
       "       'T001100041', 'T001100042', 'T001100043', 'T001100044', 'T001100045',\n",
       "       'T001100046', 'T001100047', 'T001100048', 'T001100049', 'T001100050'],\n",
       "      dtype='object')"
      ]
     },
     "execution_count": 38,
     "metadata": {},
     "output_type": "execute_result"
    }
   ],
   "source": [
    "osakadata2020.columns[1:]"
   ]
  },
  {
   "cell_type": "code",
   "execution_count": 40,
   "metadata": {},
   "outputs": [
    {
     "data": {
      "text/plain": [
       "Index(['T000846001', 'T000846002', 'T000846003', 'T000846004', 'T000846005',\n",
       "       'T000846006', 'T000846007', 'T000846008', 'T000846009', 'T000846010',\n",
       "       'T000846011', 'T000846012', 'T000846013', 'T000846014', 'T000846015',\n",
       "       'T000846016', 'T000846017', 'T000846018', 'T000846019', 'T000846020',\n",
       "       'T000846021', 'T000846022', 'T000846023', 'T000846024', 'T000846025',\n",
       "       'T000846026', 'T000846027', 'T000846028', 'T000846029', 'T000846030',\n",
       "       'T000846031', 'T000846032', 'T000846033', 'T000846034', 'T000846035',\n",
       "       'T000846036', 'T000846037', 'T000846038', 'T000846039', 'T000846040',\n",
       "       'T000846041'],\n",
       "      dtype='object')"
      ]
     },
     "execution_count": 40,
     "metadata": {},
     "output_type": "execute_result"
    }
   ],
   "source": [
    "osakadata2015.columns[1:]"
   ]
  },
  {
   "cell_type": "code",
   "execution_count": 41,
   "metadata": {},
   "outputs": [],
   "source": [
    "# 元のデータを入れ替える\n",
    "osakadata2020[osakadata2020.columns[1:]]=osakadata2020[osakadata2020.columns[1:]].astype(float)"
   ]
  },
  {
   "cell_type": "code",
   "execution_count": 42,
   "metadata": {},
   "outputs": [],
   "source": [
    "# 元のデータを入れ替える\n",
    "osakadata2015[osakadata2015.columns[1:]]=osakadata2015[osakadata2015.columns[1:]].astype(float)"
   ]
  },
  {
   "cell_type": "code",
   "execution_count": 44,
   "metadata": {},
   "outputs": [],
   "source": [
    "# KEY_CODEをfloatに\n",
    "osakadata2020['KEY_CODE']=osakadata2020['KEY_CODE'].astype(float)"
   ]
  },
  {
   "cell_type": "code",
   "execution_count": 45,
   "metadata": {},
   "outputs": [],
   "source": [
    "# KEY_CODEをfloatに\n",
    "osakadata2015['KEY_CODE']=osakadata2015['KEY_CODE'].astype(float)"
   ]
  },
  {
   "cell_type": "code",
   "execution_count": 46,
   "metadata": {},
   "outputs": [],
   "source": [
    "# merge the data\n",
    "osakadata2020 = osakadata2020.merge(osakadata2020, on='KEY_CODE')"
   ]
  },
  {
   "cell_type": "code",
   "execution_count": 47,
   "metadata": {},
   "outputs": [],
   "source": [
    "# merge the data\n",
    "osakadata2015 = osakadata2015.merge(osakadata2015, on='KEY_CODE')"
   ]
  },
  {
   "cell_type": "code",
   "execution_count": null,
   "metadata": {},
   "outputs": [],
   "source": []
  },
  {
   "cell_type": "code",
   "execution_count": null,
   "metadata": {},
   "outputs": [],
   "source": []
  },
  {
   "cell_type": "code",
   "execution_count": null,
   "metadata": {},
   "outputs": [],
   "source": []
  },
  {
   "cell_type": "code",
   "execution_count": null,
   "metadata": {},
   "outputs": [],
   "source": []
  },
  {
   "cell_type": "code",
   "execution_count": null,
   "metadata": {},
   "outputs": [],
   "source": []
  },
  {
   "cell_type": "code",
   "execution_count": null,
   "metadata": {},
   "outputs": [],
   "source": []
  },
  {
   "cell_type": "code",
   "execution_count": null,
   "metadata": {},
   "outputs": [],
   "source": []
  },
  {
   "cell_type": "code",
   "execution_count": null,
   "metadata": {},
   "outputs": [],
   "source": []
  },
  {
   "cell_type": "code",
   "execution_count": null,
   "metadata": {},
   "outputs": [],
   "source": []
  },
  {
   "cell_type": "code",
   "execution_count": null,
   "metadata": {},
   "outputs": [],
   "source": []
  },
  {
   "cell_type": "code",
   "execution_count": null,
   "metadata": {},
   "outputs": [],
   "source": []
  },
  {
   "cell_type": "code",
   "execution_count": null,
   "metadata": {},
   "outputs": [],
   "source": []
  },
  {
   "cell_type": "code",
   "execution_count": null,
   "metadata": {},
   "outputs": [],
   "source": []
  },
  {
   "cell_type": "code",
   "execution_count": null,
   "metadata": {},
   "outputs": [],
   "source": []
  },
  {
   "cell_type": "code",
   "execution_count": null,
   "metadata": {},
   "outputs": [],
   "source": []
  },
  {
   "cell_type": "code",
   "execution_count": null,
   "metadata": {},
   "outputs": [],
   "source": []
  },
  {
   "cell_type": "code",
   "execution_count": null,
   "metadata": {},
   "outputs": [],
   "source": []
  },
  {
   "cell_type": "code",
   "execution_count": null,
   "metadata": {},
   "outputs": [],
   "source": []
  },
  {
   "cell_type": "code",
   "execution_count": null,
   "metadata": {},
   "outputs": [],
   "source": []
  }
 ],
 "metadata": {
  "kernelspec": {
   "display_name": "gis",
   "language": "python",
   "name": "python3"
  },
  "language_info": {
   "codemirror_mode": {
    "name": "ipython",
    "version": 3
   },
   "file_extension": ".py",
   "mimetype": "text/x-python",
   "name": "python",
   "nbconvert_exporter": "python",
   "pygments_lexer": "ipython3",
   "version": "3.11.3"
  },
  "orig_nbformat": 4
 },
 "nbformat": 4,
 "nbformat_minor": 2
}
