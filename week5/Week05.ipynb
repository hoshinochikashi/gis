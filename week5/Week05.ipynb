{
 "cells": [
  {
   "attachments": {},
   "cell_type": "markdown",
   "metadata": {
    "slideshow": {
     "slide_type": "slide"
    }
   },
   "source": [
    "## Python\n",
    "\n",
    "パイソンとは何? どのように機能があるの？"
   ]
  },
  {
   "attachments": {},
   "cell_type": "markdown",
   "metadata": {
    "slideshow": {
     "slide_type": "slide"
    }
   },
   "source": [
    "- 多目的である\n",
    "- 世界で最も人気のあるコーディング言語である"
   ]
  },
  {
   "attachments": {},
   "cell_type": "markdown",
   "metadata": {
    "slideshow": {
     "slide_type": "slide"
    }
   },
   "source": [
    "- 標準ライブラリと多数のサードパーティ ライブラリがあります\n",
    "- ここでは、使用するサードパーティ ライブラリの一部を示します。\n",
    "    - [pandas](https://pandas.pydata.org/docs/#)、データ分析用\n",
    "    - [geopandas](https://geopandas.org/gallery/index.html)、地理空間データ分析用\n",
    "    - [sodapy](https://github.com/xmunoz/sodapy)、socrata クライアントからオープン データを取得するため\n",
    "    - [folium](https://python-visualization.github.io/folium/)、リーフレットに基づくインタラクティブなマップ用\n",
    "    - [osmnx](https://geoffboeing.com/2016/11/osmnx-python-street-networks/)、ネットワーク分析用のオープンストリートマップデータの取得用\n",
    "    - [keplergl](https://kepler.gl/)、3D マッピング データ分析用"
   ]
  },
  {
   "attachments": {},
   "cell_type": "markdown",
   "metadata": {
    "slideshow": {
     "slide_type": "slide"
    }
   },
   "source": [
    "### Hello world\n",
    "\n",
    "新しいコーディングの冒険を始めるために「hello world」と入力したいと思ったことはありませんか? これはそうするチャンスです。 以下のセルにこれらの単語を入力し、「shift + Enter」を押すと…"
   ]
  },
  {
   "cell_type": "code",
   "execution_count": 2,
   "metadata": {
    "slideshow": {
     "slide_type": "fragment"
    }
   },
   "outputs": [
    {
     "name": "stdout",
     "output_type": "stream",
     "text": [
      "Hello Reitaku University GIS students!\n"
     ]
    }
   ],
   "source": [
    "print('Hello Reitaku University GIS students!')"
   ]
  },
  {
   "attachments": {},
   "cell_type": "markdown",
   "metadata": {
    "slideshow": {
     "slide_type": "fragment"
    }
   },
   "source": [
    "最初の Python 関数 `print()` へようこそ。 print コマンドに引数を入力すると、Python が解釈して処理内容を決定します。 「ライト、カメラ、アクション!」、「コマンド、括弧、引数!」という構文に慣れてください！"
   ]
  },
  {
   "attachments": {},
   "cell_type": "markdown",
   "metadata": {
    "slideshow": {
     "slide_type": "slide"
    }
   },
   "source": [
    "### Comments\n",
    "\n",
    "ハイレベルなプログラマーに尋ねれば、良いコードはそれがどれだけコメントされているかによって決まるということに全員が同意するでしょう。 多くの場合、作成者がコード内でコメントをどれだけ使用するかによって判断されます。"
   ]
  },
  {
   "cell_type": "code",
   "execution_count": null,
   "metadata": {},
   "outputs": [],
   "source": [
    "# これはコメントです。 Python インタプリタはそれを無視します\n",
    "# コメントは人間がコードを理解するために読むための単なるメモです\n",
    "# ベストプラクティス: コードの数行ごとにコメントを追加して、何が起こっているのか、なぜそうなのかを説明します\n",
    "# コードのロジックをすぐに忘れてしまうことにあなたは驚かれるでしょう (少なくとも私はいつもそうなのです)"
   ]
  },
  {
   "attachments": {},
   "cell_type": "markdown",
   "metadata": {
    "slideshow": {
     "slide_type": "slide"
    }
   },
   "source": [
    "### Math\n",
    "Python はそのままで数学を理解します。\n",
    "\n",
    "Python でデフォルトで実行できる基本的な算術演算のリストを以下の表に示します。\n",
    "\n",
    "| Operation      | Symbol | Example syntax | Returned value |\n",
    "| -------------- | ------ | -------------- | -------------- |\n",
    "| Addition       | `+`    | `2 + 2`        | `4`            |\n",
    "| Subtraction    | `-`    | `4 - 2`        | `2`            |\n",
    "| Multiplication | `*`    | `2 * 3`        | `6`            | \n",
    "| Division       | `/`    | `4 / 2`        | `2`            |\n",
    "| Exponentiation | `**`   | `2**3`         | `8`            |\n"
   ]
  },
  {
   "cell_type": "code",
   "execution_count": 1,
   "metadata": {
    "slideshow": {
     "slide_type": "slide"
    }
   },
   "outputs": [
    {
     "data": {
      "text/plain": [
       "1001"
      ]
     },
     "execution_count": 1,
     "metadata": {},
     "output_type": "execute_result"
    }
   ],
   "source": [
    "# add two integers\n",
    "1+1000"
   ]
  },
  {
   "cell_type": "code",
   "execution_count": 5,
   "metadata": {
    "scrolled": true,
    "slideshow": {
     "slide_type": "fragment"
    }
   },
   "outputs": [
    {
     "data": {
      "text/plain": [
       "3.6666666666666665"
      ]
     },
     "execution_count": 5,
     "metadata": {},
     "output_type": "execute_result"
    }
   ],
   "source": [
    "# divide two integers to get a floating number\n",
    "11/3"
   ]
  },
  {
   "cell_type": "code",
   "execution_count": 6,
   "metadata": {
    "jupyter": {
     "outputs_hidden": false
    },
    "slideshow": {
     "slide_type": "fragment"
    }
   },
   "outputs": [
    {
     "data": {
      "text/plain": [
       "6"
      ]
     },
     "execution_count": 6,
     "metadata": {},
     "output_type": "execute_result"
    }
   ],
   "source": [
    "# multiply two integers\n",
    "2 * 3"
   ]
  },
  {
   "cell_type": "code",
   "execution_count": 7,
   "metadata": {},
   "outputs": [
    {
     "ename": "ZeroDivisionError",
     "evalue": "division by zero",
     "output_type": "error",
     "traceback": [
      "\u001b[1;31m---------------------------------------------------------------------------\u001b[0m",
      "\u001b[1;31mZeroDivisionError\u001b[0m                         Traceback (most recent call last)",
      "Cell \u001b[1;32mIn[7], line 2\u001b[0m\n\u001b[0;32m      1\u001b[0m \u001b[39m# what about this?\u001b[39;00m\n\u001b[1;32m----> 2\u001b[0m \u001b[39m1\u001b[39;49m\u001b[39m/\u001b[39;49m\u001b[39m0\u001b[39;49m\n",
      "\u001b[1;31mZeroDivisionError\u001b[0m: division by zero"
     ]
    }
   ],
   "source": [
    "# what about this?\n",
    "1/0"
   ]
  },
  {
   "attachments": {},
   "cell_type": "markdown",
   "metadata": {
    "slideshow": {
     "slide_type": "slide"
    }
   },
   "source": [
    "そうなんです！Pythonには理解できないコマンドとか、間違ったコーディングをした場合は必ずエラーがでます。エラーが出ないコーダーは世の中にはいません。慣れましょう！\n",
    "\n",
    "あなたも試してみてください！ いくつかの数学コマンドを入力します。 どれが機能し、どれが機能しないのでしょうか?"
   ]
  },
  {
   "cell_type": "code",
   "execution_count": null,
   "metadata": {},
   "outputs": [],
   "source": []
  },
  {
   "attachments": {},
   "cell_type": "markdown",
   "metadata": {
    "slideshow": {
     "slide_type": "slide"
    }
   },
   "source": [
    "### Modules\n",
    "\n",
    "さらに高度な場合は、*モジュール*をロードする必要があります。 数学演算の場合、このモジュールは *math* と呼ばれ、「import math」と入力してロードできます。 以下で試してみてください。"
   ]
  },
  {
   "cell_type": "code",
   "execution_count": null,
   "metadata": {},
   "outputs": [],
   "source": [
    "# import文を使ってモジュールを呼び出す\n",
    "import math"
   ]
  },
  {
   "attachments": {},
   "cell_type": "markdown",
   "metadata": {
    "slideshow": {
     "slide_type": "slide"
    }
   },
   "source": [
    "モジュールがロードされると、ノートブックはそれに付属するすべての関数を継承します。 言い換えれば、プロジェクトの機能は大幅に向上し、継承されたモジュールに基づいて機能が拡張されます。"
   ]
  },
  {
   "cell_type": "code",
   "execution_count": null,
   "metadata": {
    "jupyter": {
     "outputs_hidden": false
    }
   },
   "outputs": [],
   "source": [
    "math.sin(3)"
   ]
  },
  {
   "cell_type": "code",
   "execution_count": null,
   "metadata": {
    "jupyter": {
     "outputs_hidden": false
    }
   },
   "outputs": [],
   "source": [
    "math.sqrt(4)"
   ]
  },
  {
   "attachments": {},
   "cell_type": "markdown",
   "metadata": {},
   "source": [
    "マップを作成するには、folium などの「マップ」モジュールをインポートします。 それを試してみてください！"
   ]
  },
  {
   "cell_type": "code",
   "execution_count": null,
   "metadata": {},
   "outputs": [],
   "source": [
    "# import folium, a leaflet python library\n",
    "import folium\n",
    "\n",
    "# make the map\n",
    "m = folium.Map(location=[35.8330, 139.9550], zoom_start=15)\n",
    "\n",
    "# show the map\n",
    "m"
   ]
  },
  {
   "attachments": {},
   "cell_type": "markdown",
   "metadata": {
    "slideshow": {
     "slide_type": "slide"
    }
   },
   "source": [
    "モジュールに関して今まで見てきたことを要約しましょう。\n",
    "\n",
    "1. *モジュール* は、互いに関連する関数などのコード項目のグループです。 個々のモジュールは、多くの場合、「ライブラリ」と呼ばれるグループに含まれます。\n",
    "\n",
    "2. モジュールは ``import`` を使用してロードできます。 モジュール ``modulename`` の一部である関数は、 ``modulename.functionname()`` と入力することで使用できます。 たとえば、 ``sin()`` は ``math`` モジュールの一部である関数で、括弧の間に数字を入れて ``math.sin()`` と入力することで使用されます。"
   ]
  },
  {
   "attachments": {},
   "cell_type": "markdown",
   "metadata": {
    "slideshow": {
     "slide_type": "slide"
    }
   },
   "source": [
    "### Variables\n",
    "\n",
    "*変数* は、式で計算された値を保存したり、他の計算に使用したりするために使用できます。 変数への値の代入は簡単です。 値を割り当てるには、「variable_name = value」と入力するだけです。「variable_name」は定義したい変数の名前です。"
   ]
  },
  {
   "cell_type": "code",
   "execution_count": null,
   "metadata": {
    "jupyter": {
     "outputs_hidden": false
    },
    "slideshow": {
     "slide_type": "slide"
    }
   },
   "outputs": [],
   "source": [
    "# variables, such as x here, contain values and their values can vary\n",
    "x = 5"
   ]
  },
  {
   "cell_type": "code",
   "execution_count": null,
   "metadata": {
    "jupyter": {
     "outputs_hidden": false
    },
    "slideshow": {
     "slide_type": "fragment"
    }
   },
   "outputs": [],
   "source": [
    "# what is the value of x?\n",
    "x"
   ]
  },
  {
   "cell_type": "code",
   "execution_count": null,
   "metadata": {
    "jupyter": {
     "outputs_hidden": false
    },
    "slideshow": {
     "slide_type": "fragment"
    }
   },
   "outputs": [],
   "source": [
    "# you can perform operations on variables, just like you can on two numbers\n",
    "x + 3"
   ]
  },
  {
   "cell_type": "code",
   "execution_count": null,
   "metadata": {
    "jupyter": {
     "outputs_hidden": false
    },
    "slideshow": {
     "slide_type": "fragment"
    }
   },
   "outputs": [],
   "source": [
    "# create a new variable y from an operation on x\n",
    "x = 5\n",
    "y = x * 2\n",
    "y"
   ]
  },
  {
   "cell_type": "code",
   "execution_count": null,
   "metadata": {
    "jupyter": {
     "outputs_hidden": false
    },
    "slideshow": {
     "slide_type": "fragment"
    }
   },
   "outputs": [],
   "source": [
    "# 値を出力すると、最後に出力されたもののみが表示されます\n",
    "# printを使わないと、ここが違う！ ちょっとややこしいね…\n",
    "x\n",
    "y"
   ]
  },
  {
   "cell_type": "code",
   "execution_count": null,
   "metadata": {
    "jupyter": {
     "outputs_hidden": false
    },
    "slideshow": {
     "slide_type": "slide"
    }
   },
   "outputs": [],
   "source": [
    "# 同じセルで複数の変数をprintしたい場合\n",
    "print(x)\n",
    "print(y)"
   ]
  },
  {
   "cell_type": "code",
   "execution_count": null,
   "metadata": {
    "jupyter": {
     "outputs_hidden": false
    },
    "slideshow": {
     "slide_type": "fragment"
    }
   },
   "outputs": [],
   "source": [
    "# 値をカンマで区切って複数の値をコンソールに 1 行で出力できます\n",
    "# この構文では変数間にスペースが自動的に追加されることに注意\n",
    "print(x,y)"
   ]
  },
  {
   "cell_type": "code",
   "execution_count": null,
   "metadata": {
    "jupyter": {
     "outputs_hidden": false
    },
    "slideshow": {
     "slide_type": "fragment"
    }
   },
   "outputs": [],
   "source": [
    "# you can also print the result of an expression\n",
    "print(x * y)"
   ]
  },
  {
   "cell_type": "code",
   "execution_count": null,
   "metadata": {
    "slideshow": {
     "slide_type": "slide"
    }
   },
   "outputs": [],
   "source": [
    "# 数値と文字列を印刷して連結することはできますか?\n",
    "print('x is ' + x)"
   ]
  },
  {
   "cell_type": "code",
   "execution_count": null,
   "metadata": {
    "slideshow": {
     "slide_type": "fragment"
    }
   },
   "outputs": [],
   "source": [
    "# Python print コマンドは同じ型の値のみを連結できます\n",
    "# したがって、数値を文字列に変換する必要があります\n",
    "print('x is: ' + str(x))"
   ]
  },
  {
   "cell_type": "code",
   "execution_count": null,
   "metadata": {
    "slideshow": {
     "slide_type": "fragment"
    }
   },
   "outputs": [],
   "source": [
    "# あるいは、カンマを使用することもできます。\n",
    "# ややこしいですが、違いがわかりますか?\n",
    "print('x is:', x)"
   ]
  },
  {
   "attachments": {},
   "cell_type": "markdown",
   "metadata": {},
   "source": [
    "先ほどのマップに変数を使うと？"
   ]
  },
  {
   "cell_type": "code",
   "execution_count": 19,
   "metadata": {},
   "outputs": [
    {
     "data": {
      "text/html": [
       "<div style=\"width:100%;\"><div style=\"position:relative;width:100%;height:0;padding-bottom:60%;\"><span style=\"color:#565656\">Make this Notebook Trusted to load map: File -> Trust Notebook</span><iframe srcdoc=\"&lt;!DOCTYPE html&gt;\n",
       "&lt;html&gt;\n",
       "&lt;head&gt;\n",
       "    \n",
       "    &lt;meta http-equiv=&quot;content-type&quot; content=&quot;text/html; charset=UTF-8&quot; /&gt;\n",
       "    \n",
       "        &lt;script&gt;\n",
       "            L_NO_TOUCH = false;\n",
       "            L_DISABLE_3D = false;\n",
       "        &lt;/script&gt;\n",
       "    \n",
       "    &lt;style&gt;html, body {width: 100%;height: 100%;margin: 0;padding: 0;}&lt;/style&gt;\n",
       "    &lt;style&gt;#map {position:absolute;top:0;bottom:0;right:0;left:0;}&lt;/style&gt;\n",
       "    &lt;script src=&quot;https://cdn.jsdelivr.net/npm/leaflet@1.9.3/dist/leaflet.js&quot;&gt;&lt;/script&gt;\n",
       "    &lt;script src=&quot;https://code.jquery.com/jquery-1.12.4.min.js&quot;&gt;&lt;/script&gt;\n",
       "    &lt;script src=&quot;https://cdn.jsdelivr.net/npm/bootstrap@5.2.2/dist/js/bootstrap.bundle.min.js&quot;&gt;&lt;/script&gt;\n",
       "    &lt;script src=&quot;https://cdnjs.cloudflare.com/ajax/libs/Leaflet.awesome-markers/2.0.2/leaflet.awesome-markers.js&quot;&gt;&lt;/script&gt;\n",
       "    &lt;link rel=&quot;stylesheet&quot; href=&quot;https://cdn.jsdelivr.net/npm/leaflet@1.9.3/dist/leaflet.css&quot;/&gt;\n",
       "    &lt;link rel=&quot;stylesheet&quot; href=&quot;https://cdn.jsdelivr.net/npm/bootstrap@5.2.2/dist/css/bootstrap.min.css&quot;/&gt;\n",
       "    &lt;link rel=&quot;stylesheet&quot; href=&quot;https://netdna.bootstrapcdn.com/bootstrap/3.0.0/css/bootstrap.min.css&quot;/&gt;\n",
       "    &lt;link rel=&quot;stylesheet&quot; href=&quot;https://cdn.jsdelivr.net/npm/@fortawesome/fontawesome-free@6.2.0/css/all.min.css&quot;/&gt;\n",
       "    &lt;link rel=&quot;stylesheet&quot; href=&quot;https://cdnjs.cloudflare.com/ajax/libs/Leaflet.awesome-markers/2.0.2/leaflet.awesome-markers.css&quot;/&gt;\n",
       "    &lt;link rel=&quot;stylesheet&quot; href=&quot;https://cdn.jsdelivr.net/gh/python-visualization/folium/folium/templates/leaflet.awesome.rotate.min.css&quot;/&gt;\n",
       "    \n",
       "            &lt;meta name=&quot;viewport&quot; content=&quot;width=device-width,\n",
       "                initial-scale=1.0, maximum-scale=1.0, user-scalable=no&quot; /&gt;\n",
       "            &lt;style&gt;\n",
       "                #map_362fa6f038a08fde04b16e0d173e4265 {\n",
       "                    position: relative;\n",
       "                    width: 100.0%;\n",
       "                    height: 100.0%;\n",
       "                    left: 0.0%;\n",
       "                    top: 0.0%;\n",
       "                }\n",
       "                .leaflet-container { font-size: 1rem; }\n",
       "            &lt;/style&gt;\n",
       "        \n",
       "&lt;/head&gt;\n",
       "&lt;body&gt;\n",
       "    \n",
       "    \n",
       "            &lt;div class=&quot;folium-map&quot; id=&quot;map_362fa6f038a08fde04b16e0d173e4265&quot; &gt;&lt;/div&gt;\n",
       "        \n",
       "&lt;/body&gt;\n",
       "&lt;script&gt;\n",
       "    \n",
       "    \n",
       "            var map_362fa6f038a08fde04b16e0d173e4265 = L.map(\n",
       "                &quot;map_362fa6f038a08fde04b16e0d173e4265&quot;,\n",
       "                {\n",
       "                    center: [35.833, 139.955],\n",
       "                    crs: L.CRS.EPSG3857,\n",
       "                    zoom: 15,\n",
       "                    zoomControl: true,\n",
       "                    preferCanvas: false,\n",
       "                }\n",
       "            );\n",
       "\n",
       "            \n",
       "\n",
       "        \n",
       "    \n",
       "            var tile_layer_df4559883ba39dedecb0541d60e04264 = L.tileLayer(\n",
       "                &quot;https://{s}.tile.openstreetmap.org/{z}/{x}/{y}.png&quot;,\n",
       "                {&quot;attribution&quot;: &quot;Data by \\u0026copy; \\u003ca target=\\&quot;_blank\\&quot; href=\\&quot;http://openstreetmap.org\\&quot;\\u003eOpenStreetMap\\u003c/a\\u003e, under \\u003ca target=\\&quot;_blank\\&quot; href=\\&quot;http://www.openstreetmap.org/copyright\\&quot;\\u003eODbL\\u003c/a\\u003e.&quot;, &quot;detectRetina&quot;: false, &quot;maxNativeZoom&quot;: 18, &quot;maxZoom&quot;: 18, &quot;minZoom&quot;: 0, &quot;noWrap&quot;: false, &quot;opacity&quot;: 1, &quot;subdomains&quot;: &quot;abc&quot;, &quot;tms&quot;: false}\n",
       "            ).addTo(map_362fa6f038a08fde04b16e0d173e4265);\n",
       "        \n",
       "&lt;/script&gt;\n",
       "&lt;/html&gt;\" style=\"position:absolute;width:100%;height:100%;left:0;top:0;border:none !important;\" allowfullscreen webkitallowfullscreen mozallowfullscreen></iframe></div></div>"
      ],
      "text/plain": [
       "<folium.folium.Map at 0x1d5e8977810>"
      ]
     },
     "execution_count": 19,
     "metadata": {},
     "output_type": "execute_result"
    }
   ],
   "source": [
    "# import folium, a leaflet python library\n",
    "import folium\n",
    "\n",
    "# create a list of lat/lon pair for UCLA\n",
    "reitaku = [35.8330, 139.9550]\n",
    "\n",
    "# make the map\n",
    "m = folium.Map(location=reitaku, zoom_start=15\n",
    "            )\n",
    "\n",
    "# show the map\n",
    "m"
   ]
  },
  {
   "attachments": {},
   "cell_type": "markdown",
   "metadata": {},
   "source": [
    "違いがわかりますか？\n",
    "\n",
    "さらに、map markerを足すと："
   ]
  },
  {
   "cell_type": "code",
   "execution_count": 21,
   "metadata": {},
   "outputs": [
    {
     "data": {
      "text/html": [
       "<div style=\"width:100%;\"><div style=\"position:relative;width:100%;height:0;padding-bottom:60%;\"><span style=\"color:#565656\">Make this Notebook Trusted to load map: File -> Trust Notebook</span><iframe srcdoc=\"&lt;!DOCTYPE html&gt;\n",
       "&lt;html&gt;\n",
       "&lt;head&gt;\n",
       "    \n",
       "    &lt;meta http-equiv=&quot;content-type&quot; content=&quot;text/html; charset=UTF-8&quot; /&gt;\n",
       "    \n",
       "        &lt;script&gt;\n",
       "            L_NO_TOUCH = false;\n",
       "            L_DISABLE_3D = false;\n",
       "        &lt;/script&gt;\n",
       "    \n",
       "    &lt;style&gt;html, body {width: 100%;height: 100%;margin: 0;padding: 0;}&lt;/style&gt;\n",
       "    &lt;style&gt;#map {position:absolute;top:0;bottom:0;right:0;left:0;}&lt;/style&gt;\n",
       "    &lt;script src=&quot;https://cdn.jsdelivr.net/npm/leaflet@1.9.3/dist/leaflet.js&quot;&gt;&lt;/script&gt;\n",
       "    &lt;script src=&quot;https://code.jquery.com/jquery-1.12.4.min.js&quot;&gt;&lt;/script&gt;\n",
       "    &lt;script src=&quot;https://cdn.jsdelivr.net/npm/bootstrap@5.2.2/dist/js/bootstrap.bundle.min.js&quot;&gt;&lt;/script&gt;\n",
       "    &lt;script src=&quot;https://cdnjs.cloudflare.com/ajax/libs/Leaflet.awesome-markers/2.0.2/leaflet.awesome-markers.js&quot;&gt;&lt;/script&gt;\n",
       "    &lt;link rel=&quot;stylesheet&quot; href=&quot;https://cdn.jsdelivr.net/npm/leaflet@1.9.3/dist/leaflet.css&quot;/&gt;\n",
       "    &lt;link rel=&quot;stylesheet&quot; href=&quot;https://cdn.jsdelivr.net/npm/bootstrap@5.2.2/dist/css/bootstrap.min.css&quot;/&gt;\n",
       "    &lt;link rel=&quot;stylesheet&quot; href=&quot;https://netdna.bootstrapcdn.com/bootstrap/3.0.0/css/bootstrap.min.css&quot;/&gt;\n",
       "    &lt;link rel=&quot;stylesheet&quot; href=&quot;https://cdn.jsdelivr.net/npm/@fortawesome/fontawesome-free@6.2.0/css/all.min.css&quot;/&gt;\n",
       "    &lt;link rel=&quot;stylesheet&quot; href=&quot;https://cdnjs.cloudflare.com/ajax/libs/Leaflet.awesome-markers/2.0.2/leaflet.awesome-markers.css&quot;/&gt;\n",
       "    &lt;link rel=&quot;stylesheet&quot; href=&quot;https://cdn.jsdelivr.net/gh/python-visualization/folium/folium/templates/leaflet.awesome.rotate.min.css&quot;/&gt;\n",
       "    \n",
       "            &lt;meta name=&quot;viewport&quot; content=&quot;width=device-width,\n",
       "                initial-scale=1.0, maximum-scale=1.0, user-scalable=no&quot; /&gt;\n",
       "            &lt;style&gt;\n",
       "                #map_d0522398ba50d10eee1f0030bcad8a19 {\n",
       "                    position: relative;\n",
       "                    width: 100.0%;\n",
       "                    height: 100.0%;\n",
       "                    left: 0.0%;\n",
       "                    top: 0.0%;\n",
       "                }\n",
       "                .leaflet-container { font-size: 1rem; }\n",
       "            &lt;/style&gt;\n",
       "        \n",
       "&lt;/head&gt;\n",
       "&lt;body&gt;\n",
       "    \n",
       "    \n",
       "            &lt;div class=&quot;folium-map&quot; id=&quot;map_d0522398ba50d10eee1f0030bcad8a19&quot; &gt;&lt;/div&gt;\n",
       "        \n",
       "&lt;/body&gt;\n",
       "&lt;script&gt;\n",
       "    \n",
       "    \n",
       "            var map_d0522398ba50d10eee1f0030bcad8a19 = L.map(\n",
       "                &quot;map_d0522398ba50d10eee1f0030bcad8a19&quot;,\n",
       "                {\n",
       "                    center: [35.833, 139.955],\n",
       "                    crs: L.CRS.EPSG3857,\n",
       "                    zoom: 15,\n",
       "                    zoomControl: true,\n",
       "                    preferCanvas: false,\n",
       "                }\n",
       "            );\n",
       "\n",
       "            \n",
       "\n",
       "        \n",
       "    \n",
       "            var tile_layer_515043950131b9bd90088a74442d5179 = L.tileLayer(\n",
       "                &quot;https://{s}.tile.openstreetmap.org/{z}/{x}/{y}.png&quot;,\n",
       "                {&quot;attribution&quot;: &quot;Data by \\u0026copy; \\u003ca target=\\&quot;_blank\\&quot; href=\\&quot;http://openstreetmap.org\\&quot;\\u003eOpenStreetMap\\u003c/a\\u003e, under \\u003ca target=\\&quot;_blank\\&quot; href=\\&quot;http://www.openstreetmap.org/copyright\\&quot;\\u003eODbL\\u003c/a\\u003e.&quot;, &quot;detectRetina&quot;: false, &quot;maxNativeZoom&quot;: 18, &quot;maxZoom&quot;: 18, &quot;minZoom&quot;: 0, &quot;noWrap&quot;: false, &quot;opacity&quot;: 1, &quot;subdomains&quot;: &quot;abc&quot;, &quot;tms&quot;: false}\n",
       "            ).addTo(map_d0522398ba50d10eee1f0030bcad8a19);\n",
       "        \n",
       "    \n",
       "            var marker_3b30dca6ee6414e7e0886b137bc866bf = L.marker(\n",
       "                [35.833, 139.955],\n",
       "                {}\n",
       "            ).addTo(map_d0522398ba50d10eee1f0030bcad8a19);\n",
       "        \n",
       "    \n",
       "        var popup_6f3c0a67d2cd0c0812453c3f66df56e9 = L.popup({&quot;maxWidth&quot;: &quot;100%&quot;});\n",
       "\n",
       "        \n",
       "            \n",
       "                var html_0bae6c475cf72c9f89d4dbcd0533ee64 = $(`&lt;div id=&quot;html_0bae6c475cf72c9f89d4dbcd0533ee64&quot; style=&quot;width: 100.0%; height: 100.0%;&quot;&gt;Reitaku University, the best place on earth!&lt;/div&gt;`)[0];\n",
       "                popup_6f3c0a67d2cd0c0812453c3f66df56e9.setContent(html_0bae6c475cf72c9f89d4dbcd0533ee64);\n",
       "            \n",
       "        \n",
       "\n",
       "        marker_3b30dca6ee6414e7e0886b137bc866bf.bindPopup(popup_6f3c0a67d2cd0c0812453c3f66df56e9)\n",
       "        ;\n",
       "\n",
       "        \n",
       "    \n",
       "    \n",
       "            marker_3b30dca6ee6414e7e0886b137bc866bf.bindTooltip(\n",
       "                `&lt;div&gt;\n",
       "                     Reitaku University\n",
       "                 &lt;/div&gt;`,\n",
       "                {&quot;sticky&quot;: true}\n",
       "            );\n",
       "        \n",
       "&lt;/script&gt;\n",
       "&lt;/html&gt;\" style=\"position:absolute;width:100%;height:100%;left:0;top:0;border:none !important;\" allowfullscreen webkitallowfullscreen mozallowfullscreen></iframe></div></div>"
      ],
      "text/plain": [
       "<folium.folium.Map at 0x1d5818d6ed0>"
      ]
     },
     "execution_count": 21,
     "metadata": {},
     "output_type": "execute_result"
    }
   ],
   "source": [
    "# import folium, a leaflet python library\n",
    "import folium\n",
    "\n",
    "# create a list of lat/lon pair for UCLA\n",
    "reitaku = [35.8330, 139.9550]\n",
    "\n",
    "# make the map\n",
    "m = folium.Map(location=reitaku, zoom_start=15)\n",
    "\n",
    "# add a marker\n",
    "folium.Marker(reitaku, popup=\"Reitaku University, the best place on earth!\", tooltip=\"Reitaku University\").add_to(m)\n",
    "\n",
    "# show the map\n",
    "m"
   ]
  },
  {
   "attachments": {},
   "cell_type": "markdown",
   "metadata": {},
   "source": [
    "### 🧐 Map Challenge!\n",
    "\n",
    "1. 今住んでいる場所のマーカーと麗澤大学のマーカーが表示されるマップを作る\n",
    "1. popupやtooltipはちゃんとつけること\n",
    "1. デフォルトで両方のマーカーが表示されるようにする"
   ]
  },
  {
   "cell_type": "code",
   "execution_count": 41,
   "metadata": {},
   "outputs": [
    {
     "data": {
      "text/html": [
       "<div style=\"width:100%;\"><div style=\"position:relative;width:100%;height:0;padding-bottom:60%;\"><span style=\"color:#565656\">Make this Notebook Trusted to load map: File -> Trust Notebook</span><iframe srcdoc=\"&lt;!DOCTYPE html&gt;\n",
       "&lt;html&gt;\n",
       "&lt;head&gt;\n",
       "    \n",
       "    &lt;meta http-equiv=&quot;content-type&quot; content=&quot;text/html; charset=UTF-8&quot; /&gt;\n",
       "    \n",
       "        &lt;script&gt;\n",
       "            L_NO_TOUCH = false;\n",
       "            L_DISABLE_3D = false;\n",
       "        &lt;/script&gt;\n",
       "    \n",
       "    &lt;style&gt;html, body {width: 100%;height: 100%;margin: 0;padding: 0;}&lt;/style&gt;\n",
       "    &lt;style&gt;#map {position:absolute;top:0;bottom:0;right:0;left:0;}&lt;/style&gt;\n",
       "    &lt;script src=&quot;https://cdn.jsdelivr.net/npm/leaflet@1.9.3/dist/leaflet.js&quot;&gt;&lt;/script&gt;\n",
       "    &lt;script src=&quot;https://code.jquery.com/jquery-1.12.4.min.js&quot;&gt;&lt;/script&gt;\n",
       "    &lt;script src=&quot;https://cdn.jsdelivr.net/npm/bootstrap@5.2.2/dist/js/bootstrap.bundle.min.js&quot;&gt;&lt;/script&gt;\n",
       "    &lt;script src=&quot;https://cdnjs.cloudflare.com/ajax/libs/Leaflet.awesome-markers/2.0.2/leaflet.awesome-markers.js&quot;&gt;&lt;/script&gt;\n",
       "    &lt;link rel=&quot;stylesheet&quot; href=&quot;https://cdn.jsdelivr.net/npm/leaflet@1.9.3/dist/leaflet.css&quot;/&gt;\n",
       "    &lt;link rel=&quot;stylesheet&quot; href=&quot;https://cdn.jsdelivr.net/npm/bootstrap@5.2.2/dist/css/bootstrap.min.css&quot;/&gt;\n",
       "    &lt;link rel=&quot;stylesheet&quot; href=&quot;https://netdna.bootstrapcdn.com/bootstrap/3.0.0/css/bootstrap.min.css&quot;/&gt;\n",
       "    &lt;link rel=&quot;stylesheet&quot; href=&quot;https://cdn.jsdelivr.net/npm/@fortawesome/fontawesome-free@6.2.0/css/all.min.css&quot;/&gt;\n",
       "    &lt;link rel=&quot;stylesheet&quot; href=&quot;https://cdnjs.cloudflare.com/ajax/libs/Leaflet.awesome-markers/2.0.2/leaflet.awesome-markers.css&quot;/&gt;\n",
       "    &lt;link rel=&quot;stylesheet&quot; href=&quot;https://cdn.jsdelivr.net/gh/python-visualization/folium/folium/templates/leaflet.awesome.rotate.min.css&quot;/&gt;\n",
       "    \n",
       "            &lt;meta name=&quot;viewport&quot; content=&quot;width=device-width,\n",
       "                initial-scale=1.0, maximum-scale=1.0, user-scalable=no&quot; /&gt;\n",
       "            &lt;style&gt;\n",
       "                #map_401336cfd61aa668e7b80426c04a38e2 {\n",
       "                    position: relative;\n",
       "                    width: 100.0%;\n",
       "                    height: 100.0%;\n",
       "                    left: 0.0%;\n",
       "                    top: 0.0%;\n",
       "                }\n",
       "                .leaflet-container { font-size: 1rem; }\n",
       "            &lt;/style&gt;\n",
       "        \n",
       "&lt;/head&gt;\n",
       "&lt;body&gt;\n",
       "    \n",
       "    \n",
       "            &lt;div class=&quot;folium-map&quot; id=&quot;map_401336cfd61aa668e7b80426c04a38e2&quot; &gt;&lt;/div&gt;\n",
       "        \n",
       "&lt;/body&gt;\n",
       "&lt;script&gt;\n",
       "    \n",
       "    \n",
       "            var map_401336cfd61aa668e7b80426c04a38e2 = L.map(\n",
       "                &quot;map_401336cfd61aa668e7b80426c04a38e2&quot;,\n",
       "                {\n",
       "                    center: [35.833, 139.955],\n",
       "                    crs: L.CRS.EPSG3857,\n",
       "                    zoom: 10,\n",
       "                    zoomControl: true,\n",
       "                    preferCanvas: false,\n",
       "                }\n",
       "            );\n",
       "\n",
       "            \n",
       "\n",
       "        \n",
       "    \n",
       "            var tile_layer_a83b448db4024bdd1fef25757def341f = L.tileLayer(\n",
       "                &quot;https://{s}.tile.openstreetmap.org/{z}/{x}/{y}.png&quot;,\n",
       "                {&quot;attribution&quot;: &quot;Data by \\u0026copy; \\u003ca target=\\&quot;_blank\\&quot; href=\\&quot;http://openstreetmap.org\\&quot;\\u003eOpenStreetMap\\u003c/a\\u003e, under \\u003ca target=\\&quot;_blank\\&quot; href=\\&quot;http://www.openstreetmap.org/copyright\\&quot;\\u003eODbL\\u003c/a\\u003e.&quot;, &quot;detectRetina&quot;: false, &quot;maxNativeZoom&quot;: 18, &quot;maxZoom&quot;: 18, &quot;minZoom&quot;: 0, &quot;noWrap&quot;: false, &quot;opacity&quot;: 1, &quot;subdomains&quot;: &quot;abc&quot;, &quot;tms&quot;: false}\n",
       "            ).addTo(map_401336cfd61aa668e7b80426c04a38e2);\n",
       "        \n",
       "    \n",
       "            var marker_36a218f062b5b206acd6f4df15f0fc41 = L.marker(\n",
       "                [35.833, 139.955],\n",
       "                {}\n",
       "            ).addTo(map_401336cfd61aa668e7b80426c04a38e2);\n",
       "        \n",
       "    \n",
       "        var popup_fe63f4aca6118d121fae7b8b512bce70 = L.popup({&quot;maxWidth&quot;: &quot;100%&quot;});\n",
       "\n",
       "        \n",
       "            \n",
       "                var html_cc8438c8b55ea2b21753f8f113aa562b = $(`&lt;div id=&quot;html_cc8438c8b55ea2b21753f8f113aa562b&quot; style=&quot;width: 100.0%; height: 100.0%;&quot;&gt;麗澤大学は柏市の大学&lt;/div&gt;`)[0];\n",
       "                popup_fe63f4aca6118d121fae7b8b512bce70.setContent(html_cc8438c8b55ea2b21753f8f113aa562b);\n",
       "            \n",
       "        \n",
       "\n",
       "        marker_36a218f062b5b206acd6f4df15f0fc41.bindPopup(popup_fe63f4aca6118d121fae7b8b512bce70)\n",
       "        ;\n",
       "\n",
       "        \n",
       "    \n",
       "    \n",
       "            marker_36a218f062b5b206acd6f4df15f0fc41.bindTooltip(\n",
       "                `&lt;div&gt;\n",
       "                     麗澤大学\n",
       "                 &lt;/div&gt;`,\n",
       "                {&quot;sticky&quot;: true}\n",
       "            );\n",
       "        \n",
       "    \n",
       "            var marker_63718219bf8a63a9db59ceef78c2f435 = L.marker(\n",
       "                [35.89745309230778, 139.73959559427666],\n",
       "                {}\n",
       "            ).addTo(map_401336cfd61aa668e7b80426c04a38e2);\n",
       "        \n",
       "    \n",
       "        var popup_b756c61020bf1467cfcb1b23ef02622d = L.popup({&quot;maxWidth&quot;: &quot;100%&quot;});\n",
       "\n",
       "        \n",
       "            \n",
       "                var html_98156948f3002a7778e2bb6a04e94182 = $(`&lt;div id=&quot;html_98156948f3002a7778e2bb6a04e94182&quot; style=&quot;width: 100.0%; height: 100.0%;&quot;&gt;GISの生徒、星野誓志の自宅&lt;/div&gt;`)[0];\n",
       "                popup_b756c61020bf1467cfcb1b23ef02622d.setContent(html_98156948f3002a7778e2bb6a04e94182);\n",
       "            \n",
       "        \n",
       "\n",
       "        marker_63718219bf8a63a9db59ceef78c2f435.bindPopup(popup_b756c61020bf1467cfcb1b23ef02622d)\n",
       "        ;\n",
       "\n",
       "        \n",
       "    \n",
       "    \n",
       "            marker_63718219bf8a63a9db59ceef78c2f435.bindTooltip(\n",
       "                `&lt;div&gt;\n",
       "                     星野の家\n",
       "                 &lt;/div&gt;`,\n",
       "                {&quot;sticky&quot;: true}\n",
       "            );\n",
       "        \n",
       "&lt;/script&gt;\n",
       "&lt;/html&gt;\" style=\"position:absolute;width:100%;height:100%;left:0;top:0;border:none !important;\" allowfullscreen webkitallowfullscreen mozallowfullscreen></iframe></div></div>"
      ],
      "text/plain": [
       "<folium.folium.Map at 0x1d5e882eed0>"
      ]
     },
     "execution_count": 41,
     "metadata": {},
     "output_type": "execute_result"
    }
   ],
   "source": [
    "# import folium, a leaflet python library\n",
    "import folium\n",
    "\n",
    "# create a list of lat/lon pair for UCLA\n",
    "reitaku = [35.8330, 139.9550]\n",
    "myhouse = [35.89745309230778, 139.73959559427666]\n",
    "# make the map\n",
    "m = folium.Map(location=reitaku, zoom_start=10)\n",
    "\n",
    "# add a marker\n",
    "folium.Marker(reitaku, popup=\"麗澤大学は柏市の大学\", tooltip=\"麗澤大学\").add_to(m)\n",
    "folium.Marker(myhouse, popup=\"GISの生徒、星野誓志の自宅\", tooltip=\"星野の家\").add_to(m)\n",
    "# show the map\n",
    "\n",
    "\n",
    "m\n"
   ]
  },
  {
   "attachments": {},
   "cell_type": "markdown",
   "metadata": {},
   "source": [
    "できたら、クラスのGoogle Slidesにスクリーンショットを提出！\n",
    "\n",
    "https://docs.google.com/presentation/d/1oIwXESVpEQOlATKbUgNOGgSbz1IV63mDehEfBzGdDn0/edit?usp=sharing"
   ]
  },
  {
   "attachments": {},
   "cell_type": "markdown",
   "metadata": {
    "slideshow": {
     "slide_type": "slide"
    }
   },
   "source": [
    "## Data types\n",
    "\n",
    "以下の表に示すように、Python には 4 つの基本的な *データ型* があります。\n",
    "\n",
    "| Data type name | Data type            | Example    |\n",
    "| -------------- | -------------------- | ---------- |\n",
    "| `int`          | Whole integer values | `4`        |\n",
    "| `float`        | Decimal values       | `3.1415`   |\n",
    "| `str`          | Character strings    | `'Hot'`    |\n",
    "| `bool`         | True/false values    | `True`     |\n",
    "\n",
    "データ型は「type()」関数を使用して見つけることができます。"
   ]
  },
  {
   "attachments": {},
   "cell_type": "markdown",
   "metadata": {},
   "source": [
    "### Intergers"
   ]
  },
  {
   "cell_type": "code",
   "execution_count": 36,
   "metadata": {
    "jupyter": {
     "outputs_hidden": false
    },
    "slideshow": {
     "slide_type": "slide"
    }
   },
   "outputs": [
    {
     "data": {
      "text/plain": [
       "int"
      ]
     },
     "execution_count": 36,
     "metadata": {},
     "output_type": "execute_result"
    }
   ],
   "source": [
    "# 整数\n",
    "type(125)"
   ]
  },
  {
   "cell_type": "code",
   "execution_count": 35,
   "metadata": {
    "jupyter": {
     "outputs_hidden": false
    },
    "slideshow": {
     "slide_type": "fragment"
    }
   },
   "outputs": [
    {
     "data": {
      "text/plain": [
       "int"
      ]
     },
     "execution_count": 35,
     "metadata": {},
     "output_type": "execute_result"
    }
   ],
   "source": [
    "# すべての変数にはデータ型がある\n",
    "x = 125\n",
    "type(x)"
   ]
  },
  {
   "attachments": {},
   "cell_type": "markdown",
   "metadata": {},
   "source": [
    "### Floats"
   ]
  },
  {
   "cell_type": "code",
   "execution_count": 37,
   "metadata": {
    "jupyter": {
     "outputs_hidden": false
    },
    "slideshow": {
     "slide_type": "fragment"
    }
   },
   "outputs": [
    {
     "data": {
      "text/plain": [
       "float"
      ]
     },
     "execution_count": 37,
     "metadata": {},
     "output_type": "execute_result"
    }
   ],
   "source": [
    "# float is a 浮動小数点数\n",
    "some_rate = 4.3\n",
    "type(some_rate)"
   ]
  },
  {
   "attachments": {},
   "cell_type": "markdown",
   "metadata": {},
   "source": [
    "### Strings"
   ]
  },
  {
   "cell_type": "code",
   "execution_count": 38,
   "metadata": {
    "jupyter": {
     "outputs_hidden": false
    },
    "slideshow": {
     "slide_type": "fragment"
    }
   },
   "outputs": [
    {
     "data": {
      "text/plain": [
       "str"
      ]
     },
     "execution_count": 38,
     "metadata": {},
     "output_type": "execute_result"
    }
   ],
   "source": [
    "# str are \"strings\" of characters\n",
    "s = 'abc'\n",
    "type(s)"
   ]
  },
  {
   "attachments": {},
   "cell_type": "markdown",
   "metadata": {},
   "source": [
    "### Lists"
   ]
  },
  {
   "cell_type": "code",
   "execution_count": 40,
   "metadata": {
    "jupyter": {
     "outputs_hidden": false
    },
    "slideshow": {
     "slide_type": "slide"
    }
   },
   "outputs": [
    {
     "data": {
      "text/plain": [
       "3"
      ]
     },
     "execution_count": 40,
     "metadata": {},
     "output_type": "execute_result"
    }
   ],
   "source": [
    "# リストは角括弧[]で示された要素のコレクションです\n",
    "# これらの括弧があるため、リストであることがわかります\n",
    "my_list = [1, 2, 3, 4]\n",
    "my_list[2]"
   ]
  },
  {
   "cell_type": "code",
   "execution_count": null,
   "metadata": {
    "jupyter": {
     "outputs_hidden": false
    },
    "slideshow": {
     "slide_type": "fragment"
    }
   },
   "outputs": [],
   "source": [
    "type(my_list)"
   ]
  },
  {
   "attachments": {},
   "cell_type": "markdown",
   "metadata": {},
   "source": [
    "### Dictionary"
   ]
  },
  {
   "cell_type": "code",
   "execution_count": null,
   "metadata": {
    "jupyter": {
     "outputs_hidden": false
    },
    "slideshow": {
     "slide_type": "slide"
    }
   },
   "outputs": [],
   "source": [
    "# dictionaryはkey:valueのペアのコレクションであり、中括弧{}で示されます\n",
    "person = {'first_name':'Yoh', 'last_name':'Kawano','hobby':'soccer'}\n",
    "person"
   ]
  },
  {
   "cell_type": "code",
   "execution_count": null,
   "metadata": {
    "jupyter": {
     "outputs_hidden": false
    },
    "slideshow": {
     "slide_type": "fragment"
    }
   },
   "outputs": [],
   "source": [
    "type(person)"
   ]
  },
  {
   "cell_type": "code",
   "execution_count": null,
   "metadata": {
    "slideshow": {
     "slide_type": "fragment"
    }
   },
   "outputs": [],
   "source": [
    "# 明確にするため、およびkey:valueペアが多数ある場合には、dictionaryをこのように書くこともできます\n",
    "person = {\n",
    "            'first_name':'Yoh', \n",
    "            'last_name':'Kawano',\n",
    "            'hobbies':'soccer'\n",
    "}"
   ]
  },
  {
   "attachments": {},
   "cell_type": "markdown",
   "metadata": {
    "slideshow": {
     "slide_type": "slide"
    }
   },
   "source": [
    "# Map Homework\n",
    "\n",
    "Foliumで地図を作ろう！まずはテーマを決める。例えば「麗澤大学付近トップ10おいしいとこ」とか。\n",
    "\n",
    "手順：\n",
    "1. VSCodeで`Week05`フォルダーの中に`mymap.ipynb`ファイルを作る\n",
    "1. Markdownセルを作って、マップの紹介をする\n",
    "1. Codeセルを作ってマップを作る\n",
    "1. `import folium`から初め、マーカーを４っつ以上作る\n",
    "1. popupとtooltipを記入\n",
    "1. GitHubリポジトリにcommit\n",
    "\n",
    "提出するのはあなたのGitHubのリンクです。こんな感じになるはずです：\n",
    "https://github.com/yohman/23-1-Reitaku-GIS/blob/main/Weeks/Week05/mymap.ipynb"
   ]
  },
  {
   "attachments": {},
   "cell_type": "markdown",
   "metadata": {
    "slideshow": {
     "slide_type": "slide"
    }
   },
   "source": [
    "## Closing words\n",
    "\n",
    "\n",
    "どう？楽しかったでしょう！ マップは、データ サイエンスの世界で最も価値のあるビジュアライゼーションのひとつです。すぐにアクセスでき、世界中で理解され、データ レイヤーがぎっしり詰まっています。\n",
    "\n",
    "Folium モジュールのドキュメントを読んで、独自のマップを作成してください。\n",
    "\n",
    "https://python-visualization.github.io/folium/quickstart.html"
   ]
  },
  {
   "attachments": {},
   "cell_type": "markdown",
   "metadata": {},
   "source": []
  }
 ],
 "metadata": {
  "celltoolbar": "Slideshow",
  "kernelspec": {
   "display_name": "xymax",
   "language": "python",
   "name": "python3"
  },
  "language_info": {
   "codemirror_mode": {
    "name": "ipython",
    "version": 3
   },
   "file_extension": ".py",
   "mimetype": "text/x-python",
   "name": "python",
   "nbconvert_exporter": "python",
   "pygments_lexer": "ipython3",
   "version": "3.11.3"
  },
  "toc": {
   "base_numbering": 1,
   "nav_menu": {},
   "number_sections": true,
   "sideBar": true,
   "skip_h1_title": true,
   "title_cell": "Table of Contents",
   "title_sidebar": "Contents",
   "toc_cell": true,
   "toc_position": {
    "height": "calc(100% - 180px)",
    "left": "10px",
    "top": "150px",
    "width": "319px"
   },
   "toc_section_display": true,
   "toc_window_display": false
  },
  "vscode": {
   "interpreter": {
    "hash": "6f3a6b90b75928055da0f19108388f80ab08f35cf0c332cf7927be5faa57e6ed"
   }
  }
 },
 "nbformat": 4,
 "nbformat_minor": 4
}
