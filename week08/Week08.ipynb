{
 "cells": [
  {
   "attachments": {},
   "cell_type": "markdown",
   "metadata": {
    "slideshow": {
     "slide_type": "slide"
    }
   },
   "source": [
    "# 自転車犯罪マップ\n",
    "\n",
    "<img src=\"https://raw.githubusercontent.com/yohman/23-1-Reitaku-GIS/main/Weeks/Week08/images/crime map.png\" width=600>\n",
    "\n",
    "このラボの目的:\n",
    "\n",
    "- オープンデータソースからデータを取得し、Python ノートブックにインポート\n",
    "- 複数の列から単一の住所フィールドを作成\n",
    "- 緯度と経度の座標を割り当てて各行をジオコーディング\n",
    "- 美しいチャートや地図を作成"
   ]
  },
  {
   "attachments": {},
   "cell_type": "markdown",
   "metadata": {
    "slideshow": {
     "slide_type": "slide"
    }
   },
   "source": [
    "## ライブラリをインポートする\n",
    "\n",
    "このラボで使うライブラリーを一気にインポートしよう。"
   ]
  },
  {
   "cell_type": "code",
   "execution_count": 1,
   "metadata": {
    "slideshow": {
     "slide_type": "fragment"
    }
   },
   "outputs": [],
   "source": [
    "## for spatial analysis\n",
    "import geopandas as gpd\n",
    "\n",
    "## for data analysis\n",
    "import pandas as pd\n",
    "\n",
    "## for pretty charts\n",
    "import plotly.express as px\n",
    "\n",
    "# for plotly themes\n",
    "import plotly.io as pio\n",
    "\n",
    "## for URL requests\n",
    "import urllib.request\n",
    "import requests\n",
    "\n",
    "## for maps\n",
    "import folium\n",
    "from folium import plugins"
   ]
  },
  {
   "attachments": {},
   "cell_type": "markdown",
   "metadata": {
    "slideshow": {
     "slide_type": "slide"
    }
   },
   "source": [
    "## 自転車盗難データをダウンロード\n",
    "\n",
    "<img src=\"https://raw.githubusercontent.com/yohman/23-1-Reitaku-GIS/main/Weeks/Week08/images/Chiba%20police.png\" width=400>\n",
    "\n",
    "まずは千葉県警察のサイトにアクセス。そこから次に手順でデータをダウンロード：\n",
    "\n",
    "➡️ https://www.police.pref.chiba.jp/\n",
    "\n",
    "➡️ 安全な暮らし\n",
    "\n",
    "➡️ 地域の防犯\n",
    "\n",
    "➡️ あなたの町の犯罪情勢\n",
    "\n",
    "➡️ オープンデータ\n",
    "\n",
    "➡️ 自転車盗（CSV）"
   ]
  },
  {
   "attachments": {},
   "cell_type": "markdown",
   "metadata": {
    "slideshow": {
     "slide_type": "slide"
    }
   },
   "source": [
    "ダウンロードしたファイルを `chibike.csv` と名付けて、このフォルダー（Week08) にセーブ。"
   ]
  },
  {
   "cell_type": "code",
   "execution_count": 4,
   "metadata": {},
   "outputs": [],
   "source": [
    "# ダウンロードしたデータを読み込もう\n",
    "df = pd.read_csv('chibike.csv', encoding='cp932')"
   ]
  },
  {
   "cell_type": "code",
   "execution_count": 5,
   "metadata": {
    "slideshow": {
     "slide_type": "slide"
    }
   },
   "outputs": [
    {
     "name": "stdout",
     "output_type": "stream",
     "text": [
      "<class 'pandas.core.frame.DataFrame'>\n",
      "RangeIndex: 7346 entries, 0 to 7345\n",
      "Data columns (total 15 columns):\n",
      " #   Column         Non-Null Count  Dtype \n",
      "---  ------         --------------  ----- \n",
      " 0   罪名             7346 non-null   object\n",
      " 1   手口             7346 non-null   object\n",
      " 2   管轄警察署（発生地）     7346 non-null   object\n",
      " 3   管轄交番・駐在所（発生地）  7343 non-null   object\n",
      " 4   市区町村コード（発生地）   7346 non-null   int64 \n",
      " 5   都道府県（発生地）      7346 non-null   object\n",
      " 6   市区町村（発生地）      7346 non-null   object\n",
      " 7   町丁目（発生地）       7330 non-null   object\n",
      " 8   発生年月日（始期）      7346 non-null   object\n",
      " 9   発生時（始期）        7346 non-null   object\n",
      " 10  発生場所           7346 non-null   object\n",
      " 11  発生場所の詳細        7346 non-null   object\n",
      " 12  被害者の年齢         7346 non-null   object\n",
      " 13  被害者の職業         7346 non-null   object\n",
      " 14  施錠関係           7346 non-null   object\n",
      "dtypes: int64(1), object(14)\n",
      "memory usage: 861.0+ KB\n"
     ]
    }
   ],
   "source": [
    "# データの情報\n",
    "df.info()"
   ]
  },
  {
   "attachments": {},
   "cell_type": "markdown",
   "metadata": {
    "slideshow": {
     "slide_type": "slide"
    }
   },
   "source": [
    "Wow! ７千件もある！ちょっと多いので場所で絞りましょう。<h1>「柏」</h1>だけのデータフレームを作ろう。"
   ]
  },
  {
   "cell_type": "code",
   "execution_count": 6,
   "metadata": {},
   "outputs": [],
   "source": [
    "kashiwa = df[df['管轄警察署（発生地）'] == '柏'].copy()"
   ]
  },
  {
   "cell_type": "code",
   "execution_count": 7,
   "metadata": {
    "slideshow": {
     "slide_type": "slide"
    }
   },
   "outputs": [
    {
     "data": {
      "text/html": [
       "<div>\n",
       "<style scoped>\n",
       "    .dataframe tbody tr th:only-of-type {\n",
       "        vertical-align: middle;\n",
       "    }\n",
       "\n",
       "    .dataframe tbody tr th {\n",
       "        vertical-align: top;\n",
       "    }\n",
       "\n",
       "    .dataframe thead th {\n",
       "        text-align: right;\n",
       "    }\n",
       "</style>\n",
       "<table border=\"1\" class=\"dataframe\">\n",
       "  <thead>\n",
       "    <tr style=\"text-align: right;\">\n",
       "      <th></th>\n",
       "      <th>罪名</th>\n",
       "      <th>手口</th>\n",
       "      <th>管轄警察署（発生地）</th>\n",
       "      <th>管轄交番・駐在所（発生地）</th>\n",
       "      <th>市区町村コード（発生地）</th>\n",
       "      <th>都道府県（発生地）</th>\n",
       "      <th>市区町村（発生地）</th>\n",
       "      <th>町丁目（発生地）</th>\n",
       "      <th>発生年月日（始期）</th>\n",
       "      <th>発生時（始期）</th>\n",
       "      <th>発生場所</th>\n",
       "      <th>発生場所の詳細</th>\n",
       "      <th>被害者の年齢</th>\n",
       "      <th>被害者の職業</th>\n",
       "      <th>施錠関係</th>\n",
       "    </tr>\n",
       "  </thead>\n",
       "  <tbody>\n",
       "    <tr>\n",
       "      <th>3232</th>\n",
       "      <td>窃盗</td>\n",
       "      <td>自転車盗</td>\n",
       "      <td>柏</td>\n",
       "      <td>高柳交番</td>\n",
       "      <td>122173</td>\n",
       "      <td>千葉県</td>\n",
       "      <td>柏市</td>\n",
       "      <td>高柳</td>\n",
       "      <td>2022-07-11</td>\n",
       "      <td>07</td>\n",
       "      <td>その他</td>\n",
       "      <td>駐車（輪）場</td>\n",
       "      <td>10歳代</td>\n",
       "      <td>高校生</td>\n",
       "      <td>施錠した</td>\n",
       "    </tr>\n",
       "    <tr>\n",
       "      <th>3212</th>\n",
       "      <td>窃盗</td>\n",
       "      <td>自転車盗</td>\n",
       "      <td>柏</td>\n",
       "      <td>花野井交番</td>\n",
       "      <td>122173</td>\n",
       "      <td>千葉県</td>\n",
       "      <td>柏市</td>\n",
       "      <td>花野井</td>\n",
       "      <td>2022-11-03</td>\n",
       "      <td>18</td>\n",
       "      <td>一戸建住宅</td>\n",
       "      <td>その他</td>\n",
       "      <td>60-64歳</td>\n",
       "      <td>その他</td>\n",
       "      <td>施錠した</td>\n",
       "    </tr>\n",
       "    <tr>\n",
       "      <th>2812</th>\n",
       "      <td>窃盗</td>\n",
       "      <td>自転車盗</td>\n",
       "      <td>柏</td>\n",
       "      <td>北柏駅前交番</td>\n",
       "      <td>122173</td>\n",
       "      <td>千葉県</td>\n",
       "      <td>柏市</td>\n",
       "      <td>根戸</td>\n",
       "      <td>2022-02-21</td>\n",
       "      <td>20</td>\n",
       "      <td>４階建て以上共同住宅</td>\n",
       "      <td>駐車（輪）場</td>\n",
       "      <td>40歳代</td>\n",
       "      <td>その他</td>\n",
       "      <td>施錠した</td>\n",
       "    </tr>\n",
       "    <tr>\n",
       "      <th>2997</th>\n",
       "      <td>窃盗</td>\n",
       "      <td>自転車盗</td>\n",
       "      <td>柏</td>\n",
       "      <td>旭町交番</td>\n",
       "      <td>122173</td>\n",
       "      <td>千葉県</td>\n",
       "      <td>柏市</td>\n",
       "      <td>旭町４丁目</td>\n",
       "      <td>2022-11-07</td>\n",
       "      <td>08</td>\n",
       "      <td>その他</td>\n",
       "      <td>駐車（輪）場</td>\n",
       "      <td>20歳代</td>\n",
       "      <td>その他</td>\n",
       "      <td>施錠せず</td>\n",
       "    </tr>\n",
       "    <tr>\n",
       "      <th>3170</th>\n",
       "      <td>窃盗</td>\n",
       "      <td>自転車盗</td>\n",
       "      <td>柏</td>\n",
       "      <td>緑ヶ丘交番</td>\n",
       "      <td>122173</td>\n",
       "      <td>千葉県</td>\n",
       "      <td>柏市</td>\n",
       "      <td>柏</td>\n",
       "      <td>2022-10-30</td>\n",
       "      <td>17</td>\n",
       "      <td>４階建て以上共同住宅</td>\n",
       "      <td>駐車（輪）場</td>\n",
       "      <td>30歳代</td>\n",
       "      <td>その他</td>\n",
       "      <td>施錠した</td>\n",
       "    </tr>\n",
       "  </tbody>\n",
       "</table>\n",
       "</div>"
      ],
      "text/plain": [
       "      罪名    手口 管轄警察署（発生地） 管轄交番・駐在所（発生地）  市区町村コード（発生地） 都道府県（発生地） 市区町村（発生地）   \n",
       "3232  窃盗  自転車盗          柏          高柳交番        122173       千葉県        柏市  \\\n",
       "3212  窃盗  自転車盗          柏         花野井交番        122173       千葉県        柏市   \n",
       "2812  窃盗  自転車盗          柏        北柏駅前交番        122173       千葉県        柏市   \n",
       "2997  窃盗  自転車盗          柏          旭町交番        122173       千葉県        柏市   \n",
       "3170  窃盗  自転車盗          柏         緑ヶ丘交番        122173       千葉県        柏市   \n",
       "\n",
       "     町丁目（発生地）   発生年月日（始期） 発生時（始期）        発生場所 発生場所の詳細  被害者の年齢 被害者の職業  施錠関係  \n",
       "3232       高柳  2022-07-11      07         その他  駐車（輪）場    10歳代    高校生  施錠した  \n",
       "3212      花野井  2022-11-03      18       一戸建住宅     その他  60-64歳    その他  施錠した  \n",
       "2812       根戸  2022-02-21      20  ４階建て以上共同住宅  駐車（輪）場    40歳代    その他  施錠した  \n",
       "2997    旭町４丁目  2022-11-07      08         その他  駐車（輪）場    20歳代    その他  施錠せず  \n",
       "3170        柏  2022-10-30      17  ４階建て以上共同住宅  駐車（輪）場    30歳代    その他  施錠した  "
      ]
     },
     "execution_count": 7,
     "metadata": {},
     "output_type": "execute_result"
    }
   ],
   "source": [
    "# データをチェック\n",
    "kashiwa.sample(5)"
   ]
  },
  {
   "attachments": {},
   "cell_type": "markdown",
   "metadata": {
    "slideshow": {
     "slide_type": "slide"
    }
   },
   "source": [
    "### `value_counts`でチャート\n",
    "\n",
    "このデータを見て、咄嗟に知りたいものってなんでしょう？\n",
    "\n",
    "例えば、<h1>「1日の何時に自転車の盗難が一番発生するの？」</h1>の質問に答えるためにはどのようなデータ分析が必要でしょうか？\n",
    "\n",
    "では、そのチャートを作ってみましょう。"
   ]
  },
  {
   "attachments": {},
   "cell_type": "markdown",
   "metadata": {
    "slideshow": {
     "slide_type": "slide"
    }
   },
   "source": [
    "データには **【発生時（始期）】** のカラムがあるので、各時間帯のカウントを`value_counts()`で調べる。最後に足される`reset_index()`で結果をデータフレームに変換します。"
   ]
  },
  {
   "cell_type": "code",
   "execution_count": 8,
   "metadata": {},
   "outputs": [
    {
     "data": {
      "text/html": [
       "<div>\n",
       "<style scoped>\n",
       "    .dataframe tbody tr th:only-of-type {\n",
       "        vertical-align: middle;\n",
       "    }\n",
       "\n",
       "    .dataframe tbody tr th {\n",
       "        vertical-align: top;\n",
       "    }\n",
       "\n",
       "    .dataframe thead th {\n",
       "        text-align: right;\n",
       "    }\n",
       "</style>\n",
       "<table border=\"1\" class=\"dataframe\">\n",
       "  <thead>\n",
       "    <tr style=\"text-align: right;\">\n",
       "      <th></th>\n",
       "      <th>発生時（始期）</th>\n",
       "      <th>count</th>\n",
       "    </tr>\n",
       "  </thead>\n",
       "  <tbody>\n",
       "    <tr>\n",
       "      <th>0</th>\n",
       "      <td>18</td>\n",
       "      <td>44</td>\n",
       "    </tr>\n",
       "    <tr>\n",
       "      <th>1</th>\n",
       "      <td>19</td>\n",
       "      <td>39</td>\n",
       "    </tr>\n",
       "    <tr>\n",
       "      <th>2</th>\n",
       "      <td>08</td>\n",
       "      <td>37</td>\n",
       "    </tr>\n",
       "    <tr>\n",
       "      <th>3</th>\n",
       "      <td>16</td>\n",
       "      <td>36</td>\n",
       "    </tr>\n",
       "    <tr>\n",
       "      <th>4</th>\n",
       "      <td>20</td>\n",
       "      <td>33</td>\n",
       "    </tr>\n",
       "    <tr>\n",
       "      <th>5</th>\n",
       "      <td>17</td>\n",
       "      <td>32</td>\n",
       "    </tr>\n",
       "    <tr>\n",
       "      <th>6</th>\n",
       "      <td>12</td>\n",
       "      <td>28</td>\n",
       "    </tr>\n",
       "    <tr>\n",
       "      <th>7</th>\n",
       "      <td>13</td>\n",
       "      <td>25</td>\n",
       "    </tr>\n",
       "    <tr>\n",
       "      <th>8</th>\n",
       "      <td>15</td>\n",
       "      <td>24</td>\n",
       "    </tr>\n",
       "    <tr>\n",
       "      <th>9</th>\n",
       "      <td>07</td>\n",
       "      <td>23</td>\n",
       "    </tr>\n",
       "    <tr>\n",
       "      <th>10</th>\n",
       "      <td>14</td>\n",
       "      <td>20</td>\n",
       "    </tr>\n",
       "    <tr>\n",
       "      <th>11</th>\n",
       "      <td>10</td>\n",
       "      <td>20</td>\n",
       "    </tr>\n",
       "    <tr>\n",
       "      <th>12</th>\n",
       "      <td>21</td>\n",
       "      <td>19</td>\n",
       "    </tr>\n",
       "    <tr>\n",
       "      <th>13</th>\n",
       "      <td>11</td>\n",
       "      <td>19</td>\n",
       "    </tr>\n",
       "    <tr>\n",
       "      <th>14</th>\n",
       "      <td>09</td>\n",
       "      <td>18</td>\n",
       "    </tr>\n",
       "    <tr>\n",
       "      <th>15</th>\n",
       "      <td>06</td>\n",
       "      <td>12</td>\n",
       "    </tr>\n",
       "    <tr>\n",
       "      <th>16</th>\n",
       "      <td>22</td>\n",
       "      <td>11</td>\n",
       "    </tr>\n",
       "    <tr>\n",
       "      <th>17</th>\n",
       "      <td>00</td>\n",
       "      <td>9</td>\n",
       "    </tr>\n",
       "    <tr>\n",
       "      <th>18</th>\n",
       "      <td>23</td>\n",
       "      <td>9</td>\n",
       "    </tr>\n",
       "    <tr>\n",
       "      <th>19</th>\n",
       "      <td>不明</td>\n",
       "      <td>6</td>\n",
       "    </tr>\n",
       "    <tr>\n",
       "      <th>20</th>\n",
       "      <td>05</td>\n",
       "      <td>3</td>\n",
       "    </tr>\n",
       "    <tr>\n",
       "      <th>21</th>\n",
       "      <td>04</td>\n",
       "      <td>2</td>\n",
       "    </tr>\n",
       "    <tr>\n",
       "      <th>22</th>\n",
       "      <td>02</td>\n",
       "      <td>1</td>\n",
       "    </tr>\n",
       "    <tr>\n",
       "      <th>23</th>\n",
       "      <td>01</td>\n",
       "      <td>1</td>\n",
       "    </tr>\n",
       "  </tbody>\n",
       "</table>\n",
       "</div>"
      ],
      "text/plain": [
       "   発生時（始期）  count\n",
       "0       18     44\n",
       "1       19     39\n",
       "2       08     37\n",
       "3       16     36\n",
       "4       20     33\n",
       "5       17     32\n",
       "6       12     28\n",
       "7       13     25\n",
       "8       15     24\n",
       "9       07     23\n",
       "10      14     20\n",
       "11      10     20\n",
       "12      21     19\n",
       "13      11     19\n",
       "14      09     18\n",
       "15      06     12\n",
       "16      22     11\n",
       "17      00      9\n",
       "18      23      9\n",
       "19      不明      6\n",
       "20      05      3\n",
       "21      04      2\n",
       "22      02      1\n",
       "23      01      1"
      ]
     },
     "execution_count": 8,
     "metadata": {},
     "output_type": "execute_result"
    }
   ],
   "source": [
    "# create a new variable with hourly counts\n",
    "time = kashiwa['発生時（始期）'].value_counts().reset_index()\n",
    "time"
   ]
  },
  {
   "attachments": {},
   "cell_type": "markdown",
   "metadata": {
    "slideshow": {
     "slide_type": "slide"
    }
   },
   "source": [
    "この結果は良いが、カラム名（ヘッダー）を直す必要がある。"
   ]
  },
  {
   "cell_type": "code",
   "execution_count": 9,
   "metadata": {},
   "outputs": [
    {
     "data": {
      "text/html": [
       "<div>\n",
       "<style scoped>\n",
       "    .dataframe tbody tr th:only-of-type {\n",
       "        vertical-align: middle;\n",
       "    }\n",
       "\n",
       "    .dataframe tbody tr th {\n",
       "        vertical-align: top;\n",
       "    }\n",
       "\n",
       "    .dataframe thead th {\n",
       "        text-align: right;\n",
       "    }\n",
       "</style>\n",
       "<table border=\"1\" class=\"dataframe\">\n",
       "  <thead>\n",
       "    <tr style=\"text-align: right;\">\n",
       "      <th></th>\n",
       "      <th>発生時（始期）</th>\n",
       "      <th>件数</th>\n",
       "    </tr>\n",
       "  </thead>\n",
       "  <tbody>\n",
       "    <tr>\n",
       "      <th>0</th>\n",
       "      <td>18</td>\n",
       "      <td>44</td>\n",
       "    </tr>\n",
       "    <tr>\n",
       "      <th>1</th>\n",
       "      <td>19</td>\n",
       "      <td>39</td>\n",
       "    </tr>\n",
       "    <tr>\n",
       "      <th>2</th>\n",
       "      <td>08</td>\n",
       "      <td>37</td>\n",
       "    </tr>\n",
       "    <tr>\n",
       "      <th>3</th>\n",
       "      <td>16</td>\n",
       "      <td>36</td>\n",
       "    </tr>\n",
       "    <tr>\n",
       "      <th>4</th>\n",
       "      <td>20</td>\n",
       "      <td>33</td>\n",
       "    </tr>\n",
       "    <tr>\n",
       "      <th>5</th>\n",
       "      <td>17</td>\n",
       "      <td>32</td>\n",
       "    </tr>\n",
       "    <tr>\n",
       "      <th>6</th>\n",
       "      <td>12</td>\n",
       "      <td>28</td>\n",
       "    </tr>\n",
       "    <tr>\n",
       "      <th>7</th>\n",
       "      <td>13</td>\n",
       "      <td>25</td>\n",
       "    </tr>\n",
       "    <tr>\n",
       "      <th>8</th>\n",
       "      <td>15</td>\n",
       "      <td>24</td>\n",
       "    </tr>\n",
       "    <tr>\n",
       "      <th>9</th>\n",
       "      <td>07</td>\n",
       "      <td>23</td>\n",
       "    </tr>\n",
       "    <tr>\n",
       "      <th>10</th>\n",
       "      <td>14</td>\n",
       "      <td>20</td>\n",
       "    </tr>\n",
       "    <tr>\n",
       "      <th>11</th>\n",
       "      <td>10</td>\n",
       "      <td>20</td>\n",
       "    </tr>\n",
       "    <tr>\n",
       "      <th>12</th>\n",
       "      <td>21</td>\n",
       "      <td>19</td>\n",
       "    </tr>\n",
       "    <tr>\n",
       "      <th>13</th>\n",
       "      <td>11</td>\n",
       "      <td>19</td>\n",
       "    </tr>\n",
       "    <tr>\n",
       "      <th>14</th>\n",
       "      <td>09</td>\n",
       "      <td>18</td>\n",
       "    </tr>\n",
       "    <tr>\n",
       "      <th>15</th>\n",
       "      <td>06</td>\n",
       "      <td>12</td>\n",
       "    </tr>\n",
       "    <tr>\n",
       "      <th>16</th>\n",
       "      <td>22</td>\n",
       "      <td>11</td>\n",
       "    </tr>\n",
       "    <tr>\n",
       "      <th>17</th>\n",
       "      <td>00</td>\n",
       "      <td>9</td>\n",
       "    </tr>\n",
       "    <tr>\n",
       "      <th>18</th>\n",
       "      <td>23</td>\n",
       "      <td>9</td>\n",
       "    </tr>\n",
       "    <tr>\n",
       "      <th>19</th>\n",
       "      <td>不明</td>\n",
       "      <td>6</td>\n",
       "    </tr>\n",
       "    <tr>\n",
       "      <th>20</th>\n",
       "      <td>05</td>\n",
       "      <td>3</td>\n",
       "    </tr>\n",
       "    <tr>\n",
       "      <th>21</th>\n",
       "      <td>04</td>\n",
       "      <td>2</td>\n",
       "    </tr>\n",
       "    <tr>\n",
       "      <th>22</th>\n",
       "      <td>02</td>\n",
       "      <td>1</td>\n",
       "    </tr>\n",
       "    <tr>\n",
       "      <th>23</th>\n",
       "      <td>01</td>\n",
       "      <td>1</td>\n",
       "    </tr>\n",
       "  </tbody>\n",
       "</table>\n",
       "</div>"
      ],
      "text/plain": [
       "   発生時（始期）  件数\n",
       "0       18  44\n",
       "1       19  39\n",
       "2       08  37\n",
       "3       16  36\n",
       "4       20  33\n",
       "5       17  32\n",
       "6       12  28\n",
       "7       13  25\n",
       "8       15  24\n",
       "9       07  23\n",
       "10      14  20\n",
       "11      10  20\n",
       "12      21  19\n",
       "13      11  19\n",
       "14      09  18\n",
       "15      06  12\n",
       "16      22  11\n",
       "17      00   9\n",
       "18      23   9\n",
       "19      不明   6\n",
       "20      05   3\n",
       "21      04   2\n",
       "22      02   1\n",
       "23      01   1"
      ]
     },
     "execution_count": 9,
     "metadata": {},
     "output_type": "execute_result"
    }
   ],
   "source": [
    "# fix headers\n",
    "time.columns = ['発生時（始期）','件数']\n",
    "time"
   ]
  },
  {
   "attachments": {},
   "cell_type": "markdown",
   "metadata": {
    "slideshow": {
     "slide_type": "slide"
    }
   },
   "source": [
    "いよいよ準備万端。この新しいデータフレームでチャートを作ろう。この場合は plotly express の bar charts を参考。\n",
    "\n",
    "https://plotly.com/python/bar-charts/"
   ]
  },
  {
   "cell_type": "code",
   "execution_count": 10,
   "metadata": {},
   "outputs": [
    {
     "data": {
      "application/vnd.plotly.v1+json": {
       "config": {
        "plotlyServerURL": "https://plot.ly"
       },
       "data": [
        {
         "alignmentgroup": "True",
         "hovertemplate": "発生時（始期）=%{x}<br>件数=%{y}<extra></extra>",
         "legendgroup": "",
         "marker": {
          "color": "#636efa",
          "pattern": {
           "shape": ""
          }
         },
         "name": "",
         "offsetgroup": "",
         "orientation": "v",
         "showlegend": false,
         "textposition": "auto",
         "type": "bar",
         "x": [
          "18",
          "19",
          "08",
          "16",
          "20",
          "17",
          "12",
          "13",
          "15",
          "07",
          "14",
          "10",
          "21",
          "11",
          "09",
          "06",
          "22",
          "00",
          "23",
          "不明",
          "05",
          "04",
          "02",
          "01"
         ],
         "xaxis": "x",
         "y": [
          44,
          39,
          37,
          36,
          33,
          32,
          28,
          25,
          24,
          23,
          20,
          20,
          19,
          19,
          18,
          12,
          11,
          9,
          9,
          6,
          3,
          2,
          1,
          1
         ],
         "yaxis": "y"
        }
       ],
       "layout": {
        "barmode": "relative",
        "legend": {
         "tracegroupgap": 0
        },
        "margin": {
         "t": 60
        },
        "template": {
         "data": {
          "bar": [
           {
            "error_x": {
             "color": "#2a3f5f"
            },
            "error_y": {
             "color": "#2a3f5f"
            },
            "marker": {
             "line": {
              "color": "#E5ECF6",
              "width": 0.5
             },
             "pattern": {
              "fillmode": "overlay",
              "size": 10,
              "solidity": 0.2
             }
            },
            "type": "bar"
           }
          ],
          "barpolar": [
           {
            "marker": {
             "line": {
              "color": "#E5ECF6",
              "width": 0.5
             },
             "pattern": {
              "fillmode": "overlay",
              "size": 10,
              "solidity": 0.2
             }
            },
            "type": "barpolar"
           }
          ],
          "carpet": [
           {
            "aaxis": {
             "endlinecolor": "#2a3f5f",
             "gridcolor": "white",
             "linecolor": "white",
             "minorgridcolor": "white",
             "startlinecolor": "#2a3f5f"
            },
            "baxis": {
             "endlinecolor": "#2a3f5f",
             "gridcolor": "white",
             "linecolor": "white",
             "minorgridcolor": "white",
             "startlinecolor": "#2a3f5f"
            },
            "type": "carpet"
           }
          ],
          "choropleth": [
           {
            "colorbar": {
             "outlinewidth": 0,
             "ticks": ""
            },
            "type": "choropleth"
           }
          ],
          "contour": [
           {
            "colorbar": {
             "outlinewidth": 0,
             "ticks": ""
            },
            "colorscale": [
             [
              0,
              "#0d0887"
             ],
             [
              0.1111111111111111,
              "#46039f"
             ],
             [
              0.2222222222222222,
              "#7201a8"
             ],
             [
              0.3333333333333333,
              "#9c179e"
             ],
             [
              0.4444444444444444,
              "#bd3786"
             ],
             [
              0.5555555555555556,
              "#d8576b"
             ],
             [
              0.6666666666666666,
              "#ed7953"
             ],
             [
              0.7777777777777778,
              "#fb9f3a"
             ],
             [
              0.8888888888888888,
              "#fdca26"
             ],
             [
              1,
              "#f0f921"
             ]
            ],
            "type": "contour"
           }
          ],
          "contourcarpet": [
           {
            "colorbar": {
             "outlinewidth": 0,
             "ticks": ""
            },
            "type": "contourcarpet"
           }
          ],
          "heatmap": [
           {
            "colorbar": {
             "outlinewidth": 0,
             "ticks": ""
            },
            "colorscale": [
             [
              0,
              "#0d0887"
             ],
             [
              0.1111111111111111,
              "#46039f"
             ],
             [
              0.2222222222222222,
              "#7201a8"
             ],
             [
              0.3333333333333333,
              "#9c179e"
             ],
             [
              0.4444444444444444,
              "#bd3786"
             ],
             [
              0.5555555555555556,
              "#d8576b"
             ],
             [
              0.6666666666666666,
              "#ed7953"
             ],
             [
              0.7777777777777778,
              "#fb9f3a"
             ],
             [
              0.8888888888888888,
              "#fdca26"
             ],
             [
              1,
              "#f0f921"
             ]
            ],
            "type": "heatmap"
           }
          ],
          "heatmapgl": [
           {
            "colorbar": {
             "outlinewidth": 0,
             "ticks": ""
            },
            "colorscale": [
             [
              0,
              "#0d0887"
             ],
             [
              0.1111111111111111,
              "#46039f"
             ],
             [
              0.2222222222222222,
              "#7201a8"
             ],
             [
              0.3333333333333333,
              "#9c179e"
             ],
             [
              0.4444444444444444,
              "#bd3786"
             ],
             [
              0.5555555555555556,
              "#d8576b"
             ],
             [
              0.6666666666666666,
              "#ed7953"
             ],
             [
              0.7777777777777778,
              "#fb9f3a"
             ],
             [
              0.8888888888888888,
              "#fdca26"
             ],
             [
              1,
              "#f0f921"
             ]
            ],
            "type": "heatmapgl"
           }
          ],
          "histogram": [
           {
            "marker": {
             "pattern": {
              "fillmode": "overlay",
              "size": 10,
              "solidity": 0.2
             }
            },
            "type": "histogram"
           }
          ],
          "histogram2d": [
           {
            "colorbar": {
             "outlinewidth": 0,
             "ticks": ""
            },
            "colorscale": [
             [
              0,
              "#0d0887"
             ],
             [
              0.1111111111111111,
              "#46039f"
             ],
             [
              0.2222222222222222,
              "#7201a8"
             ],
             [
              0.3333333333333333,
              "#9c179e"
             ],
             [
              0.4444444444444444,
              "#bd3786"
             ],
             [
              0.5555555555555556,
              "#d8576b"
             ],
             [
              0.6666666666666666,
              "#ed7953"
             ],
             [
              0.7777777777777778,
              "#fb9f3a"
             ],
             [
              0.8888888888888888,
              "#fdca26"
             ],
             [
              1,
              "#f0f921"
             ]
            ],
            "type": "histogram2d"
           }
          ],
          "histogram2dcontour": [
           {
            "colorbar": {
             "outlinewidth": 0,
             "ticks": ""
            },
            "colorscale": [
             [
              0,
              "#0d0887"
             ],
             [
              0.1111111111111111,
              "#46039f"
             ],
             [
              0.2222222222222222,
              "#7201a8"
             ],
             [
              0.3333333333333333,
              "#9c179e"
             ],
             [
              0.4444444444444444,
              "#bd3786"
             ],
             [
              0.5555555555555556,
              "#d8576b"
             ],
             [
              0.6666666666666666,
              "#ed7953"
             ],
             [
              0.7777777777777778,
              "#fb9f3a"
             ],
             [
              0.8888888888888888,
              "#fdca26"
             ],
             [
              1,
              "#f0f921"
             ]
            ],
            "type": "histogram2dcontour"
           }
          ],
          "mesh3d": [
           {
            "colorbar": {
             "outlinewidth": 0,
             "ticks": ""
            },
            "type": "mesh3d"
           }
          ],
          "parcoords": [
           {
            "line": {
             "colorbar": {
              "outlinewidth": 0,
              "ticks": ""
             }
            },
            "type": "parcoords"
           }
          ],
          "pie": [
           {
            "automargin": true,
            "type": "pie"
           }
          ],
          "scatter": [
           {
            "fillpattern": {
             "fillmode": "overlay",
             "size": 10,
             "solidity": 0.2
            },
            "type": "scatter"
           }
          ],
          "scatter3d": [
           {
            "line": {
             "colorbar": {
              "outlinewidth": 0,
              "ticks": ""
             }
            },
            "marker": {
             "colorbar": {
              "outlinewidth": 0,
              "ticks": ""
             }
            },
            "type": "scatter3d"
           }
          ],
          "scattercarpet": [
           {
            "marker": {
             "colorbar": {
              "outlinewidth": 0,
              "ticks": ""
             }
            },
            "type": "scattercarpet"
           }
          ],
          "scattergeo": [
           {
            "marker": {
             "colorbar": {
              "outlinewidth": 0,
              "ticks": ""
             }
            },
            "type": "scattergeo"
           }
          ],
          "scattergl": [
           {
            "marker": {
             "colorbar": {
              "outlinewidth": 0,
              "ticks": ""
             }
            },
            "type": "scattergl"
           }
          ],
          "scattermapbox": [
           {
            "marker": {
             "colorbar": {
              "outlinewidth": 0,
              "ticks": ""
             }
            },
            "type": "scattermapbox"
           }
          ],
          "scatterpolar": [
           {
            "marker": {
             "colorbar": {
              "outlinewidth": 0,
              "ticks": ""
             }
            },
            "type": "scatterpolar"
           }
          ],
          "scatterpolargl": [
           {
            "marker": {
             "colorbar": {
              "outlinewidth": 0,
              "ticks": ""
             }
            },
            "type": "scatterpolargl"
           }
          ],
          "scatterternary": [
           {
            "marker": {
             "colorbar": {
              "outlinewidth": 0,
              "ticks": ""
             }
            },
            "type": "scatterternary"
           }
          ],
          "surface": [
           {
            "colorbar": {
             "outlinewidth": 0,
             "ticks": ""
            },
            "colorscale": [
             [
              0,
              "#0d0887"
             ],
             [
              0.1111111111111111,
              "#46039f"
             ],
             [
              0.2222222222222222,
              "#7201a8"
             ],
             [
              0.3333333333333333,
              "#9c179e"
             ],
             [
              0.4444444444444444,
              "#bd3786"
             ],
             [
              0.5555555555555556,
              "#d8576b"
             ],
             [
              0.6666666666666666,
              "#ed7953"
             ],
             [
              0.7777777777777778,
              "#fb9f3a"
             ],
             [
              0.8888888888888888,
              "#fdca26"
             ],
             [
              1,
              "#f0f921"
             ]
            ],
            "type": "surface"
           }
          ],
          "table": [
           {
            "cells": {
             "fill": {
              "color": "#EBF0F8"
             },
             "line": {
              "color": "white"
             }
            },
            "header": {
             "fill": {
              "color": "#C8D4E3"
             },
             "line": {
              "color": "white"
             }
            },
            "type": "table"
           }
          ]
         },
         "layout": {
          "annotationdefaults": {
           "arrowcolor": "#2a3f5f",
           "arrowhead": 0,
           "arrowwidth": 1
          },
          "autotypenumbers": "strict",
          "coloraxis": {
           "colorbar": {
            "outlinewidth": 0,
            "ticks": ""
           }
          },
          "colorscale": {
           "diverging": [
            [
             0,
             "#8e0152"
            ],
            [
             0.1,
             "#c51b7d"
            ],
            [
             0.2,
             "#de77ae"
            ],
            [
             0.3,
             "#f1b6da"
            ],
            [
             0.4,
             "#fde0ef"
            ],
            [
             0.5,
             "#f7f7f7"
            ],
            [
             0.6,
             "#e6f5d0"
            ],
            [
             0.7,
             "#b8e186"
            ],
            [
             0.8,
             "#7fbc41"
            ],
            [
             0.9,
             "#4d9221"
            ],
            [
             1,
             "#276419"
            ]
           ],
           "sequential": [
            [
             0,
             "#0d0887"
            ],
            [
             0.1111111111111111,
             "#46039f"
            ],
            [
             0.2222222222222222,
             "#7201a8"
            ],
            [
             0.3333333333333333,
             "#9c179e"
            ],
            [
             0.4444444444444444,
             "#bd3786"
            ],
            [
             0.5555555555555556,
             "#d8576b"
            ],
            [
             0.6666666666666666,
             "#ed7953"
            ],
            [
             0.7777777777777778,
             "#fb9f3a"
            ],
            [
             0.8888888888888888,
             "#fdca26"
            ],
            [
             1,
             "#f0f921"
            ]
           ],
           "sequentialminus": [
            [
             0,
             "#0d0887"
            ],
            [
             0.1111111111111111,
             "#46039f"
            ],
            [
             0.2222222222222222,
             "#7201a8"
            ],
            [
             0.3333333333333333,
             "#9c179e"
            ],
            [
             0.4444444444444444,
             "#bd3786"
            ],
            [
             0.5555555555555556,
             "#d8576b"
            ],
            [
             0.6666666666666666,
             "#ed7953"
            ],
            [
             0.7777777777777778,
             "#fb9f3a"
            ],
            [
             0.8888888888888888,
             "#fdca26"
            ],
            [
             1,
             "#f0f921"
            ]
           ]
          },
          "colorway": [
           "#636efa",
           "#EF553B",
           "#00cc96",
           "#ab63fa",
           "#FFA15A",
           "#19d3f3",
           "#FF6692",
           "#B6E880",
           "#FF97FF",
           "#FECB52"
          ],
          "font": {
           "color": "#2a3f5f"
          },
          "geo": {
           "bgcolor": "white",
           "lakecolor": "white",
           "landcolor": "#E5ECF6",
           "showlakes": true,
           "showland": true,
           "subunitcolor": "white"
          },
          "hoverlabel": {
           "align": "left"
          },
          "hovermode": "closest",
          "mapbox": {
           "style": "light"
          },
          "paper_bgcolor": "white",
          "plot_bgcolor": "#E5ECF6",
          "polar": {
           "angularaxis": {
            "gridcolor": "white",
            "linecolor": "white",
            "ticks": ""
           },
           "bgcolor": "#E5ECF6",
           "radialaxis": {
            "gridcolor": "white",
            "linecolor": "white",
            "ticks": ""
           }
          },
          "scene": {
           "xaxis": {
            "backgroundcolor": "#E5ECF6",
            "gridcolor": "white",
            "gridwidth": 2,
            "linecolor": "white",
            "showbackground": true,
            "ticks": "",
            "zerolinecolor": "white"
           },
           "yaxis": {
            "backgroundcolor": "#E5ECF6",
            "gridcolor": "white",
            "gridwidth": 2,
            "linecolor": "white",
            "showbackground": true,
            "ticks": "",
            "zerolinecolor": "white"
           },
           "zaxis": {
            "backgroundcolor": "#E5ECF6",
            "gridcolor": "white",
            "gridwidth": 2,
            "linecolor": "white",
            "showbackground": true,
            "ticks": "",
            "zerolinecolor": "white"
           }
          },
          "shapedefaults": {
           "line": {
            "color": "#2a3f5f"
           }
          },
          "ternary": {
           "aaxis": {
            "gridcolor": "white",
            "linecolor": "white",
            "ticks": ""
           },
           "baxis": {
            "gridcolor": "white",
            "linecolor": "white",
            "ticks": ""
           },
           "bgcolor": "#E5ECF6",
           "caxis": {
            "gridcolor": "white",
            "linecolor": "white",
            "ticks": ""
           }
          },
          "title": {
           "x": 0.05
          },
          "xaxis": {
           "automargin": true,
           "gridcolor": "white",
           "linecolor": "white",
           "ticks": "",
           "title": {
            "standoff": 15
           },
           "zerolinecolor": "white",
           "zerolinewidth": 2
          },
          "yaxis": {
           "automargin": true,
           "gridcolor": "white",
           "linecolor": "white",
           "ticks": "",
           "title": {
            "standoff": 15
           },
           "zerolinecolor": "white",
           "zerolinewidth": 2
          }
         }
        },
        "xaxis": {
         "anchor": "y",
         "domain": [
          0,
          1
         ],
         "title": {
          "text": "発生時（始期）"
         }
        },
        "yaxis": {
         "anchor": "x",
         "domain": [
          0,
          1
         ],
         "title": {
          "text": "件数"
         }
        }
       }
      }
     },
     "metadata": {},
     "output_type": "display_data"
    }
   ],
   "source": [
    "fig = px.bar(time,x='発生時（始期）',y='件数')\n",
    "fig.show()"
   ]
  },
  {
   "attachments": {},
   "cell_type": "markdown",
   "metadata": {
    "slideshow": {
     "slide_type": "slide"
    }
   },
   "source": [
    "ありゃ？順番が件数の多い順になってる。実はx軸のオプションっていっぱいあるんだ！その中の一つでカテゴリーの順番を設定できる。\n",
    "\n",
    "https://plotly.com/python/categorical-axes/"
   ]
  },
  {
   "cell_type": "code",
   "execution_count": 11,
   "metadata": {},
   "outputs": [
    {
     "data": {
      "application/vnd.plotly.v1+json": {
       "config": {
        "plotlyServerURL": "https://plot.ly"
       },
       "data": [
        {
         "alignmentgroup": "True",
         "hovertemplate": "発生時（始期）=%{x}<br>件数=%{y}<extra></extra>",
         "legendgroup": "",
         "marker": {
          "color": "#636efa",
          "pattern": {
           "shape": ""
          }
         },
         "name": "",
         "offsetgroup": "",
         "orientation": "v",
         "showlegend": false,
         "textposition": "auto",
         "type": "bar",
         "x": [
          "18",
          "19",
          "08",
          "16",
          "20",
          "17",
          "12",
          "13",
          "15",
          "07",
          "14",
          "10",
          "21",
          "11",
          "09",
          "06",
          "22",
          "00",
          "23",
          "不明",
          "05",
          "04",
          "02",
          "01"
         ],
         "xaxis": "x",
         "y": [
          44,
          39,
          37,
          36,
          33,
          32,
          28,
          25,
          24,
          23,
          20,
          20,
          19,
          19,
          18,
          12,
          11,
          9,
          9,
          6,
          3,
          2,
          1,
          1
         ],
         "yaxis": "y"
        }
       ],
       "layout": {
        "barmode": "relative",
        "legend": {
         "tracegroupgap": 0
        },
        "margin": {
         "t": 60
        },
        "template": {
         "data": {
          "bar": [
           {
            "error_x": {
             "color": "#2a3f5f"
            },
            "error_y": {
             "color": "#2a3f5f"
            },
            "marker": {
             "line": {
              "color": "#E5ECF6",
              "width": 0.5
             },
             "pattern": {
              "fillmode": "overlay",
              "size": 10,
              "solidity": 0.2
             }
            },
            "type": "bar"
           }
          ],
          "barpolar": [
           {
            "marker": {
             "line": {
              "color": "#E5ECF6",
              "width": 0.5
             },
             "pattern": {
              "fillmode": "overlay",
              "size": 10,
              "solidity": 0.2
             }
            },
            "type": "barpolar"
           }
          ],
          "carpet": [
           {
            "aaxis": {
             "endlinecolor": "#2a3f5f",
             "gridcolor": "white",
             "linecolor": "white",
             "minorgridcolor": "white",
             "startlinecolor": "#2a3f5f"
            },
            "baxis": {
             "endlinecolor": "#2a3f5f",
             "gridcolor": "white",
             "linecolor": "white",
             "minorgridcolor": "white",
             "startlinecolor": "#2a3f5f"
            },
            "type": "carpet"
           }
          ],
          "choropleth": [
           {
            "colorbar": {
             "outlinewidth": 0,
             "ticks": ""
            },
            "type": "choropleth"
           }
          ],
          "contour": [
           {
            "colorbar": {
             "outlinewidth": 0,
             "ticks": ""
            },
            "colorscale": [
             [
              0,
              "#0d0887"
             ],
             [
              0.1111111111111111,
              "#46039f"
             ],
             [
              0.2222222222222222,
              "#7201a8"
             ],
             [
              0.3333333333333333,
              "#9c179e"
             ],
             [
              0.4444444444444444,
              "#bd3786"
             ],
             [
              0.5555555555555556,
              "#d8576b"
             ],
             [
              0.6666666666666666,
              "#ed7953"
             ],
             [
              0.7777777777777778,
              "#fb9f3a"
             ],
             [
              0.8888888888888888,
              "#fdca26"
             ],
             [
              1,
              "#f0f921"
             ]
            ],
            "type": "contour"
           }
          ],
          "contourcarpet": [
           {
            "colorbar": {
             "outlinewidth": 0,
             "ticks": ""
            },
            "type": "contourcarpet"
           }
          ],
          "heatmap": [
           {
            "colorbar": {
             "outlinewidth": 0,
             "ticks": ""
            },
            "colorscale": [
             [
              0,
              "#0d0887"
             ],
             [
              0.1111111111111111,
              "#46039f"
             ],
             [
              0.2222222222222222,
              "#7201a8"
             ],
             [
              0.3333333333333333,
              "#9c179e"
             ],
             [
              0.4444444444444444,
              "#bd3786"
             ],
             [
              0.5555555555555556,
              "#d8576b"
             ],
             [
              0.6666666666666666,
              "#ed7953"
             ],
             [
              0.7777777777777778,
              "#fb9f3a"
             ],
             [
              0.8888888888888888,
              "#fdca26"
             ],
             [
              1,
              "#f0f921"
             ]
            ],
            "type": "heatmap"
           }
          ],
          "heatmapgl": [
           {
            "colorbar": {
             "outlinewidth": 0,
             "ticks": ""
            },
            "colorscale": [
             [
              0,
              "#0d0887"
             ],
             [
              0.1111111111111111,
              "#46039f"
             ],
             [
              0.2222222222222222,
              "#7201a8"
             ],
             [
              0.3333333333333333,
              "#9c179e"
             ],
             [
              0.4444444444444444,
              "#bd3786"
             ],
             [
              0.5555555555555556,
              "#d8576b"
             ],
             [
              0.6666666666666666,
              "#ed7953"
             ],
             [
              0.7777777777777778,
              "#fb9f3a"
             ],
             [
              0.8888888888888888,
              "#fdca26"
             ],
             [
              1,
              "#f0f921"
             ]
            ],
            "type": "heatmapgl"
           }
          ],
          "histogram": [
           {
            "marker": {
             "pattern": {
              "fillmode": "overlay",
              "size": 10,
              "solidity": 0.2
             }
            },
            "type": "histogram"
           }
          ],
          "histogram2d": [
           {
            "colorbar": {
             "outlinewidth": 0,
             "ticks": ""
            },
            "colorscale": [
             [
              0,
              "#0d0887"
             ],
             [
              0.1111111111111111,
              "#46039f"
             ],
             [
              0.2222222222222222,
              "#7201a8"
             ],
             [
              0.3333333333333333,
              "#9c179e"
             ],
             [
              0.4444444444444444,
              "#bd3786"
             ],
             [
              0.5555555555555556,
              "#d8576b"
             ],
             [
              0.6666666666666666,
              "#ed7953"
             ],
             [
              0.7777777777777778,
              "#fb9f3a"
             ],
             [
              0.8888888888888888,
              "#fdca26"
             ],
             [
              1,
              "#f0f921"
             ]
            ],
            "type": "histogram2d"
           }
          ],
          "histogram2dcontour": [
           {
            "colorbar": {
             "outlinewidth": 0,
             "ticks": ""
            },
            "colorscale": [
             [
              0,
              "#0d0887"
             ],
             [
              0.1111111111111111,
              "#46039f"
             ],
             [
              0.2222222222222222,
              "#7201a8"
             ],
             [
              0.3333333333333333,
              "#9c179e"
             ],
             [
              0.4444444444444444,
              "#bd3786"
             ],
             [
              0.5555555555555556,
              "#d8576b"
             ],
             [
              0.6666666666666666,
              "#ed7953"
             ],
             [
              0.7777777777777778,
              "#fb9f3a"
             ],
             [
              0.8888888888888888,
              "#fdca26"
             ],
             [
              1,
              "#f0f921"
             ]
            ],
            "type": "histogram2dcontour"
           }
          ],
          "mesh3d": [
           {
            "colorbar": {
             "outlinewidth": 0,
             "ticks": ""
            },
            "type": "mesh3d"
           }
          ],
          "parcoords": [
           {
            "line": {
             "colorbar": {
              "outlinewidth": 0,
              "ticks": ""
             }
            },
            "type": "parcoords"
           }
          ],
          "pie": [
           {
            "automargin": true,
            "type": "pie"
           }
          ],
          "scatter": [
           {
            "fillpattern": {
             "fillmode": "overlay",
             "size": 10,
             "solidity": 0.2
            },
            "type": "scatter"
           }
          ],
          "scatter3d": [
           {
            "line": {
             "colorbar": {
              "outlinewidth": 0,
              "ticks": ""
             }
            },
            "marker": {
             "colorbar": {
              "outlinewidth": 0,
              "ticks": ""
             }
            },
            "type": "scatter3d"
           }
          ],
          "scattercarpet": [
           {
            "marker": {
             "colorbar": {
              "outlinewidth": 0,
              "ticks": ""
             }
            },
            "type": "scattercarpet"
           }
          ],
          "scattergeo": [
           {
            "marker": {
             "colorbar": {
              "outlinewidth": 0,
              "ticks": ""
             }
            },
            "type": "scattergeo"
           }
          ],
          "scattergl": [
           {
            "marker": {
             "colorbar": {
              "outlinewidth": 0,
              "ticks": ""
             }
            },
            "type": "scattergl"
           }
          ],
          "scattermapbox": [
           {
            "marker": {
             "colorbar": {
              "outlinewidth": 0,
              "ticks": ""
             }
            },
            "type": "scattermapbox"
           }
          ],
          "scatterpolar": [
           {
            "marker": {
             "colorbar": {
              "outlinewidth": 0,
              "ticks": ""
             }
            },
            "type": "scatterpolar"
           }
          ],
          "scatterpolargl": [
           {
            "marker": {
             "colorbar": {
              "outlinewidth": 0,
              "ticks": ""
             }
            },
            "type": "scatterpolargl"
           }
          ],
          "scatterternary": [
           {
            "marker": {
             "colorbar": {
              "outlinewidth": 0,
              "ticks": ""
             }
            },
            "type": "scatterternary"
           }
          ],
          "surface": [
           {
            "colorbar": {
             "outlinewidth": 0,
             "ticks": ""
            },
            "colorscale": [
             [
              0,
              "#0d0887"
             ],
             [
              0.1111111111111111,
              "#46039f"
             ],
             [
              0.2222222222222222,
              "#7201a8"
             ],
             [
              0.3333333333333333,
              "#9c179e"
             ],
             [
              0.4444444444444444,
              "#bd3786"
             ],
             [
              0.5555555555555556,
              "#d8576b"
             ],
             [
              0.6666666666666666,
              "#ed7953"
             ],
             [
              0.7777777777777778,
              "#fb9f3a"
             ],
             [
              0.8888888888888888,
              "#fdca26"
             ],
             [
              1,
              "#f0f921"
             ]
            ],
            "type": "surface"
           }
          ],
          "table": [
           {
            "cells": {
             "fill": {
              "color": "#EBF0F8"
             },
             "line": {
              "color": "white"
             }
            },
            "header": {
             "fill": {
              "color": "#C8D4E3"
             },
             "line": {
              "color": "white"
             }
            },
            "type": "table"
           }
          ]
         },
         "layout": {
          "annotationdefaults": {
           "arrowcolor": "#2a3f5f",
           "arrowhead": 0,
           "arrowwidth": 1
          },
          "autotypenumbers": "strict",
          "coloraxis": {
           "colorbar": {
            "outlinewidth": 0,
            "ticks": ""
           }
          },
          "colorscale": {
           "diverging": [
            [
             0,
             "#8e0152"
            ],
            [
             0.1,
             "#c51b7d"
            ],
            [
             0.2,
             "#de77ae"
            ],
            [
             0.3,
             "#f1b6da"
            ],
            [
             0.4,
             "#fde0ef"
            ],
            [
             0.5,
             "#f7f7f7"
            ],
            [
             0.6,
             "#e6f5d0"
            ],
            [
             0.7,
             "#b8e186"
            ],
            [
             0.8,
             "#7fbc41"
            ],
            [
             0.9,
             "#4d9221"
            ],
            [
             1,
             "#276419"
            ]
           ],
           "sequential": [
            [
             0,
             "#0d0887"
            ],
            [
             0.1111111111111111,
             "#46039f"
            ],
            [
             0.2222222222222222,
             "#7201a8"
            ],
            [
             0.3333333333333333,
             "#9c179e"
            ],
            [
             0.4444444444444444,
             "#bd3786"
            ],
            [
             0.5555555555555556,
             "#d8576b"
            ],
            [
             0.6666666666666666,
             "#ed7953"
            ],
            [
             0.7777777777777778,
             "#fb9f3a"
            ],
            [
             0.8888888888888888,
             "#fdca26"
            ],
            [
             1,
             "#f0f921"
            ]
           ],
           "sequentialminus": [
            [
             0,
             "#0d0887"
            ],
            [
             0.1111111111111111,
             "#46039f"
            ],
            [
             0.2222222222222222,
             "#7201a8"
            ],
            [
             0.3333333333333333,
             "#9c179e"
            ],
            [
             0.4444444444444444,
             "#bd3786"
            ],
            [
             0.5555555555555556,
             "#d8576b"
            ],
            [
             0.6666666666666666,
             "#ed7953"
            ],
            [
             0.7777777777777778,
             "#fb9f3a"
            ],
            [
             0.8888888888888888,
             "#fdca26"
            ],
            [
             1,
             "#f0f921"
            ]
           ]
          },
          "colorway": [
           "#636efa",
           "#EF553B",
           "#00cc96",
           "#ab63fa",
           "#FFA15A",
           "#19d3f3",
           "#FF6692",
           "#B6E880",
           "#FF97FF",
           "#FECB52"
          ],
          "font": {
           "color": "#2a3f5f"
          },
          "geo": {
           "bgcolor": "white",
           "lakecolor": "white",
           "landcolor": "#E5ECF6",
           "showlakes": true,
           "showland": true,
           "subunitcolor": "white"
          },
          "hoverlabel": {
           "align": "left"
          },
          "hovermode": "closest",
          "mapbox": {
           "style": "light"
          },
          "paper_bgcolor": "white",
          "plot_bgcolor": "#E5ECF6",
          "polar": {
           "angularaxis": {
            "gridcolor": "white",
            "linecolor": "white",
            "ticks": ""
           },
           "bgcolor": "#E5ECF6",
           "radialaxis": {
            "gridcolor": "white",
            "linecolor": "white",
            "ticks": ""
           }
          },
          "scene": {
           "xaxis": {
            "backgroundcolor": "#E5ECF6",
            "gridcolor": "white",
            "gridwidth": 2,
            "linecolor": "white",
            "showbackground": true,
            "ticks": "",
            "zerolinecolor": "white"
           },
           "yaxis": {
            "backgroundcolor": "#E5ECF6",
            "gridcolor": "white",
            "gridwidth": 2,
            "linecolor": "white",
            "showbackground": true,
            "ticks": "",
            "zerolinecolor": "white"
           },
           "zaxis": {
            "backgroundcolor": "#E5ECF6",
            "gridcolor": "white",
            "gridwidth": 2,
            "linecolor": "white",
            "showbackground": true,
            "ticks": "",
            "zerolinecolor": "white"
           }
          },
          "shapedefaults": {
           "line": {
            "color": "#2a3f5f"
           }
          },
          "ternary": {
           "aaxis": {
            "gridcolor": "white",
            "linecolor": "white",
            "ticks": ""
           },
           "baxis": {
            "gridcolor": "white",
            "linecolor": "white",
            "ticks": ""
           },
           "bgcolor": "#E5ECF6",
           "caxis": {
            "gridcolor": "white",
            "linecolor": "white",
            "ticks": ""
           }
          },
          "title": {
           "x": 0.05
          },
          "xaxis": {
           "automargin": true,
           "gridcolor": "white",
           "linecolor": "white",
           "ticks": "",
           "title": {
            "standoff": 15
           },
           "zerolinecolor": "white",
           "zerolinewidth": 2
          },
          "yaxis": {
           "automargin": true,
           "gridcolor": "white",
           "linecolor": "white",
           "ticks": "",
           "title": {
            "standoff": 15
           },
           "zerolinecolor": "white",
           "zerolinewidth": 2
          }
         }
        },
        "xaxis": {
         "anchor": "y",
         "categoryorder": "category ascending",
         "domain": [
          0,
          1
         ],
         "title": {
          "text": "発生時（始期）"
         }
        },
        "yaxis": {
         "anchor": "x",
         "domain": [
          0,
          1
         ],
         "title": {
          "text": "件数"
         }
        }
       }
      }
     },
     "metadata": {},
     "output_type": "display_data"
    }
   ],
   "source": [
    "fig = px.bar(time,\n",
    "            x='発生時（始期）',\n",
    "            y='件数'\n",
    "            )\n",
    "fig.update_xaxes(categoryorder='category ascending')\n",
    "fig.show()"
   ]
  },
  {
   "attachments": {},
   "cell_type": "markdown",
   "metadata": {
    "slideshow": {
     "slide_type": "slide"
    }
   },
   "source": [
    "チャートのテンプレートを変えることでルックスが変わる。\n",
    "\n",
    "`template`のオプションはこちらから：\n",
    "\n",
    "```[\"plotly\", \"plotly_white\", \"plotly_dark\", \"ggplot2\", \"seaborn\", \"simple_white\"]```\n",
    "\n",
    "一つずつ試してみよう。"
   ]
  },
  {
   "cell_type": "code",
   "execution_count": 15,
   "metadata": {
    "slideshow": {
     "slide_type": "slide"
    }
   },
   "outputs": [
    {
     "data": {
      "application/vnd.plotly.v1+json": {
       "config": {
        "plotlyServerURL": "https://plot.ly"
       },
       "data": [
        {
         "alignmentgroup": "True",
         "hovertemplate": "発生時（始期）=%{x}<br>件数=%{y}<extra></extra>",
         "legendgroup": "",
         "marker": {
          "color": "#636efa",
          "pattern": {
           "shape": ""
          }
         },
         "name": "",
         "offsetgroup": "",
         "orientation": "v",
         "showlegend": false,
         "textposition": "auto",
         "type": "bar",
         "x": [
          "18",
          "19",
          "08",
          "16",
          "20",
          "17",
          "12",
          "13",
          "15",
          "07",
          "14",
          "10",
          "21",
          "11",
          "09",
          "06",
          "22",
          "00",
          "23",
          "不明",
          "05",
          "04",
          "02",
          "01"
         ],
         "xaxis": "x",
         "y": [
          44,
          39,
          37,
          36,
          33,
          32,
          28,
          25,
          24,
          23,
          20,
          20,
          19,
          19,
          18,
          12,
          11,
          9,
          9,
          6,
          3,
          2,
          1,
          1
         ],
         "yaxis": "y"
        }
       ],
       "layout": {
        "barmode": "relative",
        "legend": {
         "tracegroupgap": 0
        },
        "margin": {
         "t": 60
        },
        "template": {
         "data": {
          "bar": [
           {
            "error_x": {
             "color": "#f2f5fa"
            },
            "error_y": {
             "color": "#f2f5fa"
            },
            "marker": {
             "line": {
              "color": "rgb(17,17,17)",
              "width": 0.5
             },
             "pattern": {
              "fillmode": "overlay",
              "size": 10,
              "solidity": 0.2
             }
            },
            "type": "bar"
           }
          ],
          "barpolar": [
           {
            "marker": {
             "line": {
              "color": "rgb(17,17,17)",
              "width": 0.5
             },
             "pattern": {
              "fillmode": "overlay",
              "size": 10,
              "solidity": 0.2
             }
            },
            "type": "barpolar"
           }
          ],
          "carpet": [
           {
            "aaxis": {
             "endlinecolor": "#A2B1C6",
             "gridcolor": "#506784",
             "linecolor": "#506784",
             "minorgridcolor": "#506784",
             "startlinecolor": "#A2B1C6"
            },
            "baxis": {
             "endlinecolor": "#A2B1C6",
             "gridcolor": "#506784",
             "linecolor": "#506784",
             "minorgridcolor": "#506784",
             "startlinecolor": "#A2B1C6"
            },
            "type": "carpet"
           }
          ],
          "choropleth": [
           {
            "colorbar": {
             "outlinewidth": 0,
             "ticks": ""
            },
            "type": "choropleth"
           }
          ],
          "contour": [
           {
            "colorbar": {
             "outlinewidth": 0,
             "ticks": ""
            },
            "colorscale": [
             [
              0,
              "#0d0887"
             ],
             [
              0.1111111111111111,
              "#46039f"
             ],
             [
              0.2222222222222222,
              "#7201a8"
             ],
             [
              0.3333333333333333,
              "#9c179e"
             ],
             [
              0.4444444444444444,
              "#bd3786"
             ],
             [
              0.5555555555555556,
              "#d8576b"
             ],
             [
              0.6666666666666666,
              "#ed7953"
             ],
             [
              0.7777777777777778,
              "#fb9f3a"
             ],
             [
              0.8888888888888888,
              "#fdca26"
             ],
             [
              1,
              "#f0f921"
             ]
            ],
            "type": "contour"
           }
          ],
          "contourcarpet": [
           {
            "colorbar": {
             "outlinewidth": 0,
             "ticks": ""
            },
            "type": "contourcarpet"
           }
          ],
          "heatmap": [
           {
            "colorbar": {
             "outlinewidth": 0,
             "ticks": ""
            },
            "colorscale": [
             [
              0,
              "#0d0887"
             ],
             [
              0.1111111111111111,
              "#46039f"
             ],
             [
              0.2222222222222222,
              "#7201a8"
             ],
             [
              0.3333333333333333,
              "#9c179e"
             ],
             [
              0.4444444444444444,
              "#bd3786"
             ],
             [
              0.5555555555555556,
              "#d8576b"
             ],
             [
              0.6666666666666666,
              "#ed7953"
             ],
             [
              0.7777777777777778,
              "#fb9f3a"
             ],
             [
              0.8888888888888888,
              "#fdca26"
             ],
             [
              1,
              "#f0f921"
             ]
            ],
            "type": "heatmap"
           }
          ],
          "heatmapgl": [
           {
            "colorbar": {
             "outlinewidth": 0,
             "ticks": ""
            },
            "colorscale": [
             [
              0,
              "#0d0887"
             ],
             [
              0.1111111111111111,
              "#46039f"
             ],
             [
              0.2222222222222222,
              "#7201a8"
             ],
             [
              0.3333333333333333,
              "#9c179e"
             ],
             [
              0.4444444444444444,
              "#bd3786"
             ],
             [
              0.5555555555555556,
              "#d8576b"
             ],
             [
              0.6666666666666666,
              "#ed7953"
             ],
             [
              0.7777777777777778,
              "#fb9f3a"
             ],
             [
              0.8888888888888888,
              "#fdca26"
             ],
             [
              1,
              "#f0f921"
             ]
            ],
            "type": "heatmapgl"
           }
          ],
          "histogram": [
           {
            "marker": {
             "pattern": {
              "fillmode": "overlay",
              "size": 10,
              "solidity": 0.2
             }
            },
            "type": "histogram"
           }
          ],
          "histogram2d": [
           {
            "colorbar": {
             "outlinewidth": 0,
             "ticks": ""
            },
            "colorscale": [
             [
              0,
              "#0d0887"
             ],
             [
              0.1111111111111111,
              "#46039f"
             ],
             [
              0.2222222222222222,
              "#7201a8"
             ],
             [
              0.3333333333333333,
              "#9c179e"
             ],
             [
              0.4444444444444444,
              "#bd3786"
             ],
             [
              0.5555555555555556,
              "#d8576b"
             ],
             [
              0.6666666666666666,
              "#ed7953"
             ],
             [
              0.7777777777777778,
              "#fb9f3a"
             ],
             [
              0.8888888888888888,
              "#fdca26"
             ],
             [
              1,
              "#f0f921"
             ]
            ],
            "type": "histogram2d"
           }
          ],
          "histogram2dcontour": [
           {
            "colorbar": {
             "outlinewidth": 0,
             "ticks": ""
            },
            "colorscale": [
             [
              0,
              "#0d0887"
             ],
             [
              0.1111111111111111,
              "#46039f"
             ],
             [
              0.2222222222222222,
              "#7201a8"
             ],
             [
              0.3333333333333333,
              "#9c179e"
             ],
             [
              0.4444444444444444,
              "#bd3786"
             ],
             [
              0.5555555555555556,
              "#d8576b"
             ],
             [
              0.6666666666666666,
              "#ed7953"
             ],
             [
              0.7777777777777778,
              "#fb9f3a"
             ],
             [
              0.8888888888888888,
              "#fdca26"
             ],
             [
              1,
              "#f0f921"
             ]
            ],
            "type": "histogram2dcontour"
           }
          ],
          "mesh3d": [
           {
            "colorbar": {
             "outlinewidth": 0,
             "ticks": ""
            },
            "type": "mesh3d"
           }
          ],
          "parcoords": [
           {
            "line": {
             "colorbar": {
              "outlinewidth": 0,
              "ticks": ""
             }
            },
            "type": "parcoords"
           }
          ],
          "pie": [
           {
            "automargin": true,
            "type": "pie"
           }
          ],
          "scatter": [
           {
            "marker": {
             "line": {
              "color": "#283442"
             }
            },
            "type": "scatter"
           }
          ],
          "scatter3d": [
           {
            "line": {
             "colorbar": {
              "outlinewidth": 0,
              "ticks": ""
             }
            },
            "marker": {
             "colorbar": {
              "outlinewidth": 0,
              "ticks": ""
             }
            },
            "type": "scatter3d"
           }
          ],
          "scattercarpet": [
           {
            "marker": {
             "colorbar": {
              "outlinewidth": 0,
              "ticks": ""
             }
            },
            "type": "scattercarpet"
           }
          ],
          "scattergeo": [
           {
            "marker": {
             "colorbar": {
              "outlinewidth": 0,
              "ticks": ""
             }
            },
            "type": "scattergeo"
           }
          ],
          "scattergl": [
           {
            "marker": {
             "line": {
              "color": "#283442"
             }
            },
            "type": "scattergl"
           }
          ],
          "scattermapbox": [
           {
            "marker": {
             "colorbar": {
              "outlinewidth": 0,
              "ticks": ""
             }
            },
            "type": "scattermapbox"
           }
          ],
          "scatterpolar": [
           {
            "marker": {
             "colorbar": {
              "outlinewidth": 0,
              "ticks": ""
             }
            },
            "type": "scatterpolar"
           }
          ],
          "scatterpolargl": [
           {
            "marker": {
             "colorbar": {
              "outlinewidth": 0,
              "ticks": ""
             }
            },
            "type": "scatterpolargl"
           }
          ],
          "scatterternary": [
           {
            "marker": {
             "colorbar": {
              "outlinewidth": 0,
              "ticks": ""
             }
            },
            "type": "scatterternary"
           }
          ],
          "surface": [
           {
            "colorbar": {
             "outlinewidth": 0,
             "ticks": ""
            },
            "colorscale": [
             [
              0,
              "#0d0887"
             ],
             [
              0.1111111111111111,
              "#46039f"
             ],
             [
              0.2222222222222222,
              "#7201a8"
             ],
             [
              0.3333333333333333,
              "#9c179e"
             ],
             [
              0.4444444444444444,
              "#bd3786"
             ],
             [
              0.5555555555555556,
              "#d8576b"
             ],
             [
              0.6666666666666666,
              "#ed7953"
             ],
             [
              0.7777777777777778,
              "#fb9f3a"
             ],
             [
              0.8888888888888888,
              "#fdca26"
             ],
             [
              1,
              "#f0f921"
             ]
            ],
            "type": "surface"
           }
          ],
          "table": [
           {
            "cells": {
             "fill": {
              "color": "#506784"
             },
             "line": {
              "color": "rgb(17,17,17)"
             }
            },
            "header": {
             "fill": {
              "color": "#2a3f5f"
             },
             "line": {
              "color": "rgb(17,17,17)"
             }
            },
            "type": "table"
           }
          ]
         },
         "layout": {
          "annotationdefaults": {
           "arrowcolor": "#f2f5fa",
           "arrowhead": 0,
           "arrowwidth": 1
          },
          "autotypenumbers": "strict",
          "coloraxis": {
           "colorbar": {
            "outlinewidth": 0,
            "ticks": ""
           }
          },
          "colorscale": {
           "diverging": [
            [
             0,
             "#8e0152"
            ],
            [
             0.1,
             "#c51b7d"
            ],
            [
             0.2,
             "#de77ae"
            ],
            [
             0.3,
             "#f1b6da"
            ],
            [
             0.4,
             "#fde0ef"
            ],
            [
             0.5,
             "#f7f7f7"
            ],
            [
             0.6,
             "#e6f5d0"
            ],
            [
             0.7,
             "#b8e186"
            ],
            [
             0.8,
             "#7fbc41"
            ],
            [
             0.9,
             "#4d9221"
            ],
            [
             1,
             "#276419"
            ]
           ],
           "sequential": [
            [
             0,
             "#0d0887"
            ],
            [
             0.1111111111111111,
             "#46039f"
            ],
            [
             0.2222222222222222,
             "#7201a8"
            ],
            [
             0.3333333333333333,
             "#9c179e"
            ],
            [
             0.4444444444444444,
             "#bd3786"
            ],
            [
             0.5555555555555556,
             "#d8576b"
            ],
            [
             0.6666666666666666,
             "#ed7953"
            ],
            [
             0.7777777777777778,
             "#fb9f3a"
            ],
            [
             0.8888888888888888,
             "#fdca26"
            ],
            [
             1,
             "#f0f921"
            ]
           ],
           "sequentialminus": [
            [
             0,
             "#0d0887"
            ],
            [
             0.1111111111111111,
             "#46039f"
            ],
            [
             0.2222222222222222,
             "#7201a8"
            ],
            [
             0.3333333333333333,
             "#9c179e"
            ],
            [
             0.4444444444444444,
             "#bd3786"
            ],
            [
             0.5555555555555556,
             "#d8576b"
            ],
            [
             0.6666666666666666,
             "#ed7953"
            ],
            [
             0.7777777777777778,
             "#fb9f3a"
            ],
            [
             0.8888888888888888,
             "#fdca26"
            ],
            [
             1,
             "#f0f921"
            ]
           ]
          },
          "colorway": [
           "#636efa",
           "#EF553B",
           "#00cc96",
           "#ab63fa",
           "#FFA15A",
           "#19d3f3",
           "#FF6692",
           "#B6E880",
           "#FF97FF",
           "#FECB52"
          ],
          "font": {
           "color": "#f2f5fa"
          },
          "geo": {
           "bgcolor": "rgb(17,17,17)",
           "lakecolor": "rgb(17,17,17)",
           "landcolor": "rgb(17,17,17)",
           "showlakes": true,
           "showland": true,
           "subunitcolor": "#506784"
          },
          "hoverlabel": {
           "align": "left"
          },
          "hovermode": "closest",
          "mapbox": {
           "style": "dark"
          },
          "paper_bgcolor": "rgb(17,17,17)",
          "plot_bgcolor": "rgb(17,17,17)",
          "polar": {
           "angularaxis": {
            "gridcolor": "#506784",
            "linecolor": "#506784",
            "ticks": ""
           },
           "bgcolor": "rgb(17,17,17)",
           "radialaxis": {
            "gridcolor": "#506784",
            "linecolor": "#506784",
            "ticks": ""
           }
          },
          "scene": {
           "xaxis": {
            "backgroundcolor": "rgb(17,17,17)",
            "gridcolor": "#506784",
            "gridwidth": 2,
            "linecolor": "#506784",
            "showbackground": true,
            "ticks": "",
            "zerolinecolor": "#C8D4E3"
           },
           "yaxis": {
            "backgroundcolor": "rgb(17,17,17)",
            "gridcolor": "#506784",
            "gridwidth": 2,
            "linecolor": "#506784",
            "showbackground": true,
            "ticks": "",
            "zerolinecolor": "#C8D4E3"
           },
           "zaxis": {
            "backgroundcolor": "rgb(17,17,17)",
            "gridcolor": "#506784",
            "gridwidth": 2,
            "linecolor": "#506784",
            "showbackground": true,
            "ticks": "",
            "zerolinecolor": "#C8D4E3"
           }
          },
          "shapedefaults": {
           "line": {
            "color": "#f2f5fa"
           }
          },
          "sliderdefaults": {
           "bgcolor": "#C8D4E3",
           "bordercolor": "rgb(17,17,17)",
           "borderwidth": 1,
           "tickwidth": 0
          },
          "ternary": {
           "aaxis": {
            "gridcolor": "#506784",
            "linecolor": "#506784",
            "ticks": ""
           },
           "baxis": {
            "gridcolor": "#506784",
            "linecolor": "#506784",
            "ticks": ""
           },
           "bgcolor": "rgb(17,17,17)",
           "caxis": {
            "gridcolor": "#506784",
            "linecolor": "#506784",
            "ticks": ""
           }
          },
          "title": {
           "x": 0.05
          },
          "updatemenudefaults": {
           "bgcolor": "#506784",
           "borderwidth": 0
          },
          "xaxis": {
           "automargin": true,
           "gridcolor": "#283442",
           "linecolor": "#506784",
           "ticks": "",
           "title": {
            "standoff": 15
           },
           "zerolinecolor": "#283442",
           "zerolinewidth": 2
          },
          "yaxis": {
           "automargin": true,
           "gridcolor": "#283442",
           "linecolor": "#506784",
           "ticks": "",
           "title": {
            "standoff": 15
           },
           "zerolinecolor": "#283442",
           "zerolinewidth": 2
          }
         }
        },
        "xaxis": {
         "anchor": "y",
         "categoryorder": "category ascending",
         "domain": [
          0,
          1
         ],
         "title": {
          "text": "発生時（始期）"
         }
        },
        "yaxis": {
         "anchor": "x",
         "domain": [
          0,
          1
         ],
         "title": {
          "text": "件数"
         }
        }
       }
      }
     },
     "metadata": {},
     "output_type": "display_data"
    }
   ],
   "source": [
    "fig = px.bar(time,\n",
    "            x='発生時（始期）',\n",
    "            y='件数',\n",
    "            template='plotly_dark' # change this to see other styles\n",
    "            )\n",
    "fig.update_xaxes(categoryorder='category ascending')\n",
    "fig.show()"
   ]
  },
  {
   "attachments": {},
   "cell_type": "markdown",
   "metadata": {
    "slideshow": {
     "slide_type": "slide"
    }
   },
   "source": [
    "### Make your own charts\n",
    "\n",
    "では、ここで他のチャートを作ってみよう。\n",
    "\n",
    "例：被害者の年齢、被害者の職業"
   ]
  },
  {
   "cell_type": "code",
   "execution_count": 27,
   "metadata": {},
   "outputs": [
    {
     "data": {
      "text/html": [
       "<div>\n",
       "<style scoped>\n",
       "    .dataframe tbody tr th:only-of-type {\n",
       "        vertical-align: middle;\n",
       "    }\n",
       "\n",
       "    .dataframe tbody tr th {\n",
       "        vertical-align: top;\n",
       "    }\n",
       "\n",
       "    .dataframe thead th {\n",
       "        text-align: right;\n",
       "    }\n",
       "</style>\n",
       "<table border=\"1\" class=\"dataframe\">\n",
       "  <thead>\n",
       "    <tr style=\"text-align: right;\">\n",
       "      <th></th>\n",
       "      <th>発生場所</th>\n",
       "      <th>count</th>\n",
       "    </tr>\n",
       "  </thead>\n",
       "  <tbody>\n",
       "    <tr>\n",
       "      <th>0</th>\n",
       "      <td>その他</td>\n",
       "      <td>216</td>\n",
       "    </tr>\n",
       "    <tr>\n",
       "      <th>1</th>\n",
       "      <td>その他の住宅（３階建て以下共同住宅等）</td>\n",
       "      <td>91</td>\n",
       "    </tr>\n",
       "    <tr>\n",
       "      <th>2</th>\n",
       "      <td>一戸建住宅</td>\n",
       "      <td>67</td>\n",
       "    </tr>\n",
       "    <tr>\n",
       "      <th>3</th>\n",
       "      <td>４階建て以上共同住宅</td>\n",
       "      <td>52</td>\n",
       "    </tr>\n",
       "    <tr>\n",
       "      <th>4</th>\n",
       "      <td>駐車（輪）場</td>\n",
       "      <td>29</td>\n",
       "    </tr>\n",
       "    <tr>\n",
       "      <th>5</th>\n",
       "      <td>道路上</td>\n",
       "      <td>16</td>\n",
       "    </tr>\n",
       "  </tbody>\n",
       "</table>\n",
       "</div>"
      ],
      "text/plain": [
       "                  発生場所  count\n",
       "0                  その他    216\n",
       "1  その他の住宅（３階建て以下共同住宅等）     91\n",
       "2                一戸建住宅     67\n",
       "3           ４階建て以上共同住宅     52\n",
       "4               駐車（輪）場     29\n",
       "5                  道路上     16"
      ]
     },
     "execution_count": 27,
     "metadata": {},
     "output_type": "execute_result"
    }
   ],
   "source": [
    "# create a new variable with hourly counts\n",
    "area = kashiwa['発生場所'].value_counts().reset_index()\n",
    "area"
   ]
  },
  {
   "cell_type": "code",
   "execution_count": 24,
   "metadata": {},
   "outputs": [
    {
     "data": {
      "text/html": [
       "<div>\n",
       "<style scoped>\n",
       "    .dataframe tbody tr th:only-of-type {\n",
       "        vertical-align: middle;\n",
       "    }\n",
       "\n",
       "    .dataframe tbody tr th {\n",
       "        vertical-align: top;\n",
       "    }\n",
       "\n",
       "    .dataframe thead th {\n",
       "        text-align: right;\n",
       "    }\n",
       "</style>\n",
       "<table border=\"1\" class=\"dataframe\">\n",
       "  <thead>\n",
       "    <tr style=\"text-align: right;\">\n",
       "      <th></th>\n",
       "      <th>発生場所</th>\n",
       "      <th>件数</th>\n",
       "    </tr>\n",
       "  </thead>\n",
       "  <tbody>\n",
       "    <tr>\n",
       "      <th>0</th>\n",
       "      <td>その他</td>\n",
       "      <td>216</td>\n",
       "    </tr>\n",
       "    <tr>\n",
       "      <th>1</th>\n",
       "      <td>その他の住宅（３階建て以下共同住宅等）</td>\n",
       "      <td>91</td>\n",
       "    </tr>\n",
       "    <tr>\n",
       "      <th>2</th>\n",
       "      <td>一戸建住宅</td>\n",
       "      <td>67</td>\n",
       "    </tr>\n",
       "    <tr>\n",
       "      <th>3</th>\n",
       "      <td>４階建て以上共同住宅</td>\n",
       "      <td>52</td>\n",
       "    </tr>\n",
       "    <tr>\n",
       "      <th>4</th>\n",
       "      <td>駐車（輪）場</td>\n",
       "      <td>29</td>\n",
       "    </tr>\n",
       "    <tr>\n",
       "      <th>5</th>\n",
       "      <td>道路上</td>\n",
       "      <td>16</td>\n",
       "    </tr>\n",
       "  </tbody>\n",
       "</table>\n",
       "</div>"
      ],
      "text/plain": [
       "                  発生場所   件数\n",
       "0                  その他  216\n",
       "1  その他の住宅（３階建て以下共同住宅等）   91\n",
       "2                一戸建住宅   67\n",
       "3           ４階建て以上共同住宅   52\n",
       "4               駐車（輪）場   29\n",
       "5                  道路上   16"
      ]
     },
     "execution_count": 24,
     "metadata": {},
     "output_type": "execute_result"
    }
   ],
   "source": [
    "# fix headers\n",
    "time.columns = ['発生場所','件数']\n",
    "time"
   ]
  },
  {
   "cell_type": "code",
   "execution_count": 25,
   "metadata": {},
   "outputs": [
    {
     "data": {
      "application/vnd.plotly.v1+json": {
       "config": {
        "plotlyServerURL": "https://plot.ly"
       },
       "data": [
        {
         "alignmentgroup": "True",
         "hovertemplate": "発生場所=%{x}<br>件数=%{y}<extra></extra>",
         "legendgroup": "",
         "marker": {
          "color": "#636efa",
          "pattern": {
           "shape": ""
          }
         },
         "name": "",
         "offsetgroup": "",
         "orientation": "v",
         "showlegend": false,
         "textposition": "auto",
         "type": "bar",
         "x": [
          "その他",
          "その他の住宅（３階建て以下共同住宅等）",
          "一戸建住宅",
          "４階建て以上共同住宅",
          "駐車（輪）場",
          "道路上"
         ],
         "xaxis": "x",
         "y": [
          216,
          91,
          67,
          52,
          29,
          16
         ],
         "yaxis": "y"
        }
       ],
       "layout": {
        "barmode": "relative",
        "legend": {
         "tracegroupgap": 0
        },
        "margin": {
         "t": 60
        },
        "template": {
         "data": {
          "bar": [
           {
            "error_x": {
             "color": "#2a3f5f"
            },
            "error_y": {
             "color": "#2a3f5f"
            },
            "marker": {
             "line": {
              "color": "#E5ECF6",
              "width": 0.5
             },
             "pattern": {
              "fillmode": "overlay",
              "size": 10,
              "solidity": 0.2
             }
            },
            "type": "bar"
           }
          ],
          "barpolar": [
           {
            "marker": {
             "line": {
              "color": "#E5ECF6",
              "width": 0.5
             },
             "pattern": {
              "fillmode": "overlay",
              "size": 10,
              "solidity": 0.2
             }
            },
            "type": "barpolar"
           }
          ],
          "carpet": [
           {
            "aaxis": {
             "endlinecolor": "#2a3f5f",
             "gridcolor": "white",
             "linecolor": "white",
             "minorgridcolor": "white",
             "startlinecolor": "#2a3f5f"
            },
            "baxis": {
             "endlinecolor": "#2a3f5f",
             "gridcolor": "white",
             "linecolor": "white",
             "minorgridcolor": "white",
             "startlinecolor": "#2a3f5f"
            },
            "type": "carpet"
           }
          ],
          "choropleth": [
           {
            "colorbar": {
             "outlinewidth": 0,
             "ticks": ""
            },
            "type": "choropleth"
           }
          ],
          "contour": [
           {
            "colorbar": {
             "outlinewidth": 0,
             "ticks": ""
            },
            "colorscale": [
             [
              0,
              "#0d0887"
             ],
             [
              0.1111111111111111,
              "#46039f"
             ],
             [
              0.2222222222222222,
              "#7201a8"
             ],
             [
              0.3333333333333333,
              "#9c179e"
             ],
             [
              0.4444444444444444,
              "#bd3786"
             ],
             [
              0.5555555555555556,
              "#d8576b"
             ],
             [
              0.6666666666666666,
              "#ed7953"
             ],
             [
              0.7777777777777778,
              "#fb9f3a"
             ],
             [
              0.8888888888888888,
              "#fdca26"
             ],
             [
              1,
              "#f0f921"
             ]
            ],
            "type": "contour"
           }
          ],
          "contourcarpet": [
           {
            "colorbar": {
             "outlinewidth": 0,
             "ticks": ""
            },
            "type": "contourcarpet"
           }
          ],
          "heatmap": [
           {
            "colorbar": {
             "outlinewidth": 0,
             "ticks": ""
            },
            "colorscale": [
             [
              0,
              "#0d0887"
             ],
             [
              0.1111111111111111,
              "#46039f"
             ],
             [
              0.2222222222222222,
              "#7201a8"
             ],
             [
              0.3333333333333333,
              "#9c179e"
             ],
             [
              0.4444444444444444,
              "#bd3786"
             ],
             [
              0.5555555555555556,
              "#d8576b"
             ],
             [
              0.6666666666666666,
              "#ed7953"
             ],
             [
              0.7777777777777778,
              "#fb9f3a"
             ],
             [
              0.8888888888888888,
              "#fdca26"
             ],
             [
              1,
              "#f0f921"
             ]
            ],
            "type": "heatmap"
           }
          ],
          "heatmapgl": [
           {
            "colorbar": {
             "outlinewidth": 0,
             "ticks": ""
            },
            "colorscale": [
             [
              0,
              "#0d0887"
             ],
             [
              0.1111111111111111,
              "#46039f"
             ],
             [
              0.2222222222222222,
              "#7201a8"
             ],
             [
              0.3333333333333333,
              "#9c179e"
             ],
             [
              0.4444444444444444,
              "#bd3786"
             ],
             [
              0.5555555555555556,
              "#d8576b"
             ],
             [
              0.6666666666666666,
              "#ed7953"
             ],
             [
              0.7777777777777778,
              "#fb9f3a"
             ],
             [
              0.8888888888888888,
              "#fdca26"
             ],
             [
              1,
              "#f0f921"
             ]
            ],
            "type": "heatmapgl"
           }
          ],
          "histogram": [
           {
            "marker": {
             "pattern": {
              "fillmode": "overlay",
              "size": 10,
              "solidity": 0.2
             }
            },
            "type": "histogram"
           }
          ],
          "histogram2d": [
           {
            "colorbar": {
             "outlinewidth": 0,
             "ticks": ""
            },
            "colorscale": [
             [
              0,
              "#0d0887"
             ],
             [
              0.1111111111111111,
              "#46039f"
             ],
             [
              0.2222222222222222,
              "#7201a8"
             ],
             [
              0.3333333333333333,
              "#9c179e"
             ],
             [
              0.4444444444444444,
              "#bd3786"
             ],
             [
              0.5555555555555556,
              "#d8576b"
             ],
             [
              0.6666666666666666,
              "#ed7953"
             ],
             [
              0.7777777777777778,
              "#fb9f3a"
             ],
             [
              0.8888888888888888,
              "#fdca26"
             ],
             [
              1,
              "#f0f921"
             ]
            ],
            "type": "histogram2d"
           }
          ],
          "histogram2dcontour": [
           {
            "colorbar": {
             "outlinewidth": 0,
             "ticks": ""
            },
            "colorscale": [
             [
              0,
              "#0d0887"
             ],
             [
              0.1111111111111111,
              "#46039f"
             ],
             [
              0.2222222222222222,
              "#7201a8"
             ],
             [
              0.3333333333333333,
              "#9c179e"
             ],
             [
              0.4444444444444444,
              "#bd3786"
             ],
             [
              0.5555555555555556,
              "#d8576b"
             ],
             [
              0.6666666666666666,
              "#ed7953"
             ],
             [
              0.7777777777777778,
              "#fb9f3a"
             ],
             [
              0.8888888888888888,
              "#fdca26"
             ],
             [
              1,
              "#f0f921"
             ]
            ],
            "type": "histogram2dcontour"
           }
          ],
          "mesh3d": [
           {
            "colorbar": {
             "outlinewidth": 0,
             "ticks": ""
            },
            "type": "mesh3d"
           }
          ],
          "parcoords": [
           {
            "line": {
             "colorbar": {
              "outlinewidth": 0,
              "ticks": ""
             }
            },
            "type": "parcoords"
           }
          ],
          "pie": [
           {
            "automargin": true,
            "type": "pie"
           }
          ],
          "scatter": [
           {
            "fillpattern": {
             "fillmode": "overlay",
             "size": 10,
             "solidity": 0.2
            },
            "type": "scatter"
           }
          ],
          "scatter3d": [
           {
            "line": {
             "colorbar": {
              "outlinewidth": 0,
              "ticks": ""
             }
            },
            "marker": {
             "colorbar": {
              "outlinewidth": 0,
              "ticks": ""
             }
            },
            "type": "scatter3d"
           }
          ],
          "scattercarpet": [
           {
            "marker": {
             "colorbar": {
              "outlinewidth": 0,
              "ticks": ""
             }
            },
            "type": "scattercarpet"
           }
          ],
          "scattergeo": [
           {
            "marker": {
             "colorbar": {
              "outlinewidth": 0,
              "ticks": ""
             }
            },
            "type": "scattergeo"
           }
          ],
          "scattergl": [
           {
            "marker": {
             "colorbar": {
              "outlinewidth": 0,
              "ticks": ""
             }
            },
            "type": "scattergl"
           }
          ],
          "scattermapbox": [
           {
            "marker": {
             "colorbar": {
              "outlinewidth": 0,
              "ticks": ""
             }
            },
            "type": "scattermapbox"
           }
          ],
          "scatterpolar": [
           {
            "marker": {
             "colorbar": {
              "outlinewidth": 0,
              "ticks": ""
             }
            },
            "type": "scatterpolar"
           }
          ],
          "scatterpolargl": [
           {
            "marker": {
             "colorbar": {
              "outlinewidth": 0,
              "ticks": ""
             }
            },
            "type": "scatterpolargl"
           }
          ],
          "scatterternary": [
           {
            "marker": {
             "colorbar": {
              "outlinewidth": 0,
              "ticks": ""
             }
            },
            "type": "scatterternary"
           }
          ],
          "surface": [
           {
            "colorbar": {
             "outlinewidth": 0,
             "ticks": ""
            },
            "colorscale": [
             [
              0,
              "#0d0887"
             ],
             [
              0.1111111111111111,
              "#46039f"
             ],
             [
              0.2222222222222222,
              "#7201a8"
             ],
             [
              0.3333333333333333,
              "#9c179e"
             ],
             [
              0.4444444444444444,
              "#bd3786"
             ],
             [
              0.5555555555555556,
              "#d8576b"
             ],
             [
              0.6666666666666666,
              "#ed7953"
             ],
             [
              0.7777777777777778,
              "#fb9f3a"
             ],
             [
              0.8888888888888888,
              "#fdca26"
             ],
             [
              1,
              "#f0f921"
             ]
            ],
            "type": "surface"
           }
          ],
          "table": [
           {
            "cells": {
             "fill": {
              "color": "#EBF0F8"
             },
             "line": {
              "color": "white"
             }
            },
            "header": {
             "fill": {
              "color": "#C8D4E3"
             },
             "line": {
              "color": "white"
             }
            },
            "type": "table"
           }
          ]
         },
         "layout": {
          "annotationdefaults": {
           "arrowcolor": "#2a3f5f",
           "arrowhead": 0,
           "arrowwidth": 1
          },
          "autotypenumbers": "strict",
          "coloraxis": {
           "colorbar": {
            "outlinewidth": 0,
            "ticks": ""
           }
          },
          "colorscale": {
           "diverging": [
            [
             0,
             "#8e0152"
            ],
            [
             0.1,
             "#c51b7d"
            ],
            [
             0.2,
             "#de77ae"
            ],
            [
             0.3,
             "#f1b6da"
            ],
            [
             0.4,
             "#fde0ef"
            ],
            [
             0.5,
             "#f7f7f7"
            ],
            [
             0.6,
             "#e6f5d0"
            ],
            [
             0.7,
             "#b8e186"
            ],
            [
             0.8,
             "#7fbc41"
            ],
            [
             0.9,
             "#4d9221"
            ],
            [
             1,
             "#276419"
            ]
           ],
           "sequential": [
            [
             0,
             "#0d0887"
            ],
            [
             0.1111111111111111,
             "#46039f"
            ],
            [
             0.2222222222222222,
             "#7201a8"
            ],
            [
             0.3333333333333333,
             "#9c179e"
            ],
            [
             0.4444444444444444,
             "#bd3786"
            ],
            [
             0.5555555555555556,
             "#d8576b"
            ],
            [
             0.6666666666666666,
             "#ed7953"
            ],
            [
             0.7777777777777778,
             "#fb9f3a"
            ],
            [
             0.8888888888888888,
             "#fdca26"
            ],
            [
             1,
             "#f0f921"
            ]
           ],
           "sequentialminus": [
            [
             0,
             "#0d0887"
            ],
            [
             0.1111111111111111,
             "#46039f"
            ],
            [
             0.2222222222222222,
             "#7201a8"
            ],
            [
             0.3333333333333333,
             "#9c179e"
            ],
            [
             0.4444444444444444,
             "#bd3786"
            ],
            [
             0.5555555555555556,
             "#d8576b"
            ],
            [
             0.6666666666666666,
             "#ed7953"
            ],
            [
             0.7777777777777778,
             "#fb9f3a"
            ],
            [
             0.8888888888888888,
             "#fdca26"
            ],
            [
             1,
             "#f0f921"
            ]
           ]
          },
          "colorway": [
           "#636efa",
           "#EF553B",
           "#00cc96",
           "#ab63fa",
           "#FFA15A",
           "#19d3f3",
           "#FF6692",
           "#B6E880",
           "#FF97FF",
           "#FECB52"
          ],
          "font": {
           "color": "#2a3f5f"
          },
          "geo": {
           "bgcolor": "white",
           "lakecolor": "white",
           "landcolor": "#E5ECF6",
           "showlakes": true,
           "showland": true,
           "subunitcolor": "white"
          },
          "hoverlabel": {
           "align": "left"
          },
          "hovermode": "closest",
          "mapbox": {
           "style": "light"
          },
          "paper_bgcolor": "white",
          "plot_bgcolor": "#E5ECF6",
          "polar": {
           "angularaxis": {
            "gridcolor": "white",
            "linecolor": "white",
            "ticks": ""
           },
           "bgcolor": "#E5ECF6",
           "radialaxis": {
            "gridcolor": "white",
            "linecolor": "white",
            "ticks": ""
           }
          },
          "scene": {
           "xaxis": {
            "backgroundcolor": "#E5ECF6",
            "gridcolor": "white",
            "gridwidth": 2,
            "linecolor": "white",
            "showbackground": true,
            "ticks": "",
            "zerolinecolor": "white"
           },
           "yaxis": {
            "backgroundcolor": "#E5ECF6",
            "gridcolor": "white",
            "gridwidth": 2,
            "linecolor": "white",
            "showbackground": true,
            "ticks": "",
            "zerolinecolor": "white"
           },
           "zaxis": {
            "backgroundcolor": "#E5ECF6",
            "gridcolor": "white",
            "gridwidth": 2,
            "linecolor": "white",
            "showbackground": true,
            "ticks": "",
            "zerolinecolor": "white"
           }
          },
          "shapedefaults": {
           "line": {
            "color": "#2a3f5f"
           }
          },
          "ternary": {
           "aaxis": {
            "gridcolor": "white",
            "linecolor": "white",
            "ticks": ""
           },
           "baxis": {
            "gridcolor": "white",
            "linecolor": "white",
            "ticks": ""
           },
           "bgcolor": "#E5ECF6",
           "caxis": {
            "gridcolor": "white",
            "linecolor": "white",
            "ticks": ""
           }
          },
          "title": {
           "x": 0.05
          },
          "xaxis": {
           "automargin": true,
           "gridcolor": "white",
           "linecolor": "white",
           "ticks": "",
           "title": {
            "standoff": 15
           },
           "zerolinecolor": "white",
           "zerolinewidth": 2
          },
          "yaxis": {
           "automargin": true,
           "gridcolor": "white",
           "linecolor": "white",
           "ticks": "",
           "title": {
            "standoff": 15
           },
           "zerolinecolor": "white",
           "zerolinewidth": 2
          }
         }
        },
        "xaxis": {
         "anchor": "y",
         "domain": [
          0,
          1
         ],
         "title": {
          "text": "発生場所"
         }
        },
        "yaxis": {
         "anchor": "x",
         "domain": [
          0,
          1
         ],
         "title": {
          "text": "件数"
         }
        }
       }
      }
     },
     "metadata": {},
     "output_type": "display_data"
    }
   ],
   "source": [
    "fig = px.bar(time,x='発生場所',y='件数')\n",
    "fig.show()\n"
   ]
  },
  {
   "cell_type": "code",
   "execution_count": 28,
   "metadata": {},
   "outputs": [
    {
     "data": {
      "text/html": [
       "<div>\n",
       "<style scoped>\n",
       "    .dataframe tbody tr th:only-of-type {\n",
       "        vertical-align: middle;\n",
       "    }\n",
       "\n",
       "    .dataframe tbody tr th {\n",
       "        vertical-align: top;\n",
       "    }\n",
       "\n",
       "    .dataframe thead th {\n",
       "        text-align: right;\n",
       "    }\n",
       "</style>\n",
       "<table border=\"1\" class=\"dataframe\">\n",
       "  <thead>\n",
       "    <tr style=\"text-align: right;\">\n",
       "      <th></th>\n",
       "      <th>施錠関係</th>\n",
       "      <th>count</th>\n",
       "    </tr>\n",
       "  </thead>\n",
       "  <tbody>\n",
       "    <tr>\n",
       "      <th>0</th>\n",
       "      <td>施錠せず</td>\n",
       "      <td>305</td>\n",
       "    </tr>\n",
       "    <tr>\n",
       "      <th>1</th>\n",
       "      <td>施錠した</td>\n",
       "      <td>166</td>\n",
       "    </tr>\n",
       "  </tbody>\n",
       "</table>\n",
       "</div>"
      ],
      "text/plain": [
       "   施錠関係  count\n",
       "0  施錠せず    305\n",
       "1  施錠した    166"
      ]
     },
     "execution_count": 28,
     "metadata": {},
     "output_type": "execute_result"
    }
   ],
   "source": [
    "# create a new variable with hourly counts\n",
    "rock = kashiwa['施錠関係'].value_counts().reset_index()\n",
    "rock"
   ]
  },
  {
   "cell_type": "code",
   "execution_count": 29,
   "metadata": {},
   "outputs": [
    {
     "data": {
      "text/html": [
       "<div>\n",
       "<style scoped>\n",
       "    .dataframe tbody tr th:only-of-type {\n",
       "        vertical-align: middle;\n",
       "    }\n",
       "\n",
       "    .dataframe tbody tr th {\n",
       "        vertical-align: top;\n",
       "    }\n",
       "\n",
       "    .dataframe thead th {\n",
       "        text-align: right;\n",
       "    }\n",
       "</style>\n",
       "<table border=\"1\" class=\"dataframe\">\n",
       "  <thead>\n",
       "    <tr style=\"text-align: right;\">\n",
       "      <th></th>\n",
       "      <th>施錠関係</th>\n",
       "      <th>件数</th>\n",
       "    </tr>\n",
       "  </thead>\n",
       "  <tbody>\n",
       "    <tr>\n",
       "      <th>0</th>\n",
       "      <td>施錠せず</td>\n",
       "      <td>305</td>\n",
       "    </tr>\n",
       "    <tr>\n",
       "      <th>1</th>\n",
       "      <td>施錠した</td>\n",
       "      <td>166</td>\n",
       "    </tr>\n",
       "  </tbody>\n",
       "</table>\n",
       "</div>"
      ],
      "text/plain": [
       "   施錠関係   件数\n",
       "0  施錠せず  305\n",
       "1  施錠した  166"
      ]
     },
     "execution_count": 29,
     "metadata": {},
     "output_type": "execute_result"
    }
   ],
   "source": [
    "# fix headers\n",
    "rock.columns = ['施錠関係','件数']\n",
    "rock"
   ]
  },
  {
   "cell_type": "code",
   "execution_count": 32,
   "metadata": {},
   "outputs": [
    {
     "data": {
      "application/vnd.plotly.v1+json": {
       "config": {
        "plotlyServerURL": "https://plot.ly"
       },
       "data": [
        {
         "alignmentgroup": "True",
         "hovertemplate": "施錠関係=%{x}<br>件数=%{y}<extra></extra>",
         "legendgroup": "",
         "marker": {
          "color": "#636efa",
          "pattern": {
           "shape": ""
          }
         },
         "name": "",
         "offsetgroup": "",
         "orientation": "v",
         "showlegend": false,
         "textposition": "auto",
         "type": "bar",
         "x": [
          "施錠せず",
          "施錠した"
         ],
         "xaxis": "x",
         "y": [
          305,
          166
         ],
         "yaxis": "y"
        }
       ],
       "layout": {
        "barmode": "relative",
        "legend": {
         "tracegroupgap": 0
        },
        "margin": {
         "t": 60
        },
        "template": {
         "data": {
          "bar": [
           {
            "error_x": {
             "color": "#2a3f5f"
            },
            "error_y": {
             "color": "#2a3f5f"
            },
            "marker": {
             "line": {
              "color": "#E5ECF6",
              "width": 0.5
             },
             "pattern": {
              "fillmode": "overlay",
              "size": 10,
              "solidity": 0.2
             }
            },
            "type": "bar"
           }
          ],
          "barpolar": [
           {
            "marker": {
             "line": {
              "color": "#E5ECF6",
              "width": 0.5
             },
             "pattern": {
              "fillmode": "overlay",
              "size": 10,
              "solidity": 0.2
             }
            },
            "type": "barpolar"
           }
          ],
          "carpet": [
           {
            "aaxis": {
             "endlinecolor": "#2a3f5f",
             "gridcolor": "white",
             "linecolor": "white",
             "minorgridcolor": "white",
             "startlinecolor": "#2a3f5f"
            },
            "baxis": {
             "endlinecolor": "#2a3f5f",
             "gridcolor": "white",
             "linecolor": "white",
             "minorgridcolor": "white",
             "startlinecolor": "#2a3f5f"
            },
            "type": "carpet"
           }
          ],
          "choropleth": [
           {
            "colorbar": {
             "outlinewidth": 0,
             "ticks": ""
            },
            "type": "choropleth"
           }
          ],
          "contour": [
           {
            "colorbar": {
             "outlinewidth": 0,
             "ticks": ""
            },
            "colorscale": [
             [
              0,
              "#0d0887"
             ],
             [
              0.1111111111111111,
              "#46039f"
             ],
             [
              0.2222222222222222,
              "#7201a8"
             ],
             [
              0.3333333333333333,
              "#9c179e"
             ],
             [
              0.4444444444444444,
              "#bd3786"
             ],
             [
              0.5555555555555556,
              "#d8576b"
             ],
             [
              0.6666666666666666,
              "#ed7953"
             ],
             [
              0.7777777777777778,
              "#fb9f3a"
             ],
             [
              0.8888888888888888,
              "#fdca26"
             ],
             [
              1,
              "#f0f921"
             ]
            ],
            "type": "contour"
           }
          ],
          "contourcarpet": [
           {
            "colorbar": {
             "outlinewidth": 0,
             "ticks": ""
            },
            "type": "contourcarpet"
           }
          ],
          "heatmap": [
           {
            "colorbar": {
             "outlinewidth": 0,
             "ticks": ""
            },
            "colorscale": [
             [
              0,
              "#0d0887"
             ],
             [
              0.1111111111111111,
              "#46039f"
             ],
             [
              0.2222222222222222,
              "#7201a8"
             ],
             [
              0.3333333333333333,
              "#9c179e"
             ],
             [
              0.4444444444444444,
              "#bd3786"
             ],
             [
              0.5555555555555556,
              "#d8576b"
             ],
             [
              0.6666666666666666,
              "#ed7953"
             ],
             [
              0.7777777777777778,
              "#fb9f3a"
             ],
             [
              0.8888888888888888,
              "#fdca26"
             ],
             [
              1,
              "#f0f921"
             ]
            ],
            "type": "heatmap"
           }
          ],
          "heatmapgl": [
           {
            "colorbar": {
             "outlinewidth": 0,
             "ticks": ""
            },
            "colorscale": [
             [
              0,
              "#0d0887"
             ],
             [
              0.1111111111111111,
              "#46039f"
             ],
             [
              0.2222222222222222,
              "#7201a8"
             ],
             [
              0.3333333333333333,
              "#9c179e"
             ],
             [
              0.4444444444444444,
              "#bd3786"
             ],
             [
              0.5555555555555556,
              "#d8576b"
             ],
             [
              0.6666666666666666,
              "#ed7953"
             ],
             [
              0.7777777777777778,
              "#fb9f3a"
             ],
             [
              0.8888888888888888,
              "#fdca26"
             ],
             [
              1,
              "#f0f921"
             ]
            ],
            "type": "heatmapgl"
           }
          ],
          "histogram": [
           {
            "marker": {
             "pattern": {
              "fillmode": "overlay",
              "size": 10,
              "solidity": 0.2
             }
            },
            "type": "histogram"
           }
          ],
          "histogram2d": [
           {
            "colorbar": {
             "outlinewidth": 0,
             "ticks": ""
            },
            "colorscale": [
             [
              0,
              "#0d0887"
             ],
             [
              0.1111111111111111,
              "#46039f"
             ],
             [
              0.2222222222222222,
              "#7201a8"
             ],
             [
              0.3333333333333333,
              "#9c179e"
             ],
             [
              0.4444444444444444,
              "#bd3786"
             ],
             [
              0.5555555555555556,
              "#d8576b"
             ],
             [
              0.6666666666666666,
              "#ed7953"
             ],
             [
              0.7777777777777778,
              "#fb9f3a"
             ],
             [
              0.8888888888888888,
              "#fdca26"
             ],
             [
              1,
              "#f0f921"
             ]
            ],
            "type": "histogram2d"
           }
          ],
          "histogram2dcontour": [
           {
            "colorbar": {
             "outlinewidth": 0,
             "ticks": ""
            },
            "colorscale": [
             [
              0,
              "#0d0887"
             ],
             [
              0.1111111111111111,
              "#46039f"
             ],
             [
              0.2222222222222222,
              "#7201a8"
             ],
             [
              0.3333333333333333,
              "#9c179e"
             ],
             [
              0.4444444444444444,
              "#bd3786"
             ],
             [
              0.5555555555555556,
              "#d8576b"
             ],
             [
              0.6666666666666666,
              "#ed7953"
             ],
             [
              0.7777777777777778,
              "#fb9f3a"
             ],
             [
              0.8888888888888888,
              "#fdca26"
             ],
             [
              1,
              "#f0f921"
             ]
            ],
            "type": "histogram2dcontour"
           }
          ],
          "mesh3d": [
           {
            "colorbar": {
             "outlinewidth": 0,
             "ticks": ""
            },
            "type": "mesh3d"
           }
          ],
          "parcoords": [
           {
            "line": {
             "colorbar": {
              "outlinewidth": 0,
              "ticks": ""
             }
            },
            "type": "parcoords"
           }
          ],
          "pie": [
           {
            "automargin": true,
            "type": "pie"
           }
          ],
          "scatter": [
           {
            "fillpattern": {
             "fillmode": "overlay",
             "size": 10,
             "solidity": 0.2
            },
            "type": "scatter"
           }
          ],
          "scatter3d": [
           {
            "line": {
             "colorbar": {
              "outlinewidth": 0,
              "ticks": ""
             }
            },
            "marker": {
             "colorbar": {
              "outlinewidth": 0,
              "ticks": ""
             }
            },
            "type": "scatter3d"
           }
          ],
          "scattercarpet": [
           {
            "marker": {
             "colorbar": {
              "outlinewidth": 0,
              "ticks": ""
             }
            },
            "type": "scattercarpet"
           }
          ],
          "scattergeo": [
           {
            "marker": {
             "colorbar": {
              "outlinewidth": 0,
              "ticks": ""
             }
            },
            "type": "scattergeo"
           }
          ],
          "scattergl": [
           {
            "marker": {
             "colorbar": {
              "outlinewidth": 0,
              "ticks": ""
             }
            },
            "type": "scattergl"
           }
          ],
          "scattermapbox": [
           {
            "marker": {
             "colorbar": {
              "outlinewidth": 0,
              "ticks": ""
             }
            },
            "type": "scattermapbox"
           }
          ],
          "scatterpolar": [
           {
            "marker": {
             "colorbar": {
              "outlinewidth": 0,
              "ticks": ""
             }
            },
            "type": "scatterpolar"
           }
          ],
          "scatterpolargl": [
           {
            "marker": {
             "colorbar": {
              "outlinewidth": 0,
              "ticks": ""
             }
            },
            "type": "scatterpolargl"
           }
          ],
          "scatterternary": [
           {
            "marker": {
             "colorbar": {
              "outlinewidth": 0,
              "ticks": ""
             }
            },
            "type": "scatterternary"
           }
          ],
          "surface": [
           {
            "colorbar": {
             "outlinewidth": 0,
             "ticks": ""
            },
            "colorscale": [
             [
              0,
              "#0d0887"
             ],
             [
              0.1111111111111111,
              "#46039f"
             ],
             [
              0.2222222222222222,
              "#7201a8"
             ],
             [
              0.3333333333333333,
              "#9c179e"
             ],
             [
              0.4444444444444444,
              "#bd3786"
             ],
             [
              0.5555555555555556,
              "#d8576b"
             ],
             [
              0.6666666666666666,
              "#ed7953"
             ],
             [
              0.7777777777777778,
              "#fb9f3a"
             ],
             [
              0.8888888888888888,
              "#fdca26"
             ],
             [
              1,
              "#f0f921"
             ]
            ],
            "type": "surface"
           }
          ],
          "table": [
           {
            "cells": {
             "fill": {
              "color": "#EBF0F8"
             },
             "line": {
              "color": "white"
             }
            },
            "header": {
             "fill": {
              "color": "#C8D4E3"
             },
             "line": {
              "color": "white"
             }
            },
            "type": "table"
           }
          ]
         },
         "layout": {
          "annotationdefaults": {
           "arrowcolor": "#2a3f5f",
           "arrowhead": 0,
           "arrowwidth": 1
          },
          "autotypenumbers": "strict",
          "coloraxis": {
           "colorbar": {
            "outlinewidth": 0,
            "ticks": ""
           }
          },
          "colorscale": {
           "diverging": [
            [
             0,
             "#8e0152"
            ],
            [
             0.1,
             "#c51b7d"
            ],
            [
             0.2,
             "#de77ae"
            ],
            [
             0.3,
             "#f1b6da"
            ],
            [
             0.4,
             "#fde0ef"
            ],
            [
             0.5,
             "#f7f7f7"
            ],
            [
             0.6,
             "#e6f5d0"
            ],
            [
             0.7,
             "#b8e186"
            ],
            [
             0.8,
             "#7fbc41"
            ],
            [
             0.9,
             "#4d9221"
            ],
            [
             1,
             "#276419"
            ]
           ],
           "sequential": [
            [
             0,
             "#0d0887"
            ],
            [
             0.1111111111111111,
             "#46039f"
            ],
            [
             0.2222222222222222,
             "#7201a8"
            ],
            [
             0.3333333333333333,
             "#9c179e"
            ],
            [
             0.4444444444444444,
             "#bd3786"
            ],
            [
             0.5555555555555556,
             "#d8576b"
            ],
            [
             0.6666666666666666,
             "#ed7953"
            ],
            [
             0.7777777777777778,
             "#fb9f3a"
            ],
            [
             0.8888888888888888,
             "#fdca26"
            ],
            [
             1,
             "#f0f921"
            ]
           ],
           "sequentialminus": [
            [
             0,
             "#0d0887"
            ],
            [
             0.1111111111111111,
             "#46039f"
            ],
            [
             0.2222222222222222,
             "#7201a8"
            ],
            [
             0.3333333333333333,
             "#9c179e"
            ],
            [
             0.4444444444444444,
             "#bd3786"
            ],
            [
             0.5555555555555556,
             "#d8576b"
            ],
            [
             0.6666666666666666,
             "#ed7953"
            ],
            [
             0.7777777777777778,
             "#fb9f3a"
            ],
            [
             0.8888888888888888,
             "#fdca26"
            ],
            [
             1,
             "#f0f921"
            ]
           ]
          },
          "colorway": [
           "#636efa",
           "#EF553B",
           "#00cc96",
           "#ab63fa",
           "#FFA15A",
           "#19d3f3",
           "#FF6692",
           "#B6E880",
           "#FF97FF",
           "#FECB52"
          ],
          "font": {
           "color": "#2a3f5f"
          },
          "geo": {
           "bgcolor": "white",
           "lakecolor": "white",
           "landcolor": "#E5ECF6",
           "showlakes": true,
           "showland": true,
           "subunitcolor": "white"
          },
          "hoverlabel": {
           "align": "left"
          },
          "hovermode": "closest",
          "mapbox": {
           "style": "light"
          },
          "paper_bgcolor": "white",
          "plot_bgcolor": "#E5ECF6",
          "polar": {
           "angularaxis": {
            "gridcolor": "white",
            "linecolor": "white",
            "ticks": ""
           },
           "bgcolor": "#E5ECF6",
           "radialaxis": {
            "gridcolor": "white",
            "linecolor": "white",
            "ticks": ""
           }
          },
          "scene": {
           "xaxis": {
            "backgroundcolor": "#E5ECF6",
            "gridcolor": "white",
            "gridwidth": 2,
            "linecolor": "white",
            "showbackground": true,
            "ticks": "",
            "zerolinecolor": "white"
           },
           "yaxis": {
            "backgroundcolor": "#E5ECF6",
            "gridcolor": "white",
            "gridwidth": 2,
            "linecolor": "white",
            "showbackground": true,
            "ticks": "",
            "zerolinecolor": "white"
           },
           "zaxis": {
            "backgroundcolor": "#E5ECF6",
            "gridcolor": "white",
            "gridwidth": 2,
            "linecolor": "white",
            "showbackground": true,
            "ticks": "",
            "zerolinecolor": "white"
           }
          },
          "shapedefaults": {
           "line": {
            "color": "#2a3f5f"
           }
          },
          "ternary": {
           "aaxis": {
            "gridcolor": "white",
            "linecolor": "white",
            "ticks": ""
           },
           "baxis": {
            "gridcolor": "white",
            "linecolor": "white",
            "ticks": ""
           },
           "bgcolor": "#E5ECF6",
           "caxis": {
            "gridcolor": "white",
            "linecolor": "white",
            "ticks": ""
           }
          },
          "title": {
           "x": 0.05
          },
          "xaxis": {
           "automargin": true,
           "gridcolor": "white",
           "linecolor": "white",
           "ticks": "",
           "title": {
            "standoff": 15
           },
           "zerolinecolor": "white",
           "zerolinewidth": 2
          },
          "yaxis": {
           "automargin": true,
           "gridcolor": "white",
           "linecolor": "white",
           "ticks": "",
           "title": {
            "standoff": 15
           },
           "zerolinecolor": "white",
           "zerolinewidth": 2
          }
         }
        },
        "xaxis": {
         "anchor": "y",
         "domain": [
          0,
          1
         ],
         "title": {
          "text": "施錠関係"
         }
        },
        "yaxis": {
         "anchor": "x",
         "domain": [
          0,
          1
         ],
         "title": {
          "text": "件数"
         }
        }
       }
      }
     },
     "metadata": {},
     "output_type": "display_data"
    }
   ],
   "source": [
    "fig = px.bar(rock,x='施錠関係',y='件数')\n",
    "fig.show()"
   ]
  },
  {
   "cell_type": "code",
   "execution_count": null,
   "metadata": {},
   "outputs": [],
   "source": []
  },
  {
   "attachments": {},
   "cell_type": "markdown",
   "metadata": {
    "slideshow": {
     "slide_type": "slide"
    }
   },
   "source": [
    "## その他のチャート（上級編）\n",
    "\n",
    "複数の変数でチャートを作ると、より深い分析ができる。"
   ]
  },
  {
   "cell_type": "code",
   "execution_count": 33,
   "metadata": {
    "slideshow": {
     "slide_type": "slide"
    }
   },
   "outputs": [
    {
     "data": {
      "application/vnd.plotly.v1+json": {
       "config": {
        "plotlyServerURL": "https://plot.ly"
       },
       "data": [
        {
         "alignmentgroup": "True",
         "hovertemplate": "被害者の職業=その他<br>発生時（始期）=%{x}<br>count=%{y}<extra></extra>",
         "legendgroup": "その他",
         "marker": {
          "color": "rgb(76,114,176)",
          "line": {
           "width": 0
          },
          "pattern": {
           "shape": ""
          }
         },
         "name": "その他",
         "offsetgroup": "その他",
         "orientation": "v",
         "showlegend": true,
         "textposition": "auto",
         "type": "bar",
         "x": [
          "00",
          "13",
          "22",
          "08",
          "16",
          "08",
          "17",
          "23",
          "04",
          "不明",
          "不明",
          "09",
          "17",
          "11",
          "19",
          "10",
          "21",
          "21",
          "20",
          "08",
          "16",
          "07",
          "20",
          "13",
          "13",
          "13",
          "06",
          "20",
          "23",
          "17",
          "16",
          "00",
          "不明",
          "22",
          "05",
          "12",
          "22",
          "15",
          "16",
          "12",
          "19",
          "15",
          "17",
          "21",
          "21",
          "12",
          "20",
          "14",
          "20",
          "12",
          "15",
          "00",
          "19",
          "20",
          "04",
          "14",
          "06",
          "18",
          "19",
          "06",
          "07",
          "19",
          "09",
          "11",
          "08",
          "12",
          "18",
          "17",
          "07",
          "19",
          "12",
          "13",
          "21",
          "21",
          "16",
          "18",
          "12",
          "17",
          "15",
          "20",
          "07",
          "12",
          "01",
          "06",
          "19",
          "18",
          "16",
          "19",
          "18",
          "06",
          "08",
          "19",
          "23",
          "23",
          "10",
          "18",
          "14",
          "18",
          "09",
          "23",
          "08",
          "12",
          "18",
          "11",
          "17",
          "12",
          "16",
          "14",
          "11",
          "08",
          "08",
          "18",
          "19",
          "20",
          "12",
          "15",
          "14",
          "11",
          "11",
          "22",
          "11",
          "19",
          "18",
          "16",
          "13",
          "10",
          "12",
          "17",
          "20",
          "15",
          "12",
          "20",
          "08",
          "18",
          "12",
          "09",
          "19",
          "14",
          "20",
          "15",
          "12",
          "18",
          "16",
          "10",
          "11",
          "10",
          "16",
          "23",
          "16",
          "14",
          "16",
          "09",
          "19",
          "22",
          "12",
          "08",
          "09",
          "09",
          "13",
          "05",
          "06",
          "21",
          "00",
          "06",
          "12",
          "10",
          "19",
          "20",
          "07",
          "20",
          "10",
          "10",
          "09",
          "09",
          "09",
          "12",
          "20",
          "19",
          "18",
          "00",
          "14",
          "18",
          "10",
          "07",
          "18",
          "18",
          "09",
          "08",
          "08",
          "20",
          "15",
          "20",
          "19",
          "17",
          "19",
          "15",
          "10",
          "10",
          "17",
          "18",
          "18",
          "05",
          "06",
          "18",
          "17",
          "18",
          "17",
          "00",
          "12",
          "18",
          "06",
          "15",
          "20",
          "12",
          "16",
          "17",
          "22",
          "11",
          "17",
          "18",
          "08",
          "20",
          "13",
          "12",
          "13",
          "19",
          "17",
          "15",
          "16",
          "22",
          "00",
          "17",
          "12",
          "20",
          "07",
          "不明",
          "16",
          "20",
          "13",
          "18",
          "21",
          "08",
          "19",
          "14",
          "18",
          "20",
          "20",
          "19",
          "11",
          "18",
          "08",
          "16",
          "08",
          "19",
          "18",
          "18",
          "08"
         ],
         "xaxis": "x",
         "y": [
          1,
          1,
          1,
          1,
          1,
          1,
          1,
          1,
          1,
          1,
          1,
          1,
          1,
          1,
          1,
          1,
          1,
          1,
          1,
          1,
          1,
          1,
          1,
          1,
          1,
          1,
          1,
          1,
          1,
          1,
          1,
          1,
          1,
          1,
          1,
          1,
          1,
          1,
          1,
          1,
          1,
          1,
          1,
          1,
          1,
          1,
          1,
          1,
          1,
          1,
          1,
          1,
          1,
          1,
          1,
          1,
          1,
          1,
          1,
          1,
          1,
          1,
          1,
          1,
          1,
          1,
          1,
          1,
          1,
          1,
          1,
          1,
          1,
          1,
          1,
          1,
          1,
          1,
          1,
          1,
          1,
          1,
          1,
          1,
          1,
          1,
          1,
          1,
          1,
          1,
          1,
          1,
          1,
          1,
          1,
          1,
          1,
          1,
          1,
          1,
          1,
          1,
          1,
          1,
          1,
          1,
          1,
          1,
          1,
          1,
          1,
          1,
          1,
          1,
          1,
          1,
          1,
          1,
          1,
          1,
          1,
          1,
          1,
          1,
          1,
          1,
          1,
          1,
          1,
          1,
          1,
          1,
          1,
          1,
          1,
          1,
          1,
          1,
          1,
          1,
          1,
          1,
          1,
          1,
          1,
          1,
          1,
          1,
          1,
          1,
          1,
          1,
          1,
          1,
          1,
          1,
          1,
          1,
          1,
          1,
          1,
          1,
          1,
          1,
          1,
          1,
          1,
          1,
          1,
          1,
          1,
          1,
          1,
          1,
          1,
          1,
          1,
          1,
          1,
          1,
          1,
          1,
          1,
          1,
          1,
          1,
          1,
          1,
          1,
          1,
          1,
          1,
          1,
          1,
          1,
          1,
          1,
          1,
          1,
          1,
          1,
          1,
          1,
          1,
          1,
          1,
          1,
          1,
          1,
          1,
          1,
          1,
          1,
          1,
          1,
          1,
          1,
          1,
          1,
          1,
          1,
          1,
          1,
          1,
          1,
          1,
          1,
          1,
          1,
          1,
          1,
          1,
          1,
          1,
          1,
          1,
          1,
          1,
          1,
          1,
          1,
          1,
          1,
          1,
          1,
          1,
          1,
          1,
          1,
          1,
          1,
          1,
          1,
          1,
          1,
          1,
          1
         ],
         "yaxis": "y"
        },
        {
         "alignmentgroup": "True",
         "hovertemplate": "被害者の職業=中学生<br>発生時（始期）=%{x}<br>count=%{y}<extra></extra>",
         "legendgroup": "中学生",
         "marker": {
          "color": "rgb(221,132,82)",
          "line": {
           "width": 0
          },
          "pattern": {
           "shape": ""
          }
         },
         "name": "中学生",
         "offsetgroup": "中学生",
         "orientation": "v",
         "showlegend": true,
         "textposition": "auto",
         "type": "bar",
         "x": [
          "22",
          "18",
          "21",
          "19",
          "15",
          "13",
          "21",
          "15",
          "18",
          "14",
          "19",
          "02",
          "08",
          "13",
          "19",
          "11",
          "16",
          "13",
          "18",
          "10",
          "18",
          "06",
          "09",
          "20",
          "08",
          "11",
          "18",
          "21",
          "10",
          "18",
          "18",
          "21",
          "19",
          "13",
          "07",
          "16",
          "10",
          "17",
          "13",
          "06",
          "21",
          "14",
          "18",
          "08",
          "15",
          "20",
          "23",
          "19",
          "18",
          "18",
          "12"
         ],
         "xaxis": "x",
         "y": [
          1,
          1,
          1,
          1,
          1,
          1,
          1,
          1,
          1,
          1,
          1,
          1,
          1,
          1,
          1,
          1,
          1,
          1,
          1,
          1,
          1,
          1,
          1,
          1,
          1,
          1,
          1,
          1,
          1,
          1,
          1,
          1,
          1,
          1,
          1,
          1,
          1,
          1,
          1,
          1,
          1,
          1,
          1,
          1,
          1,
          1,
          1,
          1,
          1,
          1,
          1
         ],
         "yaxis": "y"
        },
        {
         "alignmentgroup": "True",
         "hovertemplate": "被害者の職業=小学生<br>発生時（始期）=%{x}<br>count=%{y}<extra></extra>",
         "legendgroup": "小学生",
         "marker": {
          "color": "rgb(85,168,104)",
          "line": {
           "width": 0
          },
          "pattern": {
           "shape": ""
          }
         },
         "name": "小学生",
         "offsetgroup": "小学生",
         "orientation": "v",
         "showlegend": true,
         "textposition": "auto",
         "type": "bar",
         "x": [
          "15",
          "17",
          "08",
          "19",
          "08",
          "19",
          "11",
          "14",
          "15",
          "16",
          "17",
          "13",
          "15",
          "14",
          "17",
          "08",
          "15",
          "17",
          "15",
          "21",
          "19",
          "11",
          "19",
          "16"
         ],
         "xaxis": "x",
         "y": [
          1,
          1,
          1,
          1,
          1,
          1,
          1,
          1,
          1,
          1,
          1,
          1,
          1,
          1,
          1,
          1,
          1,
          1,
          1,
          1,
          1,
          1,
          1,
          1
         ],
         "yaxis": "y"
        },
        {
         "alignmentgroup": "True",
         "hovertemplate": "被害者の職業=高校生<br>発生時（始期）=%{x}<br>count=%{y}<extra></extra>",
         "legendgroup": "高校生",
         "marker": {
          "color": "rgb(196,78,82)",
          "line": {
           "width": 0
          },
          "pattern": {
           "shape": ""
          }
         },
         "name": "高校生",
         "offsetgroup": "高校生",
         "orientation": "v",
         "showlegend": true,
         "textposition": "auto",
         "type": "bar",
         "x": [
          "21",
          "07",
          "20",
          "07",
          "07",
          "23",
          "08",
          "08",
          "06",
          "07",
          "17",
          "17",
          "15",
          "18",
          "18",
          "08",
          "07",
          "09",
          "16",
          "14",
          "15",
          "08",
          "07",
          "17",
          "07",
          "21",
          "19",
          "14",
          "14",
          "13",
          "18",
          "16",
          "11",
          "18",
          "13",
          "21",
          "11",
          "17",
          "16",
          "20",
          "13",
          "08",
          "13",
          "16",
          "11",
          "14",
          "00",
          "13",
          "13",
          "11",
          "16",
          "17",
          "17",
          "20",
          "17",
          "08",
          "13",
          "20",
          "12",
          "16",
          "19",
          "08",
          "19",
          "07",
          "12",
          "16",
          "08",
          "20",
          "16",
          "20",
          "07",
          "08",
          "17",
          "19",
          "08",
          "18",
          "16",
          "19",
          "19",
          "16",
          "20",
          "16",
          "21",
          "12",
          "21",
          "07",
          "17",
          "09",
          "10"
         ],
         "xaxis": "x",
         "y": [
          1,
          1,
          1,
          1,
          1,
          1,
          1,
          1,
          1,
          1,
          1,
          1,
          1,
          1,
          1,
          1,
          1,
          1,
          1,
          1,
          1,
          1,
          1,
          1,
          1,
          1,
          1,
          1,
          1,
          1,
          1,
          1,
          1,
          1,
          1,
          1,
          1,
          1,
          1,
          1,
          1,
          1,
          1,
          1,
          1,
          1,
          1,
          1,
          1,
          1,
          1,
          1,
          1,
          1,
          1,
          1,
          1,
          1,
          1,
          1,
          1,
          1,
          1,
          1,
          1,
          1,
          1,
          1,
          1,
          1,
          1,
          1,
          1,
          1,
          1,
          1,
          1,
          1,
          1,
          1,
          1,
          1,
          1,
          1,
          1,
          1,
          1,
          1,
          1
         ],
         "yaxis": "y"
        },
        {
         "alignmentgroup": "True",
         "hovertemplate": "被害者の職業=大学生<br>発生時（始期）=%{x}<br>count=%{y}<extra></extra>",
         "legendgroup": "大学生",
         "marker": {
          "color": "rgb(129,114,179)",
          "line": {
           "width": 0
          },
          "pattern": {
           "shape": ""
          }
         },
         "name": "大学生",
         "offsetgroup": "大学生",
         "orientation": "v",
         "showlegend": true,
         "textposition": "auto",
         "type": "bar",
         "x": [
          "14",
          "17",
          "10",
          "18",
          "16",
          "07",
          "22",
          "14",
          "19",
          "16",
          "09",
          "19",
          "07",
          "15",
          "10",
          "08",
          "16",
          "22",
          "08",
          "13",
          "07",
          "10",
          "09",
          "12",
          "00",
          "12",
          "15",
          "不明",
          "09",
          "19",
          "17",
          "11",
          "16",
          "10",
          "08",
          "22",
          "15",
          "10",
          "16",
          "23",
          "07",
          "13",
          "09",
          "14",
          "18",
          "08"
         ],
         "xaxis": "x",
         "y": [
          1,
          1,
          1,
          1,
          1,
          1,
          1,
          1,
          1,
          1,
          1,
          1,
          1,
          1,
          1,
          1,
          1,
          1,
          1,
          1,
          1,
          1,
          1,
          1,
          1,
          1,
          1,
          1,
          1,
          1,
          1,
          1,
          1,
          1,
          1,
          1,
          1,
          1,
          1,
          1,
          1,
          1,
          1,
          1,
          1,
          1
         ],
         "yaxis": "y"
        },
        {
         "alignmentgroup": "True",
         "hovertemplate": "被害者の職業=法人・団体、被害者なし<br>発生時（始期）=%{x}<br>count=%{y}<extra></extra>",
         "legendgroup": "法人・団体、被害者なし",
         "marker": {
          "color": "rgb(147,120,96)",
          "line": {
           "width": 0
          },
          "pattern": {
           "shape": ""
          }
         },
         "name": "法人・団体、被害者なし",
         "offsetgroup": "法人・団体、被害者なし",
         "orientation": "v",
         "showlegend": true,
         "textposition": "auto",
         "type": "bar",
         "x": [
          "20",
          "不明",
          "07",
          "20"
         ],
         "xaxis": "x",
         "y": [
          1,
          1,
          1,
          1
         ],
         "yaxis": "y"
        }
       ],
       "layout": {
        "barmode": "relative",
        "legend": {
         "title": {
          "text": "被害者の職業"
         },
         "tracegroupgap": 0
        },
        "margin": {
         "t": 60
        },
        "template": {
         "data": {
          "bar": [
           {
            "error_x": {
             "color": "rgb(36,36,36)"
            },
            "error_y": {
             "color": "rgb(36,36,36)"
            },
            "marker": {
             "line": {
              "color": "rgb(234,234,242)",
              "width": 0.5
             },
             "pattern": {
              "fillmode": "overlay",
              "size": 10,
              "solidity": 0.2
             }
            },
            "type": "bar"
           }
          ],
          "barpolar": [
           {
            "marker": {
             "line": {
              "color": "rgb(234,234,242)",
              "width": 0.5
             },
             "pattern": {
              "fillmode": "overlay",
              "size": 10,
              "solidity": 0.2
             }
            },
            "type": "barpolar"
           }
          ],
          "carpet": [
           {
            "aaxis": {
             "endlinecolor": "rgb(36,36,36)",
             "gridcolor": "white",
             "linecolor": "white",
             "minorgridcolor": "white",
             "startlinecolor": "rgb(36,36,36)"
            },
            "baxis": {
             "endlinecolor": "rgb(36,36,36)",
             "gridcolor": "white",
             "linecolor": "white",
             "minorgridcolor": "white",
             "startlinecolor": "rgb(36,36,36)"
            },
            "type": "carpet"
           }
          ],
          "choropleth": [
           {
            "colorbar": {
             "outlinewidth": 0,
             "tickcolor": "rgb(36,36,36)",
             "ticklen": 8,
             "ticks": "outside",
             "tickwidth": 2
            },
            "type": "choropleth"
           }
          ],
          "contour": [
           {
            "colorbar": {
             "outlinewidth": 0,
             "tickcolor": "rgb(36,36,36)",
             "ticklen": 8,
             "ticks": "outside",
             "tickwidth": 2
            },
            "colorscale": [
             [
              0,
              "rgb(2,4,25)"
             ],
             [
              0.06274509803921569,
              "rgb(24,15,41)"
             ],
             [
              0.12549019607843137,
              "rgb(47,23,57)"
             ],
             [
              0.18823529411764706,
              "rgb(71,28,72)"
             ],
             [
              0.25098039215686274,
              "rgb(97,30,82)"
             ],
             [
              0.3137254901960784,
              "rgb(123,30,89)"
             ],
             [
              0.3764705882352941,
              "rgb(150,27,91)"
             ],
             [
              0.4392156862745098,
              "rgb(177,22,88)"
             ],
             [
              0.5019607843137255,
              "rgb(203,26,79)"
             ],
             [
              0.5647058823529412,
              "rgb(223,47,67)"
             ],
             [
              0.6274509803921569,
              "rgb(236,76,61)"
             ],
             [
              0.6901960784313725,
              "rgb(242,107,73)"
             ],
             [
              0.7529411764705882,
              "rgb(244,135,95)"
             ],
             [
              0.8156862745098039,
              "rgb(245,162,122)"
             ],
             [
              0.8784313725490196,
              "rgb(246,188,153)"
             ],
             [
              0.9411764705882353,
              "rgb(247,212,187)"
             ],
             [
              1,
              "rgb(250,234,220)"
             ]
            ],
            "type": "contour"
           }
          ],
          "contourcarpet": [
           {
            "colorbar": {
             "outlinewidth": 0,
             "tickcolor": "rgb(36,36,36)",
             "ticklen": 8,
             "ticks": "outside",
             "tickwidth": 2
            },
            "type": "contourcarpet"
           }
          ],
          "heatmap": [
           {
            "colorbar": {
             "outlinewidth": 0,
             "tickcolor": "rgb(36,36,36)",
             "ticklen": 8,
             "ticks": "outside",
             "tickwidth": 2
            },
            "colorscale": [
             [
              0,
              "rgb(2,4,25)"
             ],
             [
              0.06274509803921569,
              "rgb(24,15,41)"
             ],
             [
              0.12549019607843137,
              "rgb(47,23,57)"
             ],
             [
              0.18823529411764706,
              "rgb(71,28,72)"
             ],
             [
              0.25098039215686274,
              "rgb(97,30,82)"
             ],
             [
              0.3137254901960784,
              "rgb(123,30,89)"
             ],
             [
              0.3764705882352941,
              "rgb(150,27,91)"
             ],
             [
              0.4392156862745098,
              "rgb(177,22,88)"
             ],
             [
              0.5019607843137255,
              "rgb(203,26,79)"
             ],
             [
              0.5647058823529412,
              "rgb(223,47,67)"
             ],
             [
              0.6274509803921569,
              "rgb(236,76,61)"
             ],
             [
              0.6901960784313725,
              "rgb(242,107,73)"
             ],
             [
              0.7529411764705882,
              "rgb(244,135,95)"
             ],
             [
              0.8156862745098039,
              "rgb(245,162,122)"
             ],
             [
              0.8784313725490196,
              "rgb(246,188,153)"
             ],
             [
              0.9411764705882353,
              "rgb(247,212,187)"
             ],
             [
              1,
              "rgb(250,234,220)"
             ]
            ],
            "type": "heatmap"
           }
          ],
          "heatmapgl": [
           {
            "colorbar": {
             "outlinewidth": 0,
             "tickcolor": "rgb(36,36,36)",
             "ticklen": 8,
             "ticks": "outside",
             "tickwidth": 2
            },
            "colorscale": [
             [
              0,
              "rgb(2,4,25)"
             ],
             [
              0.06274509803921569,
              "rgb(24,15,41)"
             ],
             [
              0.12549019607843137,
              "rgb(47,23,57)"
             ],
             [
              0.18823529411764706,
              "rgb(71,28,72)"
             ],
             [
              0.25098039215686274,
              "rgb(97,30,82)"
             ],
             [
              0.3137254901960784,
              "rgb(123,30,89)"
             ],
             [
              0.3764705882352941,
              "rgb(150,27,91)"
             ],
             [
              0.4392156862745098,
              "rgb(177,22,88)"
             ],
             [
              0.5019607843137255,
              "rgb(203,26,79)"
             ],
             [
              0.5647058823529412,
              "rgb(223,47,67)"
             ],
             [
              0.6274509803921569,
              "rgb(236,76,61)"
             ],
             [
              0.6901960784313725,
              "rgb(242,107,73)"
             ],
             [
              0.7529411764705882,
              "rgb(244,135,95)"
             ],
             [
              0.8156862745098039,
              "rgb(245,162,122)"
             ],
             [
              0.8784313725490196,
              "rgb(246,188,153)"
             ],
             [
              0.9411764705882353,
              "rgb(247,212,187)"
             ],
             [
              1,
              "rgb(250,234,220)"
             ]
            ],
            "type": "heatmapgl"
           }
          ],
          "histogram": [
           {
            "marker": {
             "pattern": {
              "fillmode": "overlay",
              "size": 10,
              "solidity": 0.2
             }
            },
            "type": "histogram"
           }
          ],
          "histogram2d": [
           {
            "colorbar": {
             "outlinewidth": 0,
             "tickcolor": "rgb(36,36,36)",
             "ticklen": 8,
             "ticks": "outside",
             "tickwidth": 2
            },
            "colorscale": [
             [
              0,
              "rgb(2,4,25)"
             ],
             [
              0.06274509803921569,
              "rgb(24,15,41)"
             ],
             [
              0.12549019607843137,
              "rgb(47,23,57)"
             ],
             [
              0.18823529411764706,
              "rgb(71,28,72)"
             ],
             [
              0.25098039215686274,
              "rgb(97,30,82)"
             ],
             [
              0.3137254901960784,
              "rgb(123,30,89)"
             ],
             [
              0.3764705882352941,
              "rgb(150,27,91)"
             ],
             [
              0.4392156862745098,
              "rgb(177,22,88)"
             ],
             [
              0.5019607843137255,
              "rgb(203,26,79)"
             ],
             [
              0.5647058823529412,
              "rgb(223,47,67)"
             ],
             [
              0.6274509803921569,
              "rgb(236,76,61)"
             ],
             [
              0.6901960784313725,
              "rgb(242,107,73)"
             ],
             [
              0.7529411764705882,
              "rgb(244,135,95)"
             ],
             [
              0.8156862745098039,
              "rgb(245,162,122)"
             ],
             [
              0.8784313725490196,
              "rgb(246,188,153)"
             ],
             [
              0.9411764705882353,
              "rgb(247,212,187)"
             ],
             [
              1,
              "rgb(250,234,220)"
             ]
            ],
            "type": "histogram2d"
           }
          ],
          "histogram2dcontour": [
           {
            "colorbar": {
             "outlinewidth": 0,
             "tickcolor": "rgb(36,36,36)",
             "ticklen": 8,
             "ticks": "outside",
             "tickwidth": 2
            },
            "colorscale": [
             [
              0,
              "rgb(2,4,25)"
             ],
             [
              0.06274509803921569,
              "rgb(24,15,41)"
             ],
             [
              0.12549019607843137,
              "rgb(47,23,57)"
             ],
             [
              0.18823529411764706,
              "rgb(71,28,72)"
             ],
             [
              0.25098039215686274,
              "rgb(97,30,82)"
             ],
             [
              0.3137254901960784,
              "rgb(123,30,89)"
             ],
             [
              0.3764705882352941,
              "rgb(150,27,91)"
             ],
             [
              0.4392156862745098,
              "rgb(177,22,88)"
             ],
             [
              0.5019607843137255,
              "rgb(203,26,79)"
             ],
             [
              0.5647058823529412,
              "rgb(223,47,67)"
             ],
             [
              0.6274509803921569,
              "rgb(236,76,61)"
             ],
             [
              0.6901960784313725,
              "rgb(242,107,73)"
             ],
             [
              0.7529411764705882,
              "rgb(244,135,95)"
             ],
             [
              0.8156862745098039,
              "rgb(245,162,122)"
             ],
             [
              0.8784313725490196,
              "rgb(246,188,153)"
             ],
             [
              0.9411764705882353,
              "rgb(247,212,187)"
             ],
             [
              1,
              "rgb(250,234,220)"
             ]
            ],
            "type": "histogram2dcontour"
           }
          ],
          "mesh3d": [
           {
            "colorbar": {
             "outlinewidth": 0,
             "tickcolor": "rgb(36,36,36)",
             "ticklen": 8,
             "ticks": "outside",
             "tickwidth": 2
            },
            "type": "mesh3d"
           }
          ],
          "parcoords": [
           {
            "line": {
             "colorbar": {
              "outlinewidth": 0,
              "tickcolor": "rgb(36,36,36)",
              "ticklen": 8,
              "ticks": "outside",
              "tickwidth": 2
             }
            },
            "type": "parcoords"
           }
          ],
          "pie": [
           {
            "automargin": true,
            "type": "pie"
           }
          ],
          "scatter": [
           {
            "fillpattern": {
             "fillmode": "overlay",
             "size": 10,
             "solidity": 0.2
            },
            "type": "scatter"
           }
          ],
          "scatter3d": [
           {
            "line": {
             "colorbar": {
              "outlinewidth": 0,
              "tickcolor": "rgb(36,36,36)",
              "ticklen": 8,
              "ticks": "outside",
              "tickwidth": 2
             }
            },
            "marker": {
             "colorbar": {
              "outlinewidth": 0,
              "tickcolor": "rgb(36,36,36)",
              "ticklen": 8,
              "ticks": "outside",
              "tickwidth": 2
             }
            },
            "type": "scatter3d"
           }
          ],
          "scattercarpet": [
           {
            "marker": {
             "colorbar": {
              "outlinewidth": 0,
              "tickcolor": "rgb(36,36,36)",
              "ticklen": 8,
              "ticks": "outside",
              "tickwidth": 2
             }
            },
            "type": "scattercarpet"
           }
          ],
          "scattergeo": [
           {
            "marker": {
             "colorbar": {
              "outlinewidth": 0,
              "tickcolor": "rgb(36,36,36)",
              "ticklen": 8,
              "ticks": "outside",
              "tickwidth": 2
             }
            },
            "type": "scattergeo"
           }
          ],
          "scattergl": [
           {
            "marker": {
             "colorbar": {
              "outlinewidth": 0,
              "tickcolor": "rgb(36,36,36)",
              "ticklen": 8,
              "ticks": "outside",
              "tickwidth": 2
             }
            },
            "type": "scattergl"
           }
          ],
          "scattermapbox": [
           {
            "marker": {
             "colorbar": {
              "outlinewidth": 0,
              "tickcolor": "rgb(36,36,36)",
              "ticklen": 8,
              "ticks": "outside",
              "tickwidth": 2
             }
            },
            "type": "scattermapbox"
           }
          ],
          "scatterpolar": [
           {
            "marker": {
             "colorbar": {
              "outlinewidth": 0,
              "tickcolor": "rgb(36,36,36)",
              "ticklen": 8,
              "ticks": "outside",
              "tickwidth": 2
             }
            },
            "type": "scatterpolar"
           }
          ],
          "scatterpolargl": [
           {
            "marker": {
             "colorbar": {
              "outlinewidth": 0,
              "tickcolor": "rgb(36,36,36)",
              "ticklen": 8,
              "ticks": "outside",
              "tickwidth": 2
             }
            },
            "type": "scatterpolargl"
           }
          ],
          "scatterternary": [
           {
            "marker": {
             "colorbar": {
              "outlinewidth": 0,
              "tickcolor": "rgb(36,36,36)",
              "ticklen": 8,
              "ticks": "outside",
              "tickwidth": 2
             }
            },
            "type": "scatterternary"
           }
          ],
          "surface": [
           {
            "colorbar": {
             "outlinewidth": 0,
             "tickcolor": "rgb(36,36,36)",
             "ticklen": 8,
             "ticks": "outside",
             "tickwidth": 2
            },
            "colorscale": [
             [
              0,
              "rgb(2,4,25)"
             ],
             [
              0.06274509803921569,
              "rgb(24,15,41)"
             ],
             [
              0.12549019607843137,
              "rgb(47,23,57)"
             ],
             [
              0.18823529411764706,
              "rgb(71,28,72)"
             ],
             [
              0.25098039215686274,
              "rgb(97,30,82)"
             ],
             [
              0.3137254901960784,
              "rgb(123,30,89)"
             ],
             [
              0.3764705882352941,
              "rgb(150,27,91)"
             ],
             [
              0.4392156862745098,
              "rgb(177,22,88)"
             ],
             [
              0.5019607843137255,
              "rgb(203,26,79)"
             ],
             [
              0.5647058823529412,
              "rgb(223,47,67)"
             ],
             [
              0.6274509803921569,
              "rgb(236,76,61)"
             ],
             [
              0.6901960784313725,
              "rgb(242,107,73)"
             ],
             [
              0.7529411764705882,
              "rgb(244,135,95)"
             ],
             [
              0.8156862745098039,
              "rgb(245,162,122)"
             ],
             [
              0.8784313725490196,
              "rgb(246,188,153)"
             ],
             [
              0.9411764705882353,
              "rgb(247,212,187)"
             ],
             [
              1,
              "rgb(250,234,220)"
             ]
            ],
            "type": "surface"
           }
          ],
          "table": [
           {
            "cells": {
             "fill": {
              "color": "rgb(231,231,240)"
             },
             "line": {
              "color": "white"
             }
            },
            "header": {
             "fill": {
              "color": "rgb(183,183,191)"
             },
             "line": {
              "color": "white"
             }
            },
            "type": "table"
           }
          ]
         },
         "layout": {
          "annotationdefaults": {
           "arrowcolor": "rgb(67,103,167)"
          },
          "autotypenumbers": "strict",
          "coloraxis": {
           "colorbar": {
            "outlinewidth": 0,
            "tickcolor": "rgb(36,36,36)",
            "ticklen": 8,
            "ticks": "outside",
            "tickwidth": 2
           }
          },
          "colorscale": {
           "sequential": [
            [
             0,
             "rgb(2,4,25)"
            ],
            [
             0.06274509803921569,
             "rgb(24,15,41)"
            ],
            [
             0.12549019607843137,
             "rgb(47,23,57)"
            ],
            [
             0.18823529411764706,
             "rgb(71,28,72)"
            ],
            [
             0.25098039215686274,
             "rgb(97,30,82)"
            ],
            [
             0.3137254901960784,
             "rgb(123,30,89)"
            ],
            [
             0.3764705882352941,
             "rgb(150,27,91)"
            ],
            [
             0.4392156862745098,
             "rgb(177,22,88)"
            ],
            [
             0.5019607843137255,
             "rgb(203,26,79)"
            ],
            [
             0.5647058823529412,
             "rgb(223,47,67)"
            ],
            [
             0.6274509803921569,
             "rgb(236,76,61)"
            ],
            [
             0.6901960784313725,
             "rgb(242,107,73)"
            ],
            [
             0.7529411764705882,
             "rgb(244,135,95)"
            ],
            [
             0.8156862745098039,
             "rgb(245,162,122)"
            ],
            [
             0.8784313725490196,
             "rgb(246,188,153)"
            ],
            [
             0.9411764705882353,
             "rgb(247,212,187)"
            ],
            [
             1,
             "rgb(250,234,220)"
            ]
           ],
           "sequentialminus": [
            [
             0,
             "rgb(2,4,25)"
            ],
            [
             0.06274509803921569,
             "rgb(24,15,41)"
            ],
            [
             0.12549019607843137,
             "rgb(47,23,57)"
            ],
            [
             0.18823529411764706,
             "rgb(71,28,72)"
            ],
            [
             0.25098039215686274,
             "rgb(97,30,82)"
            ],
            [
             0.3137254901960784,
             "rgb(123,30,89)"
            ],
            [
             0.3764705882352941,
             "rgb(150,27,91)"
            ],
            [
             0.4392156862745098,
             "rgb(177,22,88)"
            ],
            [
             0.5019607843137255,
             "rgb(203,26,79)"
            ],
            [
             0.5647058823529412,
             "rgb(223,47,67)"
            ],
            [
             0.6274509803921569,
             "rgb(236,76,61)"
            ],
            [
             0.6901960784313725,
             "rgb(242,107,73)"
            ],
            [
             0.7529411764705882,
             "rgb(244,135,95)"
            ],
            [
             0.8156862745098039,
             "rgb(245,162,122)"
            ],
            [
             0.8784313725490196,
             "rgb(246,188,153)"
            ],
            [
             0.9411764705882353,
             "rgb(247,212,187)"
            ],
            [
             1,
             "rgb(250,234,220)"
            ]
           ]
          },
          "colorway": [
           "rgb(76,114,176)",
           "rgb(221,132,82)",
           "rgb(85,168,104)",
           "rgb(196,78,82)",
           "rgb(129,114,179)",
           "rgb(147,120,96)",
           "rgb(218,139,195)",
           "rgb(140,140,140)",
           "rgb(204,185,116)",
           "rgb(100,181,205)"
          ],
          "font": {
           "color": "rgb(36,36,36)"
          },
          "geo": {
           "bgcolor": "white",
           "lakecolor": "white",
           "landcolor": "rgb(234,234,242)",
           "showlakes": true,
           "showland": true,
           "subunitcolor": "white"
          },
          "hoverlabel": {
           "align": "left"
          },
          "hovermode": "closest",
          "paper_bgcolor": "white",
          "plot_bgcolor": "rgb(234,234,242)",
          "polar": {
           "angularaxis": {
            "gridcolor": "white",
            "linecolor": "white",
            "showgrid": true,
            "ticks": ""
           },
           "bgcolor": "rgb(234,234,242)",
           "radialaxis": {
            "gridcolor": "white",
            "linecolor": "white",
            "showgrid": true,
            "ticks": ""
           }
          },
          "scene": {
           "xaxis": {
            "backgroundcolor": "rgb(234,234,242)",
            "gridcolor": "white",
            "gridwidth": 2,
            "linecolor": "white",
            "showbackground": true,
            "showgrid": true,
            "ticks": "",
            "zerolinecolor": "white"
           },
           "yaxis": {
            "backgroundcolor": "rgb(234,234,242)",
            "gridcolor": "white",
            "gridwidth": 2,
            "linecolor": "white",
            "showbackground": true,
            "showgrid": true,
            "ticks": "",
            "zerolinecolor": "white"
           },
           "zaxis": {
            "backgroundcolor": "rgb(234,234,242)",
            "gridcolor": "white",
            "gridwidth": 2,
            "linecolor": "white",
            "showbackground": true,
            "showgrid": true,
            "ticks": "",
            "zerolinecolor": "white"
           }
          },
          "shapedefaults": {
           "fillcolor": "rgb(67,103,167)",
           "line": {
            "width": 0
           },
           "opacity": 0.5
          },
          "ternary": {
           "aaxis": {
            "gridcolor": "white",
            "linecolor": "white",
            "showgrid": true,
            "ticks": ""
           },
           "baxis": {
            "gridcolor": "white",
            "linecolor": "white",
            "showgrid": true,
            "ticks": ""
           },
           "bgcolor": "rgb(234,234,242)",
           "caxis": {
            "gridcolor": "white",
            "linecolor": "white",
            "showgrid": true,
            "ticks": ""
           }
          },
          "xaxis": {
           "automargin": true,
           "gridcolor": "white",
           "linecolor": "white",
           "showgrid": true,
           "ticks": "",
           "title": {
            "standoff": 15
           },
           "zerolinecolor": "white"
          },
          "yaxis": {
           "automargin": true,
           "gridcolor": "white",
           "linecolor": "white",
           "showgrid": true,
           "ticks": "",
           "title": {
            "standoff": 15
           },
           "zerolinecolor": "white"
          }
         }
        },
        "xaxis": {
         "anchor": "y",
         "categoryorder": "category ascending",
         "domain": [
          0,
          1
         ],
         "title": {
          "text": "発生時（始期）"
         }
        },
        "yaxis": {
         "anchor": "x",
         "domain": [
          0,
          1
         ],
         "title": {
          "text": "count"
         }
        }
       }
      }
     },
     "metadata": {},
     "output_type": "display_data"
    }
   ],
   "source": [
    "fig = px.bar(kashiwa,\n",
    "            x='発生時（始期）',\n",
    "            color='被害者の職業',\n",
    "            template='seaborn')\n",
    "fig.update_traces(\n",
    "    marker_line_width=0\n",
    ")\n",
    "fig.update_xaxes(categoryorder='category ascending')\n",
    "fig.show()"
   ]
  },
  {
   "attachments": {},
   "cell_type": "markdown",
   "metadata": {
    "slideshow": {
     "slide_type": "slide"
    }
   },
   "source": [
    "↑上のチャートの凡例ののカテゴリーをダブルクリックするとどうなる？\n",
    "\n",
    "`barmode='group'`を足すと何がどのように変わる？"
   ]
  },
  {
   "cell_type": "code",
   "execution_count": 34,
   "metadata": {
    "slideshow": {
     "slide_type": "slide"
    }
   },
   "outputs": [
    {
     "data": {
      "application/vnd.plotly.v1+json": {
       "config": {
        "plotlyServerURL": "https://plot.ly"
       },
       "data": [
        {
         "alignmentgroup": "True",
         "hovertemplate": "被害者の職業=その他<br>発生時（始期）=%{x}<br>count=%{y}<extra></extra>",
         "legendgroup": "その他",
         "marker": {
          "color": "rgb(76,114,176)",
          "line": {
           "width": 0
          },
          "pattern": {
           "shape": ""
          }
         },
         "name": "その他",
         "offsetgroup": "その他",
         "orientation": "v",
         "showlegend": true,
         "textposition": "auto",
         "type": "bar",
         "x": [
          "00",
          "13",
          "22",
          "08",
          "16",
          "08",
          "17",
          "23",
          "04",
          "不明",
          "不明",
          "09",
          "17",
          "11",
          "19",
          "10",
          "21",
          "21",
          "20",
          "08",
          "16",
          "07",
          "20",
          "13",
          "13",
          "13",
          "06",
          "20",
          "23",
          "17",
          "16",
          "00",
          "不明",
          "22",
          "05",
          "12",
          "22",
          "15",
          "16",
          "12",
          "19",
          "15",
          "17",
          "21",
          "21",
          "12",
          "20",
          "14",
          "20",
          "12",
          "15",
          "00",
          "19",
          "20",
          "04",
          "14",
          "06",
          "18",
          "19",
          "06",
          "07",
          "19",
          "09",
          "11",
          "08",
          "12",
          "18",
          "17",
          "07",
          "19",
          "12",
          "13",
          "21",
          "21",
          "16",
          "18",
          "12",
          "17",
          "15",
          "20",
          "07",
          "12",
          "01",
          "06",
          "19",
          "18",
          "16",
          "19",
          "18",
          "06",
          "08",
          "19",
          "23",
          "23",
          "10",
          "18",
          "14",
          "18",
          "09",
          "23",
          "08",
          "12",
          "18",
          "11",
          "17",
          "12",
          "16",
          "14",
          "11",
          "08",
          "08",
          "18",
          "19",
          "20",
          "12",
          "15",
          "14",
          "11",
          "11",
          "22",
          "11",
          "19",
          "18",
          "16",
          "13",
          "10",
          "12",
          "17",
          "20",
          "15",
          "12",
          "20",
          "08",
          "18",
          "12",
          "09",
          "19",
          "14",
          "20",
          "15",
          "12",
          "18",
          "16",
          "10",
          "11",
          "10",
          "16",
          "23",
          "16",
          "14",
          "16",
          "09",
          "19",
          "22",
          "12",
          "08",
          "09",
          "09",
          "13",
          "05",
          "06",
          "21",
          "00",
          "06",
          "12",
          "10",
          "19",
          "20",
          "07",
          "20",
          "10",
          "10",
          "09",
          "09",
          "09",
          "12",
          "20",
          "19",
          "18",
          "00",
          "14",
          "18",
          "10",
          "07",
          "18",
          "18",
          "09",
          "08",
          "08",
          "20",
          "15",
          "20",
          "19",
          "17",
          "19",
          "15",
          "10",
          "10",
          "17",
          "18",
          "18",
          "05",
          "06",
          "18",
          "17",
          "18",
          "17",
          "00",
          "12",
          "18",
          "06",
          "15",
          "20",
          "12",
          "16",
          "17",
          "22",
          "11",
          "17",
          "18",
          "08",
          "20",
          "13",
          "12",
          "13",
          "19",
          "17",
          "15",
          "16",
          "22",
          "00",
          "17",
          "12",
          "20",
          "07",
          "不明",
          "16",
          "20",
          "13",
          "18",
          "21",
          "08",
          "19",
          "14",
          "18",
          "20",
          "20",
          "19",
          "11",
          "18",
          "08",
          "16",
          "08",
          "19",
          "18",
          "18",
          "08"
         ],
         "xaxis": "x",
         "y": [
          1,
          1,
          1,
          1,
          1,
          1,
          1,
          1,
          1,
          1,
          1,
          1,
          1,
          1,
          1,
          1,
          1,
          1,
          1,
          1,
          1,
          1,
          1,
          1,
          1,
          1,
          1,
          1,
          1,
          1,
          1,
          1,
          1,
          1,
          1,
          1,
          1,
          1,
          1,
          1,
          1,
          1,
          1,
          1,
          1,
          1,
          1,
          1,
          1,
          1,
          1,
          1,
          1,
          1,
          1,
          1,
          1,
          1,
          1,
          1,
          1,
          1,
          1,
          1,
          1,
          1,
          1,
          1,
          1,
          1,
          1,
          1,
          1,
          1,
          1,
          1,
          1,
          1,
          1,
          1,
          1,
          1,
          1,
          1,
          1,
          1,
          1,
          1,
          1,
          1,
          1,
          1,
          1,
          1,
          1,
          1,
          1,
          1,
          1,
          1,
          1,
          1,
          1,
          1,
          1,
          1,
          1,
          1,
          1,
          1,
          1,
          1,
          1,
          1,
          1,
          1,
          1,
          1,
          1,
          1,
          1,
          1,
          1,
          1,
          1,
          1,
          1,
          1,
          1,
          1,
          1,
          1,
          1,
          1,
          1,
          1,
          1,
          1,
          1,
          1,
          1,
          1,
          1,
          1,
          1,
          1,
          1,
          1,
          1,
          1,
          1,
          1,
          1,
          1,
          1,
          1,
          1,
          1,
          1,
          1,
          1,
          1,
          1,
          1,
          1,
          1,
          1,
          1,
          1,
          1,
          1,
          1,
          1,
          1,
          1,
          1,
          1,
          1,
          1,
          1,
          1,
          1,
          1,
          1,
          1,
          1,
          1,
          1,
          1,
          1,
          1,
          1,
          1,
          1,
          1,
          1,
          1,
          1,
          1,
          1,
          1,
          1,
          1,
          1,
          1,
          1,
          1,
          1,
          1,
          1,
          1,
          1,
          1,
          1,
          1,
          1,
          1,
          1,
          1,
          1,
          1,
          1,
          1,
          1,
          1,
          1,
          1,
          1,
          1,
          1,
          1,
          1,
          1,
          1,
          1,
          1,
          1,
          1,
          1,
          1,
          1,
          1,
          1,
          1,
          1,
          1,
          1,
          1,
          1,
          1,
          1,
          1,
          1,
          1,
          1,
          1,
          1
         ],
         "yaxis": "y"
        },
        {
         "alignmentgroup": "True",
         "hovertemplate": "被害者の職業=中学生<br>発生時（始期）=%{x}<br>count=%{y}<extra></extra>",
         "legendgroup": "中学生",
         "marker": {
          "color": "rgb(221,132,82)",
          "line": {
           "width": 0
          },
          "pattern": {
           "shape": ""
          }
         },
         "name": "中学生",
         "offsetgroup": "中学生",
         "orientation": "v",
         "showlegend": true,
         "textposition": "auto",
         "type": "bar",
         "x": [
          "22",
          "18",
          "21",
          "19",
          "15",
          "13",
          "21",
          "15",
          "18",
          "14",
          "19",
          "02",
          "08",
          "13",
          "19",
          "11",
          "16",
          "13",
          "18",
          "10",
          "18",
          "06",
          "09",
          "20",
          "08",
          "11",
          "18",
          "21",
          "10",
          "18",
          "18",
          "21",
          "19",
          "13",
          "07",
          "16",
          "10",
          "17",
          "13",
          "06",
          "21",
          "14",
          "18",
          "08",
          "15",
          "20",
          "23",
          "19",
          "18",
          "18",
          "12"
         ],
         "xaxis": "x",
         "y": [
          1,
          1,
          1,
          1,
          1,
          1,
          1,
          1,
          1,
          1,
          1,
          1,
          1,
          1,
          1,
          1,
          1,
          1,
          1,
          1,
          1,
          1,
          1,
          1,
          1,
          1,
          1,
          1,
          1,
          1,
          1,
          1,
          1,
          1,
          1,
          1,
          1,
          1,
          1,
          1,
          1,
          1,
          1,
          1,
          1,
          1,
          1,
          1,
          1,
          1,
          1
         ],
         "yaxis": "y"
        },
        {
         "alignmentgroup": "True",
         "hovertemplate": "被害者の職業=小学生<br>発生時（始期）=%{x}<br>count=%{y}<extra></extra>",
         "legendgroup": "小学生",
         "marker": {
          "color": "rgb(85,168,104)",
          "line": {
           "width": 0
          },
          "pattern": {
           "shape": ""
          }
         },
         "name": "小学生",
         "offsetgroup": "小学生",
         "orientation": "v",
         "showlegend": true,
         "textposition": "auto",
         "type": "bar",
         "x": [
          "15",
          "17",
          "08",
          "19",
          "08",
          "19",
          "11",
          "14",
          "15",
          "16",
          "17",
          "13",
          "15",
          "14",
          "17",
          "08",
          "15",
          "17",
          "15",
          "21",
          "19",
          "11",
          "19",
          "16"
         ],
         "xaxis": "x",
         "y": [
          1,
          1,
          1,
          1,
          1,
          1,
          1,
          1,
          1,
          1,
          1,
          1,
          1,
          1,
          1,
          1,
          1,
          1,
          1,
          1,
          1,
          1,
          1,
          1
         ],
         "yaxis": "y"
        },
        {
         "alignmentgroup": "True",
         "hovertemplate": "被害者の職業=高校生<br>発生時（始期）=%{x}<br>count=%{y}<extra></extra>",
         "legendgroup": "高校生",
         "marker": {
          "color": "rgb(196,78,82)",
          "line": {
           "width": 0
          },
          "pattern": {
           "shape": ""
          }
         },
         "name": "高校生",
         "offsetgroup": "高校生",
         "orientation": "v",
         "showlegend": true,
         "textposition": "auto",
         "type": "bar",
         "x": [
          "21",
          "07",
          "20",
          "07",
          "07",
          "23",
          "08",
          "08",
          "06",
          "07",
          "17",
          "17",
          "15",
          "18",
          "18",
          "08",
          "07",
          "09",
          "16",
          "14",
          "15",
          "08",
          "07",
          "17",
          "07",
          "21",
          "19",
          "14",
          "14",
          "13",
          "18",
          "16",
          "11",
          "18",
          "13",
          "21",
          "11",
          "17",
          "16",
          "20",
          "13",
          "08",
          "13",
          "16",
          "11",
          "14",
          "00",
          "13",
          "13",
          "11",
          "16",
          "17",
          "17",
          "20",
          "17",
          "08",
          "13",
          "20",
          "12",
          "16",
          "19",
          "08",
          "19",
          "07",
          "12",
          "16",
          "08",
          "20",
          "16",
          "20",
          "07",
          "08",
          "17",
          "19",
          "08",
          "18",
          "16",
          "19",
          "19",
          "16",
          "20",
          "16",
          "21",
          "12",
          "21",
          "07",
          "17",
          "09",
          "10"
         ],
         "xaxis": "x",
         "y": [
          1,
          1,
          1,
          1,
          1,
          1,
          1,
          1,
          1,
          1,
          1,
          1,
          1,
          1,
          1,
          1,
          1,
          1,
          1,
          1,
          1,
          1,
          1,
          1,
          1,
          1,
          1,
          1,
          1,
          1,
          1,
          1,
          1,
          1,
          1,
          1,
          1,
          1,
          1,
          1,
          1,
          1,
          1,
          1,
          1,
          1,
          1,
          1,
          1,
          1,
          1,
          1,
          1,
          1,
          1,
          1,
          1,
          1,
          1,
          1,
          1,
          1,
          1,
          1,
          1,
          1,
          1,
          1,
          1,
          1,
          1,
          1,
          1,
          1,
          1,
          1,
          1,
          1,
          1,
          1,
          1,
          1,
          1,
          1,
          1,
          1,
          1,
          1,
          1
         ],
         "yaxis": "y"
        },
        {
         "alignmentgroup": "True",
         "hovertemplate": "被害者の職業=大学生<br>発生時（始期）=%{x}<br>count=%{y}<extra></extra>",
         "legendgroup": "大学生",
         "marker": {
          "color": "rgb(129,114,179)",
          "line": {
           "width": 0
          },
          "pattern": {
           "shape": ""
          }
         },
         "name": "大学生",
         "offsetgroup": "大学生",
         "orientation": "v",
         "showlegend": true,
         "textposition": "auto",
         "type": "bar",
         "x": [
          "14",
          "17",
          "10",
          "18",
          "16",
          "07",
          "22",
          "14",
          "19",
          "16",
          "09",
          "19",
          "07",
          "15",
          "10",
          "08",
          "16",
          "22",
          "08",
          "13",
          "07",
          "10",
          "09",
          "12",
          "00",
          "12",
          "15",
          "不明",
          "09",
          "19",
          "17",
          "11",
          "16",
          "10",
          "08",
          "22",
          "15",
          "10",
          "16",
          "23",
          "07",
          "13",
          "09",
          "14",
          "18",
          "08"
         ],
         "xaxis": "x",
         "y": [
          1,
          1,
          1,
          1,
          1,
          1,
          1,
          1,
          1,
          1,
          1,
          1,
          1,
          1,
          1,
          1,
          1,
          1,
          1,
          1,
          1,
          1,
          1,
          1,
          1,
          1,
          1,
          1,
          1,
          1,
          1,
          1,
          1,
          1,
          1,
          1,
          1,
          1,
          1,
          1,
          1,
          1,
          1,
          1,
          1,
          1
         ],
         "yaxis": "y"
        },
        {
         "alignmentgroup": "True",
         "hovertemplate": "被害者の職業=法人・団体、被害者なし<br>発生時（始期）=%{x}<br>count=%{y}<extra></extra>",
         "legendgroup": "法人・団体、被害者なし",
         "marker": {
          "color": "rgb(147,120,96)",
          "line": {
           "width": 0
          },
          "pattern": {
           "shape": ""
          }
         },
         "name": "法人・団体、被害者なし",
         "offsetgroup": "法人・団体、被害者なし",
         "orientation": "v",
         "showlegend": true,
         "textposition": "auto",
         "type": "bar",
         "x": [
          "20",
          "不明",
          "07",
          "20"
         ],
         "xaxis": "x",
         "y": [
          1,
          1,
          1,
          1
         ],
         "yaxis": "y"
        }
       ],
       "layout": {
        "barmode": "group",
        "legend": {
         "title": {
          "text": "被害者の職業"
         },
         "tracegroupgap": 0
        },
        "margin": {
         "t": 60
        },
        "template": {
         "data": {
          "bar": [
           {
            "error_x": {
             "color": "rgb(36,36,36)"
            },
            "error_y": {
             "color": "rgb(36,36,36)"
            },
            "marker": {
             "line": {
              "color": "rgb(234,234,242)",
              "width": 0.5
             },
             "pattern": {
              "fillmode": "overlay",
              "size": 10,
              "solidity": 0.2
             }
            },
            "type": "bar"
           }
          ],
          "barpolar": [
           {
            "marker": {
             "line": {
              "color": "rgb(234,234,242)",
              "width": 0.5
             },
             "pattern": {
              "fillmode": "overlay",
              "size": 10,
              "solidity": 0.2
             }
            },
            "type": "barpolar"
           }
          ],
          "carpet": [
           {
            "aaxis": {
             "endlinecolor": "rgb(36,36,36)",
             "gridcolor": "white",
             "linecolor": "white",
             "minorgridcolor": "white",
             "startlinecolor": "rgb(36,36,36)"
            },
            "baxis": {
             "endlinecolor": "rgb(36,36,36)",
             "gridcolor": "white",
             "linecolor": "white",
             "minorgridcolor": "white",
             "startlinecolor": "rgb(36,36,36)"
            },
            "type": "carpet"
           }
          ],
          "choropleth": [
           {
            "colorbar": {
             "outlinewidth": 0,
             "tickcolor": "rgb(36,36,36)",
             "ticklen": 8,
             "ticks": "outside",
             "tickwidth": 2
            },
            "type": "choropleth"
           }
          ],
          "contour": [
           {
            "colorbar": {
             "outlinewidth": 0,
             "tickcolor": "rgb(36,36,36)",
             "ticklen": 8,
             "ticks": "outside",
             "tickwidth": 2
            },
            "colorscale": [
             [
              0,
              "rgb(2,4,25)"
             ],
             [
              0.06274509803921569,
              "rgb(24,15,41)"
             ],
             [
              0.12549019607843137,
              "rgb(47,23,57)"
             ],
             [
              0.18823529411764706,
              "rgb(71,28,72)"
             ],
             [
              0.25098039215686274,
              "rgb(97,30,82)"
             ],
             [
              0.3137254901960784,
              "rgb(123,30,89)"
             ],
             [
              0.3764705882352941,
              "rgb(150,27,91)"
             ],
             [
              0.4392156862745098,
              "rgb(177,22,88)"
             ],
             [
              0.5019607843137255,
              "rgb(203,26,79)"
             ],
             [
              0.5647058823529412,
              "rgb(223,47,67)"
             ],
             [
              0.6274509803921569,
              "rgb(236,76,61)"
             ],
             [
              0.6901960784313725,
              "rgb(242,107,73)"
             ],
             [
              0.7529411764705882,
              "rgb(244,135,95)"
             ],
             [
              0.8156862745098039,
              "rgb(245,162,122)"
             ],
             [
              0.8784313725490196,
              "rgb(246,188,153)"
             ],
             [
              0.9411764705882353,
              "rgb(247,212,187)"
             ],
             [
              1,
              "rgb(250,234,220)"
             ]
            ],
            "type": "contour"
           }
          ],
          "contourcarpet": [
           {
            "colorbar": {
             "outlinewidth": 0,
             "tickcolor": "rgb(36,36,36)",
             "ticklen": 8,
             "ticks": "outside",
             "tickwidth": 2
            },
            "type": "contourcarpet"
           }
          ],
          "heatmap": [
           {
            "colorbar": {
             "outlinewidth": 0,
             "tickcolor": "rgb(36,36,36)",
             "ticklen": 8,
             "ticks": "outside",
             "tickwidth": 2
            },
            "colorscale": [
             [
              0,
              "rgb(2,4,25)"
             ],
             [
              0.06274509803921569,
              "rgb(24,15,41)"
             ],
             [
              0.12549019607843137,
              "rgb(47,23,57)"
             ],
             [
              0.18823529411764706,
              "rgb(71,28,72)"
             ],
             [
              0.25098039215686274,
              "rgb(97,30,82)"
             ],
             [
              0.3137254901960784,
              "rgb(123,30,89)"
             ],
             [
              0.3764705882352941,
              "rgb(150,27,91)"
             ],
             [
              0.4392156862745098,
              "rgb(177,22,88)"
             ],
             [
              0.5019607843137255,
              "rgb(203,26,79)"
             ],
             [
              0.5647058823529412,
              "rgb(223,47,67)"
             ],
             [
              0.6274509803921569,
              "rgb(236,76,61)"
             ],
             [
              0.6901960784313725,
              "rgb(242,107,73)"
             ],
             [
              0.7529411764705882,
              "rgb(244,135,95)"
             ],
             [
              0.8156862745098039,
              "rgb(245,162,122)"
             ],
             [
              0.8784313725490196,
              "rgb(246,188,153)"
             ],
             [
              0.9411764705882353,
              "rgb(247,212,187)"
             ],
             [
              1,
              "rgb(250,234,220)"
             ]
            ],
            "type": "heatmap"
           }
          ],
          "heatmapgl": [
           {
            "colorbar": {
             "outlinewidth": 0,
             "tickcolor": "rgb(36,36,36)",
             "ticklen": 8,
             "ticks": "outside",
             "tickwidth": 2
            },
            "colorscale": [
             [
              0,
              "rgb(2,4,25)"
             ],
             [
              0.06274509803921569,
              "rgb(24,15,41)"
             ],
             [
              0.12549019607843137,
              "rgb(47,23,57)"
             ],
             [
              0.18823529411764706,
              "rgb(71,28,72)"
             ],
             [
              0.25098039215686274,
              "rgb(97,30,82)"
             ],
             [
              0.3137254901960784,
              "rgb(123,30,89)"
             ],
             [
              0.3764705882352941,
              "rgb(150,27,91)"
             ],
             [
              0.4392156862745098,
              "rgb(177,22,88)"
             ],
             [
              0.5019607843137255,
              "rgb(203,26,79)"
             ],
             [
              0.5647058823529412,
              "rgb(223,47,67)"
             ],
             [
              0.6274509803921569,
              "rgb(236,76,61)"
             ],
             [
              0.6901960784313725,
              "rgb(242,107,73)"
             ],
             [
              0.7529411764705882,
              "rgb(244,135,95)"
             ],
             [
              0.8156862745098039,
              "rgb(245,162,122)"
             ],
             [
              0.8784313725490196,
              "rgb(246,188,153)"
             ],
             [
              0.9411764705882353,
              "rgb(247,212,187)"
             ],
             [
              1,
              "rgb(250,234,220)"
             ]
            ],
            "type": "heatmapgl"
           }
          ],
          "histogram": [
           {
            "marker": {
             "pattern": {
              "fillmode": "overlay",
              "size": 10,
              "solidity": 0.2
             }
            },
            "type": "histogram"
           }
          ],
          "histogram2d": [
           {
            "colorbar": {
             "outlinewidth": 0,
             "tickcolor": "rgb(36,36,36)",
             "ticklen": 8,
             "ticks": "outside",
             "tickwidth": 2
            },
            "colorscale": [
             [
              0,
              "rgb(2,4,25)"
             ],
             [
              0.06274509803921569,
              "rgb(24,15,41)"
             ],
             [
              0.12549019607843137,
              "rgb(47,23,57)"
             ],
             [
              0.18823529411764706,
              "rgb(71,28,72)"
             ],
             [
              0.25098039215686274,
              "rgb(97,30,82)"
             ],
             [
              0.3137254901960784,
              "rgb(123,30,89)"
             ],
             [
              0.3764705882352941,
              "rgb(150,27,91)"
             ],
             [
              0.4392156862745098,
              "rgb(177,22,88)"
             ],
             [
              0.5019607843137255,
              "rgb(203,26,79)"
             ],
             [
              0.5647058823529412,
              "rgb(223,47,67)"
             ],
             [
              0.6274509803921569,
              "rgb(236,76,61)"
             ],
             [
              0.6901960784313725,
              "rgb(242,107,73)"
             ],
             [
              0.7529411764705882,
              "rgb(244,135,95)"
             ],
             [
              0.8156862745098039,
              "rgb(245,162,122)"
             ],
             [
              0.8784313725490196,
              "rgb(246,188,153)"
             ],
             [
              0.9411764705882353,
              "rgb(247,212,187)"
             ],
             [
              1,
              "rgb(250,234,220)"
             ]
            ],
            "type": "histogram2d"
           }
          ],
          "histogram2dcontour": [
           {
            "colorbar": {
             "outlinewidth": 0,
             "tickcolor": "rgb(36,36,36)",
             "ticklen": 8,
             "ticks": "outside",
             "tickwidth": 2
            },
            "colorscale": [
             [
              0,
              "rgb(2,4,25)"
             ],
             [
              0.06274509803921569,
              "rgb(24,15,41)"
             ],
             [
              0.12549019607843137,
              "rgb(47,23,57)"
             ],
             [
              0.18823529411764706,
              "rgb(71,28,72)"
             ],
             [
              0.25098039215686274,
              "rgb(97,30,82)"
             ],
             [
              0.3137254901960784,
              "rgb(123,30,89)"
             ],
             [
              0.3764705882352941,
              "rgb(150,27,91)"
             ],
             [
              0.4392156862745098,
              "rgb(177,22,88)"
             ],
             [
              0.5019607843137255,
              "rgb(203,26,79)"
             ],
             [
              0.5647058823529412,
              "rgb(223,47,67)"
             ],
             [
              0.6274509803921569,
              "rgb(236,76,61)"
             ],
             [
              0.6901960784313725,
              "rgb(242,107,73)"
             ],
             [
              0.7529411764705882,
              "rgb(244,135,95)"
             ],
             [
              0.8156862745098039,
              "rgb(245,162,122)"
             ],
             [
              0.8784313725490196,
              "rgb(246,188,153)"
             ],
             [
              0.9411764705882353,
              "rgb(247,212,187)"
             ],
             [
              1,
              "rgb(250,234,220)"
             ]
            ],
            "type": "histogram2dcontour"
           }
          ],
          "mesh3d": [
           {
            "colorbar": {
             "outlinewidth": 0,
             "tickcolor": "rgb(36,36,36)",
             "ticklen": 8,
             "ticks": "outside",
             "tickwidth": 2
            },
            "type": "mesh3d"
           }
          ],
          "parcoords": [
           {
            "line": {
             "colorbar": {
              "outlinewidth": 0,
              "tickcolor": "rgb(36,36,36)",
              "ticklen": 8,
              "ticks": "outside",
              "tickwidth": 2
             }
            },
            "type": "parcoords"
           }
          ],
          "pie": [
           {
            "automargin": true,
            "type": "pie"
           }
          ],
          "scatter": [
           {
            "fillpattern": {
             "fillmode": "overlay",
             "size": 10,
             "solidity": 0.2
            },
            "type": "scatter"
           }
          ],
          "scatter3d": [
           {
            "line": {
             "colorbar": {
              "outlinewidth": 0,
              "tickcolor": "rgb(36,36,36)",
              "ticklen": 8,
              "ticks": "outside",
              "tickwidth": 2
             }
            },
            "marker": {
             "colorbar": {
              "outlinewidth": 0,
              "tickcolor": "rgb(36,36,36)",
              "ticklen": 8,
              "ticks": "outside",
              "tickwidth": 2
             }
            },
            "type": "scatter3d"
           }
          ],
          "scattercarpet": [
           {
            "marker": {
             "colorbar": {
              "outlinewidth": 0,
              "tickcolor": "rgb(36,36,36)",
              "ticklen": 8,
              "ticks": "outside",
              "tickwidth": 2
             }
            },
            "type": "scattercarpet"
           }
          ],
          "scattergeo": [
           {
            "marker": {
             "colorbar": {
              "outlinewidth": 0,
              "tickcolor": "rgb(36,36,36)",
              "ticklen": 8,
              "ticks": "outside",
              "tickwidth": 2
             }
            },
            "type": "scattergeo"
           }
          ],
          "scattergl": [
           {
            "marker": {
             "colorbar": {
              "outlinewidth": 0,
              "tickcolor": "rgb(36,36,36)",
              "ticklen": 8,
              "ticks": "outside",
              "tickwidth": 2
             }
            },
            "type": "scattergl"
           }
          ],
          "scattermapbox": [
           {
            "marker": {
             "colorbar": {
              "outlinewidth": 0,
              "tickcolor": "rgb(36,36,36)",
              "ticklen": 8,
              "ticks": "outside",
              "tickwidth": 2
             }
            },
            "type": "scattermapbox"
           }
          ],
          "scatterpolar": [
           {
            "marker": {
             "colorbar": {
              "outlinewidth": 0,
              "tickcolor": "rgb(36,36,36)",
              "ticklen": 8,
              "ticks": "outside",
              "tickwidth": 2
             }
            },
            "type": "scatterpolar"
           }
          ],
          "scatterpolargl": [
           {
            "marker": {
             "colorbar": {
              "outlinewidth": 0,
              "tickcolor": "rgb(36,36,36)",
              "ticklen": 8,
              "ticks": "outside",
              "tickwidth": 2
             }
            },
            "type": "scatterpolargl"
           }
          ],
          "scatterternary": [
           {
            "marker": {
             "colorbar": {
              "outlinewidth": 0,
              "tickcolor": "rgb(36,36,36)",
              "ticklen": 8,
              "ticks": "outside",
              "tickwidth": 2
             }
            },
            "type": "scatterternary"
           }
          ],
          "surface": [
           {
            "colorbar": {
             "outlinewidth": 0,
             "tickcolor": "rgb(36,36,36)",
             "ticklen": 8,
             "ticks": "outside",
             "tickwidth": 2
            },
            "colorscale": [
             [
              0,
              "rgb(2,4,25)"
             ],
             [
              0.06274509803921569,
              "rgb(24,15,41)"
             ],
             [
              0.12549019607843137,
              "rgb(47,23,57)"
             ],
             [
              0.18823529411764706,
              "rgb(71,28,72)"
             ],
             [
              0.25098039215686274,
              "rgb(97,30,82)"
             ],
             [
              0.3137254901960784,
              "rgb(123,30,89)"
             ],
             [
              0.3764705882352941,
              "rgb(150,27,91)"
             ],
             [
              0.4392156862745098,
              "rgb(177,22,88)"
             ],
             [
              0.5019607843137255,
              "rgb(203,26,79)"
             ],
             [
              0.5647058823529412,
              "rgb(223,47,67)"
             ],
             [
              0.6274509803921569,
              "rgb(236,76,61)"
             ],
             [
              0.6901960784313725,
              "rgb(242,107,73)"
             ],
             [
              0.7529411764705882,
              "rgb(244,135,95)"
             ],
             [
              0.8156862745098039,
              "rgb(245,162,122)"
             ],
             [
              0.8784313725490196,
              "rgb(246,188,153)"
             ],
             [
              0.9411764705882353,
              "rgb(247,212,187)"
             ],
             [
              1,
              "rgb(250,234,220)"
             ]
            ],
            "type": "surface"
           }
          ],
          "table": [
           {
            "cells": {
             "fill": {
              "color": "rgb(231,231,240)"
             },
             "line": {
              "color": "white"
             }
            },
            "header": {
             "fill": {
              "color": "rgb(183,183,191)"
             },
             "line": {
              "color": "white"
             }
            },
            "type": "table"
           }
          ]
         },
         "layout": {
          "annotationdefaults": {
           "arrowcolor": "rgb(67,103,167)"
          },
          "autotypenumbers": "strict",
          "coloraxis": {
           "colorbar": {
            "outlinewidth": 0,
            "tickcolor": "rgb(36,36,36)",
            "ticklen": 8,
            "ticks": "outside",
            "tickwidth": 2
           }
          },
          "colorscale": {
           "sequential": [
            [
             0,
             "rgb(2,4,25)"
            ],
            [
             0.06274509803921569,
             "rgb(24,15,41)"
            ],
            [
             0.12549019607843137,
             "rgb(47,23,57)"
            ],
            [
             0.18823529411764706,
             "rgb(71,28,72)"
            ],
            [
             0.25098039215686274,
             "rgb(97,30,82)"
            ],
            [
             0.3137254901960784,
             "rgb(123,30,89)"
            ],
            [
             0.3764705882352941,
             "rgb(150,27,91)"
            ],
            [
             0.4392156862745098,
             "rgb(177,22,88)"
            ],
            [
             0.5019607843137255,
             "rgb(203,26,79)"
            ],
            [
             0.5647058823529412,
             "rgb(223,47,67)"
            ],
            [
             0.6274509803921569,
             "rgb(236,76,61)"
            ],
            [
             0.6901960784313725,
             "rgb(242,107,73)"
            ],
            [
             0.7529411764705882,
             "rgb(244,135,95)"
            ],
            [
             0.8156862745098039,
             "rgb(245,162,122)"
            ],
            [
             0.8784313725490196,
             "rgb(246,188,153)"
            ],
            [
             0.9411764705882353,
             "rgb(247,212,187)"
            ],
            [
             1,
             "rgb(250,234,220)"
            ]
           ],
           "sequentialminus": [
            [
             0,
             "rgb(2,4,25)"
            ],
            [
             0.06274509803921569,
             "rgb(24,15,41)"
            ],
            [
             0.12549019607843137,
             "rgb(47,23,57)"
            ],
            [
             0.18823529411764706,
             "rgb(71,28,72)"
            ],
            [
             0.25098039215686274,
             "rgb(97,30,82)"
            ],
            [
             0.3137254901960784,
             "rgb(123,30,89)"
            ],
            [
             0.3764705882352941,
             "rgb(150,27,91)"
            ],
            [
             0.4392156862745098,
             "rgb(177,22,88)"
            ],
            [
             0.5019607843137255,
             "rgb(203,26,79)"
            ],
            [
             0.5647058823529412,
             "rgb(223,47,67)"
            ],
            [
             0.6274509803921569,
             "rgb(236,76,61)"
            ],
            [
             0.6901960784313725,
             "rgb(242,107,73)"
            ],
            [
             0.7529411764705882,
             "rgb(244,135,95)"
            ],
            [
             0.8156862745098039,
             "rgb(245,162,122)"
            ],
            [
             0.8784313725490196,
             "rgb(246,188,153)"
            ],
            [
             0.9411764705882353,
             "rgb(247,212,187)"
            ],
            [
             1,
             "rgb(250,234,220)"
            ]
           ]
          },
          "colorway": [
           "rgb(76,114,176)",
           "rgb(221,132,82)",
           "rgb(85,168,104)",
           "rgb(196,78,82)",
           "rgb(129,114,179)",
           "rgb(147,120,96)",
           "rgb(218,139,195)",
           "rgb(140,140,140)",
           "rgb(204,185,116)",
           "rgb(100,181,205)"
          ],
          "font": {
           "color": "rgb(36,36,36)"
          },
          "geo": {
           "bgcolor": "white",
           "lakecolor": "white",
           "landcolor": "rgb(234,234,242)",
           "showlakes": true,
           "showland": true,
           "subunitcolor": "white"
          },
          "hoverlabel": {
           "align": "left"
          },
          "hovermode": "closest",
          "paper_bgcolor": "white",
          "plot_bgcolor": "rgb(234,234,242)",
          "polar": {
           "angularaxis": {
            "gridcolor": "white",
            "linecolor": "white",
            "showgrid": true,
            "ticks": ""
           },
           "bgcolor": "rgb(234,234,242)",
           "radialaxis": {
            "gridcolor": "white",
            "linecolor": "white",
            "showgrid": true,
            "ticks": ""
           }
          },
          "scene": {
           "xaxis": {
            "backgroundcolor": "rgb(234,234,242)",
            "gridcolor": "white",
            "gridwidth": 2,
            "linecolor": "white",
            "showbackground": true,
            "showgrid": true,
            "ticks": "",
            "zerolinecolor": "white"
           },
           "yaxis": {
            "backgroundcolor": "rgb(234,234,242)",
            "gridcolor": "white",
            "gridwidth": 2,
            "linecolor": "white",
            "showbackground": true,
            "showgrid": true,
            "ticks": "",
            "zerolinecolor": "white"
           },
           "zaxis": {
            "backgroundcolor": "rgb(234,234,242)",
            "gridcolor": "white",
            "gridwidth": 2,
            "linecolor": "white",
            "showbackground": true,
            "showgrid": true,
            "ticks": "",
            "zerolinecolor": "white"
           }
          },
          "shapedefaults": {
           "fillcolor": "rgb(67,103,167)",
           "line": {
            "width": 0
           },
           "opacity": 0.5
          },
          "ternary": {
           "aaxis": {
            "gridcolor": "white",
            "linecolor": "white",
            "showgrid": true,
            "ticks": ""
           },
           "baxis": {
            "gridcolor": "white",
            "linecolor": "white",
            "showgrid": true,
            "ticks": ""
           },
           "bgcolor": "rgb(234,234,242)",
           "caxis": {
            "gridcolor": "white",
            "linecolor": "white",
            "showgrid": true,
            "ticks": ""
           }
          },
          "xaxis": {
           "automargin": true,
           "gridcolor": "white",
           "linecolor": "white",
           "showgrid": true,
           "ticks": "",
           "title": {
            "standoff": 15
           },
           "zerolinecolor": "white"
          },
          "yaxis": {
           "automargin": true,
           "gridcolor": "white",
           "linecolor": "white",
           "showgrid": true,
           "ticks": "",
           "title": {
            "standoff": 15
           },
           "zerolinecolor": "white"
          }
         }
        },
        "xaxis": {
         "anchor": "y",
         "categoryorder": "category ascending",
         "domain": [
          0,
          1
         ],
         "title": {
          "text": "発生時（始期）"
         }
        },
        "yaxis": {
         "anchor": "x",
         "domain": [
          0,
          1
         ],
         "title": {
          "text": "count"
         }
        }
       }
      }
     },
     "metadata": {},
     "output_type": "display_data"
    }
   ],
   "source": [
    "fig = px.bar(kashiwa,\n",
    "            x='発生時（始期）',\n",
    "            color='被害者の職業',\n",
    "            barmode='group', # group the categories,\n",
    "            template='seaborn'\n",
    "            )\n",
    "fig.update_traces(\n",
    "    marker_line_width=0\n",
    ")\n",
    "fig.update_xaxes(categoryorder='category ascending')\n",
    "fig.show()"
   ]
  },
  {
   "attachments": {},
   "cell_type": "markdown",
   "metadata": {
    "slideshow": {
     "slide_type": "slide"
    }
   },
   "source": [
    "`facet_col=`を足すと複数のチャートを一気に表示できる。"
   ]
  },
  {
   "cell_type": "code",
   "execution_count": 35,
   "metadata": {},
   "outputs": [
    {
     "data": {
      "application/vnd.plotly.v1+json": {
       "config": {
        "plotlyServerURL": "https://plot.ly"
       },
       "data": [
        {
         "alignmentgroup": "True",
         "hovertemplate": "被害者の職業=その他<br>発生時（始期）=%{x}<br>count=%{y}<extra></extra>",
         "legendgroup": "",
         "marker": {
          "color": "rgb(76,114,176)",
          "line": {
           "width": 0
          },
          "pattern": {
           "shape": ""
          }
         },
         "name": "",
         "offsetgroup": "",
         "orientation": "v",
         "showlegend": false,
         "textposition": "auto",
         "type": "bar",
         "x": [
          "00",
          "13",
          "22",
          "08",
          "16",
          "08",
          "17",
          "23",
          "04",
          "不明",
          "不明",
          "09",
          "17",
          "11",
          "19",
          "10",
          "21",
          "21",
          "20",
          "08",
          "16",
          "07",
          "20",
          "13",
          "13",
          "13",
          "06",
          "20",
          "23",
          "17",
          "16",
          "00",
          "不明",
          "22",
          "05",
          "12",
          "22",
          "15",
          "16",
          "12",
          "19",
          "15",
          "17",
          "21",
          "21",
          "12",
          "20",
          "14",
          "20",
          "12",
          "15",
          "00",
          "19",
          "20",
          "04",
          "14",
          "06",
          "18",
          "19",
          "06",
          "07",
          "19",
          "09",
          "11",
          "08",
          "12",
          "18",
          "17",
          "07",
          "19",
          "12",
          "13",
          "21",
          "21",
          "16",
          "18",
          "12",
          "17",
          "15",
          "20",
          "07",
          "12",
          "01",
          "06",
          "19",
          "18",
          "16",
          "19",
          "18",
          "06",
          "08",
          "19",
          "23",
          "23",
          "10",
          "18",
          "14",
          "18",
          "09",
          "23",
          "08",
          "12",
          "18",
          "11",
          "17",
          "12",
          "16",
          "14",
          "11",
          "08",
          "08",
          "18",
          "19",
          "20",
          "12",
          "15",
          "14",
          "11",
          "11",
          "22",
          "11",
          "19",
          "18",
          "16",
          "13",
          "10",
          "12",
          "17",
          "20",
          "15",
          "12",
          "20",
          "08",
          "18",
          "12",
          "09",
          "19",
          "14",
          "20",
          "15",
          "12",
          "18",
          "16",
          "10",
          "11",
          "10",
          "16",
          "23",
          "16",
          "14",
          "16",
          "09",
          "19",
          "22",
          "12",
          "08",
          "09",
          "09",
          "13",
          "05",
          "06",
          "21",
          "00",
          "06",
          "12",
          "10",
          "19",
          "20",
          "07",
          "20",
          "10",
          "10",
          "09",
          "09",
          "09",
          "12",
          "20",
          "19",
          "18",
          "00",
          "14",
          "18",
          "10",
          "07",
          "18",
          "18",
          "09",
          "08",
          "08",
          "20",
          "15",
          "20",
          "19",
          "17",
          "19",
          "15",
          "10",
          "10",
          "17",
          "18",
          "18",
          "05",
          "06",
          "18",
          "17",
          "18",
          "17",
          "00",
          "12",
          "18",
          "06",
          "15",
          "20",
          "12",
          "16",
          "17",
          "22",
          "11",
          "17",
          "18",
          "08",
          "20",
          "13",
          "12",
          "13",
          "19",
          "17",
          "15",
          "16",
          "22",
          "00",
          "17",
          "12",
          "20",
          "07",
          "不明",
          "16",
          "20",
          "13",
          "18",
          "21",
          "08",
          "19",
          "14",
          "18",
          "20",
          "20",
          "19",
          "11",
          "18",
          "08",
          "16",
          "08",
          "19",
          "18",
          "18",
          "08"
         ],
         "xaxis": "x",
         "y": [
          1,
          1,
          1,
          1,
          1,
          1,
          1,
          1,
          1,
          1,
          1,
          1,
          1,
          1,
          1,
          1,
          1,
          1,
          1,
          1,
          1,
          1,
          1,
          1,
          1,
          1,
          1,
          1,
          1,
          1,
          1,
          1,
          1,
          1,
          1,
          1,
          1,
          1,
          1,
          1,
          1,
          1,
          1,
          1,
          1,
          1,
          1,
          1,
          1,
          1,
          1,
          1,
          1,
          1,
          1,
          1,
          1,
          1,
          1,
          1,
          1,
          1,
          1,
          1,
          1,
          1,
          1,
          1,
          1,
          1,
          1,
          1,
          1,
          1,
          1,
          1,
          1,
          1,
          1,
          1,
          1,
          1,
          1,
          1,
          1,
          1,
          1,
          1,
          1,
          1,
          1,
          1,
          1,
          1,
          1,
          1,
          1,
          1,
          1,
          1,
          1,
          1,
          1,
          1,
          1,
          1,
          1,
          1,
          1,
          1,
          1,
          1,
          1,
          1,
          1,
          1,
          1,
          1,
          1,
          1,
          1,
          1,
          1,
          1,
          1,
          1,
          1,
          1,
          1,
          1,
          1,
          1,
          1,
          1,
          1,
          1,
          1,
          1,
          1,
          1,
          1,
          1,
          1,
          1,
          1,
          1,
          1,
          1,
          1,
          1,
          1,
          1,
          1,
          1,
          1,
          1,
          1,
          1,
          1,
          1,
          1,
          1,
          1,
          1,
          1,
          1,
          1,
          1,
          1,
          1,
          1,
          1,
          1,
          1,
          1,
          1,
          1,
          1,
          1,
          1,
          1,
          1,
          1,
          1,
          1,
          1,
          1,
          1,
          1,
          1,
          1,
          1,
          1,
          1,
          1,
          1,
          1,
          1,
          1,
          1,
          1,
          1,
          1,
          1,
          1,
          1,
          1,
          1,
          1,
          1,
          1,
          1,
          1,
          1,
          1,
          1,
          1,
          1,
          1,
          1,
          1,
          1,
          1,
          1,
          1,
          1,
          1,
          1,
          1,
          1,
          1,
          1,
          1,
          1,
          1,
          1,
          1,
          1,
          1,
          1,
          1,
          1,
          1,
          1,
          1,
          1,
          1,
          1,
          1,
          1,
          1,
          1,
          1,
          1,
          1,
          1,
          1
         ],
         "yaxis": "y"
        },
        {
         "alignmentgroup": "True",
         "hovertemplate": "被害者の職業=中学生<br>発生時（始期）=%{x}<br>count=%{y}<extra></extra>",
         "legendgroup": "",
         "marker": {
          "color": "rgb(76,114,176)",
          "line": {
           "width": 0
          },
          "pattern": {
           "shape": ""
          }
         },
         "name": "",
         "offsetgroup": "",
         "orientation": "v",
         "showlegend": false,
         "textposition": "auto",
         "type": "bar",
         "x": [
          "22",
          "18",
          "21",
          "19",
          "15",
          "13",
          "21",
          "15",
          "18",
          "14",
          "19",
          "02",
          "08",
          "13",
          "19",
          "11",
          "16",
          "13",
          "18",
          "10",
          "18",
          "06",
          "09",
          "20",
          "08",
          "11",
          "18",
          "21",
          "10",
          "18",
          "18",
          "21",
          "19",
          "13",
          "07",
          "16",
          "10",
          "17",
          "13",
          "06",
          "21",
          "14",
          "18",
          "08",
          "15",
          "20",
          "23",
          "19",
          "18",
          "18",
          "12"
         ],
         "xaxis": "x2",
         "y": [
          1,
          1,
          1,
          1,
          1,
          1,
          1,
          1,
          1,
          1,
          1,
          1,
          1,
          1,
          1,
          1,
          1,
          1,
          1,
          1,
          1,
          1,
          1,
          1,
          1,
          1,
          1,
          1,
          1,
          1,
          1,
          1,
          1,
          1,
          1,
          1,
          1,
          1,
          1,
          1,
          1,
          1,
          1,
          1,
          1,
          1,
          1,
          1,
          1,
          1,
          1
         ],
         "yaxis": "y2"
        },
        {
         "alignmentgroup": "True",
         "hovertemplate": "被害者の職業=小学生<br>発生時（始期）=%{x}<br>count=%{y}<extra></extra>",
         "legendgroup": "",
         "marker": {
          "color": "rgb(76,114,176)",
          "line": {
           "width": 0
          },
          "pattern": {
           "shape": ""
          }
         },
         "name": "",
         "offsetgroup": "",
         "orientation": "v",
         "showlegend": false,
         "textposition": "auto",
         "type": "bar",
         "x": [
          "15",
          "17",
          "08",
          "19",
          "08",
          "19",
          "11",
          "14",
          "15",
          "16",
          "17",
          "13",
          "15",
          "14",
          "17",
          "08",
          "15",
          "17",
          "15",
          "21",
          "19",
          "11",
          "19",
          "16"
         ],
         "xaxis": "x3",
         "y": [
          1,
          1,
          1,
          1,
          1,
          1,
          1,
          1,
          1,
          1,
          1,
          1,
          1,
          1,
          1,
          1,
          1,
          1,
          1,
          1,
          1,
          1,
          1,
          1
         ],
         "yaxis": "y3"
        },
        {
         "alignmentgroup": "True",
         "hovertemplate": "被害者の職業=高校生<br>発生時（始期）=%{x}<br>count=%{y}<extra></extra>",
         "legendgroup": "",
         "marker": {
          "color": "rgb(76,114,176)",
          "line": {
           "width": 0
          },
          "pattern": {
           "shape": ""
          }
         },
         "name": "",
         "offsetgroup": "",
         "orientation": "v",
         "showlegend": false,
         "textposition": "auto",
         "type": "bar",
         "x": [
          "21",
          "07",
          "20",
          "07",
          "07",
          "23",
          "08",
          "08",
          "06",
          "07",
          "17",
          "17",
          "15",
          "18",
          "18",
          "08",
          "07",
          "09",
          "16",
          "14",
          "15",
          "08",
          "07",
          "17",
          "07",
          "21",
          "19",
          "14",
          "14",
          "13",
          "18",
          "16",
          "11",
          "18",
          "13",
          "21",
          "11",
          "17",
          "16",
          "20",
          "13",
          "08",
          "13",
          "16",
          "11",
          "14",
          "00",
          "13",
          "13",
          "11",
          "16",
          "17",
          "17",
          "20",
          "17",
          "08",
          "13",
          "20",
          "12",
          "16",
          "19",
          "08",
          "19",
          "07",
          "12",
          "16",
          "08",
          "20",
          "16",
          "20",
          "07",
          "08",
          "17",
          "19",
          "08",
          "18",
          "16",
          "19",
          "19",
          "16",
          "20",
          "16",
          "21",
          "12",
          "21",
          "07",
          "17",
          "09",
          "10"
         ],
         "xaxis": "x4",
         "y": [
          1,
          1,
          1,
          1,
          1,
          1,
          1,
          1,
          1,
          1,
          1,
          1,
          1,
          1,
          1,
          1,
          1,
          1,
          1,
          1,
          1,
          1,
          1,
          1,
          1,
          1,
          1,
          1,
          1,
          1,
          1,
          1,
          1,
          1,
          1,
          1,
          1,
          1,
          1,
          1,
          1,
          1,
          1,
          1,
          1,
          1,
          1,
          1,
          1,
          1,
          1,
          1,
          1,
          1,
          1,
          1,
          1,
          1,
          1,
          1,
          1,
          1,
          1,
          1,
          1,
          1,
          1,
          1,
          1,
          1,
          1,
          1,
          1,
          1,
          1,
          1,
          1,
          1,
          1,
          1,
          1,
          1,
          1,
          1,
          1,
          1,
          1,
          1,
          1
         ],
         "yaxis": "y4"
        },
        {
         "alignmentgroup": "True",
         "hovertemplate": "被害者の職業=大学生<br>発生時（始期）=%{x}<br>count=%{y}<extra></extra>",
         "legendgroup": "",
         "marker": {
          "color": "rgb(76,114,176)",
          "line": {
           "width": 0
          },
          "pattern": {
           "shape": ""
          }
         },
         "name": "",
         "offsetgroup": "",
         "orientation": "v",
         "showlegend": false,
         "textposition": "auto",
         "type": "bar",
         "x": [
          "14",
          "17",
          "10",
          "18",
          "16",
          "07",
          "22",
          "14",
          "19",
          "16",
          "09",
          "19",
          "07",
          "15",
          "10",
          "08",
          "16",
          "22",
          "08",
          "13",
          "07",
          "10",
          "09",
          "12",
          "00",
          "12",
          "15",
          "不明",
          "09",
          "19",
          "17",
          "11",
          "16",
          "10",
          "08",
          "22",
          "15",
          "10",
          "16",
          "23",
          "07",
          "13",
          "09",
          "14",
          "18",
          "08"
         ],
         "xaxis": "x5",
         "y": [
          1,
          1,
          1,
          1,
          1,
          1,
          1,
          1,
          1,
          1,
          1,
          1,
          1,
          1,
          1,
          1,
          1,
          1,
          1,
          1,
          1,
          1,
          1,
          1,
          1,
          1,
          1,
          1,
          1,
          1,
          1,
          1,
          1,
          1,
          1,
          1,
          1,
          1,
          1,
          1,
          1,
          1,
          1,
          1,
          1,
          1
         ],
         "yaxis": "y5"
        },
        {
         "alignmentgroup": "True",
         "hovertemplate": "被害者の職業=法人・団体、被害者なし<br>発生時（始期）=%{x}<br>count=%{y}<extra></extra>",
         "legendgroup": "",
         "marker": {
          "color": "rgb(76,114,176)",
          "line": {
           "width": 0
          },
          "pattern": {
           "shape": ""
          }
         },
         "name": "",
         "offsetgroup": "",
         "orientation": "v",
         "showlegend": false,
         "textposition": "auto",
         "type": "bar",
         "x": [
          "20",
          "不明",
          "07",
          "20"
         ],
         "xaxis": "x6",
         "y": [
          1,
          1,
          1,
          1
         ],
         "yaxis": "y6"
        }
       ],
       "layout": {
        "annotations": [
         {
          "font": {},
          "showarrow": false,
          "text": "被害者の職業=その他",
          "x": 0.075,
          "xanchor": "center",
          "xref": "paper",
          "y": 1,
          "yanchor": "bottom",
          "yref": "paper"
         },
         {
          "font": {},
          "showarrow": false,
          "text": "被害者の職業=中学生",
          "x": 0.24499999999999997,
          "xanchor": "center",
          "xref": "paper",
          "y": 1,
          "yanchor": "bottom",
          "yref": "paper"
         },
         {
          "font": {},
          "showarrow": false,
          "text": "被害者の職業=小学生",
          "x": 0.415,
          "xanchor": "center",
          "xref": "paper",
          "y": 1,
          "yanchor": "bottom",
          "yref": "paper"
         },
         {
          "font": {},
          "showarrow": false,
          "text": "被害者の職業=高校生",
          "x": 0.585,
          "xanchor": "center",
          "xref": "paper",
          "y": 1,
          "yanchor": "bottom",
          "yref": "paper"
         },
         {
          "font": {},
          "showarrow": false,
          "text": "被害者の職業=大学生",
          "x": 0.7549999999999999,
          "xanchor": "center",
          "xref": "paper",
          "y": 1,
          "yanchor": "bottom",
          "yref": "paper"
         },
         {
          "font": {},
          "showarrow": false,
          "text": "被害者の職業=法人・団体、被害者なし",
          "x": 0.925,
          "xanchor": "center",
          "xref": "paper",
          "y": 1,
          "yanchor": "bottom",
          "yref": "paper"
         }
        ],
        "barmode": "relative",
        "legend": {
         "tracegroupgap": 0
        },
        "margin": {
         "t": 60
        },
        "template": {
         "data": {
          "bar": [
           {
            "error_x": {
             "color": "rgb(36,36,36)"
            },
            "error_y": {
             "color": "rgb(36,36,36)"
            },
            "marker": {
             "line": {
              "color": "rgb(234,234,242)",
              "width": 0.5
             },
             "pattern": {
              "fillmode": "overlay",
              "size": 10,
              "solidity": 0.2
             }
            },
            "type": "bar"
           }
          ],
          "barpolar": [
           {
            "marker": {
             "line": {
              "color": "rgb(234,234,242)",
              "width": 0.5
             },
             "pattern": {
              "fillmode": "overlay",
              "size": 10,
              "solidity": 0.2
             }
            },
            "type": "barpolar"
           }
          ],
          "carpet": [
           {
            "aaxis": {
             "endlinecolor": "rgb(36,36,36)",
             "gridcolor": "white",
             "linecolor": "white",
             "minorgridcolor": "white",
             "startlinecolor": "rgb(36,36,36)"
            },
            "baxis": {
             "endlinecolor": "rgb(36,36,36)",
             "gridcolor": "white",
             "linecolor": "white",
             "minorgridcolor": "white",
             "startlinecolor": "rgb(36,36,36)"
            },
            "type": "carpet"
           }
          ],
          "choropleth": [
           {
            "colorbar": {
             "outlinewidth": 0,
             "tickcolor": "rgb(36,36,36)",
             "ticklen": 8,
             "ticks": "outside",
             "tickwidth": 2
            },
            "type": "choropleth"
           }
          ],
          "contour": [
           {
            "colorbar": {
             "outlinewidth": 0,
             "tickcolor": "rgb(36,36,36)",
             "ticklen": 8,
             "ticks": "outside",
             "tickwidth": 2
            },
            "colorscale": [
             [
              0,
              "rgb(2,4,25)"
             ],
             [
              0.06274509803921569,
              "rgb(24,15,41)"
             ],
             [
              0.12549019607843137,
              "rgb(47,23,57)"
             ],
             [
              0.18823529411764706,
              "rgb(71,28,72)"
             ],
             [
              0.25098039215686274,
              "rgb(97,30,82)"
             ],
             [
              0.3137254901960784,
              "rgb(123,30,89)"
             ],
             [
              0.3764705882352941,
              "rgb(150,27,91)"
             ],
             [
              0.4392156862745098,
              "rgb(177,22,88)"
             ],
             [
              0.5019607843137255,
              "rgb(203,26,79)"
             ],
             [
              0.5647058823529412,
              "rgb(223,47,67)"
             ],
             [
              0.6274509803921569,
              "rgb(236,76,61)"
             ],
             [
              0.6901960784313725,
              "rgb(242,107,73)"
             ],
             [
              0.7529411764705882,
              "rgb(244,135,95)"
             ],
             [
              0.8156862745098039,
              "rgb(245,162,122)"
             ],
             [
              0.8784313725490196,
              "rgb(246,188,153)"
             ],
             [
              0.9411764705882353,
              "rgb(247,212,187)"
             ],
             [
              1,
              "rgb(250,234,220)"
             ]
            ],
            "type": "contour"
           }
          ],
          "contourcarpet": [
           {
            "colorbar": {
             "outlinewidth": 0,
             "tickcolor": "rgb(36,36,36)",
             "ticklen": 8,
             "ticks": "outside",
             "tickwidth": 2
            },
            "type": "contourcarpet"
           }
          ],
          "heatmap": [
           {
            "colorbar": {
             "outlinewidth": 0,
             "tickcolor": "rgb(36,36,36)",
             "ticklen": 8,
             "ticks": "outside",
             "tickwidth": 2
            },
            "colorscale": [
             [
              0,
              "rgb(2,4,25)"
             ],
             [
              0.06274509803921569,
              "rgb(24,15,41)"
             ],
             [
              0.12549019607843137,
              "rgb(47,23,57)"
             ],
             [
              0.18823529411764706,
              "rgb(71,28,72)"
             ],
             [
              0.25098039215686274,
              "rgb(97,30,82)"
             ],
             [
              0.3137254901960784,
              "rgb(123,30,89)"
             ],
             [
              0.3764705882352941,
              "rgb(150,27,91)"
             ],
             [
              0.4392156862745098,
              "rgb(177,22,88)"
             ],
             [
              0.5019607843137255,
              "rgb(203,26,79)"
             ],
             [
              0.5647058823529412,
              "rgb(223,47,67)"
             ],
             [
              0.6274509803921569,
              "rgb(236,76,61)"
             ],
             [
              0.6901960784313725,
              "rgb(242,107,73)"
             ],
             [
              0.7529411764705882,
              "rgb(244,135,95)"
             ],
             [
              0.8156862745098039,
              "rgb(245,162,122)"
             ],
             [
              0.8784313725490196,
              "rgb(246,188,153)"
             ],
             [
              0.9411764705882353,
              "rgb(247,212,187)"
             ],
             [
              1,
              "rgb(250,234,220)"
             ]
            ],
            "type": "heatmap"
           }
          ],
          "heatmapgl": [
           {
            "colorbar": {
             "outlinewidth": 0,
             "tickcolor": "rgb(36,36,36)",
             "ticklen": 8,
             "ticks": "outside",
             "tickwidth": 2
            },
            "colorscale": [
             [
              0,
              "rgb(2,4,25)"
             ],
             [
              0.06274509803921569,
              "rgb(24,15,41)"
             ],
             [
              0.12549019607843137,
              "rgb(47,23,57)"
             ],
             [
              0.18823529411764706,
              "rgb(71,28,72)"
             ],
             [
              0.25098039215686274,
              "rgb(97,30,82)"
             ],
             [
              0.3137254901960784,
              "rgb(123,30,89)"
             ],
             [
              0.3764705882352941,
              "rgb(150,27,91)"
             ],
             [
              0.4392156862745098,
              "rgb(177,22,88)"
             ],
             [
              0.5019607843137255,
              "rgb(203,26,79)"
             ],
             [
              0.5647058823529412,
              "rgb(223,47,67)"
             ],
             [
              0.6274509803921569,
              "rgb(236,76,61)"
             ],
             [
              0.6901960784313725,
              "rgb(242,107,73)"
             ],
             [
              0.7529411764705882,
              "rgb(244,135,95)"
             ],
             [
              0.8156862745098039,
              "rgb(245,162,122)"
             ],
             [
              0.8784313725490196,
              "rgb(246,188,153)"
             ],
             [
              0.9411764705882353,
              "rgb(247,212,187)"
             ],
             [
              1,
              "rgb(250,234,220)"
             ]
            ],
            "type": "heatmapgl"
           }
          ],
          "histogram": [
           {
            "marker": {
             "pattern": {
              "fillmode": "overlay",
              "size": 10,
              "solidity": 0.2
             }
            },
            "type": "histogram"
           }
          ],
          "histogram2d": [
           {
            "colorbar": {
             "outlinewidth": 0,
             "tickcolor": "rgb(36,36,36)",
             "ticklen": 8,
             "ticks": "outside",
             "tickwidth": 2
            },
            "colorscale": [
             [
              0,
              "rgb(2,4,25)"
             ],
             [
              0.06274509803921569,
              "rgb(24,15,41)"
             ],
             [
              0.12549019607843137,
              "rgb(47,23,57)"
             ],
             [
              0.18823529411764706,
              "rgb(71,28,72)"
             ],
             [
              0.25098039215686274,
              "rgb(97,30,82)"
             ],
             [
              0.3137254901960784,
              "rgb(123,30,89)"
             ],
             [
              0.3764705882352941,
              "rgb(150,27,91)"
             ],
             [
              0.4392156862745098,
              "rgb(177,22,88)"
             ],
             [
              0.5019607843137255,
              "rgb(203,26,79)"
             ],
             [
              0.5647058823529412,
              "rgb(223,47,67)"
             ],
             [
              0.6274509803921569,
              "rgb(236,76,61)"
             ],
             [
              0.6901960784313725,
              "rgb(242,107,73)"
             ],
             [
              0.7529411764705882,
              "rgb(244,135,95)"
             ],
             [
              0.8156862745098039,
              "rgb(245,162,122)"
             ],
             [
              0.8784313725490196,
              "rgb(246,188,153)"
             ],
             [
              0.9411764705882353,
              "rgb(247,212,187)"
             ],
             [
              1,
              "rgb(250,234,220)"
             ]
            ],
            "type": "histogram2d"
           }
          ],
          "histogram2dcontour": [
           {
            "colorbar": {
             "outlinewidth": 0,
             "tickcolor": "rgb(36,36,36)",
             "ticklen": 8,
             "ticks": "outside",
             "tickwidth": 2
            },
            "colorscale": [
             [
              0,
              "rgb(2,4,25)"
             ],
             [
              0.06274509803921569,
              "rgb(24,15,41)"
             ],
             [
              0.12549019607843137,
              "rgb(47,23,57)"
             ],
             [
              0.18823529411764706,
              "rgb(71,28,72)"
             ],
             [
              0.25098039215686274,
              "rgb(97,30,82)"
             ],
             [
              0.3137254901960784,
              "rgb(123,30,89)"
             ],
             [
              0.3764705882352941,
              "rgb(150,27,91)"
             ],
             [
              0.4392156862745098,
              "rgb(177,22,88)"
             ],
             [
              0.5019607843137255,
              "rgb(203,26,79)"
             ],
             [
              0.5647058823529412,
              "rgb(223,47,67)"
             ],
             [
              0.6274509803921569,
              "rgb(236,76,61)"
             ],
             [
              0.6901960784313725,
              "rgb(242,107,73)"
             ],
             [
              0.7529411764705882,
              "rgb(244,135,95)"
             ],
             [
              0.8156862745098039,
              "rgb(245,162,122)"
             ],
             [
              0.8784313725490196,
              "rgb(246,188,153)"
             ],
             [
              0.9411764705882353,
              "rgb(247,212,187)"
             ],
             [
              1,
              "rgb(250,234,220)"
             ]
            ],
            "type": "histogram2dcontour"
           }
          ],
          "mesh3d": [
           {
            "colorbar": {
             "outlinewidth": 0,
             "tickcolor": "rgb(36,36,36)",
             "ticklen": 8,
             "ticks": "outside",
             "tickwidth": 2
            },
            "type": "mesh3d"
           }
          ],
          "parcoords": [
           {
            "line": {
             "colorbar": {
              "outlinewidth": 0,
              "tickcolor": "rgb(36,36,36)",
              "ticklen": 8,
              "ticks": "outside",
              "tickwidth": 2
             }
            },
            "type": "parcoords"
           }
          ],
          "pie": [
           {
            "automargin": true,
            "type": "pie"
           }
          ],
          "scatter": [
           {
            "fillpattern": {
             "fillmode": "overlay",
             "size": 10,
             "solidity": 0.2
            },
            "type": "scatter"
           }
          ],
          "scatter3d": [
           {
            "line": {
             "colorbar": {
              "outlinewidth": 0,
              "tickcolor": "rgb(36,36,36)",
              "ticklen": 8,
              "ticks": "outside",
              "tickwidth": 2
             }
            },
            "marker": {
             "colorbar": {
              "outlinewidth": 0,
              "tickcolor": "rgb(36,36,36)",
              "ticklen": 8,
              "ticks": "outside",
              "tickwidth": 2
             }
            },
            "type": "scatter3d"
           }
          ],
          "scattercarpet": [
           {
            "marker": {
             "colorbar": {
              "outlinewidth": 0,
              "tickcolor": "rgb(36,36,36)",
              "ticklen": 8,
              "ticks": "outside",
              "tickwidth": 2
             }
            },
            "type": "scattercarpet"
           }
          ],
          "scattergeo": [
           {
            "marker": {
             "colorbar": {
              "outlinewidth": 0,
              "tickcolor": "rgb(36,36,36)",
              "ticklen": 8,
              "ticks": "outside",
              "tickwidth": 2
             }
            },
            "type": "scattergeo"
           }
          ],
          "scattergl": [
           {
            "marker": {
             "colorbar": {
              "outlinewidth": 0,
              "tickcolor": "rgb(36,36,36)",
              "ticklen": 8,
              "ticks": "outside",
              "tickwidth": 2
             }
            },
            "type": "scattergl"
           }
          ],
          "scattermapbox": [
           {
            "marker": {
             "colorbar": {
              "outlinewidth": 0,
              "tickcolor": "rgb(36,36,36)",
              "ticklen": 8,
              "ticks": "outside",
              "tickwidth": 2
             }
            },
            "type": "scattermapbox"
           }
          ],
          "scatterpolar": [
           {
            "marker": {
             "colorbar": {
              "outlinewidth": 0,
              "tickcolor": "rgb(36,36,36)",
              "ticklen": 8,
              "ticks": "outside",
              "tickwidth": 2
             }
            },
            "type": "scatterpolar"
           }
          ],
          "scatterpolargl": [
           {
            "marker": {
             "colorbar": {
              "outlinewidth": 0,
              "tickcolor": "rgb(36,36,36)",
              "ticklen": 8,
              "ticks": "outside",
              "tickwidth": 2
             }
            },
            "type": "scatterpolargl"
           }
          ],
          "scatterternary": [
           {
            "marker": {
             "colorbar": {
              "outlinewidth": 0,
              "tickcolor": "rgb(36,36,36)",
              "ticklen": 8,
              "ticks": "outside",
              "tickwidth": 2
             }
            },
            "type": "scatterternary"
           }
          ],
          "surface": [
           {
            "colorbar": {
             "outlinewidth": 0,
             "tickcolor": "rgb(36,36,36)",
             "ticklen": 8,
             "ticks": "outside",
             "tickwidth": 2
            },
            "colorscale": [
             [
              0,
              "rgb(2,4,25)"
             ],
             [
              0.06274509803921569,
              "rgb(24,15,41)"
             ],
             [
              0.12549019607843137,
              "rgb(47,23,57)"
             ],
             [
              0.18823529411764706,
              "rgb(71,28,72)"
             ],
             [
              0.25098039215686274,
              "rgb(97,30,82)"
             ],
             [
              0.3137254901960784,
              "rgb(123,30,89)"
             ],
             [
              0.3764705882352941,
              "rgb(150,27,91)"
             ],
             [
              0.4392156862745098,
              "rgb(177,22,88)"
             ],
             [
              0.5019607843137255,
              "rgb(203,26,79)"
             ],
             [
              0.5647058823529412,
              "rgb(223,47,67)"
             ],
             [
              0.6274509803921569,
              "rgb(236,76,61)"
             ],
             [
              0.6901960784313725,
              "rgb(242,107,73)"
             ],
             [
              0.7529411764705882,
              "rgb(244,135,95)"
             ],
             [
              0.8156862745098039,
              "rgb(245,162,122)"
             ],
             [
              0.8784313725490196,
              "rgb(246,188,153)"
             ],
             [
              0.9411764705882353,
              "rgb(247,212,187)"
             ],
             [
              1,
              "rgb(250,234,220)"
             ]
            ],
            "type": "surface"
           }
          ],
          "table": [
           {
            "cells": {
             "fill": {
              "color": "rgb(231,231,240)"
             },
             "line": {
              "color": "white"
             }
            },
            "header": {
             "fill": {
              "color": "rgb(183,183,191)"
             },
             "line": {
              "color": "white"
             }
            },
            "type": "table"
           }
          ]
         },
         "layout": {
          "annotationdefaults": {
           "arrowcolor": "rgb(67,103,167)"
          },
          "autotypenumbers": "strict",
          "coloraxis": {
           "colorbar": {
            "outlinewidth": 0,
            "tickcolor": "rgb(36,36,36)",
            "ticklen": 8,
            "ticks": "outside",
            "tickwidth": 2
           }
          },
          "colorscale": {
           "sequential": [
            [
             0,
             "rgb(2,4,25)"
            ],
            [
             0.06274509803921569,
             "rgb(24,15,41)"
            ],
            [
             0.12549019607843137,
             "rgb(47,23,57)"
            ],
            [
             0.18823529411764706,
             "rgb(71,28,72)"
            ],
            [
             0.25098039215686274,
             "rgb(97,30,82)"
            ],
            [
             0.3137254901960784,
             "rgb(123,30,89)"
            ],
            [
             0.3764705882352941,
             "rgb(150,27,91)"
            ],
            [
             0.4392156862745098,
             "rgb(177,22,88)"
            ],
            [
             0.5019607843137255,
             "rgb(203,26,79)"
            ],
            [
             0.5647058823529412,
             "rgb(223,47,67)"
            ],
            [
             0.6274509803921569,
             "rgb(236,76,61)"
            ],
            [
             0.6901960784313725,
             "rgb(242,107,73)"
            ],
            [
             0.7529411764705882,
             "rgb(244,135,95)"
            ],
            [
             0.8156862745098039,
             "rgb(245,162,122)"
            ],
            [
             0.8784313725490196,
             "rgb(246,188,153)"
            ],
            [
             0.9411764705882353,
             "rgb(247,212,187)"
            ],
            [
             1,
             "rgb(250,234,220)"
            ]
           ],
           "sequentialminus": [
            [
             0,
             "rgb(2,4,25)"
            ],
            [
             0.06274509803921569,
             "rgb(24,15,41)"
            ],
            [
             0.12549019607843137,
             "rgb(47,23,57)"
            ],
            [
             0.18823529411764706,
             "rgb(71,28,72)"
            ],
            [
             0.25098039215686274,
             "rgb(97,30,82)"
            ],
            [
             0.3137254901960784,
             "rgb(123,30,89)"
            ],
            [
             0.3764705882352941,
             "rgb(150,27,91)"
            ],
            [
             0.4392156862745098,
             "rgb(177,22,88)"
            ],
            [
             0.5019607843137255,
             "rgb(203,26,79)"
            ],
            [
             0.5647058823529412,
             "rgb(223,47,67)"
            ],
            [
             0.6274509803921569,
             "rgb(236,76,61)"
            ],
            [
             0.6901960784313725,
             "rgb(242,107,73)"
            ],
            [
             0.7529411764705882,
             "rgb(244,135,95)"
            ],
            [
             0.8156862745098039,
             "rgb(245,162,122)"
            ],
            [
             0.8784313725490196,
             "rgb(246,188,153)"
            ],
            [
             0.9411764705882353,
             "rgb(247,212,187)"
            ],
            [
             1,
             "rgb(250,234,220)"
            ]
           ]
          },
          "colorway": [
           "rgb(76,114,176)",
           "rgb(221,132,82)",
           "rgb(85,168,104)",
           "rgb(196,78,82)",
           "rgb(129,114,179)",
           "rgb(147,120,96)",
           "rgb(218,139,195)",
           "rgb(140,140,140)",
           "rgb(204,185,116)",
           "rgb(100,181,205)"
          ],
          "font": {
           "color": "rgb(36,36,36)"
          },
          "geo": {
           "bgcolor": "white",
           "lakecolor": "white",
           "landcolor": "rgb(234,234,242)",
           "showlakes": true,
           "showland": true,
           "subunitcolor": "white"
          },
          "hoverlabel": {
           "align": "left"
          },
          "hovermode": "closest",
          "paper_bgcolor": "white",
          "plot_bgcolor": "rgb(234,234,242)",
          "polar": {
           "angularaxis": {
            "gridcolor": "white",
            "linecolor": "white",
            "showgrid": true,
            "ticks": ""
           },
           "bgcolor": "rgb(234,234,242)",
           "radialaxis": {
            "gridcolor": "white",
            "linecolor": "white",
            "showgrid": true,
            "ticks": ""
           }
          },
          "scene": {
           "xaxis": {
            "backgroundcolor": "rgb(234,234,242)",
            "gridcolor": "white",
            "gridwidth": 2,
            "linecolor": "white",
            "showbackground": true,
            "showgrid": true,
            "ticks": "",
            "zerolinecolor": "white"
           },
           "yaxis": {
            "backgroundcolor": "rgb(234,234,242)",
            "gridcolor": "white",
            "gridwidth": 2,
            "linecolor": "white",
            "showbackground": true,
            "showgrid": true,
            "ticks": "",
            "zerolinecolor": "white"
           },
           "zaxis": {
            "backgroundcolor": "rgb(234,234,242)",
            "gridcolor": "white",
            "gridwidth": 2,
            "linecolor": "white",
            "showbackground": true,
            "showgrid": true,
            "ticks": "",
            "zerolinecolor": "white"
           }
          },
          "shapedefaults": {
           "fillcolor": "rgb(67,103,167)",
           "line": {
            "width": 0
           },
           "opacity": 0.5
          },
          "ternary": {
           "aaxis": {
            "gridcolor": "white",
            "linecolor": "white",
            "showgrid": true,
            "ticks": ""
           },
           "baxis": {
            "gridcolor": "white",
            "linecolor": "white",
            "showgrid": true,
            "ticks": ""
           },
           "bgcolor": "rgb(234,234,242)",
           "caxis": {
            "gridcolor": "white",
            "linecolor": "white",
            "showgrid": true,
            "ticks": ""
           }
          },
          "xaxis": {
           "automargin": true,
           "gridcolor": "white",
           "linecolor": "white",
           "showgrid": true,
           "ticks": "",
           "title": {
            "standoff": 15
           },
           "zerolinecolor": "white"
          },
          "yaxis": {
           "automargin": true,
           "gridcolor": "white",
           "linecolor": "white",
           "showgrid": true,
           "ticks": "",
           "title": {
            "standoff": 15
           },
           "zerolinecolor": "white"
          }
         }
        },
        "xaxis": {
         "anchor": "y",
         "categoryorder": "category ascending",
         "domain": [
          0,
          0.15
         ],
         "title": {
          "text": "発生時（始期）"
         }
        },
        "xaxis2": {
         "anchor": "y2",
         "categoryorder": "category ascending",
         "domain": [
          0.16999999999999998,
          0.31999999999999995
         ],
         "matches": "x",
         "title": {
          "text": "発生時（始期）"
         }
        },
        "xaxis3": {
         "anchor": "y3",
         "categoryorder": "category ascending",
         "domain": [
          0.33999999999999997,
          0.49
         ],
         "matches": "x",
         "title": {
          "text": "発生時（始期）"
         }
        },
        "xaxis4": {
         "anchor": "y4",
         "categoryorder": "category ascending",
         "domain": [
          0.51,
          0.66
         ],
         "matches": "x",
         "title": {
          "text": "発生時（始期）"
         }
        },
        "xaxis5": {
         "anchor": "y5",
         "categoryorder": "category ascending",
         "domain": [
          0.6799999999999999,
          0.83
         ],
         "matches": "x",
         "title": {
          "text": "発生時（始期）"
         }
        },
        "xaxis6": {
         "anchor": "y6",
         "categoryorder": "category ascending",
         "domain": [
          0.85,
          1
         ],
         "matches": "x",
         "title": {
          "text": "発生時（始期）"
         }
        },
        "yaxis": {
         "anchor": "x",
         "domain": [
          0,
          1
         ],
         "title": {
          "text": "count"
         }
        },
        "yaxis2": {
         "anchor": "x2",
         "domain": [
          0,
          1
         ],
         "matches": "y",
         "showticklabels": false
        },
        "yaxis3": {
         "anchor": "x3",
         "domain": [
          0,
          1
         ],
         "matches": "y",
         "showticklabels": false
        },
        "yaxis4": {
         "anchor": "x4",
         "domain": [
          0,
          1
         ],
         "matches": "y",
         "showticklabels": false
        },
        "yaxis5": {
         "anchor": "x5",
         "domain": [
          0,
          1
         ],
         "matches": "y",
         "showticklabels": false
        },
        "yaxis6": {
         "anchor": "x6",
         "domain": [
          0,
          1
         ],
         "matches": "y",
         "showticklabels": false
        }
       }
      }
     },
     "metadata": {},
     "output_type": "display_data"
    }
   ],
   "source": [
    "fig = px.bar(kashiwa,\n",
    "            x='発生時（始期）',\n",
    "            facet_col='被害者の職業',\n",
    "            template='seaborn')\n",
    "fig.update_traces(\n",
    "    marker_line_width=0\n",
    ")\n",
    "fig.update_xaxes(categoryorder='category ascending')\n",
    "fig.show()"
   ]
  },
  {
   "attachments": {},
   "cell_type": "markdown",
   "metadata": {
    "slideshow": {
     "slide_type": "slide"
    }
   },
   "source": [
    "# Geocoding\n",
    "\n",
    "<img src=\"https://raw.githubusercontent.com/yohman/23-1-Reitaku-GIS/main/Weeks/Week08/images/Geocoding_01.png\" width=400>\n",
    "\n",
    "住所だけではマップイングできません。座標が必要です。なので、住所から座標を特定するプロセスが必要である。このプロセスを<h1>【ジオコーティング】</h1>という。\n"
   ]
  },
  {
   "attachments": {},
   "cell_type": "markdown",
   "metadata": {
    "slideshow": {
     "slide_type": "slide"
    }
   },
   "source": [
    "ジオコーティングと言えば、色んな方法があります。現在、日本で無料でジオコーティングサービスを提供しているのが国土地理院のジオコーティングAPI。\n",
    "\n",
    "試してみよう。このようにURLをブラウザーで記入するだけで座標が返ってくるサービスである。国土地理院さん、とても便利なサービス、ありがとうございます！\n",
    "\n",
    "https://msearch.gsi.go.jp/address-search/AddressSearch?q=麗澤大学"
   ]
  },
  {
   "attachments": {},
   "cell_type": "markdown",
   "metadata": {
    "slideshow": {
     "slide_type": "slide"
    }
   },
   "source": [
    "では、このプロセスに従って、アドレスから座標を出力する Python 関数を作成します。"
   ]
  },
  {
   "cell_type": "code",
   "execution_count": 36,
   "metadata": {},
   "outputs": [],
   "source": [
    "# 関数を作成\n",
    "def geocode(address):\n",
    "\n",
    "    # ジオコーティングURL\n",
    "    url = \"https://msearch.gsi.go.jp/address-search/AddressSearch?q=\"\n",
    "\n",
    "    # try/exceptでエラーをキャッチ\n",
    "    # 成功の場合\n",
    "    try:\n",
    "        s_quote = urllib.parse.quote(address)\n",
    "        response = requests.get(url + s_quote)\n",
    "        if len(response.json())>0:\n",
    "            return response.json()[0][\"geometry\"][\"coordinates\"] \n",
    "        else:\n",
    "            return False\n",
    "        \n",
    "    # 失敗の場合\n",
    "    except:\n",
    "        return False"
   ]
  },
  {
   "attachments": {},
   "cell_type": "markdown",
   "metadata": {
    "slideshow": {
     "slide_type": "slide"
    }
   },
   "source": [
    "関数の使い方は簡単！"
   ]
  },
  {
   "cell_type": "code",
   "execution_count": 39,
   "metadata": {},
   "outputs": [
    {
     "data": {
      "text/plain": [
       "[140.291519, 41.506432]"
      ]
     },
     "execution_count": 39,
     "metadata": {},
     "output_type": "execute_result"
    }
   ],
   "source": [
    "geocode('浦和美園駅')"
   ]
  },
  {
   "attachments": {},
   "cell_type": "markdown",
   "metadata": {
    "slideshow": {
     "slide_type": "slide"
    }
   },
   "source": [
    "## データフレームの準備\n",
    "\n",
    "`kashiwa`のデータフレームの各行の住所をジオコーティングする前に`住所`と座標（`lat`,`lon`）のフィールドを作りましょう。"
   ]
  },
  {
   "cell_type": "code",
   "execution_count": 40,
   "metadata": {},
   "outputs": [],
   "source": [
    "# 空の住所フィールドを作成\n",
    "kashiwa['住所'] = ''"
   ]
  },
  {
   "cell_type": "code",
   "execution_count": 41,
   "metadata": {},
   "outputs": [],
   "source": [
    "# 空だがfloatとしてフィールドを作成\n",
    "kashiwa['lat'] = pd.Series(dtype=float)\n",
    "kashiwa['lon'] = pd.Series(dtype=float)"
   ]
  },
  {
   "attachments": {},
   "cell_type": "markdown",
   "metadata": {
    "slideshow": {
     "slide_type": "slide"
    }
   },
   "source": [
    "<img src=\"https://raw.githubusercontent.com/yohman/23-1-Reitaku-GIS/main/Weeks/Week08/images/concat.png\" width=600>\n",
    "\n",
    "↑で作った住所フィールドに次の 3 つのフィールドを連結します。\n",
    "\n",
    "1. 都道府県（発生地）\n",
    "1. 市区町村（発生地）\n",
    "1. 町丁目（発生地）"
   ]
  },
  {
   "cell_type": "code",
   "execution_count": 42,
   "metadata": {},
   "outputs": [],
   "source": [
    "# 住所フィールドを作成\n",
    "kashiwa['住所'] = kashiwa['都道府県（発生地）']+kashiwa['市区町村（発生地）']+kashiwa['町丁目（発生地）']"
   ]
  },
  {
   "cell_type": "code",
   "execution_count": 43,
   "metadata": {
    "slideshow": {
     "slide_type": "slide"
    }
   },
   "outputs": [
    {
     "data": {
      "text/html": [
       "<div>\n",
       "<style scoped>\n",
       "    .dataframe tbody tr th:only-of-type {\n",
       "        vertical-align: middle;\n",
       "    }\n",
       "\n",
       "    .dataframe tbody tr th {\n",
       "        vertical-align: top;\n",
       "    }\n",
       "\n",
       "    .dataframe thead th {\n",
       "        text-align: right;\n",
       "    }\n",
       "</style>\n",
       "<table border=\"1\" class=\"dataframe\">\n",
       "  <thead>\n",
       "    <tr style=\"text-align: right;\">\n",
       "      <th></th>\n",
       "      <th>罪名</th>\n",
       "      <th>手口</th>\n",
       "      <th>管轄警察署（発生地）</th>\n",
       "      <th>管轄交番・駐在所（発生地）</th>\n",
       "      <th>市区町村コード（発生地）</th>\n",
       "      <th>都道府県（発生地）</th>\n",
       "      <th>市区町村（発生地）</th>\n",
       "      <th>町丁目（発生地）</th>\n",
       "      <th>発生年月日（始期）</th>\n",
       "      <th>発生時（始期）</th>\n",
       "      <th>発生場所</th>\n",
       "      <th>発生場所の詳細</th>\n",
       "      <th>被害者の年齢</th>\n",
       "      <th>被害者の職業</th>\n",
       "      <th>施錠関係</th>\n",
       "      <th>住所</th>\n",
       "      <th>lat</th>\n",
       "      <th>lon</th>\n",
       "    </tr>\n",
       "  </thead>\n",
       "  <tbody>\n",
       "    <tr>\n",
       "      <th>3062</th>\n",
       "      <td>窃盗</td>\n",
       "      <td>自転車盗</td>\n",
       "      <td>柏</td>\n",
       "      <td>柏の葉キャンパス交番</td>\n",
       "      <td>122173</td>\n",
       "      <td>千葉県</td>\n",
       "      <td>柏市</td>\n",
       "      <td>若柴</td>\n",
       "      <td>2022-01-06</td>\n",
       "      <td>13</td>\n",
       "      <td>その他</td>\n",
       "      <td>駐車（輪）場</td>\n",
       "      <td>10歳代</td>\n",
       "      <td>中学生</td>\n",
       "      <td>施錠せず</td>\n",
       "      <td>千葉県柏市若柴</td>\n",
       "      <td>NaN</td>\n",
       "      <td>NaN</td>\n",
       "    </tr>\n",
       "    <tr>\n",
       "      <th>3112</th>\n",
       "      <td>窃盗</td>\n",
       "      <td>自転車盗</td>\n",
       "      <td>柏</td>\n",
       "      <td>柏駅前交番</td>\n",
       "      <td>122173</td>\n",
       "      <td>千葉県</td>\n",
       "      <td>柏市</td>\n",
       "      <td>柏２丁目</td>\n",
       "      <td>2022-03-27</td>\n",
       "      <td>09</td>\n",
       "      <td>その他</td>\n",
       "      <td>その他</td>\n",
       "      <td>20歳代</td>\n",
       "      <td>その他</td>\n",
       "      <td>施錠した</td>\n",
       "      <td>千葉県柏市柏２丁目</td>\n",
       "      <td>NaN</td>\n",
       "      <td>NaN</td>\n",
       "    </tr>\n",
       "    <tr>\n",
       "      <th>2800</th>\n",
       "      <td>窃盗</td>\n",
       "      <td>自転車盗</td>\n",
       "      <td>柏</td>\n",
       "      <td>北柏駅前交番</td>\n",
       "      <td>122173</td>\n",
       "      <td>千葉県</td>\n",
       "      <td>柏市</td>\n",
       "      <td>北柏２丁目</td>\n",
       "      <td>2022-03-23</td>\n",
       "      <td>11</td>\n",
       "      <td>その他</td>\n",
       "      <td>駐車（輪）場</td>\n",
       "      <td>60-64歳</td>\n",
       "      <td>その他</td>\n",
       "      <td>施錠した</td>\n",
       "      <td>千葉県柏市北柏２丁目</td>\n",
       "      <td>NaN</td>\n",
       "      <td>NaN</td>\n",
       "    </tr>\n",
       "  </tbody>\n",
       "</table>\n",
       "</div>"
      ],
      "text/plain": [
       "      罪名    手口 管轄警察署（発生地） 管轄交番・駐在所（発生地）  市区町村コード（発生地） 都道府県（発生地） 市区町村（発生地）   \n",
       "3062  窃盗  自転車盗          柏    柏の葉キャンパス交番        122173       千葉県        柏市  \\\n",
       "3112  窃盗  自転車盗          柏         柏駅前交番        122173       千葉県        柏市   \n",
       "2800  窃盗  自転車盗          柏        北柏駅前交番        122173       千葉県        柏市   \n",
       "\n",
       "     町丁目（発生地）   発生年月日（始期） 発生時（始期） 発生場所 発生場所の詳細  被害者の年齢 被害者の職業  施錠関係   \n",
       "3062       若柴  2022-01-06      13  その他  駐車（輪）場    10歳代    中学生  施錠せず  \\\n",
       "3112     柏２丁目  2022-03-27      09  その他     その他    20歳代    その他  施錠した   \n",
       "2800    北柏２丁目  2022-03-23      11  その他  駐車（輪）場  60-64歳    その他  施錠した   \n",
       "\n",
       "              住所  lat  lon  \n",
       "3062     千葉県柏市若柴  NaN  NaN  \n",
       "3112   千葉県柏市柏２丁目  NaN  NaN  \n",
       "2800  千葉県柏市北柏２丁目  NaN  NaN  "
      ]
     },
     "execution_count": 43,
     "metadata": {},
     "output_type": "execute_result"
    }
   ],
   "source": [
    "# random sampleで上手く行ったかどうかをチェック\n",
    "kashiwa.sample(3)"
   ]
  },
  {
   "attachments": {},
   "cell_type": "markdown",
   "metadata": {
    "slideshow": {
     "slide_type": "slide"
    }
   },
   "source": [
    "これで準備は整えました。`kashiwa` のデータフレームを for loop に入れて住所を一つずつジオコーティングしよう。\n",
    "\n",
    "この作業は数分かかるので注意。千件以上のデータフレームはなるべく避けよう。"
   ]
  },
  {
   "cell_type": "code",
   "execution_count": 44,
   "metadata": {},
   "outputs": [
    {
     "name": "stdout",
     "output_type": "stream",
     "text": [
      "千葉県柏市今谷上町 139.956406 35.841019\n",
      "千葉県柏市今谷上町 139.956406 35.841019\n",
      "千葉県柏市今谷上町 139.956406 35.841019\n",
      "千葉県柏市今谷上町 139.956406 35.841019\n",
      "千葉県柏市今谷上町 139.956406 35.841019\n",
      "千葉県柏市酒井根 139.957825 35.81815\n",
      "千葉県柏市酒井根３丁目 139.965973 35.818859\n",
      "千葉県柏市酒井根４丁目 139.960007 35.820488\n",
      "千葉県柏市酒井根５丁目 139.961349 35.824585\n",
      "千葉県柏市酒井根５丁目 139.961349 35.824585\n",
      "千葉県柏市逆井 139.982468 35.815441\n",
      "千葉県柏市中新宿３丁目 139.946884 35.83292\n",
      "千葉県柏市西山２丁目 139.95401 35.82056\n",
      "千葉県柏市光ケ丘１丁目 139.957794 35.833195\n",
      "千葉県柏市光ケ丘１丁目 139.957794 35.833195\n",
      "千葉県柏市光ケ丘団地 139.957809 35.829479\n",
      "千葉県柏市東中新宿１丁目 139.960556 35.833984\n",
      "千葉県柏市東中新宿１丁目 139.960556 35.833984\n",
      "千葉県柏市東中新宿１丁目 139.960556 35.833984\n",
      "千葉県柏市柏 139.986511 35.864445\n",
      "千葉県柏市柏 139.986511 35.864445\n",
      "千葉県柏市柏 139.986511 35.864445\n",
      "千葉県柏市柏下 139.983795 35.870007\n",
      "千葉県柏市柏堀之内新田 139.983582 35.875332\n",
      "千葉県柏市北柏２丁目 139.989914 35.872643\n",
      "千葉県柏市北柏２丁目 139.989914 35.872643\n",
      "千葉県柏市北柏２丁目 139.989914 35.872643\n",
      "千葉県柏市北柏３丁目 139.987793 35.872192\n",
      "千葉県柏市北柏３丁目 139.987793 35.872192\n",
      "千葉県柏市北柏４丁目 139.986893 35.870586\n",
      "千葉県柏市北柏４丁目 139.986893 35.870586\n",
      "千葉県柏市北柏５丁目 139.990295 35.868679\n",
      "千葉県柏市宿連寺 139.985229 35.887501\n",
      "千葉県柏市宿連寺 139.985229 35.887501\n",
      "千葉県柏市根戸 139.98645 35.88113\n",
      "千葉県柏市根戸 139.98645 35.88113\n",
      "千葉県柏市根戸 139.98645 35.88113\n",
      "千葉県柏市根戸 139.98645 35.88113\n",
      "千葉県柏市根戸 139.98645 35.88113\n",
      "千葉県柏市根戸 139.98645 35.88113\n",
      "千葉県柏市根戸 139.98645 35.88113\n",
      "千葉県柏市根戸 139.98645 35.88113\n",
      "千葉県柏市根戸 139.98645 35.88113\n",
      "千葉県柏市根戸 139.98645 35.88113\n",
      "千葉県柏市根戸 139.98645 35.88113\n",
      "千葉県柏市根戸 139.98645 35.88113\n",
      "千葉県柏市根戸 139.98645 35.88113\n",
      "千葉県柏市根戸 139.98645 35.88113\n",
      "千葉県柏市根戸 139.98645 35.88113\n",
      "千葉県柏市根戸 139.98645 35.88113\n",
      "千葉県柏市根戸 139.98645 35.88113\n",
      "千葉県柏市根戸 139.98645 35.88113\n",
      "千葉県柏市根戸 139.98645 35.88113\n",
      "千葉県柏市根戸 139.98645 35.88113\n",
      "千葉県柏市加賀１丁目 139.970932 35.832733\n",
      "千葉県柏市逆井 139.982468 35.815441\n",
      "千葉県柏市逆井 139.982468 35.815441\n",
      "千葉県柏市逆井 139.982468 35.815441\n",
      "千葉県柏市逆井 139.982468 35.815441\n",
      "千葉県柏市逆井 139.982468 35.815441\n",
      "千葉県柏市逆井 139.982468 35.815441\n",
      "千葉県柏市逆井 139.982468 35.815441\n",
      "千葉県柏市逆井 139.982468 35.815441\n",
      "千葉県柏市逆井１丁目 139.983444 35.822018\n",
      "千葉県柏市逆井１丁目 139.983444 35.822018\n",
      "千葉県柏市逆井１丁目 139.983444 35.822018\n",
      "千葉県柏市逆井２丁目 139.979614 35.824383\n",
      "千葉県柏市逆井２丁目 139.979614 35.824383\n",
      "千葉県柏市逆井２丁目 139.979614 35.824383\n",
      "千葉県柏市逆井２丁目 139.979614 35.824383\n",
      "千葉県柏市逆井２丁目 139.979614 35.824383\n",
      "千葉県柏市逆井２丁目 139.979614 35.824383\n",
      "千葉県柏市南増尾 139.974075 35.816387\n",
      "千葉県柏市南増尾 139.974075 35.816387\n",
      "千葉県柏市南増尾 139.974075 35.816387\n",
      "千葉県柏市南増尾１丁目 139.971741 35.818909\n",
      "千葉県柏市南増尾２丁目 139.96759 35.817165\n",
      "千葉県柏市南増尾３丁目 139.97052 35.814602\n",
      "千葉県柏市南増尾３丁目 139.97052 35.814602\n",
      "千葉県柏市南増尾３丁目 139.97052 35.814602\n",
      "千葉県柏市南増尾３丁目 139.97052 35.814602\n",
      "千葉県柏市南増尾３丁目 139.97052 35.814602\n",
      "千葉県柏市南増尾４丁目 139.966034 35.813236\n",
      "千葉県柏市南増尾５丁目 139.966537 35.809929\n",
      "千葉県柏市南増尾６丁目 139.963562 35.811157\n",
      "千葉県柏市南増尾８丁目 139.959 35.810768\n",
      "千葉県柏市増尾台１丁目 139.976883 35.827206\n",
      "千葉県柏市増尾台１丁目 139.976883 35.827206\n",
      "千葉県柏市逆井藤ノ台 139.98671 35.822952\n",
      "千葉県柏市逆井藤ノ台 139.98671 35.822952\n",
      "千葉県柏市逆井藤ノ台 139.98671 35.822952\n",
      "千葉県柏市南逆井１丁目 139.970367 35.807571\n",
      "千葉県柏市青葉台２丁目 139.957855 35.813534\n",
      "千葉県柏市青葉台２丁目 139.957855 35.813534\n",
      "千葉県柏市新逆井１丁目 139.972183 35.812092\n",
      "千葉県柏市新逆井２丁目 139.970627 35.809525\n",
      "千葉県柏市新逆井２丁目 139.970627 35.809525\n",
      "千葉県柏市新逆井２丁目 139.970627 35.809525\n",
      "千葉県柏市大井 140.00441 35.850155\n",
      "千葉県柏市逆井２丁目 139.979614 35.824383\n",
      "千葉県柏市新富町１丁目 139.955795 35.85088\n",
      "千葉県柏市豊四季 139.949814 35.859928\n",
      "千葉県柏市豊四季 139.949814 35.859928\n",
      "千葉県柏市豊四季 139.949814 35.859928\n",
      "千葉県柏市豊四季 139.949814 35.859928\n",
      "千葉県柏市豊四季 139.949814 35.859928\n",
      "千葉県柏市豊四季 139.949814 35.859928\n",
      "千葉県柏市豊四季 139.949814 35.859928\n",
      "千葉県柏市豊四季 139.949814 35.859928\n",
      "千葉県柏市南柏１丁目 139.953476 35.845783\n",
      "千葉県柏市南柏１丁目 139.953476 35.845783\n",
      "千葉県柏市南柏１丁目 139.953476 35.845783\n",
      "千葉県柏市南柏１丁目 139.953476 35.845783\n",
      "千葉県柏市南柏１丁目 139.953476 35.845783\n",
      "千葉県柏市南柏１丁目 139.953476 35.845783\n",
      "千葉県柏市南柏１丁目 139.953476 35.845783\n",
      "千葉県柏市南柏２丁目 139.955032 35.847271\n",
      "千葉県柏市南柏２丁目 139.955032 35.847271\n",
      "千葉県柏市南柏２丁目 139.955032 35.847271\n",
      "千葉県柏市南柏２丁目 139.955032 35.847271\n",
      "千葉県柏市豊町２丁目 139.960251 35.851013\n",
      "千葉県柏市豊町２丁目 139.960251 35.851013\n",
      "千葉県柏市豊町２丁目 139.960251 35.851013\n",
      "千葉県柏市南柏中央 139.954956 35.844471\n",
      "千葉県柏市南柏中央 139.954956 35.844471\n",
      "千葉県柏市南柏中央 139.954956 35.844471\n",
      "千葉県柏市南柏中央 139.954956 35.844471\n",
      "千葉県柏市南柏中央 139.954956 35.844471\n",
      "千葉県柏市南柏中央 139.954956 35.844471\n",
      "千葉県柏市南柏中央 139.954956 35.844471\n",
      "千葉県柏市南柏中央 139.954956 35.844471\n",
      "千葉県柏市南柏中央 139.954956 35.844471\n",
      "千葉県柏市南柏中央 139.954956 35.844471\n",
      "千葉県柏市南柏中央 139.954956 35.844471\n",
      "千葉県柏市南柏中央 139.954956 35.844471\n",
      "千葉県柏市南柏中央 139.954956 35.844471\n",
      "千葉県柏市南柏中央 139.954956 35.844471\n",
      "千葉県柏市南柏中央 139.954956 35.844471\n",
      "千葉県柏市加賀３丁目 139.97319 35.830082\n",
      "千葉県柏市加賀３丁目 139.97319 35.830082\n",
      "千葉県柏市加賀３丁目 139.97319 35.830082\n",
      "千葉県柏市加賀３丁目 139.97319 35.830082\n",
      "千葉県柏市逆井２丁目 139.979614 35.824383\n",
      "千葉県柏市増尾１丁目 139.974945 35.832466\n",
      "千葉県柏市増尾２丁目 139.978226 35.831703\n",
      "千葉県柏市増尾４丁目 139.983551 35.835472\n",
      "千葉県柏市増尾８丁目 139.986633 35.829124\n",
      "千葉県柏市増尾台３丁目 139.974731 35.824703\n",
      "千葉県柏市増尾台３丁目 139.974731 35.824703\n",
      "千葉県柏市増尾台４丁目 139.973206 35.821732\n",
      "千葉県柏市増尾台４丁目 139.973206 35.821732\n",
      "千葉県柏市大井 140.00441 35.850155\n",
      "千葉県柏市大井 140.00441 35.850155\n",
      "千葉県柏市大島田 140.012802 35.835773\n",
      "千葉県柏市大島田 140.012802 35.835773\n",
      "千葉県柏市大島田１丁目 140.011703 35.833759\n",
      "千葉県柏市大島田１丁目 140.011703 35.833759\n",
      "千葉県柏市大島田１丁目 140.011703 35.833759\n",
      "千葉県柏市大島田１丁目 140.011703 35.833759\n",
      "千葉県柏市大島田１丁目 140.011703 35.833759\n",
      "千葉県柏市大島田１丁目 140.011703 35.833759\n",
      "千葉県柏市大島田１丁目 140.011703 35.833759\n",
      "千葉県柏市大島田１丁目 140.011703 35.833759\n",
      "千葉県柏市大島田１丁目 140.011703 35.833759\n",
      "千葉県柏市大島田１丁目 140.011703 35.833759\n",
      "千葉県柏市大島田１丁目 140.011703 35.833759\n",
      "千葉県柏市大津ケ丘１丁目 140.003662 35.84325\n",
      "千葉県柏市大津ケ丘２丁目 139.999237 35.841068\n",
      "千葉県柏市大津ケ丘２丁目 139.999237 35.841068\n",
      "千葉県柏市大津ケ丘２丁目 139.999237 35.841068\n",
      "千葉県柏市大津ケ丘３丁目 139.995621 35.840942\n",
      "千葉県柏市大津ケ丘３丁目 139.995621 35.840942\n",
      "千葉県柏市大津ケ丘４丁目 140.002502 35.837143\n",
      "千葉県柏市大津ケ丘４丁目 140.002502 35.837143\n",
      "千葉県柏市大津ケ丘４丁目 140.002502 35.837143\n",
      "千葉県柏市大津ケ丘４丁目 140.002502 35.837143\n",
      "千葉県柏市五條谷 140.016342 35.848038\n",
      "千葉県柏市塚崎 139.996063 35.834927\n",
      "千葉県柏市手賀の杜３丁目 140.026993 35.846394\n",
      "千葉県柏市布施 139.992828 35.891518\n",
      "千葉県柏市つくしが丘４丁目 139.968262 35.835949\n",
      "千葉県柏市つくしが丘５丁目 139.96756 35.83136\n",
      "千葉県柏市常盤台 139.967072 35.84692\n",
      "千葉県柏市豊住３丁目 139.963547 35.838268\n",
      "千葉県柏市豊住３丁目 139.963547 35.838268\n",
      "千葉県柏市豊住３丁目 139.963547 35.838268\n",
      "千葉県柏市豊住４丁目 139.965775 35.842236\n",
      "千葉県柏市豊住５丁目 139.966721 35.840786\n",
      "千葉県柏市豊住５丁目 139.966721 35.840786\n",
      "千葉県柏市名戸ケ谷 139.981064 35.843285\n",
      "千葉県柏市名戸ケ谷１丁目 139.976089 35.845604\n",
      "千葉県柏市新柏１丁目 139.968597 35.839211\n",
      "千葉県柏市新柏３丁目 139.972061 35.841667\n",
      "千葉県柏市明原３丁目 139.963196 35.867088\n",
      "千葉県柏市明原３丁目 139.963196 35.867088\n",
      "千葉県柏市明原３丁目 139.963196 35.867088\n",
      "千葉県柏市明原３丁目 139.963196 35.867088\n",
      "千葉県柏市明原３丁目 139.963196 35.867088\n",
      "千葉県柏市明原４丁目 139.962662 35.864574\n",
      "千葉県柏市明原４丁目 139.962662 35.864574\n",
      "千葉県柏市あけぼの１丁目 139.971985 35.865929\n",
      "千葉県柏市あけぼの２丁目 139.974197 35.868034\n",
      "千葉県柏市あけぼの２丁目 139.974197 35.868034\n",
      "千葉県柏市あけぼの３丁目 139.971756 35.869129\n",
      "千葉県柏市あけぼの３丁目 139.971756 35.869129\n",
      "千葉県柏市あけぼの４丁目 139.968948 35.866798\n",
      "千葉県柏市あけぼの４丁目 139.968948 35.866798\n",
      "千葉県柏市あけぼの４丁目 139.968948 35.866798\n",
      "千葉県柏市あけぼの５丁目 139.967926 35.869289\n",
      "千葉県柏市旭町１丁目 139.968491 35.861916\n",
      "千葉県柏市旭町１丁目 139.968491 35.861916\n",
      "千葉県柏市旭町１丁目 139.968491 35.861916\n",
      "千葉県柏市旭町１丁目 139.968491 35.861916\n",
      "千葉県柏市旭町１丁目 139.968491 35.861916\n",
      "千葉県柏市旭町１丁目 139.968491 35.861916\n",
      "千葉県柏市旭町１丁目 139.968491 35.861916\n",
      "千葉県柏市旭町１丁目 139.968491 35.861916\n",
      "千葉県柏市旭町１丁目 139.968491 35.861916\n",
      "千葉県柏市旭町４丁目 139.962036 35.858974\n",
      "千葉県柏市旭町４丁目 139.962036 35.858974\n",
      "千葉県柏市旭町４丁目 139.962036 35.858974\n",
      "千葉県柏市旭町４丁目 139.962036 35.858974\n",
      "千葉県柏市旭町４丁目 139.962036 35.858974\n",
      "千葉県柏市旭町５丁目 139.962128 35.85675\n",
      "千葉県柏市旭町６丁目 139.958267 35.857044\n",
      "千葉県柏市旭町６丁目 139.958267 35.857044\n",
      "千葉県柏市篠籠田 139.943359 35.868122\n",
      "千葉県柏市末広町 139.970398 35.862904\n",
      "千葉県柏市末広町 139.970398 35.862904\n",
      "千葉県柏市末広町 139.970398 35.862904\n",
      "千葉県柏市末広町 139.970398 35.862904\n",
      "千葉県柏市末広町 139.970398 35.862904\n",
      "千葉県柏市末広町 139.970398 35.862904\n",
      "千葉県柏市末広町 139.970398 35.862904\n",
      "千葉県柏市末広町 139.970398 35.862904\n",
      "千葉県柏市末広町 139.970398 35.862904\n",
      "千葉県柏市末広町 139.970398 35.862904\n",
      "千葉県柏市富里３丁目 139.962891 35.854397\n",
      "千葉県柏市富里３丁目 139.962891 35.854397\n",
      "千葉県柏市富里３丁目 139.962891 35.854397\n",
      "千葉県柏市富里３丁目 139.962891 35.854397\n",
      "千葉県柏市富里３丁目 139.962891 35.854397\n",
      "千葉県柏市富里３丁目 139.962891 35.854397\n",
      "千葉県柏市豊四季台１丁目 139.957932 35.866894\n",
      "千葉県柏市豊四季台１丁目 139.957932 35.866894\n",
      "千葉県柏市豊四季台１丁目 139.957932 35.866894\n",
      "千葉県柏市豊四季台１丁目 139.957932 35.866894\n",
      "千葉県柏市豊四季台３丁目 139.959137 35.862438\n",
      "千葉県柏市豊四季台４丁目 139.956039 35.863903\n",
      "千葉県柏市豊四季台４丁目 139.956039 35.863903\n",
      "千葉県柏市西町 139.957932 35.869198\n",
      "千葉県柏市十余二 139.959305 35.882629\n",
      "千葉県柏市十余二 139.959305 35.882629\n",
      "千葉県柏市根戸 139.98645 35.88113\n",
      "千葉県柏市松ケ崎 139.975952 35.879082\n",
      "千葉県柏市松ケ崎 139.975952 35.879082\n",
      "千葉県柏市松ケ崎 139.975952 35.879082\n",
      "千葉県柏市松ケ崎 139.975952 35.879082\n",
      "千葉県柏市松ケ崎 139.975952 35.879082\n",
      "千葉県柏市松ケ崎 139.975952 35.879082\n",
      "千葉県柏市松ケ崎 139.975952 35.879082\n",
      "千葉県柏市松ケ崎 139.975952 35.879082\n",
      "千葉県柏市松葉町１丁目 139.980759 35.886456\n",
      "千葉県柏市松葉町１丁目 139.980759 35.886456\n",
      "千葉県柏市松葉町３丁目 139.970963 35.886009\n",
      "千葉県柏市松葉町３丁目 139.970963 35.886009\n",
      "千葉県柏市松葉町４丁目 139.971802 35.889114\n",
      "千葉県柏市松葉町４丁目 139.971802 35.889114\n",
      "千葉県柏市松葉町４丁目 139.971802 35.889114\n",
      "千葉県柏市松葉町５丁目 139.966446 35.889473\n",
      "千葉県柏市松葉町５丁目 139.966446 35.889473\n",
      "千葉県柏市松葉町６丁目 139.968033 35.891541\n",
      "千葉県柏市大山台１丁目 139.967804 35.880825\n",
      "千葉県柏市大山台１丁目 139.967804 35.880825\n",
      "千葉県柏市大山台１丁目 139.967804 35.880825\n",
      "千葉県柏市大山台１丁目 139.967804 35.880825\n",
      "千葉県柏市大山台２丁目 139.969193 35.88258\n",
      "千葉県柏市大山台２丁目 139.969193 35.88258\n",
      "千葉県柏市大山台２丁目 139.969193 35.88258\n",
      "千葉県柏市大山台２丁目 139.969193 35.88258\n",
      "千葉県柏市大山台２丁目 139.969193 35.88258\n",
      "千葉県柏市大山台２丁目 139.969193 35.88258\n",
      "千葉県柏市大山台２丁目 139.969193 35.88258\n",
      "千葉県柏市正連寺 139.950058 35.902401\n",
      "千葉県柏市正連寺 139.950058 35.902401\n",
      "千葉県柏市若柴 139.953995 35.891659\n",
      "千葉県柏市若柴 139.953995 35.891659\n",
      "千葉県柏市若柴 139.953995 35.891659\n",
      "千葉県柏市若柴 139.953995 35.891659\n",
      "千葉県柏市若柴 139.953995 35.891659\n",
      "千葉県柏市若柴 139.953995 35.891659\n",
      "千葉県柏市若柴 139.953995 35.891659\n",
      "千葉県柏市若柴 139.953995 35.891659\n",
      "千葉県柏市若柴 139.953995 35.891659\n",
      "千葉県柏市若柴 139.953995 35.891659\n",
      "千葉県柏市若柴 139.953995 35.891659\n",
      "千葉県柏市若柴 139.953995 35.891659\n",
      "千葉県柏市若柴 139.953995 35.891659\n",
      "千葉県柏市若柴 139.953995 35.891659\n",
      "千葉県柏市若柴 139.953995 35.891659\n",
      "千葉県柏市若柴 139.953995 35.891659\n",
      "千葉県柏市若柴 139.953995 35.891659\n",
      "千葉県柏市若柴 139.953995 35.891659\n",
      "千葉県柏市若柴 139.953995 35.891659\n",
      "千葉県柏市若柴 139.953995 35.891659\n",
      "千葉県柏市若柴 139.953995 35.891659\n",
      "千葉県柏市若柴 139.953995 35.891659\n",
      "千葉県柏市柏の葉４丁目 139.937088 35.896427\n",
      "千葉県柏市柏の葉６丁目 139.944931 35.896942\n",
      "千葉県柏市東１丁目 139.97847 35.857388\n",
      "千葉県柏市東上町 139.977722 35.859604\n",
      "千葉県柏市東上町 139.977722 35.859604\n",
      "千葉県柏市泉町 139.967957 35.856449\n",
      "千葉県柏市泉町 139.967957 35.856449\n",
      "千葉県柏市泉町 139.967957 35.856449\n",
      "千葉県柏市泉町 139.967957 35.856449\n",
      "千葉県柏市柏 139.986511 35.864445\n",
      "千葉県柏市柏 139.986511 35.864445\n",
      "千葉県柏市柏 139.986511 35.864445\n",
      "千葉県柏市柏 139.986511 35.864445\n",
      "千葉県柏市柏 139.986511 35.864445\n",
      "千葉県柏市柏 139.986511 35.864445\n",
      "千葉県柏市柏１丁目 139.97142 35.861809\n",
      "千葉県柏市柏１丁目 139.97142 35.861809\n",
      "千葉県柏市柏１丁目 139.97142 35.861809\n",
      "千葉県柏市柏１丁目 139.97142 35.861809\n",
      "千葉県柏市柏１丁目 139.97142 35.861809\n",
      "千葉県柏市柏１丁目 139.97142 35.861809\n",
      "千葉県柏市柏１丁目 139.97142 35.861809\n",
      "千葉県柏市柏１丁目 139.97142 35.861809\n",
      "千葉県柏市柏１丁目 139.97142 35.861809\n",
      "千葉県柏市柏１丁目 139.97142 35.861809\n",
      "千葉県柏市柏１丁目 139.97142 35.861809\n",
      "千葉県柏市柏１丁目 139.97142 35.861809\n",
      "千葉県柏市柏２丁目 139.973999 35.861694\n",
      "千葉県柏市柏２丁目 139.973999 35.861694\n",
      "千葉県柏市柏２丁目 139.973999 35.861694\n",
      "千葉県柏市柏２丁目 139.973999 35.861694\n",
      "千葉県柏市柏２丁目 139.973999 35.861694\n",
      "千葉県柏市柏２丁目 139.973999 35.861694\n",
      "千葉県柏市柏３丁目 139.975159 35.860302\n",
      "千葉県柏市柏３丁目 139.975159 35.860302\n",
      "千葉県柏市柏３丁目 139.975159 35.860302\n",
      "千葉県柏市柏３丁目 139.975159 35.860302\n",
      "千葉県柏市柏３丁目 139.975159 35.860302\n",
      "千葉県柏市柏３丁目 139.975159 35.860302\n",
      "千葉県柏市柏３丁目 139.975159 35.860302\n",
      "千葉県柏市柏３丁目 139.975159 35.860302\n",
      "千葉県柏市柏４丁目 139.974228 35.863529\n",
      "千葉県柏市柏４丁目 139.974228 35.863529\n",
      "千葉県柏市柏４丁目 139.974228 35.863529\n",
      "千葉県柏市柏４丁目 139.974228 35.863529\n",
      "千葉県柏市柏４丁目 139.974228 35.863529\n",
      "千葉県柏市柏５丁目 139.97612 35.866447\n",
      "千葉県柏市柏５丁目 139.97612 35.866447\n",
      "千葉県柏市柏５丁目 139.97612 35.866447\n",
      "千葉県柏市柏５丁目 139.97612 35.866447\n",
      "千葉県柏市柏５丁目 139.97612 35.866447\n",
      "千葉県柏市柏５丁目 139.97612 35.866447\n",
      "千葉県柏市柏５丁目 139.97612 35.866447\n",
      "千葉県柏市柏５丁目 139.97612 35.866447\n",
      "千葉県柏市柏５丁目 139.97612 35.866447\n",
      "千葉県柏市柏５丁目 139.97612 35.866447\n",
      "千葉県柏市柏６丁目 139.977219 35.864346\n",
      "千葉県柏市柏６丁目 139.977219 35.864346\n",
      "千葉県柏市柏６丁目 139.977219 35.864346\n",
      "千葉県柏市柏６丁目 139.977219 35.864346\n",
      "千葉県柏市柏７丁目 139.97995 35.862926\n",
      "千葉県柏市桜台 139.981522 35.860554\n",
      "千葉県柏市桜台 139.981522 35.860554\n",
      "千葉県柏市末広町 139.970398 35.862904\n",
      "千葉県柏市中央１丁目 139.972931 35.857903\n",
      "千葉県柏市中央２丁目 139.972137 35.855583\n",
      "千葉県柏市中央２丁目 139.972137 35.855583\n",
      "千葉県柏市中央２丁目 139.972137 35.855583\n",
      "千葉県柏市中央２丁目 139.972137 35.855583\n",
      "千葉県柏市中央町 139.970566 35.859303\n",
      "千葉県柏市中央町 139.970566 35.859303\n",
      "千葉県柏市中央町 139.970566 35.859303\n",
      "千葉県柏市中央町 139.970566 35.859303\n",
      "千葉県柏市中央町 139.970566 35.859303\n",
      "千葉県柏市中央町 139.970566 35.859303\n",
      "千葉県柏市中央町 139.970566 35.859303\n",
      "千葉県柏市中央町 139.970566 35.859303\n",
      "千葉県柏市中央町 139.970566 35.859303\n",
      "千葉県柏市富里２丁目 139.96521 35.853264\n",
      "千葉県柏市富里２丁目 139.96521 35.853264\n",
      "千葉県柏市北柏台 139.992081 35.876255\n",
      "千葉県柏市岩井 140.034134 35.84705\n",
      "千葉県柏市東台本町 139.983749 35.858639\n",
      "千葉県柏市永楽台１丁目 139.968948 35.844578\n",
      "千葉県柏市柏 139.986511 35.864445\n",
      "千葉県柏市柏 139.986511 35.864445\n",
      "千葉県柏市柏 139.986511 35.864445\n",
      "千葉県柏市柏 139.986511 35.864445\n",
      "千葉県柏市柏３丁目 139.975159 35.860302\n",
      "千葉県柏市関場町 139.983734 35.850071\n",
      "千葉県柏市関場町 139.983734 35.850071\n",
      "千葉県柏市千代田１丁目 139.976288 35.856525\n",
      "千葉県柏市千代田２丁目 139.975143 35.853741\n",
      "千葉県柏市千代田２丁目 139.975143 35.853741\n",
      "千葉県柏市千代田２丁目 139.975143 35.853741\n",
      "千葉県柏市千代田３丁目 139.977646 35.853451\n",
      "千葉県柏市つくしが丘５丁目 139.96756 35.83136\n",
      "千葉県柏市戸張 139.993591 35.856003\n",
      "千葉県柏市戸張 139.993591 35.856003\n",
      "千葉県柏市戸張 139.993591 35.856003\n",
      "千葉県柏市戸張 139.993591 35.856003\n",
      "千葉県柏市若柴 139.953995 35.891659\n",
      "千葉県柏市若葉町 139.971054 35.85392\n",
      "千葉県柏市若葉町 139.971054 35.85392\n",
      "千葉県柏市若葉町 139.971054 35.85392\n",
      "千葉県柏市若葉町 139.971054 35.85392\n",
      "千葉県柏市東柏１丁目 139.987534 35.851498\n",
      "千葉県柏市東柏２丁目 139.987366 35.849293\n",
      "千葉県柏市船戸 139.952377 35.915867\n",
      "千葉県柏市船戸山高野 139.939484 35.923737\n",
      "千葉県柏市船戸山高野 139.939484 35.923737\n",
      "千葉県柏市大室 139.961746 35.911968\n",
      "千葉県柏市大室 139.961746 35.911968\n",
      "千葉県柏市大室 139.961746 35.911968\n",
      "千葉県柏市大室 139.961746 35.911968\n",
      "千葉県柏市大室 139.961746 35.911968\n",
      "千葉県柏市大室 139.961746 35.911968\n",
      "千葉県柏市大室 139.961746 35.911968\n",
      "千葉県柏市大室 139.961746 35.911968\n",
      "千葉県柏市小青田 139.956726 35.916023\n",
      "千葉県柏市小青田 139.956726 35.916023\n",
      "千葉県柏市小青田 139.956726 35.916023\n",
      "千葉県柏市小青田５丁目 139.959076 35.915054\n",
      "千葉県柏市小青田５丁目 139.959076 35.915054\n",
      "千葉県柏市小青田５丁目 139.959076 35.915054\n",
      "千葉県柏市小青田５丁目 139.959076 35.915054\n",
      "千葉県柏市花野井 139.974243 35.896736\n",
      "千葉県柏市花野井 139.974243 35.896736\n",
      "千葉県柏市花野井 139.974243 35.896736\n",
      "千葉県柏市花野井 139.974243 35.896736\n",
      "千葉県柏市篠籠田 139.943359 35.868122\n",
      "千葉県柏市豊四季 139.949814 35.859928\n",
      "千葉県柏市豊四季 139.949814 35.859928\n",
      "千葉県柏市豊四季 139.949814 35.859928\n",
      "千葉県柏市豊四季 139.949814 35.859928\n",
      "千葉県柏市豊四季 139.949814 35.859928\n",
      "千葉県柏市豊四季 139.949814 35.859928\n",
      "千葉県柏市豊四季 139.949814 35.859928\n",
      "千葉県柏市豊四季 139.949814 35.859928\n",
      "千葉県柏市豊平町 139.957123 35.854702\n",
      "千葉県柏市高南台１丁目 139.996078 35.804619\n",
      "千葉県柏市高南台２丁目 139.991287 35.802979\n",
      "千葉県柏市高南台３丁目 139.993011 35.805519\n",
      "千葉県柏市しいの木台３丁目 139.980179 35.801025\n",
      "千葉県柏市しいの木台４丁目 139.977814 35.80201\n",
      "千葉県柏市しいの木台４丁目 139.977814 35.80201\n",
      "千葉県柏市高柳 139.99794 35.8078\n",
      "千葉県柏市高柳 139.99794 35.8078\n",
      "千葉県柏市高柳 139.99794 35.8078\n",
      "千葉県柏市高柳 139.99794 35.8078\n",
      "千葉県柏市高柳 139.99794 35.8078\n",
      "千葉県柏市高柳 139.99794 35.8078\n",
      "千葉県柏市高柳 139.99794 35.8078\n",
      "千葉県柏市高柳 139.99794 35.8078\n",
      "千葉県柏市高柳 139.99794 35.8078\n",
      "千葉県柏市高柳 139.99794 35.8078\n",
      "千葉県柏市高柳 139.99794 35.8078\n",
      "千葉県柏市高柳１丁目 139.99794 35.8078\n",
      "千葉県柏市高柳１丁目 139.99794 35.8078\n",
      "千葉県柏市高柳１丁目 139.99794 35.8078\n",
      "千葉県柏市高柳１丁目 139.99794 35.8078\n",
      "千葉県柏市高柳１丁目 139.99794 35.8078\n",
      "千葉県柏市高柳２丁目 139.996445 35.809856\n",
      "千葉県柏市高田 139.949219 35.877697\n"
     ]
    }
   ],
   "source": [
    "# kashiwaデータフレームをループ\n",
    "for i,row in kashiwa.iterrows():\n",
    "\n",
    "    # ジオコーティング成功\n",
    "    if geocode(row['住所']) != False:\n",
    "        # 座標を変数に\n",
    "        lon = geocode(row['住所'])[0]\n",
    "        lat = geocode(row['住所'])[1]\n",
    "\n",
    "        # データフレームに値をインプット        \n",
    "        kashiwa.loc[i,'lon'] = lon\n",
    "        kashiwa.loc[i,'lat'] = lat\n",
    "\n",
    "        # 結果をprint\n",
    "        print(row['住所'],lon,lat)\n",
    "    \n",
    "    # ジオコーティング失敗\n",
    "    else:\n",
    "        print(row['住所'],'ジオコーティング失敗')\n",
    "        continue"
   ]
  },
  {
   "cell_type": "code",
   "execution_count": 45,
   "metadata": {
    "slideshow": {
     "slide_type": "slide"
    }
   },
   "outputs": [
    {
     "data": {
      "text/html": [
       "<div>\n",
       "<style scoped>\n",
       "    .dataframe tbody tr th:only-of-type {\n",
       "        vertical-align: middle;\n",
       "    }\n",
       "\n",
       "    .dataframe tbody tr th {\n",
       "        vertical-align: top;\n",
       "    }\n",
       "\n",
       "    .dataframe thead th {\n",
       "        text-align: right;\n",
       "    }\n",
       "</style>\n",
       "<table border=\"1\" class=\"dataframe\">\n",
       "  <thead>\n",
       "    <tr style=\"text-align: right;\">\n",
       "      <th></th>\n",
       "      <th>罪名</th>\n",
       "      <th>手口</th>\n",
       "      <th>管轄警察署（発生地）</th>\n",
       "      <th>管轄交番・駐在所（発生地）</th>\n",
       "      <th>市区町村コード（発生地）</th>\n",
       "      <th>都道府県（発生地）</th>\n",
       "      <th>市区町村（発生地）</th>\n",
       "      <th>町丁目（発生地）</th>\n",
       "      <th>発生年月日（始期）</th>\n",
       "      <th>発生時（始期）</th>\n",
       "      <th>発生場所</th>\n",
       "      <th>発生場所の詳細</th>\n",
       "      <th>被害者の年齢</th>\n",
       "      <th>被害者の職業</th>\n",
       "      <th>施錠関係</th>\n",
       "      <th>住所</th>\n",
       "      <th>lat</th>\n",
       "      <th>lon</th>\n",
       "    </tr>\n",
       "  </thead>\n",
       "  <tbody>\n",
       "    <tr>\n",
       "      <th>2968</th>\n",
       "      <td>窃盗</td>\n",
       "      <td>自転車盗</td>\n",
       "      <td>柏</td>\n",
       "      <td>新柏交番</td>\n",
       "      <td>122173</td>\n",
       "      <td>千葉県</td>\n",
       "      <td>柏市</td>\n",
       "      <td>新柏３丁目</td>\n",
       "      <td>2022-05-01</td>\n",
       "      <td>19</td>\n",
       "      <td>その他の住宅（３階建て以下共同住宅等）</td>\n",
       "      <td>駐車（輪）場</td>\n",
       "      <td>20歳代</td>\n",
       "      <td>その他</td>\n",
       "      <td>施錠せず</td>\n",
       "      <td>千葉県柏市新柏３丁目</td>\n",
       "      <td>35.841667</td>\n",
       "      <td>139.972061</td>\n",
       "    </tr>\n",
       "    <tr>\n",
       "      <th>2861</th>\n",
       "      <td>窃盗</td>\n",
       "      <td>自転車盗</td>\n",
       "      <td>柏</td>\n",
       "      <td>南増尾交番</td>\n",
       "      <td>122173</td>\n",
       "      <td>千葉県</td>\n",
       "      <td>柏市</td>\n",
       "      <td>南増尾８丁目</td>\n",
       "      <td>2022-11-13</td>\n",
       "      <td>15</td>\n",
       "      <td>その他</td>\n",
       "      <td>駐車（輪）場</td>\n",
       "      <td>10歳代</td>\n",
       "      <td>中学生</td>\n",
       "      <td>施錠せず</td>\n",
       "      <td>千葉県柏市南増尾８丁目</td>\n",
       "      <td>35.810768</td>\n",
       "      <td>139.959000</td>\n",
       "    </tr>\n",
       "    <tr>\n",
       "      <th>3018</th>\n",
       "      <td>窃盗</td>\n",
       "      <td>自転車盗</td>\n",
       "      <td>柏</td>\n",
       "      <td>旭町交番</td>\n",
       "      <td>122173</td>\n",
       "      <td>千葉県</td>\n",
       "      <td>柏市</td>\n",
       "      <td>富里３丁目</td>\n",
       "      <td>不明</td>\n",
       "      <td>不明</td>\n",
       "      <td>４階建て以上共同住宅</td>\n",
       "      <td>駐車（輪）場</td>\n",
       "      <td>20歳代</td>\n",
       "      <td>大学生</td>\n",
       "      <td>施錠した</td>\n",
       "      <td>千葉県柏市富里３丁目</td>\n",
       "      <td>35.854397</td>\n",
       "      <td>139.962891</td>\n",
       "    </tr>\n",
       "    <tr>\n",
       "      <th>3103</th>\n",
       "      <td>窃盗</td>\n",
       "      <td>自転車盗</td>\n",
       "      <td>柏</td>\n",
       "      <td>柏駅前交番</td>\n",
       "      <td>122173</td>\n",
       "      <td>千葉県</td>\n",
       "      <td>柏市</td>\n",
       "      <td>柏１丁目</td>\n",
       "      <td>2022-05-12</td>\n",
       "      <td>10</td>\n",
       "      <td>駐車（輪）場</td>\n",
       "      <td>駐車（輪）場</td>\n",
       "      <td>60-64歳</td>\n",
       "      <td>その他</td>\n",
       "      <td>施錠した</td>\n",
       "      <td>千葉県柏市柏１丁目</td>\n",
       "      <td>35.861809</td>\n",
       "      <td>139.971420</td>\n",
       "    </tr>\n",
       "    <tr>\n",
       "      <th>3221</th>\n",
       "      <td>窃盗</td>\n",
       "      <td>自転車盗</td>\n",
       "      <td>柏</td>\n",
       "      <td>豊四季駅前交番</td>\n",
       "      <td>122173</td>\n",
       "      <td>千葉県</td>\n",
       "      <td>柏市</td>\n",
       "      <td>豊四季</td>\n",
       "      <td>2022-12-19</td>\n",
       "      <td>16</td>\n",
       "      <td>その他</td>\n",
       "      <td>駐車（輪）場</td>\n",
       "      <td>10歳代</td>\n",
       "      <td>高校生</td>\n",
       "      <td>施錠せず</td>\n",
       "      <td>千葉県柏市豊四季</td>\n",
       "      <td>35.859928</td>\n",
       "      <td>139.949814</td>\n",
       "    </tr>\n",
       "  </tbody>\n",
       "</table>\n",
       "</div>"
      ],
      "text/plain": [
       "      罪名    手口 管轄警察署（発生地） 管轄交番・駐在所（発生地）  市区町村コード（発生地） 都道府県（発生地） 市区町村（発生地）   \n",
       "2968  窃盗  自転車盗          柏          新柏交番        122173       千葉県        柏市  \\\n",
       "2861  窃盗  自転車盗          柏         南増尾交番        122173       千葉県        柏市   \n",
       "3018  窃盗  自転車盗          柏          旭町交番        122173       千葉県        柏市   \n",
       "3103  窃盗  自転車盗          柏         柏駅前交番        122173       千葉県        柏市   \n",
       "3221  窃盗  自転車盗          柏       豊四季駅前交番        122173       千葉県        柏市   \n",
       "\n",
       "     町丁目（発生地）   発生年月日（始期） 発生時（始期）                 発生場所 発生場所の詳細  被害者の年齢 被害者の職業   \n",
       "2968    新柏３丁目  2022-05-01      19  その他の住宅（３階建て以下共同住宅等）  駐車（輪）場    20歳代    その他  \\\n",
       "2861   南増尾８丁目  2022-11-13      15                  その他  駐車（輪）場    10歳代    中学生   \n",
       "3018    富里３丁目          不明      不明           ４階建て以上共同住宅  駐車（輪）場    20歳代    大学生   \n",
       "3103     柏１丁目  2022-05-12      10               駐車（輪）場  駐車（輪）場  60-64歳    その他   \n",
       "3221      豊四季  2022-12-19      16                  その他  駐車（輪）場    10歳代    高校生   \n",
       "\n",
       "      施錠関係           住所        lat         lon  \n",
       "2968  施錠せず   千葉県柏市新柏３丁目  35.841667  139.972061  \n",
       "2861  施錠せず  千葉県柏市南増尾８丁目  35.810768  139.959000  \n",
       "3018  施錠した   千葉県柏市富里３丁目  35.854397  139.962891  \n",
       "3103  施錠した    千葉県柏市柏１丁目  35.861809  139.971420  \n",
       "3221  施錠せず     千葉県柏市豊四季  35.859928  139.949814  "
      ]
     },
     "execution_count": 45,
     "metadata": {},
     "output_type": "execute_result"
    }
   ],
   "source": [
    "# check your output\n",
    "kashiwa.sample(5)"
   ]
  },
  {
   "attachments": {},
   "cell_type": "markdown",
   "metadata": {
    "slideshow": {
     "slide_type": "slide"
    }
   },
   "source": [
    "## Let's map it!\n",
    "\n",
    "待ってました、いよいよマップタイム！"
   ]
  },
  {
   "cell_type": "code",
   "execution_count": 46,
   "metadata": {
    "slideshow": {
     "slide_type": "fragment"
    }
   },
   "outputs": [],
   "source": [
    "# 全データの中央座標\n",
    "center_lat = kashiwa.lat.mean()\n",
    "center_lon = kashiwa.lon.mean()"
   ]
  },
  {
   "cell_type": "code",
   "execution_count": 47,
   "metadata": {
    "slideshow": {
     "slide_type": "slide"
    }
   },
   "outputs": [
    {
     "data": {
      "text/html": [
       "<div style=\"width:100%;\"><div style=\"position:relative;width:100%;height:0;padding-bottom:60%;\"><span style=\"color:#565656\">Make this Notebook Trusted to load map: File -> Trust Notebook</span><iframe srcdoc=\"&lt;!DOCTYPE html&gt;\n",
       "&lt;html&gt;\n",
       "&lt;head&gt;\n",
       "    \n",
       "    &lt;meta http-equiv=&quot;content-type&quot; content=&quot;text/html; charset=UTF-8&quot; /&gt;\n",
       "    \n",
       "        &lt;script&gt;\n",
       "            L_NO_TOUCH = false;\n",
       "            L_DISABLE_3D = false;\n",
       "        &lt;/script&gt;\n",
       "    \n",
       "    &lt;style&gt;html, body {width: 100%;height: 100%;margin: 0;padding: 0;}&lt;/style&gt;\n",
       "    &lt;style&gt;#map {position:absolute;top:0;bottom:0;right:0;left:0;}&lt;/style&gt;\n",
       "    &lt;script src=&quot;https://cdn.jsdelivr.net/npm/leaflet@1.9.3/dist/leaflet.js&quot;&gt;&lt;/script&gt;\n",
       "    &lt;script src=&quot;https://code.jquery.com/jquery-1.12.4.min.js&quot;&gt;&lt;/script&gt;\n",
       "    &lt;script src=&quot;https://cdn.jsdelivr.net/npm/bootstrap@5.2.2/dist/js/bootstrap.bundle.min.js&quot;&gt;&lt;/script&gt;\n",
       "    &lt;script src=&quot;https://cdnjs.cloudflare.com/ajax/libs/Leaflet.awesome-markers/2.0.2/leaflet.awesome-markers.js&quot;&gt;&lt;/script&gt;\n",
       "    &lt;link rel=&quot;stylesheet&quot; href=&quot;https://cdn.jsdelivr.net/npm/leaflet@1.9.3/dist/leaflet.css&quot;/&gt;\n",
       "    &lt;link rel=&quot;stylesheet&quot; href=&quot;https://cdn.jsdelivr.net/npm/bootstrap@5.2.2/dist/css/bootstrap.min.css&quot;/&gt;\n",
       "    &lt;link rel=&quot;stylesheet&quot; href=&quot;https://netdna.bootstrapcdn.com/bootstrap/3.0.0/css/bootstrap.min.css&quot;/&gt;\n",
       "    &lt;link rel=&quot;stylesheet&quot; href=&quot;https://cdn.jsdelivr.net/npm/@fortawesome/fontawesome-free@6.2.0/css/all.min.css&quot;/&gt;\n",
       "    &lt;link rel=&quot;stylesheet&quot; href=&quot;https://cdnjs.cloudflare.com/ajax/libs/Leaflet.awesome-markers/2.0.2/leaflet.awesome-markers.css&quot;/&gt;\n",
       "    &lt;link rel=&quot;stylesheet&quot; href=&quot;https://cdn.jsdelivr.net/gh/python-visualization/folium/folium/templates/leaflet.awesome.rotate.min.css&quot;/&gt;\n",
       "    \n",
       "            &lt;meta name=&quot;viewport&quot; content=&quot;width=device-width,\n",
       "                initial-scale=1.0, maximum-scale=1.0, user-scalable=no&quot; /&gt;\n",
       "            &lt;style&gt;\n",
       "                #map_40a5ca2c750c443ebb4e080825925e8a {\n",
       "                    position: relative;\n",
       "                    width: 100.0%;\n",
       "                    height: 100.0%;\n",
       "                    left: 0.0%;\n",
       "                    top: 0.0%;\n",
       "                }\n",
       "                .leaflet-container { font-size: 1rem; }\n",
       "            &lt;/style&gt;\n",
       "        \n",
       "    &lt;script src=&quot;https://cdnjs.cloudflare.com/ajax/libs/leaflet.markercluster/1.1.0/leaflet.markercluster.js&quot;&gt;&lt;/script&gt;\n",
       "    &lt;link rel=&quot;stylesheet&quot; href=&quot;https://cdnjs.cloudflare.com/ajax/libs/leaflet.markercluster/1.1.0/MarkerCluster.css&quot;/&gt;\n",
       "    &lt;link rel=&quot;stylesheet&quot; href=&quot;https://cdnjs.cloudflare.com/ajax/libs/leaflet.markercluster/1.1.0/MarkerCluster.Default.css&quot;/&gt;\n",
       "&lt;/head&gt;\n",
       "&lt;body&gt;\n",
       "    \n",
       "    \n",
       "            &lt;div class=&quot;folium-map&quot; id=&quot;map_40a5ca2c750c443ebb4e080825925e8a&quot; &gt;&lt;/div&gt;\n",
       "        \n",
       "&lt;/body&gt;\n",
       "&lt;script&gt;\n",
       "    \n",
       "    \n",
       "            var map_40a5ca2c750c443ebb4e080825925e8a = L.map(\n",
       "                &quot;map_40a5ca2c750c443ebb4e080825925e8a&quot;,\n",
       "                {\n",
       "                    center: [35.8561031762208, 139.9728003906582],\n",
       "                    crs: L.CRS.EPSG3857,\n",
       "                    zoom: 12,\n",
       "                    zoomControl: true,\n",
       "                    preferCanvas: false,\n",
       "                }\n",
       "            );\n",
       "\n",
       "            \n",
       "\n",
       "        \n",
       "    \n",
       "            var tile_layer_d376b956b316a499b08e390a619c161c = L.tileLayer(\n",
       "                &quot;https://{s}.tile.openstreetmap.org/{z}/{x}/{y}.png&quot;,\n",
       "                {&quot;attribution&quot;: &quot;Data by \\u0026copy; \\u003ca target=\\&quot;_blank\\&quot; href=\\&quot;http://openstreetmap.org\\&quot;\\u003eOpenStreetMap\\u003c/a\\u003e, under \\u003ca target=\\&quot;_blank\\&quot; href=\\&quot;http://www.openstreetmap.org/copyright\\&quot;\\u003eODbL\\u003c/a\\u003e.&quot;, &quot;detectRetina&quot;: false, &quot;maxNativeZoom&quot;: 18, &quot;maxZoom&quot;: 18, &quot;minZoom&quot;: 0, &quot;noWrap&quot;: false, &quot;opacity&quot;: 1, &quot;subdomains&quot;: &quot;abc&quot;, &quot;tms&quot;: false}\n",
       "            ).addTo(map_40a5ca2c750c443ebb4e080825925e8a);\n",
       "        \n",
       "    \n",
       "            var marker_cluster_7e4488800c5083233b76b343f19de97d = L.markerClusterGroup(\n",
       "                {}\n",
       "            );\n",
       "            map_40a5ca2c750c443ebb4e080825925e8a.addLayer(marker_cluster_7e4488800c5083233b76b343f19de97d);\n",
       "        \n",
       "    \n",
       "            var marker_3b912c6ba91a429bd099bf0788bab645 = L.marker(\n",
       "                [35.841019, 139.956406],\n",
       "                {}\n",
       "            ).addTo(marker_cluster_7e4488800c5083233b76b343f19de97d);\n",
       "        \n",
       "    \n",
       "            marker_3b912c6ba91a429bd099bf0788bab645.bindTooltip(\n",
       "                `&lt;div&gt;\n",
       "                     30歳代\n",
       "                 &lt;/div&gt;`,\n",
       "                {&quot;sticky&quot;: true}\n",
       "            );\n",
       "        \n",
       "    \n",
       "            var marker_dae6bd29d4e9fb5302794d0c6177435a = L.marker(\n",
       "                [35.841019, 139.956406],\n",
       "                {}\n",
       "            ).addTo(marker_cluster_7e4488800c5083233b76b343f19de97d);\n",
       "        \n",
       "    \n",
       "            marker_dae6bd29d4e9fb5302794d0c6177435a.bindTooltip(\n",
       "                `&lt;div&gt;\n",
       "                     60-64歳\n",
       "                 &lt;/div&gt;`,\n",
       "                {&quot;sticky&quot;: true}\n",
       "            );\n",
       "        \n",
       "    \n",
       "            var marker_bd21f89125208388703a079d6606843b = L.marker(\n",
       "                [35.841019, 139.956406],\n",
       "                {}\n",
       "            ).addTo(marker_cluster_7e4488800c5083233b76b343f19de97d);\n",
       "        \n",
       "    \n",
       "            marker_bd21f89125208388703a079d6606843b.bindTooltip(\n",
       "                `&lt;div&gt;\n",
       "                     20歳代\n",
       "                 &lt;/div&gt;`,\n",
       "                {&quot;sticky&quot;: true}\n",
       "            );\n",
       "        \n",
       "    \n",
       "            var marker_f068f84fc3bad5eb7d62b7fb6c9052da = L.marker(\n",
       "                [35.841019, 139.956406],\n",
       "                {}\n",
       "            ).addTo(marker_cluster_7e4488800c5083233b76b343f19de97d);\n",
       "        \n",
       "    \n",
       "            marker_f068f84fc3bad5eb7d62b7fb6c9052da.bindTooltip(\n",
       "                `&lt;div&gt;\n",
       "                     10歳代\n",
       "                 &lt;/div&gt;`,\n",
       "                {&quot;sticky&quot;: true}\n",
       "            );\n",
       "        \n",
       "    \n",
       "            var marker_a5807fc94744bd8a4b62a09b8f176e51 = L.marker(\n",
       "                [35.841019, 139.956406],\n",
       "                {}\n",
       "            ).addTo(marker_cluster_7e4488800c5083233b76b343f19de97d);\n",
       "        \n",
       "    \n",
       "            marker_a5807fc94744bd8a4b62a09b8f176e51.bindTooltip(\n",
       "                `&lt;div&gt;\n",
       "                     10歳未満\n",
       "                 &lt;/div&gt;`,\n",
       "                {&quot;sticky&quot;: true}\n",
       "            );\n",
       "        \n",
       "    \n",
       "            var marker_f2f55e30a8eb21ad98566e174d5362f0 = L.marker(\n",
       "                [35.81815, 139.957825],\n",
       "                {}\n",
       "            ).addTo(marker_cluster_7e4488800c5083233b76b343f19de97d);\n",
       "        \n",
       "    \n",
       "            marker_f2f55e30a8eb21ad98566e174d5362f0.bindTooltip(\n",
       "                `&lt;div&gt;\n",
       "                     40歳代\n",
       "                 &lt;/div&gt;`,\n",
       "                {&quot;sticky&quot;: true}\n",
       "            );\n",
       "        \n",
       "    \n",
       "            var marker_152a641f27b8c2099721ed06b5a958d6 = L.marker(\n",
       "                [35.818859, 139.965973],\n",
       "                {}\n",
       "            ).addTo(marker_cluster_7e4488800c5083233b76b343f19de97d);\n",
       "        \n",
       "    \n",
       "            marker_152a641f27b8c2099721ed06b5a958d6.bindTooltip(\n",
       "                `&lt;div&gt;\n",
       "                     10歳代\n",
       "                 &lt;/div&gt;`,\n",
       "                {&quot;sticky&quot;: true}\n",
       "            );\n",
       "        \n",
       "    \n",
       "            var marker_1abfcef3ae00b5ec9e986d60a1172481 = L.marker(\n",
       "                [35.820488, 139.960007],\n",
       "                {}\n",
       "            ).addTo(marker_cluster_7e4488800c5083233b76b343f19de97d);\n",
       "        \n",
       "    \n",
       "            marker_1abfcef3ae00b5ec9e986d60a1172481.bindTooltip(\n",
       "                `&lt;div&gt;\n",
       "                     70歳以上\n",
       "                 &lt;/div&gt;`,\n",
       "                {&quot;sticky&quot;: true}\n",
       "            );\n",
       "        \n",
       "    \n",
       "            var marker_292daf4f402dee9b41d167bd9d3dca6d = L.marker(\n",
       "                [35.824585, 139.961349],\n",
       "                {}\n",
       "            ).addTo(marker_cluster_7e4488800c5083233b76b343f19de97d);\n",
       "        \n",
       "    \n",
       "            marker_292daf4f402dee9b41d167bd9d3dca6d.bindTooltip(\n",
       "                `&lt;div&gt;\n",
       "                     30歳代\n",
       "                 &lt;/div&gt;`,\n",
       "                {&quot;sticky&quot;: true}\n",
       "            );\n",
       "        \n",
       "    \n",
       "            var marker_c7566c257fc9a32adb0697f7acada84d = L.marker(\n",
       "                [35.824585, 139.961349],\n",
       "                {}\n",
       "            ).addTo(marker_cluster_7e4488800c5083233b76b343f19de97d);\n",
       "        \n",
       "    \n",
       "            marker_c7566c257fc9a32adb0697f7acada84d.bindTooltip(\n",
       "                `&lt;div&gt;\n",
       "                     10歳未満\n",
       "                 &lt;/div&gt;`,\n",
       "                {&quot;sticky&quot;: true}\n",
       "            );\n",
       "        \n",
       "    \n",
       "            var marker_2eca1e5fb68f97547df84d9b5ddf87b8 = L.marker(\n",
       "                [35.815441, 139.982468],\n",
       "                {}\n",
       "            ).addTo(marker_cluster_7e4488800c5083233b76b343f19de97d);\n",
       "        \n",
       "    \n",
       "            marker_2eca1e5fb68f97547df84d9b5ddf87b8.bindTooltip(\n",
       "                `&lt;div&gt;\n",
       "                     10歳代\n",
       "                 &lt;/div&gt;`,\n",
       "                {&quot;sticky&quot;: true}\n",
       "            );\n",
       "        \n",
       "    \n",
       "            var marker_d02e4d969543544f0eb414b7590c2904 = L.marker(\n",
       "                [35.83292, 139.946884],\n",
       "                {}\n",
       "            ).addTo(marker_cluster_7e4488800c5083233b76b343f19de97d);\n",
       "        \n",
       "    \n",
       "            marker_d02e4d969543544f0eb414b7590c2904.bindTooltip(\n",
       "                `&lt;div&gt;\n",
       "                     10歳代\n",
       "                 &lt;/div&gt;`,\n",
       "                {&quot;sticky&quot;: true}\n",
       "            );\n",
       "        \n",
       "    \n",
       "            var marker_6264ee563370012e3bfc140dbd31e38b = L.marker(\n",
       "                [35.82056, 139.95401],\n",
       "                {}\n",
       "            ).addTo(marker_cluster_7e4488800c5083233b76b343f19de97d);\n",
       "        \n",
       "    \n",
       "            marker_6264ee563370012e3bfc140dbd31e38b.bindTooltip(\n",
       "                `&lt;div&gt;\n",
       "                     10歳代\n",
       "                 &lt;/div&gt;`,\n",
       "                {&quot;sticky&quot;: true}\n",
       "            );\n",
       "        \n",
       "    \n",
       "            var marker_cd3bc06416f16f1e860d3a67744062a7 = L.marker(\n",
       "                [35.833195, 139.957794],\n",
       "                {}\n",
       "            ).addTo(marker_cluster_7e4488800c5083233b76b343f19de97d);\n",
       "        \n",
       "    \n",
       "            marker_cd3bc06416f16f1e860d3a67744062a7.bindTooltip(\n",
       "                `&lt;div&gt;\n",
       "                     30歳代\n",
       "                 &lt;/div&gt;`,\n",
       "                {&quot;sticky&quot;: true}\n",
       "            );\n",
       "        \n",
       "    \n",
       "            var marker_1f51eb2c8130eb0771d5db29ad22ff4e = L.marker(\n",
       "                [35.833195, 139.957794],\n",
       "                {}\n",
       "            ).addTo(marker_cluster_7e4488800c5083233b76b343f19de97d);\n",
       "        \n",
       "    \n",
       "            marker_1f51eb2c8130eb0771d5db29ad22ff4e.bindTooltip(\n",
       "                `&lt;div&gt;\n",
       "                     30歳代\n",
       "                 &lt;/div&gt;`,\n",
       "                {&quot;sticky&quot;: true}\n",
       "            );\n",
       "        \n",
       "    \n",
       "            var marker_ab933876938361c3263d8a99a737b5c3 = L.marker(\n",
       "                [35.829479, 139.957809],\n",
       "                {}\n",
       "            ).addTo(marker_cluster_7e4488800c5083233b76b343f19de97d);\n",
       "        \n",
       "    \n",
       "            marker_ab933876938361c3263d8a99a737b5c3.bindTooltip(\n",
       "                `&lt;div&gt;\n",
       "                     10歳代\n",
       "                 &lt;/div&gt;`,\n",
       "                {&quot;sticky&quot;: true}\n",
       "            );\n",
       "        \n",
       "    \n",
       "            var marker_e981b50302886764ab34cf74adcf477b = L.marker(\n",
       "                [35.833984, 139.960556],\n",
       "                {}\n",
       "            ).addTo(marker_cluster_7e4488800c5083233b76b343f19de97d);\n",
       "        \n",
       "    \n",
       "            marker_e981b50302886764ab34cf74adcf477b.bindTooltip(\n",
       "                `&lt;div&gt;\n",
       "                     10歳代\n",
       "                 &lt;/div&gt;`,\n",
       "                {&quot;sticky&quot;: true}\n",
       "            );\n",
       "        \n",
       "    \n",
       "            var marker_82e461c0a175a3f4e327d3a6619f5927 = L.marker(\n",
       "                [35.833984, 139.960556],\n",
       "                {}\n",
       "            ).addTo(marker_cluster_7e4488800c5083233b76b343f19de97d);\n",
       "        \n",
       "    \n",
       "            marker_82e461c0a175a3f4e327d3a6619f5927.bindTooltip(\n",
       "                `&lt;div&gt;\n",
       "                     10歳未満\n",
       "                 &lt;/div&gt;`,\n",
       "                {&quot;sticky&quot;: true}\n",
       "            );\n",
       "        \n",
       "    \n",
       "            var marker_3e644b2891554e2efca76df7d3a5c903 = L.marker(\n",
       "                [35.833984, 139.960556],\n",
       "                {}\n",
       "            ).addTo(marker_cluster_7e4488800c5083233b76b343f19de97d);\n",
       "        \n",
       "    \n",
       "            marker_3e644b2891554e2efca76df7d3a5c903.bindTooltip(\n",
       "                `&lt;div&gt;\n",
       "                     10歳代\n",
       "                 &lt;/div&gt;`,\n",
       "                {&quot;sticky&quot;: true}\n",
       "            );\n",
       "        \n",
       "    \n",
       "            var marker_58d02e710e865c23fd0a4b8118500626 = L.marker(\n",
       "                [35.864445, 139.986511],\n",
       "                {}\n",
       "            ).addTo(marker_cluster_7e4488800c5083233b76b343f19de97d);\n",
       "        \n",
       "    \n",
       "            marker_58d02e710e865c23fd0a4b8118500626.bindTooltip(\n",
       "                `&lt;div&gt;\n",
       "                     50歳代\n",
       "                 &lt;/div&gt;`,\n",
       "                {&quot;sticky&quot;: true}\n",
       "            );\n",
       "        \n",
       "    \n",
       "            var marker_d3a1b390ea92241f5dc907afd7853142 = L.marker(\n",
       "                [35.864445, 139.986511],\n",
       "                {}\n",
       "            ).addTo(marker_cluster_7e4488800c5083233b76b343f19de97d);\n",
       "        \n",
       "    \n",
       "            marker_d3a1b390ea92241f5dc907afd7853142.bindTooltip(\n",
       "                `&lt;div&gt;\n",
       "                     30歳代\n",
       "                 &lt;/div&gt;`,\n",
       "                {&quot;sticky&quot;: true}\n",
       "            );\n",
       "        \n",
       "    \n",
       "            var marker_d28ee548de404eb02124d62d142b7b38 = L.marker(\n",
       "                [35.864445, 139.986511],\n",
       "                {}\n",
       "            ).addTo(marker_cluster_7e4488800c5083233b76b343f19de97d);\n",
       "        \n",
       "    \n",
       "            marker_d28ee548de404eb02124d62d142b7b38.bindTooltip(\n",
       "                `&lt;div&gt;\n",
       "                     40歳代\n",
       "                 &lt;/div&gt;`,\n",
       "                {&quot;sticky&quot;: true}\n",
       "            );\n",
       "        \n",
       "    \n",
       "            var marker_f0a299b2e05d324cbadb67811dde00eb = L.marker(\n",
       "                [35.870007, 139.983795],\n",
       "                {}\n",
       "            ).addTo(marker_cluster_7e4488800c5083233b76b343f19de97d);\n",
       "        \n",
       "    \n",
       "            marker_f0a299b2e05d324cbadb67811dde00eb.bindTooltip(\n",
       "                `&lt;div&gt;\n",
       "                     65-69歳\n",
       "                 &lt;/div&gt;`,\n",
       "                {&quot;sticky&quot;: true}\n",
       "            );\n",
       "        \n",
       "    \n",
       "            var marker_8cea2a47ce12bed76c54850953e1eb47 = L.marker(\n",
       "                [35.875332, 139.983582],\n",
       "                {}\n",
       "            ).addTo(marker_cluster_7e4488800c5083233b76b343f19de97d);\n",
       "        \n",
       "    \n",
       "            marker_8cea2a47ce12bed76c54850953e1eb47.bindTooltip(\n",
       "                `&lt;div&gt;\n",
       "                     20歳代\n",
       "                 &lt;/div&gt;`,\n",
       "                {&quot;sticky&quot;: true}\n",
       "            );\n",
       "        \n",
       "    \n",
       "            var marker_3ac664107e3208416408ed57605175b6 = L.marker(\n",
       "                [35.872643, 139.989914],\n",
       "                {}\n",
       "            ).addTo(marker_cluster_7e4488800c5083233b76b343f19de97d);\n",
       "        \n",
       "    \n",
       "            marker_3ac664107e3208416408ed57605175b6.bindTooltip(\n",
       "                `&lt;div&gt;\n",
       "                     60-64歳\n",
       "                 &lt;/div&gt;`,\n",
       "                {&quot;sticky&quot;: true}\n",
       "            );\n",
       "        \n",
       "    \n",
       "            var marker_6ed05983b7223e53781daed4a2a9731c = L.marker(\n",
       "                [35.872643, 139.989914],\n",
       "                {}\n",
       "            ).addTo(marker_cluster_7e4488800c5083233b76b343f19de97d);\n",
       "        \n",
       "    \n",
       "            marker_6ed05983b7223e53781daed4a2a9731c.bindTooltip(\n",
       "                `&lt;div&gt;\n",
       "                     20歳代\n",
       "                 &lt;/div&gt;`,\n",
       "                {&quot;sticky&quot;: true}\n",
       "            );\n",
       "        \n",
       "    \n",
       "            var marker_10fcb232f0c9e1aeb29d8d4310df919c = L.marker(\n",
       "                [35.872643, 139.989914],\n",
       "                {}\n",
       "            ).addTo(marker_cluster_7e4488800c5083233b76b343f19de97d);\n",
       "        \n",
       "    \n",
       "            marker_10fcb232f0c9e1aeb29d8d4310df919c.bindTooltip(\n",
       "                `&lt;div&gt;\n",
       "                     30歳代\n",
       "                 &lt;/div&gt;`,\n",
       "                {&quot;sticky&quot;: true}\n",
       "            );\n",
       "        \n",
       "    \n",
       "            var marker_9b82620d3812c4ab040b98a310d39cbd = L.marker(\n",
       "                [35.872192, 139.987793],\n",
       "                {}\n",
       "            ).addTo(marker_cluster_7e4488800c5083233b76b343f19de97d);\n",
       "        \n",
       "    \n",
       "            marker_9b82620d3812c4ab040b98a310d39cbd.bindTooltip(\n",
       "                `&lt;div&gt;\n",
       "                     10歳代\n",
       "                 &lt;/div&gt;`,\n",
       "                {&quot;sticky&quot;: true}\n",
       "            );\n",
       "        \n",
       "    \n",
       "            var marker_b4c9547ca23c9b5d991ef2e43d9f4652 = L.marker(\n",
       "                [35.872192, 139.987793],\n",
       "                {}\n",
       "            ).addTo(marker_cluster_7e4488800c5083233b76b343f19de97d);\n",
       "        \n",
       "    \n",
       "            marker_b4c9547ca23c9b5d991ef2e43d9f4652.bindTooltip(\n",
       "                `&lt;div&gt;\n",
       "                     40歳代\n",
       "                 &lt;/div&gt;`,\n",
       "                {&quot;sticky&quot;: true}\n",
       "            );\n",
       "        \n",
       "    \n",
       "            var marker_e85d9cd9a23033d0ced67786fabe4c3b = L.marker(\n",
       "                [35.870586, 139.986893],\n",
       "                {}\n",
       "            ).addTo(marker_cluster_7e4488800c5083233b76b343f19de97d);\n",
       "        \n",
       "    \n",
       "            marker_e85d9cd9a23033d0ced67786fabe4c3b.bindTooltip(\n",
       "                `&lt;div&gt;\n",
       "                     20歳代\n",
       "                 &lt;/div&gt;`,\n",
       "                {&quot;sticky&quot;: true}\n",
       "            );\n",
       "        \n",
       "    \n",
       "            var marker_d2104794573e5ecf41234e159625c95c = L.marker(\n",
       "                [35.870586, 139.986893],\n",
       "                {}\n",
       "            ).addTo(marker_cluster_7e4488800c5083233b76b343f19de97d);\n",
       "        \n",
       "    \n",
       "            marker_d2104794573e5ecf41234e159625c95c.bindTooltip(\n",
       "                `&lt;div&gt;\n",
       "                     20歳代\n",
       "                 &lt;/div&gt;`,\n",
       "                {&quot;sticky&quot;: true}\n",
       "            );\n",
       "        \n",
       "    \n",
       "            var marker_8b510370e702e9e30b1b4e9d9411f5b5 = L.marker(\n",
       "                [35.868679, 139.990295],\n",
       "                {}\n",
       "            ).addTo(marker_cluster_7e4488800c5083233b76b343f19de97d);\n",
       "        \n",
       "    \n",
       "            marker_8b510370e702e9e30b1b4e9d9411f5b5.bindTooltip(\n",
       "                `&lt;div&gt;\n",
       "                     30歳代\n",
       "                 &lt;/div&gt;`,\n",
       "                {&quot;sticky&quot;: true}\n",
       "            );\n",
       "        \n",
       "    \n",
       "            var marker_47f4384ab0e451b32483286bae0d84a5 = L.marker(\n",
       "                [35.887501, 139.985229],\n",
       "                {}\n",
       "            ).addTo(marker_cluster_7e4488800c5083233b76b343f19de97d);\n",
       "        \n",
       "    \n",
       "            marker_47f4384ab0e451b32483286bae0d84a5.bindTooltip(\n",
       "                `&lt;div&gt;\n",
       "                     10歳未満\n",
       "                 &lt;/div&gt;`,\n",
       "                {&quot;sticky&quot;: true}\n",
       "            );\n",
       "        \n",
       "    \n",
       "            var marker_2be05a14bac0844c261d0ad1309863cb = L.marker(\n",
       "                [35.887501, 139.985229],\n",
       "                {}\n",
       "            ).addTo(marker_cluster_7e4488800c5083233b76b343f19de97d);\n",
       "        \n",
       "    \n",
       "            marker_2be05a14bac0844c261d0ad1309863cb.bindTooltip(\n",
       "                `&lt;div&gt;\n",
       "                     10歳代\n",
       "                 &lt;/div&gt;`,\n",
       "                {&quot;sticky&quot;: true}\n",
       "            );\n",
       "        \n",
       "    \n",
       "            var marker_82f530b8d71031362e0190dc4e30d863 = L.marker(\n",
       "                [35.88113, 139.98645],\n",
       "                {}\n",
       "            ).addTo(marker_cluster_7e4488800c5083233b76b343f19de97d);\n",
       "        \n",
       "    \n",
       "            marker_82f530b8d71031362e0190dc4e30d863.bindTooltip(\n",
       "                `&lt;div&gt;\n",
       "                     20歳代\n",
       "                 &lt;/div&gt;`,\n",
       "                {&quot;sticky&quot;: true}\n",
       "            );\n",
       "        \n",
       "    \n",
       "            var marker_cf7893069a614f5dc78e1d6b93b48a07 = L.marker(\n",
       "                [35.88113, 139.98645],\n",
       "                {}\n",
       "            ).addTo(marker_cluster_7e4488800c5083233b76b343f19de97d);\n",
       "        \n",
       "    \n",
       "            marker_cf7893069a614f5dc78e1d6b93b48a07.bindTooltip(\n",
       "                `&lt;div&gt;\n",
       "                     50歳代\n",
       "                 &lt;/div&gt;`,\n",
       "                {&quot;sticky&quot;: true}\n",
       "            );\n",
       "        \n",
       "    \n",
       "            var marker_344bb1d3be874687afb16b85406dcd2c = L.marker(\n",
       "                [35.88113, 139.98645],\n",
       "                {}\n",
       "            ).addTo(marker_cluster_7e4488800c5083233b76b343f19de97d);\n",
       "        \n",
       "    \n",
       "            marker_344bb1d3be874687afb16b85406dcd2c.bindTooltip(\n",
       "                `&lt;div&gt;\n",
       "                     40歳代\n",
       "                 &lt;/div&gt;`,\n",
       "                {&quot;sticky&quot;: true}\n",
       "            );\n",
       "        \n",
       "    \n",
       "            var marker_153e43e933fbad1ec4df8993380f9877 = L.marker(\n",
       "                [35.88113, 139.98645],\n",
       "                {}\n",
       "            ).addTo(marker_cluster_7e4488800c5083233b76b343f19de97d);\n",
       "        \n",
       "    \n",
       "            marker_153e43e933fbad1ec4df8993380f9877.bindTooltip(\n",
       "                `&lt;div&gt;\n",
       "                     40歳代\n",
       "                 &lt;/div&gt;`,\n",
       "                {&quot;sticky&quot;: true}\n",
       "            );\n",
       "        \n",
       "    \n",
       "            var marker_d5e2263a7476c36314e0c99541d17932 = L.marker(\n",
       "                [35.88113, 139.98645],\n",
       "                {}\n",
       "            ).addTo(marker_cluster_7e4488800c5083233b76b343f19de97d);\n",
       "        \n",
       "    \n",
       "            marker_d5e2263a7476c36314e0c99541d17932.bindTooltip(\n",
       "                `&lt;div&gt;\n",
       "                     60-64歳\n",
       "                 &lt;/div&gt;`,\n",
       "                {&quot;sticky&quot;: true}\n",
       "            );\n",
       "        \n",
       "    \n",
       "            var marker_2df943466b28c84d19a877dc8bf90562 = L.marker(\n",
       "                [35.88113, 139.98645],\n",
       "                {}\n",
       "            ).addTo(marker_cluster_7e4488800c5083233b76b343f19de97d);\n",
       "        \n",
       "    \n",
       "            marker_2df943466b28c84d19a877dc8bf90562.bindTooltip(\n",
       "                `&lt;div&gt;\n",
       "                     10歳代\n",
       "                 &lt;/div&gt;`,\n",
       "                {&quot;sticky&quot;: true}\n",
       "            );\n",
       "        \n",
       "    \n",
       "            var marker_85d30a3c065848a8f364330ae5155a5a = L.marker(\n",
       "                [35.88113, 139.98645],\n",
       "                {}\n",
       "            ).addTo(marker_cluster_7e4488800c5083233b76b343f19de97d);\n",
       "        \n",
       "    \n",
       "            marker_85d30a3c065848a8f364330ae5155a5a.bindTooltip(\n",
       "                `&lt;div&gt;\n",
       "                     10歳代\n",
       "                 &lt;/div&gt;`,\n",
       "                {&quot;sticky&quot;: true}\n",
       "            );\n",
       "        \n",
       "    \n",
       "            var marker_14dea882571f2b170e50f674a4fb2dea = L.marker(\n",
       "                [35.88113, 139.98645],\n",
       "                {}\n",
       "            ).addTo(marker_cluster_7e4488800c5083233b76b343f19de97d);\n",
       "        \n",
       "    \n",
       "            marker_14dea882571f2b170e50f674a4fb2dea.bindTooltip(\n",
       "                `&lt;div&gt;\n",
       "                     10歳代\n",
       "                 &lt;/div&gt;`,\n",
       "                {&quot;sticky&quot;: true}\n",
       "            );\n",
       "        \n",
       "    \n",
       "            var marker_34962719d9eae70e4f4ebb8c68e6463e = L.marker(\n",
       "                [35.88113, 139.98645],\n",
       "                {}\n",
       "            ).addTo(marker_cluster_7e4488800c5083233b76b343f19de97d);\n",
       "        \n",
       "    \n",
       "            marker_34962719d9eae70e4f4ebb8c68e6463e.bindTooltip(\n",
       "                `&lt;div&gt;\n",
       "                     40歳代\n",
       "                 &lt;/div&gt;`,\n",
       "                {&quot;sticky&quot;: true}\n",
       "            );\n",
       "        \n",
       "    \n",
       "            var marker_94c43c6df2caffafa315c0f5a9e36caf = L.marker(\n",
       "                [35.88113, 139.98645],\n",
       "                {}\n",
       "            ).addTo(marker_cluster_7e4488800c5083233b76b343f19de97d);\n",
       "        \n",
       "    \n",
       "            marker_94c43c6df2caffafa315c0f5a9e36caf.bindTooltip(\n",
       "                `&lt;div&gt;\n",
       "                     20歳代\n",
       "                 &lt;/div&gt;`,\n",
       "                {&quot;sticky&quot;: true}\n",
       "            );\n",
       "        \n",
       "    \n",
       "            var marker_c7bf5cab7ba7154b02c28efc12c1c6d9 = L.marker(\n",
       "                [35.88113, 139.98645],\n",
       "                {}\n",
       "            ).addTo(marker_cluster_7e4488800c5083233b76b343f19de97d);\n",
       "        \n",
       "    \n",
       "            marker_c7bf5cab7ba7154b02c28efc12c1c6d9.bindTooltip(\n",
       "                `&lt;div&gt;\n",
       "                     10歳未満\n",
       "                 &lt;/div&gt;`,\n",
       "                {&quot;sticky&quot;: true}\n",
       "            );\n",
       "        \n",
       "    \n",
       "            var marker_018036dcfa791bae7f41893858105351 = L.marker(\n",
       "                [35.88113, 139.98645],\n",
       "                {}\n",
       "            ).addTo(marker_cluster_7e4488800c5083233b76b343f19de97d);\n",
       "        \n",
       "    \n",
       "            marker_018036dcfa791bae7f41893858105351.bindTooltip(\n",
       "                `&lt;div&gt;\n",
       "                     40歳代\n",
       "                 &lt;/div&gt;`,\n",
       "                {&quot;sticky&quot;: true}\n",
       "            );\n",
       "        \n",
       "    \n",
       "            var marker_efecb9d720575dbbf49a4ae814e37eda = L.marker(\n",
       "                [35.88113, 139.98645],\n",
       "                {}\n",
       "            ).addTo(marker_cluster_7e4488800c5083233b76b343f19de97d);\n",
       "        \n",
       "    \n",
       "            marker_efecb9d720575dbbf49a4ae814e37eda.bindTooltip(\n",
       "                `&lt;div&gt;\n",
       "                     10歳代\n",
       "                 &lt;/div&gt;`,\n",
       "                {&quot;sticky&quot;: true}\n",
       "            );\n",
       "        \n",
       "    \n",
       "            var marker_b554c013d1d24d013f4063a912cf5426 = L.marker(\n",
       "                [35.88113, 139.98645],\n",
       "                {}\n",
       "            ).addTo(marker_cluster_7e4488800c5083233b76b343f19de97d);\n",
       "        \n",
       "    \n",
       "            marker_b554c013d1d24d013f4063a912cf5426.bindTooltip(\n",
       "                `&lt;div&gt;\n",
       "                     20歳代\n",
       "                 &lt;/div&gt;`,\n",
       "                {&quot;sticky&quot;: true}\n",
       "            );\n",
       "        \n",
       "    \n",
       "            var marker_c88233cc3e67841ca92aaef8838f54a3 = L.marker(\n",
       "                [35.88113, 139.98645],\n",
       "                {}\n",
       "            ).addTo(marker_cluster_7e4488800c5083233b76b343f19de97d);\n",
       "        \n",
       "    \n",
       "            marker_c88233cc3e67841ca92aaef8838f54a3.bindTooltip(\n",
       "                `&lt;div&gt;\n",
       "                     10歳代\n",
       "                 &lt;/div&gt;`,\n",
       "                {&quot;sticky&quot;: true}\n",
       "            );\n",
       "        \n",
       "    \n",
       "            var marker_f7257a02bd1293ab2620fbd203e2dec7 = L.marker(\n",
       "                [35.88113, 139.98645],\n",
       "                {}\n",
       "            ).addTo(marker_cluster_7e4488800c5083233b76b343f19de97d);\n",
       "        \n",
       "    \n",
       "            marker_f7257a02bd1293ab2620fbd203e2dec7.bindTooltip(\n",
       "                `&lt;div&gt;\n",
       "                     20歳代\n",
       "                 &lt;/div&gt;`,\n",
       "                {&quot;sticky&quot;: true}\n",
       "            );\n",
       "        \n",
       "    \n",
       "            var marker_329321bf82b29fc38c016d7f994f7854 = L.marker(\n",
       "                [35.88113, 139.98645],\n",
       "                {}\n",
       "            ).addTo(marker_cluster_7e4488800c5083233b76b343f19de97d);\n",
       "        \n",
       "    \n",
       "            marker_329321bf82b29fc38c016d7f994f7854.bindTooltip(\n",
       "                `&lt;div&gt;\n",
       "                     20歳代\n",
       "                 &lt;/div&gt;`,\n",
       "                {&quot;sticky&quot;: true}\n",
       "            );\n",
       "        \n",
       "    \n",
       "            var marker_50e357d023d9d7058ae09959218d28d7 = L.marker(\n",
       "                [35.88113, 139.98645],\n",
       "                {}\n",
       "            ).addTo(marker_cluster_7e4488800c5083233b76b343f19de97d);\n",
       "        \n",
       "    \n",
       "            marker_50e357d023d9d7058ae09959218d28d7.bindTooltip(\n",
       "                `&lt;div&gt;\n",
       "                     20歳代\n",
       "                 &lt;/div&gt;`,\n",
       "                {&quot;sticky&quot;: true}\n",
       "            );\n",
       "        \n",
       "    \n",
       "            var marker_f4cdac87ab728e229f7ba4a51877c793 = L.marker(\n",
       "                [35.88113, 139.98645],\n",
       "                {}\n",
       "            ).addTo(marker_cluster_7e4488800c5083233b76b343f19de97d);\n",
       "        \n",
       "    \n",
       "            marker_f4cdac87ab728e229f7ba4a51877c793.bindTooltip(\n",
       "                `&lt;div&gt;\n",
       "                     20歳代\n",
       "                 &lt;/div&gt;`,\n",
       "                {&quot;sticky&quot;: true}\n",
       "            );\n",
       "        \n",
       "    \n",
       "            var marker_b3f91ba72d629df8933aa4a30d073c79 = L.marker(\n",
       "                [35.88113, 139.98645],\n",
       "                {}\n",
       "            ).addTo(marker_cluster_7e4488800c5083233b76b343f19de97d);\n",
       "        \n",
       "    \n",
       "            marker_b3f91ba72d629df8933aa4a30d073c79.bindTooltip(\n",
       "                `&lt;div&gt;\n",
       "                     20歳代\n",
       "                 &lt;/div&gt;`,\n",
       "                {&quot;sticky&quot;: true}\n",
       "            );\n",
       "        \n",
       "    \n",
       "            var marker_9fcd6dc806a07b107fdf92fb6385e43a = L.marker(\n",
       "                [35.832733, 139.970932],\n",
       "                {}\n",
       "            ).addTo(marker_cluster_7e4488800c5083233b76b343f19de97d);\n",
       "        \n",
       "    \n",
       "            marker_9fcd6dc806a07b107fdf92fb6385e43a.bindTooltip(\n",
       "                `&lt;div&gt;\n",
       "                     20歳代\n",
       "                 &lt;/div&gt;`,\n",
       "                {&quot;sticky&quot;: true}\n",
       "            );\n",
       "        \n",
       "    \n",
       "            var marker_d573e90159148219dfebba051b150bcd = L.marker(\n",
       "                [35.815441, 139.982468],\n",
       "                {}\n",
       "            ).addTo(marker_cluster_7e4488800c5083233b76b343f19de97d);\n",
       "        \n",
       "    \n",
       "            marker_d573e90159148219dfebba051b150bcd.bindTooltip(\n",
       "                `&lt;div&gt;\n",
       "                     10歳代\n",
       "                 &lt;/div&gt;`,\n",
       "                {&quot;sticky&quot;: true}\n",
       "            );\n",
       "        \n",
       "    \n",
       "            var marker_7875aee579f0fc0d4726f96d0c97db83 = L.marker(\n",
       "                [35.815441, 139.982468],\n",
       "                {}\n",
       "            ).addTo(marker_cluster_7e4488800c5083233b76b343f19de97d);\n",
       "        \n",
       "    \n",
       "            marker_7875aee579f0fc0d4726f96d0c97db83.bindTooltip(\n",
       "                `&lt;div&gt;\n",
       "                     10歳代\n",
       "                 &lt;/div&gt;`,\n",
       "                {&quot;sticky&quot;: true}\n",
       "            );\n",
       "        \n",
       "    \n",
       "            var marker_8eda61dcacbd1638cdc3a673ac39d3e2 = L.marker(\n",
       "                [35.815441, 139.982468],\n",
       "                {}\n",
       "            ).addTo(marker_cluster_7e4488800c5083233b76b343f19de97d);\n",
       "        \n",
       "    \n",
       "            marker_8eda61dcacbd1638cdc3a673ac39d3e2.bindTooltip(\n",
       "                `&lt;div&gt;\n",
       "                     10歳代\n",
       "                 &lt;/div&gt;`,\n",
       "                {&quot;sticky&quot;: true}\n",
       "            );\n",
       "        \n",
       "    \n",
       "            var marker_e289da0ddcb7ead3ec4e5d32c8259b1b = L.marker(\n",
       "                [35.815441, 139.982468],\n",
       "                {}\n",
       "            ).addTo(marker_cluster_7e4488800c5083233b76b343f19de97d);\n",
       "        \n",
       "    \n",
       "            marker_e289da0ddcb7ead3ec4e5d32c8259b1b.bindTooltip(\n",
       "                `&lt;div&gt;\n",
       "                     10歳代\n",
       "                 &lt;/div&gt;`,\n",
       "                {&quot;sticky&quot;: true}\n",
       "            );\n",
       "        \n",
       "    \n",
       "            var marker_8dd3004d570a3cf15c6aed4019b711bc = L.marker(\n",
       "                [35.815441, 139.982468],\n",
       "                {}\n",
       "            ).addTo(marker_cluster_7e4488800c5083233b76b343f19de97d);\n",
       "        \n",
       "    \n",
       "            marker_8dd3004d570a3cf15c6aed4019b711bc.bindTooltip(\n",
       "                `&lt;div&gt;\n",
       "                     20歳代\n",
       "                 &lt;/div&gt;`,\n",
       "                {&quot;sticky&quot;: true}\n",
       "            );\n",
       "        \n",
       "    \n",
       "            var marker_0e9f69dcb02a51244057c7b4a3a45d2e = L.marker(\n",
       "                [35.815441, 139.982468],\n",
       "                {}\n",
       "            ).addTo(marker_cluster_7e4488800c5083233b76b343f19de97d);\n",
       "        \n",
       "    \n",
       "            marker_0e9f69dcb02a51244057c7b4a3a45d2e.bindTooltip(\n",
       "                `&lt;div&gt;\n",
       "                     20歳代\n",
       "                 &lt;/div&gt;`,\n",
       "                {&quot;sticky&quot;: true}\n",
       "            );\n",
       "        \n",
       "    \n",
       "            var marker_73cf80138c7dba8743d9dafc79f16501 = L.marker(\n",
       "                [35.815441, 139.982468],\n",
       "                {}\n",
       "            ).addTo(marker_cluster_7e4488800c5083233b76b343f19de97d);\n",
       "        \n",
       "    \n",
       "            marker_73cf80138c7dba8743d9dafc79f16501.bindTooltip(\n",
       "                `&lt;div&gt;\n",
       "                     70歳以上\n",
       "                 &lt;/div&gt;`,\n",
       "                {&quot;sticky&quot;: true}\n",
       "            );\n",
       "        \n",
       "    \n",
       "            var marker_bf7ea8aa8ca440652f809a8e325edebb = L.marker(\n",
       "                [35.815441, 139.982468],\n",
       "                {}\n",
       "            ).addTo(marker_cluster_7e4488800c5083233b76b343f19de97d);\n",
       "        \n",
       "    \n",
       "            marker_bf7ea8aa8ca440652f809a8e325edebb.bindTooltip(\n",
       "                `&lt;div&gt;\n",
       "                     20歳代\n",
       "                 &lt;/div&gt;`,\n",
       "                {&quot;sticky&quot;: true}\n",
       "            );\n",
       "        \n",
       "    \n",
       "            var marker_f86dce1d782e848d4e7fecca5a66bb52 = L.marker(\n",
       "                [35.822018, 139.983444],\n",
       "                {}\n",
       "            ).addTo(marker_cluster_7e4488800c5083233b76b343f19de97d);\n",
       "        \n",
       "    \n",
       "            marker_f86dce1d782e848d4e7fecca5a66bb52.bindTooltip(\n",
       "                `&lt;div&gt;\n",
       "                     10歳代\n",
       "                 &lt;/div&gt;`,\n",
       "                {&quot;sticky&quot;: true}\n",
       "            );\n",
       "        \n",
       "    \n",
       "            var marker_c4de95dac5e24045259467435250d157 = L.marker(\n",
       "                [35.822018, 139.983444],\n",
       "                {}\n",
       "            ).addTo(marker_cluster_7e4488800c5083233b76b343f19de97d);\n",
       "        \n",
       "    \n",
       "            marker_c4de95dac5e24045259467435250d157.bindTooltip(\n",
       "                `&lt;div&gt;\n",
       "                     10歳代\n",
       "                 &lt;/div&gt;`,\n",
       "                {&quot;sticky&quot;: true}\n",
       "            );\n",
       "        \n",
       "    \n",
       "            var marker_c5679b5f06061085fc6098bd17bbb080 = L.marker(\n",
       "                [35.822018, 139.983444],\n",
       "                {}\n",
       "            ).addTo(marker_cluster_7e4488800c5083233b76b343f19de97d);\n",
       "        \n",
       "    \n",
       "            marker_c5679b5f06061085fc6098bd17bbb080.bindTooltip(\n",
       "                `&lt;div&gt;\n",
       "                     20歳代\n",
       "                 &lt;/div&gt;`,\n",
       "                {&quot;sticky&quot;: true}\n",
       "            );\n",
       "        \n",
       "    \n",
       "            var marker_a2970af8c7a361dd37c7a5bcbd62b9df = L.marker(\n",
       "                [35.824383, 139.979614],\n",
       "                {}\n",
       "            ).addTo(marker_cluster_7e4488800c5083233b76b343f19de97d);\n",
       "        \n",
       "    \n",
       "            marker_a2970af8c7a361dd37c7a5bcbd62b9df.bindTooltip(\n",
       "                `&lt;div&gt;\n",
       "                     10歳代\n",
       "                 &lt;/div&gt;`,\n",
       "                {&quot;sticky&quot;: true}\n",
       "            );\n",
       "        \n",
       "    \n",
       "            var marker_9bb6d608f3a21330f49a0b4ea1424566 = L.marker(\n",
       "                [35.824383, 139.979614],\n",
       "                {}\n",
       "            ).addTo(marker_cluster_7e4488800c5083233b76b343f19de97d);\n",
       "        \n",
       "    \n",
       "            marker_9bb6d608f3a21330f49a0b4ea1424566.bindTooltip(\n",
       "                `&lt;div&gt;\n",
       "                     10歳代\n",
       "                 &lt;/div&gt;`,\n",
       "                {&quot;sticky&quot;: true}\n",
       "            );\n",
       "        \n",
       "    \n",
       "            var marker_76e46179b6671efe2bf2a283111d386b = L.marker(\n",
       "                [35.824383, 139.979614],\n",
       "                {}\n",
       "            ).addTo(marker_cluster_7e4488800c5083233b76b343f19de97d);\n",
       "        \n",
       "    \n",
       "            marker_76e46179b6671efe2bf2a283111d386b.bindTooltip(\n",
       "                `&lt;div&gt;\n",
       "                     10歳代\n",
       "                 &lt;/div&gt;`,\n",
       "                {&quot;sticky&quot;: true}\n",
       "            );\n",
       "        \n",
       "    \n",
       "            var marker_4607eac5b93e44510350261afd635769 = L.marker(\n",
       "                [35.824383, 139.979614],\n",
       "                {}\n",
       "            ).addTo(marker_cluster_7e4488800c5083233b76b343f19de97d);\n",
       "        \n",
       "    \n",
       "            marker_4607eac5b93e44510350261afd635769.bindTooltip(\n",
       "                `&lt;div&gt;\n",
       "                     20歳代\n",
       "                 &lt;/div&gt;`,\n",
       "                {&quot;sticky&quot;: true}\n",
       "            );\n",
       "        \n",
       "    \n",
       "            var marker_26883ef7810b06c94555383209dd72b2 = L.marker(\n",
       "                [35.824383, 139.979614],\n",
       "                {}\n",
       "            ).addTo(marker_cluster_7e4488800c5083233b76b343f19de97d);\n",
       "        \n",
       "    \n",
       "            marker_26883ef7810b06c94555383209dd72b2.bindTooltip(\n",
       "                `&lt;div&gt;\n",
       "                     30歳代\n",
       "                 &lt;/div&gt;`,\n",
       "                {&quot;sticky&quot;: true}\n",
       "            );\n",
       "        \n",
       "    \n",
       "            var marker_fa69a26be9c4fc5f7a73b8d88d5017bf = L.marker(\n",
       "                [35.824383, 139.979614],\n",
       "                {}\n",
       "            ).addTo(marker_cluster_7e4488800c5083233b76b343f19de97d);\n",
       "        \n",
       "    \n",
       "            marker_fa69a26be9c4fc5f7a73b8d88d5017bf.bindTooltip(\n",
       "                `&lt;div&gt;\n",
       "                     10歳代\n",
       "                 &lt;/div&gt;`,\n",
       "                {&quot;sticky&quot;: true}\n",
       "            );\n",
       "        \n",
       "    \n",
       "            var marker_331d7d86c1c49691f75b5842ad5baad3 = L.marker(\n",
       "                [35.816387, 139.974075],\n",
       "                {}\n",
       "            ).addTo(marker_cluster_7e4488800c5083233b76b343f19de97d);\n",
       "        \n",
       "    \n",
       "            marker_331d7d86c1c49691f75b5842ad5baad3.bindTooltip(\n",
       "                `&lt;div&gt;\n",
       "                     10歳代\n",
       "                 &lt;/div&gt;`,\n",
       "                {&quot;sticky&quot;: true}\n",
       "            );\n",
       "        \n",
       "    \n",
       "            var marker_cc6b89deee20c45db47adee0a79907ac = L.marker(\n",
       "                [35.816387, 139.974075],\n",
       "                {}\n",
       "            ).addTo(marker_cluster_7e4488800c5083233b76b343f19de97d);\n",
       "        \n",
       "    \n",
       "            marker_cc6b89deee20c45db47adee0a79907ac.bindTooltip(\n",
       "                `&lt;div&gt;\n",
       "                     10歳代\n",
       "                 &lt;/div&gt;`,\n",
       "                {&quot;sticky&quot;: true}\n",
       "            );\n",
       "        \n",
       "    \n",
       "            var marker_e2ba8f25e55b284ac4fc40c56aeffc43 = L.marker(\n",
       "                [35.816387, 139.974075],\n",
       "                {}\n",
       "            ).addTo(marker_cluster_7e4488800c5083233b76b343f19de97d);\n",
       "        \n",
       "    \n",
       "            marker_e2ba8f25e55b284ac4fc40c56aeffc43.bindTooltip(\n",
       "                `&lt;div&gt;\n",
       "                     10歳代\n",
       "                 &lt;/div&gt;`,\n",
       "                {&quot;sticky&quot;: true}\n",
       "            );\n",
       "        \n",
       "    \n",
       "            var marker_d927adcd7f76ad194771a0b25b38ec31 = L.marker(\n",
       "                [35.818909, 139.971741],\n",
       "                {}\n",
       "            ).addTo(marker_cluster_7e4488800c5083233b76b343f19de97d);\n",
       "        \n",
       "    \n",
       "            marker_d927adcd7f76ad194771a0b25b38ec31.bindTooltip(\n",
       "                `&lt;div&gt;\n",
       "                     40歳代\n",
       "                 &lt;/div&gt;`,\n",
       "                {&quot;sticky&quot;: true}\n",
       "            );\n",
       "        \n",
       "    \n",
       "            var marker_5aa13824d22e48f72621e9da6ec5bbcc = L.marker(\n",
       "                [35.817165, 139.96759],\n",
       "                {}\n",
       "            ).addTo(marker_cluster_7e4488800c5083233b76b343f19de97d);\n",
       "        \n",
       "    \n",
       "            marker_5aa13824d22e48f72621e9da6ec5bbcc.bindTooltip(\n",
       "                `&lt;div&gt;\n",
       "                     10歳代\n",
       "                 &lt;/div&gt;`,\n",
       "                {&quot;sticky&quot;: true}\n",
       "            );\n",
       "        \n",
       "    \n",
       "            var marker_e3d4ff21745373212e92dedc68decb31 = L.marker(\n",
       "                [35.814602, 139.97052],\n",
       "                {}\n",
       "            ).addTo(marker_cluster_7e4488800c5083233b76b343f19de97d);\n",
       "        \n",
       "    \n",
       "            marker_e3d4ff21745373212e92dedc68decb31.bindTooltip(\n",
       "                `&lt;div&gt;\n",
       "                     70歳以上\n",
       "                 &lt;/div&gt;`,\n",
       "                {&quot;sticky&quot;: true}\n",
       "            );\n",
       "        \n",
       "    \n",
       "            var marker_5e480bfd4d546382a9507695955981d4 = L.marker(\n",
       "                [35.814602, 139.97052],\n",
       "                {}\n",
       "            ).addTo(marker_cluster_7e4488800c5083233b76b343f19de97d);\n",
       "        \n",
       "    \n",
       "            marker_5e480bfd4d546382a9507695955981d4.bindTooltip(\n",
       "                `&lt;div&gt;\n",
       "                     50歳代\n",
       "                 &lt;/div&gt;`,\n",
       "                {&quot;sticky&quot;: true}\n",
       "            );\n",
       "        \n",
       "    \n",
       "            var marker_e6b15ccd3c4dadc55a5904ffb5dd38be = L.marker(\n",
       "                [35.814602, 139.97052],\n",
       "                {}\n",
       "            ).addTo(marker_cluster_7e4488800c5083233b76b343f19de97d);\n",
       "        \n",
       "    \n",
       "            marker_e6b15ccd3c4dadc55a5904ffb5dd38be.bindTooltip(\n",
       "                `&lt;div&gt;\n",
       "                     30歳代\n",
       "                 &lt;/div&gt;`,\n",
       "                {&quot;sticky&quot;: true}\n",
       "            );\n",
       "        \n",
       "    \n",
       "            var marker_06a74616e9043da6abe397c0e2007349 = L.marker(\n",
       "                [35.814602, 139.97052],\n",
       "                {}\n",
       "            ).addTo(marker_cluster_7e4488800c5083233b76b343f19de97d);\n",
       "        \n",
       "    \n",
       "            marker_06a74616e9043da6abe397c0e2007349.bindTooltip(\n",
       "                `&lt;div&gt;\n",
       "                     10歳代\n",
       "                 &lt;/div&gt;`,\n",
       "                {&quot;sticky&quot;: true}\n",
       "            );\n",
       "        \n",
       "    \n",
       "            var marker_68d5db427ff533504e184cebcaa01a7e = L.marker(\n",
       "                [35.814602, 139.97052],\n",
       "                {}\n",
       "            ).addTo(marker_cluster_7e4488800c5083233b76b343f19de97d);\n",
       "        \n",
       "    \n",
       "            marker_68d5db427ff533504e184cebcaa01a7e.bindTooltip(\n",
       "                `&lt;div&gt;\n",
       "                     20歳代\n",
       "                 &lt;/div&gt;`,\n",
       "                {&quot;sticky&quot;: true}\n",
       "            );\n",
       "        \n",
       "    \n",
       "            var marker_5f5a323fd658d415fdaef5779040f864 = L.marker(\n",
       "                [35.813236, 139.966034],\n",
       "                {}\n",
       "            ).addTo(marker_cluster_7e4488800c5083233b76b343f19de97d);\n",
       "        \n",
       "    \n",
       "            marker_5f5a323fd658d415fdaef5779040f864.bindTooltip(\n",
       "                `&lt;div&gt;\n",
       "                     10歳代\n",
       "                 &lt;/div&gt;`,\n",
       "                {&quot;sticky&quot;: true}\n",
       "            );\n",
       "        \n",
       "    \n",
       "            var marker_6de058d05e756ba924abc36874d4d900 = L.marker(\n",
       "                [35.809929, 139.966537],\n",
       "                {}\n",
       "            ).addTo(marker_cluster_7e4488800c5083233b76b343f19de97d);\n",
       "        \n",
       "    \n",
       "            marker_6de058d05e756ba924abc36874d4d900.bindTooltip(\n",
       "                `&lt;div&gt;\n",
       "                     70歳以上\n",
       "                 &lt;/div&gt;`,\n",
       "                {&quot;sticky&quot;: true}\n",
       "            );\n",
       "        \n",
       "    \n",
       "            var marker_ab71bdda1a23a1259809bdf75730c882 = L.marker(\n",
       "                [35.811157, 139.963562],\n",
       "                {}\n",
       "            ).addTo(marker_cluster_7e4488800c5083233b76b343f19de97d);\n",
       "        \n",
       "    \n",
       "            marker_ab71bdda1a23a1259809bdf75730c882.bindTooltip(\n",
       "                `&lt;div&gt;\n",
       "                     40歳代\n",
       "                 &lt;/div&gt;`,\n",
       "                {&quot;sticky&quot;: true}\n",
       "            );\n",
       "        \n",
       "    \n",
       "            var marker_845dd51c36bd2dbf4393de79c0579b80 = L.marker(\n",
       "                [35.810768, 139.959],\n",
       "                {}\n",
       "            ).addTo(marker_cluster_7e4488800c5083233b76b343f19de97d);\n",
       "        \n",
       "    \n",
       "            marker_845dd51c36bd2dbf4393de79c0579b80.bindTooltip(\n",
       "                `&lt;div&gt;\n",
       "                     10歳代\n",
       "                 &lt;/div&gt;`,\n",
       "                {&quot;sticky&quot;: true}\n",
       "            );\n",
       "        \n",
       "    \n",
       "            var marker_72d8f5d4bc533c113ed55b311e433a51 = L.marker(\n",
       "                [35.827206, 139.976883],\n",
       "                {}\n",
       "            ).addTo(marker_cluster_7e4488800c5083233b76b343f19de97d);\n",
       "        \n",
       "    \n",
       "            marker_72d8f5d4bc533c113ed55b311e433a51.bindTooltip(\n",
       "                `&lt;div&gt;\n",
       "                     30歳代\n",
       "                 &lt;/div&gt;`,\n",
       "                {&quot;sticky&quot;: true}\n",
       "            );\n",
       "        \n",
       "    \n",
       "            var marker_8bc08bce6f7837cdbb60679231dfecc7 = L.marker(\n",
       "                [35.827206, 139.976883],\n",
       "                {}\n",
       "            ).addTo(marker_cluster_7e4488800c5083233b76b343f19de97d);\n",
       "        \n",
       "    \n",
       "            marker_8bc08bce6f7837cdbb60679231dfecc7.bindTooltip(\n",
       "                `&lt;div&gt;\n",
       "                     50歳代\n",
       "                 &lt;/div&gt;`,\n",
       "                {&quot;sticky&quot;: true}\n",
       "            );\n",
       "        \n",
       "    \n",
       "            var marker_ba7f0285900624ad14fcb3f4c69d586d = L.marker(\n",
       "                [35.822952, 139.98671],\n",
       "                {}\n",
       "            ).addTo(marker_cluster_7e4488800c5083233b76b343f19de97d);\n",
       "        \n",
       "    \n",
       "            marker_ba7f0285900624ad14fcb3f4c69d586d.bindTooltip(\n",
       "                `&lt;div&gt;\n",
       "                     10歳代\n",
       "                 &lt;/div&gt;`,\n",
       "                {&quot;sticky&quot;: true}\n",
       "            );\n",
       "        \n",
       "    \n",
       "            var marker_ee4d5937ff44fbdd910f80b86db3954d = L.marker(\n",
       "                [35.822952, 139.98671],\n",
       "                {}\n",
       "            ).addTo(marker_cluster_7e4488800c5083233b76b343f19de97d);\n",
       "        \n",
       "    \n",
       "            marker_ee4d5937ff44fbdd910f80b86db3954d.bindTooltip(\n",
       "                `&lt;div&gt;\n",
       "                     10歳代\n",
       "                 &lt;/div&gt;`,\n",
       "                {&quot;sticky&quot;: true}\n",
       "            );\n",
       "        \n",
       "    \n",
       "            var marker_86b2378c8f21367baff606784b1da7ef = L.marker(\n",
       "                [35.822952, 139.98671],\n",
       "                {}\n",
       "            ).addTo(marker_cluster_7e4488800c5083233b76b343f19de97d);\n",
       "        \n",
       "    \n",
       "            marker_86b2378c8f21367baff606784b1da7ef.bindTooltip(\n",
       "                `&lt;div&gt;\n",
       "                     10歳代\n",
       "                 &lt;/div&gt;`,\n",
       "                {&quot;sticky&quot;: true}\n",
       "            );\n",
       "        \n",
       "    \n",
       "            var marker_1bfa5a9166afd10db1ea8bced682dc20 = L.marker(\n",
       "                [35.807571, 139.970367],\n",
       "                {}\n",
       "            ).addTo(marker_cluster_7e4488800c5083233b76b343f19de97d);\n",
       "        \n",
       "    \n",
       "            marker_1bfa5a9166afd10db1ea8bced682dc20.bindTooltip(\n",
       "                `&lt;div&gt;\n",
       "                     10歳未満\n",
       "                 &lt;/div&gt;`,\n",
       "                {&quot;sticky&quot;: true}\n",
       "            );\n",
       "        \n",
       "    \n",
       "            var marker_bf559c18d3fd074f6dc71f196a42bb19 = L.marker(\n",
       "                [35.813534, 139.957855],\n",
       "                {}\n",
       "            ).addTo(marker_cluster_7e4488800c5083233b76b343f19de97d);\n",
       "        \n",
       "    \n",
       "            marker_bf559c18d3fd074f6dc71f196a42bb19.bindTooltip(\n",
       "                `&lt;div&gt;\n",
       "                     10歳代\n",
       "                 &lt;/div&gt;`,\n",
       "                {&quot;sticky&quot;: true}\n",
       "            );\n",
       "        \n",
       "    \n",
       "            var marker_2959a84b12447869ecb2e190fc90c65e = L.marker(\n",
       "                [35.813534, 139.957855],\n",
       "                {}\n",
       "            ).addTo(marker_cluster_7e4488800c5083233b76b343f19de97d);\n",
       "        \n",
       "    \n",
       "            marker_2959a84b12447869ecb2e190fc90c65e.bindTooltip(\n",
       "                `&lt;div&gt;\n",
       "                     10歳代\n",
       "                 &lt;/div&gt;`,\n",
       "                {&quot;sticky&quot;: true}\n",
       "            );\n",
       "        \n",
       "    \n",
       "            var marker_ef4bcc50f3d71dbb527ddccd7d1ca9e9 = L.marker(\n",
       "                [35.812092, 139.972183],\n",
       "                {}\n",
       "            ).addTo(marker_cluster_7e4488800c5083233b76b343f19de97d);\n",
       "        \n",
       "    \n",
       "            marker_ef4bcc50f3d71dbb527ddccd7d1ca9e9.bindTooltip(\n",
       "                `&lt;div&gt;\n",
       "                     70歳以上\n",
       "                 &lt;/div&gt;`,\n",
       "                {&quot;sticky&quot;: true}\n",
       "            );\n",
       "        \n",
       "    \n",
       "            var marker_05a4e9dcb901a9b9c70350608d001db9 = L.marker(\n",
       "                [35.809525, 139.970627],\n",
       "                {}\n",
       "            ).addTo(marker_cluster_7e4488800c5083233b76b343f19de97d);\n",
       "        \n",
       "    \n",
       "            marker_05a4e9dcb901a9b9c70350608d001db9.bindTooltip(\n",
       "                `&lt;div&gt;\n",
       "                     10歳代\n",
       "                 &lt;/div&gt;`,\n",
       "                {&quot;sticky&quot;: true}\n",
       "            );\n",
       "        \n",
       "    \n",
       "            var marker_a5d823c2953bd160c00f6c920b148cf1 = L.marker(\n",
       "                [35.809525, 139.970627],\n",
       "                {}\n",
       "            ).addTo(marker_cluster_7e4488800c5083233b76b343f19de97d);\n",
       "        \n",
       "    \n",
       "            marker_a5d823c2953bd160c00f6c920b148cf1.bindTooltip(\n",
       "                `&lt;div&gt;\n",
       "                     10歳未満\n",
       "                 &lt;/div&gt;`,\n",
       "                {&quot;sticky&quot;: true}\n",
       "            );\n",
       "        \n",
       "    \n",
       "            var marker_81a548ab10f1f60c755975136a266263 = L.marker(\n",
       "                [35.809525, 139.970627],\n",
       "                {}\n",
       "            ).addTo(marker_cluster_7e4488800c5083233b76b343f19de97d);\n",
       "        \n",
       "    \n",
       "            marker_81a548ab10f1f60c755975136a266263.bindTooltip(\n",
       "                `&lt;div&gt;\n",
       "                     20歳代\n",
       "                 &lt;/div&gt;`,\n",
       "                {&quot;sticky&quot;: true}\n",
       "            );\n",
       "        \n",
       "    \n",
       "            var marker_8a6c825187a20c8439cfc9f2161cd5c8 = L.marker(\n",
       "                [35.850155, 140.00441],\n",
       "                {}\n",
       "            ).addTo(marker_cluster_7e4488800c5083233b76b343f19de97d);\n",
       "        \n",
       "    \n",
       "            marker_8a6c825187a20c8439cfc9f2161cd5c8.bindTooltip(\n",
       "                `&lt;div&gt;\n",
       "                     10歳代\n",
       "                 &lt;/div&gt;`,\n",
       "                {&quot;sticky&quot;: true}\n",
       "            );\n",
       "        \n",
       "    \n",
       "            var marker_a3a73adb389888d3e2ff1afc3ac18d3f = L.marker(\n",
       "                [35.824383, 139.979614],\n",
       "                {}\n",
       "            ).addTo(marker_cluster_7e4488800c5083233b76b343f19de97d);\n",
       "        \n",
       "    \n",
       "            marker_a3a73adb389888d3e2ff1afc3ac18d3f.bindTooltip(\n",
       "                `&lt;div&gt;\n",
       "                     10歳代\n",
       "                 &lt;/div&gt;`,\n",
       "                {&quot;sticky&quot;: true}\n",
       "            );\n",
       "        \n",
       "    \n",
       "            var marker_eb86b9fa1fd17b8170a825203cbb3825 = L.marker(\n",
       "                [35.85088, 139.955795],\n",
       "                {}\n",
       "            ).addTo(marker_cluster_7e4488800c5083233b76b343f19de97d);\n",
       "        \n",
       "    \n",
       "            marker_eb86b9fa1fd17b8170a825203cbb3825.bindTooltip(\n",
       "                `&lt;div&gt;\n",
       "                     10歳代\n",
       "                 &lt;/div&gt;`,\n",
       "                {&quot;sticky&quot;: true}\n",
       "            );\n",
       "        \n",
       "    \n",
       "            var marker_f9a212a740b5a5220ac92cbfbffae9b8 = L.marker(\n",
       "                [35.859928, 139.949814],\n",
       "                {}\n",
       "            ).addTo(marker_cluster_7e4488800c5083233b76b343f19de97d);\n",
       "        \n",
       "    \n",
       "            marker_f9a212a740b5a5220ac92cbfbffae9b8.bindTooltip(\n",
       "                `&lt;div&gt;\n",
       "                     10歳代\n",
       "                 &lt;/div&gt;`,\n",
       "                {&quot;sticky&quot;: true}\n",
       "            );\n",
       "        \n",
       "    \n",
       "            var marker_fc6075982c43f8ba24349c2a4686db81 = L.marker(\n",
       "                [35.859928, 139.949814],\n",
       "                {}\n",
       "            ).addTo(marker_cluster_7e4488800c5083233b76b343f19de97d);\n",
       "        \n",
       "    \n",
       "            marker_fc6075982c43f8ba24349c2a4686db81.bindTooltip(\n",
       "                `&lt;div&gt;\n",
       "                     30歳代\n",
       "                 &lt;/div&gt;`,\n",
       "                {&quot;sticky&quot;: true}\n",
       "            );\n",
       "        \n",
       "    \n",
       "            var marker_9a2eb3a345c6d64c18cb0caabee496b7 = L.marker(\n",
       "                [35.859928, 139.949814],\n",
       "                {}\n",
       "            ).addTo(marker_cluster_7e4488800c5083233b76b343f19de97d);\n",
       "        \n",
       "    \n",
       "            marker_9a2eb3a345c6d64c18cb0caabee496b7.bindTooltip(\n",
       "                `&lt;div&gt;\n",
       "                     30歳代\n",
       "                 &lt;/div&gt;`,\n",
       "                {&quot;sticky&quot;: true}\n",
       "            );\n",
       "        \n",
       "    \n",
       "            var marker_c9a7763e276e20924fe78007d8271193 = L.marker(\n",
       "                [35.859928, 139.949814],\n",
       "                {}\n",
       "            ).addTo(marker_cluster_7e4488800c5083233b76b343f19de97d);\n",
       "        \n",
       "    \n",
       "            marker_c9a7763e276e20924fe78007d8271193.bindTooltip(\n",
       "                `&lt;div&gt;\n",
       "                     30歳代\n",
       "                 &lt;/div&gt;`,\n",
       "                {&quot;sticky&quot;: true}\n",
       "            );\n",
       "        \n",
       "    \n",
       "            var marker_27f3f72549b94ea364e8811e5874a3d9 = L.marker(\n",
       "                [35.859928, 139.949814],\n",
       "                {}\n",
       "            ).addTo(marker_cluster_7e4488800c5083233b76b343f19de97d);\n",
       "        \n",
       "    \n",
       "            marker_27f3f72549b94ea364e8811e5874a3d9.bindTooltip(\n",
       "                `&lt;div&gt;\n",
       "                     30歳代\n",
       "                 &lt;/div&gt;`,\n",
       "                {&quot;sticky&quot;: true}\n",
       "            );\n",
       "        \n",
       "    \n",
       "            var marker_53388b3f020a316b6a2d949d8cda2c53 = L.marker(\n",
       "                [35.859928, 139.949814],\n",
       "                {}\n",
       "            ).addTo(marker_cluster_7e4488800c5083233b76b343f19de97d);\n",
       "        \n",
       "    \n",
       "            marker_53388b3f020a316b6a2d949d8cda2c53.bindTooltip(\n",
       "                `&lt;div&gt;\n",
       "                     10歳代\n",
       "                 &lt;/div&gt;`,\n",
       "                {&quot;sticky&quot;: true}\n",
       "            );\n",
       "        \n",
       "    \n",
       "            var marker_4d44b380a15bb778695d9cdad2139547 = L.marker(\n",
       "                [35.859928, 139.949814],\n",
       "                {}\n",
       "            ).addTo(marker_cluster_7e4488800c5083233b76b343f19de97d);\n",
       "        \n",
       "    \n",
       "            marker_4d44b380a15bb778695d9cdad2139547.bindTooltip(\n",
       "                `&lt;div&gt;\n",
       "                     20歳代\n",
       "                 &lt;/div&gt;`,\n",
       "                {&quot;sticky&quot;: true}\n",
       "            );\n",
       "        \n",
       "    \n",
       "            var marker_bdc02fb7c2f5a6455384bc47d8a310e2 = L.marker(\n",
       "                [35.859928, 139.949814],\n",
       "                {}\n",
       "            ).addTo(marker_cluster_7e4488800c5083233b76b343f19de97d);\n",
       "        \n",
       "    \n",
       "            marker_bdc02fb7c2f5a6455384bc47d8a310e2.bindTooltip(\n",
       "                `&lt;div&gt;\n",
       "                     10歳代\n",
       "                 &lt;/div&gt;`,\n",
       "                {&quot;sticky&quot;: true}\n",
       "            );\n",
       "        \n",
       "    \n",
       "            var marker_1963e34df1c8f83e892d30d0db35a2e4 = L.marker(\n",
       "                [35.845783, 139.953476],\n",
       "                {}\n",
       "            ).addTo(marker_cluster_7e4488800c5083233b76b343f19de97d);\n",
       "        \n",
       "    \n",
       "            marker_1963e34df1c8f83e892d30d0db35a2e4.bindTooltip(\n",
       "                `&lt;div&gt;\n",
       "                     30歳代\n",
       "                 &lt;/div&gt;`,\n",
       "                {&quot;sticky&quot;: true}\n",
       "            );\n",
       "        \n",
       "    \n",
       "            var marker_0c8741e519742e256278588d269d175f = L.marker(\n",
       "                [35.845783, 139.953476],\n",
       "                {}\n",
       "            ).addTo(marker_cluster_7e4488800c5083233b76b343f19de97d);\n",
       "        \n",
       "    \n",
       "            marker_0c8741e519742e256278588d269d175f.bindTooltip(\n",
       "                `&lt;div&gt;\n",
       "                     10歳代\n",
       "                 &lt;/div&gt;`,\n",
       "                {&quot;sticky&quot;: true}\n",
       "            );\n",
       "        \n",
       "    \n",
       "            var marker_ad9d470e8add183aef326d7e634aa4d1 = L.marker(\n",
       "                [35.845783, 139.953476],\n",
       "                {}\n",
       "            ).addTo(marker_cluster_7e4488800c5083233b76b343f19de97d);\n",
       "        \n",
       "    \n",
       "            marker_ad9d470e8add183aef326d7e634aa4d1.bindTooltip(\n",
       "                `&lt;div&gt;\n",
       "                     20歳代\n",
       "                 &lt;/div&gt;`,\n",
       "                {&quot;sticky&quot;: true}\n",
       "            );\n",
       "        \n",
       "    \n",
       "            var marker_920c6f4e5c671722654321b31f7e8c27 = L.marker(\n",
       "                [35.845783, 139.953476],\n",
       "                {}\n",
       "            ).addTo(marker_cluster_7e4488800c5083233b76b343f19de97d);\n",
       "        \n",
       "    \n",
       "            marker_920c6f4e5c671722654321b31f7e8c27.bindTooltip(\n",
       "                `&lt;div&gt;\n",
       "                     10歳代\n",
       "                 &lt;/div&gt;`,\n",
       "                {&quot;sticky&quot;: true}\n",
       "            );\n",
       "        \n",
       "    \n",
       "            var marker_0e5d1188db7007eafda38e2eefad6311 = L.marker(\n",
       "                [35.845783, 139.953476],\n",
       "                {}\n",
       "            ).addTo(marker_cluster_7e4488800c5083233b76b343f19de97d);\n",
       "        \n",
       "    \n",
       "            marker_0e5d1188db7007eafda38e2eefad6311.bindTooltip(\n",
       "                `&lt;div&gt;\n",
       "                     30歳代\n",
       "                 &lt;/div&gt;`,\n",
       "                {&quot;sticky&quot;: true}\n",
       "            );\n",
       "        \n",
       "    \n",
       "            var marker_359be46a8eefc0a07b8e3897e91cd9ed = L.marker(\n",
       "                [35.845783, 139.953476],\n",
       "                {}\n",
       "            ).addTo(marker_cluster_7e4488800c5083233b76b343f19de97d);\n",
       "        \n",
       "    \n",
       "            marker_359be46a8eefc0a07b8e3897e91cd9ed.bindTooltip(\n",
       "                `&lt;div&gt;\n",
       "                     50歳代\n",
       "                 &lt;/div&gt;`,\n",
       "                {&quot;sticky&quot;: true}\n",
       "            );\n",
       "        \n",
       "    \n",
       "            var marker_8021a31fd41d78e326f3eeafd0121345 = L.marker(\n",
       "                [35.845783, 139.953476],\n",
       "                {}\n",
       "            ).addTo(marker_cluster_7e4488800c5083233b76b343f19de97d);\n",
       "        \n",
       "    \n",
       "            marker_8021a31fd41d78e326f3eeafd0121345.bindTooltip(\n",
       "                `&lt;div&gt;\n",
       "                     20歳代\n",
       "                 &lt;/div&gt;`,\n",
       "                {&quot;sticky&quot;: true}\n",
       "            );\n",
       "        \n",
       "    \n",
       "            var marker_00ba79dda2bd6f5f5178f9ea220cd113 = L.marker(\n",
       "                [35.847271, 139.955032],\n",
       "                {}\n",
       "            ).addTo(marker_cluster_7e4488800c5083233b76b343f19de97d);\n",
       "        \n",
       "    \n",
       "            marker_00ba79dda2bd6f5f5178f9ea220cd113.bindTooltip(\n",
       "                `&lt;div&gt;\n",
       "                     20歳代\n",
       "                 &lt;/div&gt;`,\n",
       "                {&quot;sticky&quot;: true}\n",
       "            );\n",
       "        \n",
       "    \n",
       "            var marker_163d9fb25976210c4712d36e7d7302c5 = L.marker(\n",
       "                [35.847271, 139.955032],\n",
       "                {}\n",
       "            ).addTo(marker_cluster_7e4488800c5083233b76b343f19de97d);\n",
       "        \n",
       "    \n",
       "            marker_163d9fb25976210c4712d36e7d7302c5.bindTooltip(\n",
       "                `&lt;div&gt;\n",
       "                     10歳代\n",
       "                 &lt;/div&gt;`,\n",
       "                {&quot;sticky&quot;: true}\n",
       "            );\n",
       "        \n",
       "    \n",
       "            var marker_8500b43386394cf366c0d6583d31de73 = L.marker(\n",
       "                [35.847271, 139.955032],\n",
       "                {}\n",
       "            ).addTo(marker_cluster_7e4488800c5083233b76b343f19de97d);\n",
       "        \n",
       "    \n",
       "            marker_8500b43386394cf366c0d6583d31de73.bindTooltip(\n",
       "                `&lt;div&gt;\n",
       "                     10歳代\n",
       "                 &lt;/div&gt;`,\n",
       "                {&quot;sticky&quot;: true}\n",
       "            );\n",
       "        \n",
       "    \n",
       "            var marker_7b752a56bd3d2afb7a3d1ce6dc83230a = L.marker(\n",
       "                [35.847271, 139.955032],\n",
       "                {}\n",
       "            ).addTo(marker_cluster_7e4488800c5083233b76b343f19de97d);\n",
       "        \n",
       "    \n",
       "            marker_7b752a56bd3d2afb7a3d1ce6dc83230a.bindTooltip(\n",
       "                `&lt;div&gt;\n",
       "                     10歳代\n",
       "                 &lt;/div&gt;`,\n",
       "                {&quot;sticky&quot;: true}\n",
       "            );\n",
       "        \n",
       "    \n",
       "            var marker_bd7f38dae8e1ded54a75b27640dcdcfb = L.marker(\n",
       "                [35.851013, 139.960251],\n",
       "                {}\n",
       "            ).addTo(marker_cluster_7e4488800c5083233b76b343f19de97d);\n",
       "        \n",
       "    \n",
       "            marker_bd7f38dae8e1ded54a75b27640dcdcfb.bindTooltip(\n",
       "                `&lt;div&gt;\n",
       "                     10歳代\n",
       "                 &lt;/div&gt;`,\n",
       "                {&quot;sticky&quot;: true}\n",
       "            );\n",
       "        \n",
       "    \n",
       "            var marker_5b330df96c3e17cf64ebf5dca6b48704 = L.marker(\n",
       "                [35.851013, 139.960251],\n",
       "                {}\n",
       "            ).addTo(marker_cluster_7e4488800c5083233b76b343f19de97d);\n",
       "        \n",
       "    \n",
       "            marker_5b330df96c3e17cf64ebf5dca6b48704.bindTooltip(\n",
       "                `&lt;div&gt;\n",
       "                     10歳代\n",
       "                 &lt;/div&gt;`,\n",
       "                {&quot;sticky&quot;: true}\n",
       "            );\n",
       "        \n",
       "    \n",
       "            var marker_53ceecb1156309360cae108d3d2822c5 = L.marker(\n",
       "                [35.851013, 139.960251],\n",
       "                {}\n",
       "            ).addTo(marker_cluster_7e4488800c5083233b76b343f19de97d);\n",
       "        \n",
       "    \n",
       "            marker_53ceecb1156309360cae108d3d2822c5.bindTooltip(\n",
       "                `&lt;div&gt;\n",
       "                     20歳代\n",
       "                 &lt;/div&gt;`,\n",
       "                {&quot;sticky&quot;: true}\n",
       "            );\n",
       "        \n",
       "    \n",
       "            var marker_3ba22912c936a401ae83ec8c485b6e5b = L.marker(\n",
       "                [35.844471, 139.954956],\n",
       "                {}\n",
       "            ).addTo(marker_cluster_7e4488800c5083233b76b343f19de97d);\n",
       "        \n",
       "    \n",
       "            marker_3ba22912c936a401ae83ec8c485b6e5b.bindTooltip(\n",
       "                `&lt;div&gt;\n",
       "                     20歳代\n",
       "                 &lt;/div&gt;`,\n",
       "                {&quot;sticky&quot;: true}\n",
       "            );\n",
       "        \n",
       "    \n",
       "            var marker_e26c6c5f0a154ba03522ab61e1a26936 = L.marker(\n",
       "                [35.844471, 139.954956],\n",
       "                {}\n",
       "            ).addTo(marker_cluster_7e4488800c5083233b76b343f19de97d);\n",
       "        \n",
       "    \n",
       "            marker_e26c6c5f0a154ba03522ab61e1a26936.bindTooltip(\n",
       "                `&lt;div&gt;\n",
       "                     10歳代\n",
       "                 &lt;/div&gt;`,\n",
       "                {&quot;sticky&quot;: true}\n",
       "            );\n",
       "        \n",
       "    \n",
       "            var marker_0444cf0845601791b1a71139e79b8ab3 = L.marker(\n",
       "                [35.844471, 139.954956],\n",
       "                {}\n",
       "            ).addTo(marker_cluster_7e4488800c5083233b76b343f19de97d);\n",
       "        \n",
       "    \n",
       "            marker_0444cf0845601791b1a71139e79b8ab3.bindTooltip(\n",
       "                `&lt;div&gt;\n",
       "                     10歳代\n",
       "                 &lt;/div&gt;`,\n",
       "                {&quot;sticky&quot;: true}\n",
       "            );\n",
       "        \n",
       "    \n",
       "            var marker_a10b644aa4565fb305dd58c959f3ca42 = L.marker(\n",
       "                [35.844471, 139.954956],\n",
       "                {}\n",
       "            ).addTo(marker_cluster_7e4488800c5083233b76b343f19de97d);\n",
       "        \n",
       "    \n",
       "            marker_a10b644aa4565fb305dd58c959f3ca42.bindTooltip(\n",
       "                `&lt;div&gt;\n",
       "                     10歳代\n",
       "                 &lt;/div&gt;`,\n",
       "                {&quot;sticky&quot;: true}\n",
       "            );\n",
       "        \n",
       "    \n",
       "            var marker_ce021e004eb8702efab420dfee1d3adb = L.marker(\n",
       "                [35.844471, 139.954956],\n",
       "                {}\n",
       "            ).addTo(marker_cluster_7e4488800c5083233b76b343f19de97d);\n",
       "        \n",
       "    \n",
       "            marker_ce021e004eb8702efab420dfee1d3adb.bindTooltip(\n",
       "                `&lt;div&gt;\n",
       "                     10歳代\n",
       "                 &lt;/div&gt;`,\n",
       "                {&quot;sticky&quot;: true}\n",
       "            );\n",
       "        \n",
       "    \n",
       "            var marker_c2587d8832865ffbc29548b0c8a2c20d = L.marker(\n",
       "                [35.844471, 139.954956],\n",
       "                {}\n",
       "            ).addTo(marker_cluster_7e4488800c5083233b76b343f19de97d);\n",
       "        \n",
       "    \n",
       "            marker_c2587d8832865ffbc29548b0c8a2c20d.bindTooltip(\n",
       "                `&lt;div&gt;\n",
       "                     10歳代\n",
       "                 &lt;/div&gt;`,\n",
       "                {&quot;sticky&quot;: true}\n",
       "            );\n",
       "        \n",
       "    \n",
       "            var marker_172c878ebc5c526201bb168ebf818c98 = L.marker(\n",
       "                [35.844471, 139.954956],\n",
       "                {}\n",
       "            ).addTo(marker_cluster_7e4488800c5083233b76b343f19de97d);\n",
       "        \n",
       "    \n",
       "            marker_172c878ebc5c526201bb168ebf818c98.bindTooltip(\n",
       "                `&lt;div&gt;\n",
       "                     30歳代\n",
       "                 &lt;/div&gt;`,\n",
       "                {&quot;sticky&quot;: true}\n",
       "            );\n",
       "        \n",
       "    \n",
       "            var marker_a041ef08267c3aa84e9b517c982aeabc = L.marker(\n",
       "                [35.844471, 139.954956],\n",
       "                {}\n",
       "            ).addTo(marker_cluster_7e4488800c5083233b76b343f19de97d);\n",
       "        \n",
       "    \n",
       "            marker_a041ef08267c3aa84e9b517c982aeabc.bindTooltip(\n",
       "                `&lt;div&gt;\n",
       "                     20歳代\n",
       "                 &lt;/div&gt;`,\n",
       "                {&quot;sticky&quot;: true}\n",
       "            );\n",
       "        \n",
       "    \n",
       "            var marker_92e0e327cf93f66c378f747d5371da89 = L.marker(\n",
       "                [35.844471, 139.954956],\n",
       "                {}\n",
       "            ).addTo(marker_cluster_7e4488800c5083233b76b343f19de97d);\n",
       "        \n",
       "    \n",
       "            marker_92e0e327cf93f66c378f747d5371da89.bindTooltip(\n",
       "                `&lt;div&gt;\n",
       "                     10歳代\n",
       "                 &lt;/div&gt;`,\n",
       "                {&quot;sticky&quot;: true}\n",
       "            );\n",
       "        \n",
       "    \n",
       "            var marker_b3b113c9111cd5dc5b430c4fe1dd3a8a = L.marker(\n",
       "                [35.844471, 139.954956],\n",
       "                {}\n",
       "            ).addTo(marker_cluster_7e4488800c5083233b76b343f19de97d);\n",
       "        \n",
       "    \n",
       "            marker_b3b113c9111cd5dc5b430c4fe1dd3a8a.bindTooltip(\n",
       "                `&lt;div&gt;\n",
       "                     10歳代\n",
       "                 &lt;/div&gt;`,\n",
       "                {&quot;sticky&quot;: true}\n",
       "            );\n",
       "        \n",
       "    \n",
       "            var marker_7aaab3673d774f551b93e592dee601e3 = L.marker(\n",
       "                [35.844471, 139.954956],\n",
       "                {}\n",
       "            ).addTo(marker_cluster_7e4488800c5083233b76b343f19de97d);\n",
       "        \n",
       "    \n",
       "            marker_7aaab3673d774f551b93e592dee601e3.bindTooltip(\n",
       "                `&lt;div&gt;\n",
       "                     10歳代\n",
       "                 &lt;/div&gt;`,\n",
       "                {&quot;sticky&quot;: true}\n",
       "            );\n",
       "        \n",
       "    \n",
       "            var marker_453e86a649311ea655fa8b48f5182127 = L.marker(\n",
       "                [35.844471, 139.954956],\n",
       "                {}\n",
       "            ).addTo(marker_cluster_7e4488800c5083233b76b343f19de97d);\n",
       "        \n",
       "    \n",
       "            marker_453e86a649311ea655fa8b48f5182127.bindTooltip(\n",
       "                `&lt;div&gt;\n",
       "                     20歳代\n",
       "                 &lt;/div&gt;`,\n",
       "                {&quot;sticky&quot;: true}\n",
       "            );\n",
       "        \n",
       "    \n",
       "            var marker_857f22b38a96fa6c56e3d45f8ecf5f98 = L.marker(\n",
       "                [35.844471, 139.954956],\n",
       "                {}\n",
       "            ).addTo(marker_cluster_7e4488800c5083233b76b343f19de97d);\n",
       "        \n",
       "    \n",
       "            marker_857f22b38a96fa6c56e3d45f8ecf5f98.bindTooltip(\n",
       "                `&lt;div&gt;\n",
       "                     20歳代\n",
       "                 &lt;/div&gt;`,\n",
       "                {&quot;sticky&quot;: true}\n",
       "            );\n",
       "        \n",
       "    \n",
       "            var marker_2cdca16b75d7e5942998bbc01cacadb6 = L.marker(\n",
       "                [35.844471, 139.954956],\n",
       "                {}\n",
       "            ).addTo(marker_cluster_7e4488800c5083233b76b343f19de97d);\n",
       "        \n",
       "    \n",
       "            marker_2cdca16b75d7e5942998bbc01cacadb6.bindTooltip(\n",
       "                `&lt;div&gt;\n",
       "                     40歳代\n",
       "                 &lt;/div&gt;`,\n",
       "                {&quot;sticky&quot;: true}\n",
       "            );\n",
       "        \n",
       "    \n",
       "            var marker_9a7d3cb25a50f65ce7d26e3a0818af9e = L.marker(\n",
       "                [35.844471, 139.954956],\n",
       "                {}\n",
       "            ).addTo(marker_cluster_7e4488800c5083233b76b343f19de97d);\n",
       "        \n",
       "    \n",
       "            marker_9a7d3cb25a50f65ce7d26e3a0818af9e.bindTooltip(\n",
       "                `&lt;div&gt;\n",
       "                     30歳代\n",
       "                 &lt;/div&gt;`,\n",
       "                {&quot;sticky&quot;: true}\n",
       "            );\n",
       "        \n",
       "    \n",
       "            var marker_656497f616cf9de77bfd7575662d1ff8 = L.marker(\n",
       "                [35.830082, 139.97319],\n",
       "                {}\n",
       "            ).addTo(marker_cluster_7e4488800c5083233b76b343f19de97d);\n",
       "        \n",
       "    \n",
       "            marker_656497f616cf9de77bfd7575662d1ff8.bindTooltip(\n",
       "                `&lt;div&gt;\n",
       "                     10歳代\n",
       "                 &lt;/div&gt;`,\n",
       "                {&quot;sticky&quot;: true}\n",
       "            );\n",
       "        \n",
       "    \n",
       "            var marker_1446f4c1b054200dd56555d7aa8c3c56 = L.marker(\n",
       "                [35.830082, 139.97319],\n",
       "                {}\n",
       "            ).addTo(marker_cluster_7e4488800c5083233b76b343f19de97d);\n",
       "        \n",
       "    \n",
       "            marker_1446f4c1b054200dd56555d7aa8c3c56.bindTooltip(\n",
       "                `&lt;div&gt;\n",
       "                     10歳代\n",
       "                 &lt;/div&gt;`,\n",
       "                {&quot;sticky&quot;: true}\n",
       "            );\n",
       "        \n",
       "    \n",
       "            var marker_dc67a1720390f3543bc87234c7012d8d = L.marker(\n",
       "                [35.830082, 139.97319],\n",
       "                {}\n",
       "            ).addTo(marker_cluster_7e4488800c5083233b76b343f19de97d);\n",
       "        \n",
       "    \n",
       "            marker_dc67a1720390f3543bc87234c7012d8d.bindTooltip(\n",
       "                `&lt;div&gt;\n",
       "                     70歳以上\n",
       "                 &lt;/div&gt;`,\n",
       "                {&quot;sticky&quot;: true}\n",
       "            );\n",
       "        \n",
       "    \n",
       "            var marker_40a5b44795326177b1870f3b494be1de = L.marker(\n",
       "                [35.830082, 139.97319],\n",
       "                {}\n",
       "            ).addTo(marker_cluster_7e4488800c5083233b76b343f19de97d);\n",
       "        \n",
       "    \n",
       "            marker_40a5b44795326177b1870f3b494be1de.bindTooltip(\n",
       "                `&lt;div&gt;\n",
       "                     20歳代\n",
       "                 &lt;/div&gt;`,\n",
       "                {&quot;sticky&quot;: true}\n",
       "            );\n",
       "        \n",
       "    \n",
       "            var marker_7835cf039a63d235f4b021f439f7d9cf = L.marker(\n",
       "                [35.824383, 139.979614],\n",
       "                {}\n",
       "            ).addTo(marker_cluster_7e4488800c5083233b76b343f19de97d);\n",
       "        \n",
       "    \n",
       "            marker_7835cf039a63d235f4b021f439f7d9cf.bindTooltip(\n",
       "                `&lt;div&gt;\n",
       "                     10歳未満\n",
       "                 &lt;/div&gt;`,\n",
       "                {&quot;sticky&quot;: true}\n",
       "            );\n",
       "        \n",
       "    \n",
       "            var marker_e0cf0143d1bc44b363f6d57a7df6f4fe = L.marker(\n",
       "                [35.832466, 139.974945],\n",
       "                {}\n",
       "            ).addTo(marker_cluster_7e4488800c5083233b76b343f19de97d);\n",
       "        \n",
       "    \n",
       "            marker_e0cf0143d1bc44b363f6d57a7df6f4fe.bindTooltip(\n",
       "                `&lt;div&gt;\n",
       "                     30歳代\n",
       "                 &lt;/div&gt;`,\n",
       "                {&quot;sticky&quot;: true}\n",
       "            );\n",
       "        \n",
       "    \n",
       "            var marker_bc14fff4b581773224df473aad893c78 = L.marker(\n",
       "                [35.831703, 139.978226],\n",
       "                {}\n",
       "            ).addTo(marker_cluster_7e4488800c5083233b76b343f19de97d);\n",
       "        \n",
       "    \n",
       "            marker_bc14fff4b581773224df473aad893c78.bindTooltip(\n",
       "                `&lt;div&gt;\n",
       "                     10歳代\n",
       "                 &lt;/div&gt;`,\n",
       "                {&quot;sticky&quot;: true}\n",
       "            );\n",
       "        \n",
       "    \n",
       "            var marker_7efad08c618e80c61e85e1bc2e65ddd7 = L.marker(\n",
       "                [35.835472, 139.983551],\n",
       "                {}\n",
       "            ).addTo(marker_cluster_7e4488800c5083233b76b343f19de97d);\n",
       "        \n",
       "    \n",
       "            marker_7efad08c618e80c61e85e1bc2e65ddd7.bindTooltip(\n",
       "                `&lt;div&gt;\n",
       "                     30歳代\n",
       "                 &lt;/div&gt;`,\n",
       "                {&quot;sticky&quot;: true}\n",
       "            );\n",
       "        \n",
       "    \n",
       "            var marker_c2b8d0c94e6c1e8227d8dd47a54d4c32 = L.marker(\n",
       "                [35.829124, 139.986633],\n",
       "                {}\n",
       "            ).addTo(marker_cluster_7e4488800c5083233b76b343f19de97d);\n",
       "        \n",
       "    \n",
       "            marker_c2b8d0c94e6c1e8227d8dd47a54d4c32.bindTooltip(\n",
       "                `&lt;div&gt;\n",
       "                     10歳代\n",
       "                 &lt;/div&gt;`,\n",
       "                {&quot;sticky&quot;: true}\n",
       "            );\n",
       "        \n",
       "    \n",
       "            var marker_dd2b52ff34826774dfbb00e714752ce9 = L.marker(\n",
       "                [35.824703, 139.974731],\n",
       "                {}\n",
       "            ).addTo(marker_cluster_7e4488800c5083233b76b343f19de97d);\n",
       "        \n",
       "    \n",
       "            marker_dd2b52ff34826774dfbb00e714752ce9.bindTooltip(\n",
       "                `&lt;div&gt;\n",
       "                     60-64歳\n",
       "                 &lt;/div&gt;`,\n",
       "                {&quot;sticky&quot;: true}\n",
       "            );\n",
       "        \n",
       "    \n",
       "            var marker_0ab9611f301e13e6117417e116ff5c36 = L.marker(\n",
       "                [35.824703, 139.974731],\n",
       "                {}\n",
       "            ).addTo(marker_cluster_7e4488800c5083233b76b343f19de97d);\n",
       "        \n",
       "    \n",
       "            marker_0ab9611f301e13e6117417e116ff5c36.bindTooltip(\n",
       "                `&lt;div&gt;\n",
       "                     20歳代\n",
       "                 &lt;/div&gt;`,\n",
       "                {&quot;sticky&quot;: true}\n",
       "            );\n",
       "        \n",
       "    \n",
       "            var marker_7ffe5698c67479d40191b2ebcaddeee2 = L.marker(\n",
       "                [35.821732, 139.973206],\n",
       "                {}\n",
       "            ).addTo(marker_cluster_7e4488800c5083233b76b343f19de97d);\n",
       "        \n",
       "    \n",
       "            marker_7ffe5698c67479d40191b2ebcaddeee2.bindTooltip(\n",
       "                `&lt;div&gt;\n",
       "                     10歳代\n",
       "                 &lt;/div&gt;`,\n",
       "                {&quot;sticky&quot;: true}\n",
       "            );\n",
       "        \n",
       "    \n",
       "            var marker_a9901eb826ac9746d7a778c950be9910 = L.marker(\n",
       "                [35.821732, 139.973206],\n",
       "                {}\n",
       "            ).addTo(marker_cluster_7e4488800c5083233b76b343f19de97d);\n",
       "        \n",
       "    \n",
       "            marker_a9901eb826ac9746d7a778c950be9910.bindTooltip(\n",
       "                `&lt;div&gt;\n",
       "                     10歳代\n",
       "                 &lt;/div&gt;`,\n",
       "                {&quot;sticky&quot;: true}\n",
       "            );\n",
       "        \n",
       "    \n",
       "            var marker_3a6f059e352fee243bcf2f03f9321d19 = L.marker(\n",
       "                [35.850155, 140.00441],\n",
       "                {}\n",
       "            ).addTo(marker_cluster_7e4488800c5083233b76b343f19de97d);\n",
       "        \n",
       "    \n",
       "            marker_3a6f059e352fee243bcf2f03f9321d19.bindTooltip(\n",
       "                `&lt;div&gt;\n",
       "                     10歳代\n",
       "                 &lt;/div&gt;`,\n",
       "                {&quot;sticky&quot;: true}\n",
       "            );\n",
       "        \n",
       "    \n",
       "            var marker_206600be525a42b4fc0c4a2bc52f59a7 = L.marker(\n",
       "                [35.850155, 140.00441],\n",
       "                {}\n",
       "            ).addTo(marker_cluster_7e4488800c5083233b76b343f19de97d);\n",
       "        \n",
       "    \n",
       "            marker_206600be525a42b4fc0c4a2bc52f59a7.bindTooltip(\n",
       "                `&lt;div&gt;\n",
       "                     30歳代\n",
       "                 &lt;/div&gt;`,\n",
       "                {&quot;sticky&quot;: true}\n",
       "            );\n",
       "        \n",
       "    \n",
       "            var marker_75a1735009c15d845eaeda4483e9db81 = L.marker(\n",
       "                [35.835773, 140.012802],\n",
       "                {}\n",
       "            ).addTo(marker_cluster_7e4488800c5083233b76b343f19de97d);\n",
       "        \n",
       "    \n",
       "            marker_75a1735009c15d845eaeda4483e9db81.bindTooltip(\n",
       "                `&lt;div&gt;\n",
       "                     10歳代\n",
       "                 &lt;/div&gt;`,\n",
       "                {&quot;sticky&quot;: true}\n",
       "            );\n",
       "        \n",
       "    \n",
       "            var marker_8c2e983bd71c027584fe05b23ebb3b36 = L.marker(\n",
       "                [35.835773, 140.012802],\n",
       "                {}\n",
       "            ).addTo(marker_cluster_7e4488800c5083233b76b343f19de97d);\n",
       "        \n",
       "    \n",
       "            marker_8c2e983bd71c027584fe05b23ebb3b36.bindTooltip(\n",
       "                `&lt;div&gt;\n",
       "                     20歳代\n",
       "                 &lt;/div&gt;`,\n",
       "                {&quot;sticky&quot;: true}\n",
       "            );\n",
       "        \n",
       "    \n",
       "            var marker_202a081bf14f60f88f637c28e0b0295e = L.marker(\n",
       "                [35.833759, 140.011703],\n",
       "                {}\n",
       "            ).addTo(marker_cluster_7e4488800c5083233b76b343f19de97d);\n",
       "        \n",
       "    \n",
       "            marker_202a081bf14f60f88f637c28e0b0295e.bindTooltip(\n",
       "                `&lt;div&gt;\n",
       "                     10歳代\n",
       "                 &lt;/div&gt;`,\n",
       "                {&quot;sticky&quot;: true}\n",
       "            );\n",
       "        \n",
       "    \n",
       "            var marker_2e395b97eb0529f21ea988d50a188724 = L.marker(\n",
       "                [35.833759, 140.011703],\n",
       "                {}\n",
       "            ).addTo(marker_cluster_7e4488800c5083233b76b343f19de97d);\n",
       "        \n",
       "    \n",
       "            marker_2e395b97eb0529f21ea988d50a188724.bindTooltip(\n",
       "                `&lt;div&gt;\n",
       "                     10歳代\n",
       "                 &lt;/div&gt;`,\n",
       "                {&quot;sticky&quot;: true}\n",
       "            );\n",
       "        \n",
       "    \n",
       "            var marker_2a128c5869e723c819d24cc00665e845 = L.marker(\n",
       "                [35.833759, 140.011703],\n",
       "                {}\n",
       "            ).addTo(marker_cluster_7e4488800c5083233b76b343f19de97d);\n",
       "        \n",
       "    \n",
       "            marker_2a128c5869e723c819d24cc00665e845.bindTooltip(\n",
       "                `&lt;div&gt;\n",
       "                     20歳代\n",
       "                 &lt;/div&gt;`,\n",
       "                {&quot;sticky&quot;: true}\n",
       "            );\n",
       "        \n",
       "    \n",
       "            var marker_62624537bb6b8ea304daf10c28d34777 = L.marker(\n",
       "                [35.833759, 140.011703],\n",
       "                {}\n",
       "            ).addTo(marker_cluster_7e4488800c5083233b76b343f19de97d);\n",
       "        \n",
       "    \n",
       "            marker_62624537bb6b8ea304daf10c28d34777.bindTooltip(\n",
       "                `&lt;div&gt;\n",
       "                     20歳代\n",
       "                 &lt;/div&gt;`,\n",
       "                {&quot;sticky&quot;: true}\n",
       "            );\n",
       "        \n",
       "    \n",
       "            var marker_7dec920dada81000248e10218bfb90e6 = L.marker(\n",
       "                [35.833759, 140.011703],\n",
       "                {}\n",
       "            ).addTo(marker_cluster_7e4488800c5083233b76b343f19de97d);\n",
       "        \n",
       "    \n",
       "            marker_7dec920dada81000248e10218bfb90e6.bindTooltip(\n",
       "                `&lt;div&gt;\n",
       "                     10歳代\n",
       "                 &lt;/div&gt;`,\n",
       "                {&quot;sticky&quot;: true}\n",
       "            );\n",
       "        \n",
       "    \n",
       "            var marker_74810cc3faadec32833cfdf3fcc5ea0f = L.marker(\n",
       "                [35.833759, 140.011703],\n",
       "                {}\n",
       "            ).addTo(marker_cluster_7e4488800c5083233b76b343f19de97d);\n",
       "        \n",
       "    \n",
       "            marker_74810cc3faadec32833cfdf3fcc5ea0f.bindTooltip(\n",
       "                `&lt;div&gt;\n",
       "                     10歳代\n",
       "                 &lt;/div&gt;`,\n",
       "                {&quot;sticky&quot;: true}\n",
       "            );\n",
       "        \n",
       "    \n",
       "            var marker_84d7ae01f839ba8a6841742d203787f8 = L.marker(\n",
       "                [35.833759, 140.011703],\n",
       "                {}\n",
       "            ).addTo(marker_cluster_7e4488800c5083233b76b343f19de97d);\n",
       "        \n",
       "    \n",
       "            marker_84d7ae01f839ba8a6841742d203787f8.bindTooltip(\n",
       "                `&lt;div&gt;\n",
       "                     10歳代\n",
       "                 &lt;/div&gt;`,\n",
       "                {&quot;sticky&quot;: true}\n",
       "            );\n",
       "        \n",
       "    \n",
       "            var marker_3efaed6b23b8ad5c77d78809e9aaf9f8 = L.marker(\n",
       "                [35.833759, 140.011703],\n",
       "                {}\n",
       "            ).addTo(marker_cluster_7e4488800c5083233b76b343f19de97d);\n",
       "        \n",
       "    \n",
       "            marker_3efaed6b23b8ad5c77d78809e9aaf9f8.bindTooltip(\n",
       "                `&lt;div&gt;\n",
       "                     10歳代\n",
       "                 &lt;/div&gt;`,\n",
       "                {&quot;sticky&quot;: true}\n",
       "            );\n",
       "        \n",
       "    \n",
       "            var marker_23ba15d058abc5b7a7ca3cf12ffe707e = L.marker(\n",
       "                [35.833759, 140.011703],\n",
       "                {}\n",
       "            ).addTo(marker_cluster_7e4488800c5083233b76b343f19de97d);\n",
       "        \n",
       "    \n",
       "            marker_23ba15d058abc5b7a7ca3cf12ffe707e.bindTooltip(\n",
       "                `&lt;div&gt;\n",
       "                     10歳代\n",
       "                 &lt;/div&gt;`,\n",
       "                {&quot;sticky&quot;: true}\n",
       "            );\n",
       "        \n",
       "    \n",
       "            var marker_a213b4a946517b3e4b2cddd98f4d483f = L.marker(\n",
       "                [35.833759, 140.011703],\n",
       "                {}\n",
       "            ).addTo(marker_cluster_7e4488800c5083233b76b343f19de97d);\n",
       "        \n",
       "    \n",
       "            marker_a213b4a946517b3e4b2cddd98f4d483f.bindTooltip(\n",
       "                `&lt;div&gt;\n",
       "                     10歳代\n",
       "                 &lt;/div&gt;`,\n",
       "                {&quot;sticky&quot;: true}\n",
       "            );\n",
       "        \n",
       "    \n",
       "            var marker_b528c66f83f494921a2524ccfdcd2e62 = L.marker(\n",
       "                [35.833759, 140.011703],\n",
       "                {}\n",
       "            ).addTo(marker_cluster_7e4488800c5083233b76b343f19de97d);\n",
       "        \n",
       "    \n",
       "            marker_b528c66f83f494921a2524ccfdcd2e62.bindTooltip(\n",
       "                `&lt;div&gt;\n",
       "                     10歳代\n",
       "                 &lt;/div&gt;`,\n",
       "                {&quot;sticky&quot;: true}\n",
       "            );\n",
       "        \n",
       "    \n",
       "            var marker_44483f1a64c0add3d93f7d404e817660 = L.marker(\n",
       "                [35.84325, 140.003662],\n",
       "                {}\n",
       "            ).addTo(marker_cluster_7e4488800c5083233b76b343f19de97d);\n",
       "        \n",
       "    \n",
       "            marker_44483f1a64c0add3d93f7d404e817660.bindTooltip(\n",
       "                `&lt;div&gt;\n",
       "                     法人・団体、被害者なし\n",
       "                 &lt;/div&gt;`,\n",
       "                {&quot;sticky&quot;: true}\n",
       "            );\n",
       "        \n",
       "    \n",
       "            var marker_b7a1dd65d9442bbcbfc33b34046e0204 = L.marker(\n",
       "                [35.841068, 139.999237],\n",
       "                {}\n",
       "            ).addTo(marker_cluster_7e4488800c5083233b76b343f19de97d);\n",
       "        \n",
       "    \n",
       "            marker_b7a1dd65d9442bbcbfc33b34046e0204.bindTooltip(\n",
       "                `&lt;div&gt;\n",
       "                     40歳代\n",
       "                 &lt;/div&gt;`,\n",
       "                {&quot;sticky&quot;: true}\n",
       "            );\n",
       "        \n",
       "    \n",
       "            var marker_264e5168dab16a20d53aa641a821795c = L.marker(\n",
       "                [35.841068, 139.999237],\n",
       "                {}\n",
       "            ).addTo(marker_cluster_7e4488800c5083233b76b343f19de97d);\n",
       "        \n",
       "    \n",
       "            marker_264e5168dab16a20d53aa641a821795c.bindTooltip(\n",
       "                `&lt;div&gt;\n",
       "                     10歳代\n",
       "                 &lt;/div&gt;`,\n",
       "                {&quot;sticky&quot;: true}\n",
       "            );\n",
       "        \n",
       "    \n",
       "            var marker_fb220a81b9e35d61317d6e9374637b8b = L.marker(\n",
       "                [35.841068, 139.999237],\n",
       "                {}\n",
       "            ).addTo(marker_cluster_7e4488800c5083233b76b343f19de97d);\n",
       "        \n",
       "    \n",
       "            marker_fb220a81b9e35d61317d6e9374637b8b.bindTooltip(\n",
       "                `&lt;div&gt;\n",
       "                     10歳代\n",
       "                 &lt;/div&gt;`,\n",
       "                {&quot;sticky&quot;: true}\n",
       "            );\n",
       "        \n",
       "    \n",
       "            var marker_37f586e3f2c58a8f7e8ff18c2dc1d588 = L.marker(\n",
       "                [35.840942, 139.995621],\n",
       "                {}\n",
       "            ).addTo(marker_cluster_7e4488800c5083233b76b343f19de97d);\n",
       "        \n",
       "    \n",
       "            marker_37f586e3f2c58a8f7e8ff18c2dc1d588.bindTooltip(\n",
       "                `&lt;div&gt;\n",
       "                     10歳代\n",
       "                 &lt;/div&gt;`,\n",
       "                {&quot;sticky&quot;: true}\n",
       "            );\n",
       "        \n",
       "    \n",
       "            var marker_3106b016c1957a732b555fc4a7515e8d = L.marker(\n",
       "                [35.840942, 139.995621],\n",
       "                {}\n",
       "            ).addTo(marker_cluster_7e4488800c5083233b76b343f19de97d);\n",
       "        \n",
       "    \n",
       "            marker_3106b016c1957a732b555fc4a7515e8d.bindTooltip(\n",
       "                `&lt;div&gt;\n",
       "                     10歳代\n",
       "                 &lt;/div&gt;`,\n",
       "                {&quot;sticky&quot;: true}\n",
       "            );\n",
       "        \n",
       "    \n",
       "            var marker_4257ca66e4afd48efb9b7164a5dd74b7 = L.marker(\n",
       "                [35.837143, 140.002502],\n",
       "                {}\n",
       "            ).addTo(marker_cluster_7e4488800c5083233b76b343f19de97d);\n",
       "        \n",
       "    \n",
       "            marker_4257ca66e4afd48efb9b7164a5dd74b7.bindTooltip(\n",
       "                `&lt;div&gt;\n",
       "                     50歳代\n",
       "                 &lt;/div&gt;`,\n",
       "                {&quot;sticky&quot;: true}\n",
       "            );\n",
       "        \n",
       "    \n",
       "            var marker_524d827d9f4b006b04f31edd2b9b9e3b = L.marker(\n",
       "                [35.837143, 140.002502],\n",
       "                {}\n",
       "            ).addTo(marker_cluster_7e4488800c5083233b76b343f19de97d);\n",
       "        \n",
       "    \n",
       "            marker_524d827d9f4b006b04f31edd2b9b9e3b.bindTooltip(\n",
       "                `&lt;div&gt;\n",
       "                     20歳代\n",
       "                 &lt;/div&gt;`,\n",
       "                {&quot;sticky&quot;: true}\n",
       "            );\n",
       "        \n",
       "    \n",
       "            var marker_cc11affdb0f07dcb91dd4b8fc1b1119b = L.marker(\n",
       "                [35.837143, 140.002502],\n",
       "                {}\n",
       "            ).addTo(marker_cluster_7e4488800c5083233b76b343f19de97d);\n",
       "        \n",
       "    \n",
       "            marker_cc11affdb0f07dcb91dd4b8fc1b1119b.bindTooltip(\n",
       "                `&lt;div&gt;\n",
       "                     10歳代\n",
       "                 &lt;/div&gt;`,\n",
       "                {&quot;sticky&quot;: true}\n",
       "            );\n",
       "        \n",
       "    \n",
       "            var marker_c91c4af9939171bc4f5340a1e2a3541b = L.marker(\n",
       "                [35.837143, 140.002502],\n",
       "                {}\n",
       "            ).addTo(marker_cluster_7e4488800c5083233b76b343f19de97d);\n",
       "        \n",
       "    \n",
       "            marker_c91c4af9939171bc4f5340a1e2a3541b.bindTooltip(\n",
       "                `&lt;div&gt;\n",
       "                     20歳代\n",
       "                 &lt;/div&gt;`,\n",
       "                {&quot;sticky&quot;: true}\n",
       "            );\n",
       "        \n",
       "    \n",
       "            var marker_d0810f6df60402496a23755e2317ec8e = L.marker(\n",
       "                [35.848038, 140.016342],\n",
       "                {}\n",
       "            ).addTo(marker_cluster_7e4488800c5083233b76b343f19de97d);\n",
       "        \n",
       "    \n",
       "            marker_d0810f6df60402496a23755e2317ec8e.bindTooltip(\n",
       "                `&lt;div&gt;\n",
       "                     40歳代\n",
       "                 &lt;/div&gt;`,\n",
       "                {&quot;sticky&quot;: true}\n",
       "            );\n",
       "        \n",
       "    \n",
       "            var marker_2fc08df39f7fd859b17c8a2cfbd9c54b = L.marker(\n",
       "                [35.834927, 139.996063],\n",
       "                {}\n",
       "            ).addTo(marker_cluster_7e4488800c5083233b76b343f19de97d);\n",
       "        \n",
       "    \n",
       "            marker_2fc08df39f7fd859b17c8a2cfbd9c54b.bindTooltip(\n",
       "                `&lt;div&gt;\n",
       "                     10歳代\n",
       "                 &lt;/div&gt;`,\n",
       "                {&quot;sticky&quot;: true}\n",
       "            );\n",
       "        \n",
       "    \n",
       "            var marker_549ed4e1b0e24d9df9526f7e69570960 = L.marker(\n",
       "                [35.846394, 140.026993],\n",
       "                {}\n",
       "            ).addTo(marker_cluster_7e4488800c5083233b76b343f19de97d);\n",
       "        \n",
       "    \n",
       "            marker_549ed4e1b0e24d9df9526f7e69570960.bindTooltip(\n",
       "                `&lt;div&gt;\n",
       "                     10歳代\n",
       "                 &lt;/div&gt;`,\n",
       "                {&quot;sticky&quot;: true}\n",
       "            );\n",
       "        \n",
       "    \n",
       "            var marker_eb191c15b7a90389a8ef180a40230166 = L.marker(\n",
       "                [35.891518, 139.992828],\n",
       "                {}\n",
       "            ).addTo(marker_cluster_7e4488800c5083233b76b343f19de97d);\n",
       "        \n",
       "    \n",
       "            marker_eb191c15b7a90389a8ef180a40230166.bindTooltip(\n",
       "                `&lt;div&gt;\n",
       "                     30歳代\n",
       "                 &lt;/div&gt;`,\n",
       "                {&quot;sticky&quot;: true}\n",
       "            );\n",
       "        \n",
       "    \n",
       "            var marker_614c878d0267549c13f3caba6e886acb = L.marker(\n",
       "                [35.835949, 139.968262],\n",
       "                {}\n",
       "            ).addTo(marker_cluster_7e4488800c5083233b76b343f19de97d);\n",
       "        \n",
       "    \n",
       "            marker_614c878d0267549c13f3caba6e886acb.bindTooltip(\n",
       "                `&lt;div&gt;\n",
       "                     10歳代\n",
       "                 &lt;/div&gt;`,\n",
       "                {&quot;sticky&quot;: true}\n",
       "            );\n",
       "        \n",
       "    \n",
       "            var marker_a5b7203207b7d9efd5b4dc47481fc28d = L.marker(\n",
       "                [35.83136, 139.96756],\n",
       "                {}\n",
       "            ).addTo(marker_cluster_7e4488800c5083233b76b343f19de97d);\n",
       "        \n",
       "    \n",
       "            marker_a5b7203207b7d9efd5b4dc47481fc28d.bindTooltip(\n",
       "                `&lt;div&gt;\n",
       "                     20歳代\n",
       "                 &lt;/div&gt;`,\n",
       "                {&quot;sticky&quot;: true}\n",
       "            );\n",
       "        \n",
       "    \n",
       "            var marker_f71432a86cfbf82d6342737c67913c06 = L.marker(\n",
       "                [35.84692, 139.967072],\n",
       "                {}\n",
       "            ).addTo(marker_cluster_7e4488800c5083233b76b343f19de97d);\n",
       "        \n",
       "    \n",
       "            marker_f71432a86cfbf82d6342737c67913c06.bindTooltip(\n",
       "                `&lt;div&gt;\n",
       "                     30歳代\n",
       "                 &lt;/div&gt;`,\n",
       "                {&quot;sticky&quot;: true}\n",
       "            );\n",
       "        \n",
       "    \n",
       "            var marker_3daac863fad9faa3aabead82adb28f35 = L.marker(\n",
       "                [35.838268, 139.963547],\n",
       "                {}\n",
       "            ).addTo(marker_cluster_7e4488800c5083233b76b343f19de97d);\n",
       "        \n",
       "    \n",
       "            marker_3daac863fad9faa3aabead82adb28f35.bindTooltip(\n",
       "                `&lt;div&gt;\n",
       "                     10歳未満\n",
       "                 &lt;/div&gt;`,\n",
       "                {&quot;sticky&quot;: true}\n",
       "            );\n",
       "        \n",
       "    \n",
       "            var marker_d125293ff82f9048bdacdc765ded052b = L.marker(\n",
       "                [35.838268, 139.963547],\n",
       "                {}\n",
       "            ).addTo(marker_cluster_7e4488800c5083233b76b343f19de97d);\n",
       "        \n",
       "    \n",
       "            marker_d125293ff82f9048bdacdc765ded052b.bindTooltip(\n",
       "                `&lt;div&gt;\n",
       "                     40歳代\n",
       "                 &lt;/div&gt;`,\n",
       "                {&quot;sticky&quot;: true}\n",
       "            );\n",
       "        \n",
       "    \n",
       "            var marker_f0f09d1a0c64f06823277749b0e8ddb8 = L.marker(\n",
       "                [35.838268, 139.963547],\n",
       "                {}\n",
       "            ).addTo(marker_cluster_7e4488800c5083233b76b343f19de97d);\n",
       "        \n",
       "    \n",
       "            marker_f0f09d1a0c64f06823277749b0e8ddb8.bindTooltip(\n",
       "                `&lt;div&gt;\n",
       "                     10歳未満\n",
       "                 &lt;/div&gt;`,\n",
       "                {&quot;sticky&quot;: true}\n",
       "            );\n",
       "        \n",
       "    \n",
       "            var marker_0fb0e13bd271271b531a83e7fa06576a = L.marker(\n",
       "                [35.842236, 139.965775],\n",
       "                {}\n",
       "            ).addTo(marker_cluster_7e4488800c5083233b76b343f19de97d);\n",
       "        \n",
       "    \n",
       "            marker_0fb0e13bd271271b531a83e7fa06576a.bindTooltip(\n",
       "                `&lt;div&gt;\n",
       "                     70歳以上\n",
       "                 &lt;/div&gt;`,\n",
       "                {&quot;sticky&quot;: true}\n",
       "            );\n",
       "        \n",
       "    \n",
       "            var marker_e85edb825d61df869c6ce00e62975d19 = L.marker(\n",
       "                [35.840786, 139.966721],\n",
       "                {}\n",
       "            ).addTo(marker_cluster_7e4488800c5083233b76b343f19de97d);\n",
       "        \n",
       "    \n",
       "            marker_e85edb825d61df869c6ce00e62975d19.bindTooltip(\n",
       "                `&lt;div&gt;\n",
       "                     40歳代\n",
       "                 &lt;/div&gt;`,\n",
       "                {&quot;sticky&quot;: true}\n",
       "            );\n",
       "        \n",
       "    \n",
       "            var marker_40ff9c86a89da14ffa56e92dd5a70c2d = L.marker(\n",
       "                [35.840786, 139.966721],\n",
       "                {}\n",
       "            ).addTo(marker_cluster_7e4488800c5083233b76b343f19de97d);\n",
       "        \n",
       "    \n",
       "            marker_40ff9c86a89da14ffa56e92dd5a70c2d.bindTooltip(\n",
       "                `&lt;div&gt;\n",
       "                     40歳代\n",
       "                 &lt;/div&gt;`,\n",
       "                {&quot;sticky&quot;: true}\n",
       "            );\n",
       "        \n",
       "    \n",
       "            var marker_788d144d028eb2ad9b4f2085422597db = L.marker(\n",
       "                [35.843285, 139.981064],\n",
       "                {}\n",
       "            ).addTo(marker_cluster_7e4488800c5083233b76b343f19de97d);\n",
       "        \n",
       "    \n",
       "            marker_788d144d028eb2ad9b4f2085422597db.bindTooltip(\n",
       "                `&lt;div&gt;\n",
       "                     20歳代\n",
       "                 &lt;/div&gt;`,\n",
       "                {&quot;sticky&quot;: true}\n",
       "            );\n",
       "        \n",
       "    \n",
       "            var marker_9a871d573397dc7183701dd7ff9b84e0 = L.marker(\n",
       "                [35.845604, 139.976089],\n",
       "                {}\n",
       "            ).addTo(marker_cluster_7e4488800c5083233b76b343f19de97d);\n",
       "        \n",
       "    \n",
       "            marker_9a871d573397dc7183701dd7ff9b84e0.bindTooltip(\n",
       "                `&lt;div&gt;\n",
       "                     20歳代\n",
       "                 &lt;/div&gt;`,\n",
       "                {&quot;sticky&quot;: true}\n",
       "            );\n",
       "        \n",
       "    \n",
       "            var marker_05dc8dc1ccb7e6b9924f37b6dc511763 = L.marker(\n",
       "                [35.839211, 139.968597],\n",
       "                {}\n",
       "            ).addTo(marker_cluster_7e4488800c5083233b76b343f19de97d);\n",
       "        \n",
       "    \n",
       "            marker_05dc8dc1ccb7e6b9924f37b6dc511763.bindTooltip(\n",
       "                `&lt;div&gt;\n",
       "                     30歳代\n",
       "                 &lt;/div&gt;`,\n",
       "                {&quot;sticky&quot;: true}\n",
       "            );\n",
       "        \n",
       "    \n",
       "            var marker_c475bf61ab2c59d3cfa68d53213b5ec7 = L.marker(\n",
       "                [35.841667, 139.972061],\n",
       "                {}\n",
       "            ).addTo(marker_cluster_7e4488800c5083233b76b343f19de97d);\n",
       "        \n",
       "    \n",
       "            marker_c475bf61ab2c59d3cfa68d53213b5ec7.bindTooltip(\n",
       "                `&lt;div&gt;\n",
       "                     20歳代\n",
       "                 &lt;/div&gt;`,\n",
       "                {&quot;sticky&quot;: true}\n",
       "            );\n",
       "        \n",
       "    \n",
       "            var marker_8b9a6ef4703a16c1db4c787a02f012be = L.marker(\n",
       "                [35.867088, 139.963196],\n",
       "                {}\n",
       "            ).addTo(marker_cluster_7e4488800c5083233b76b343f19de97d);\n",
       "        \n",
       "    \n",
       "            marker_8b9a6ef4703a16c1db4c787a02f012be.bindTooltip(\n",
       "                `&lt;div&gt;\n",
       "                     10歳代\n",
       "                 &lt;/div&gt;`,\n",
       "                {&quot;sticky&quot;: true}\n",
       "            );\n",
       "        \n",
       "    \n",
       "            var marker_4d23a228a7cad9b034737f705b6b5dde = L.marker(\n",
       "                [35.867088, 139.963196],\n",
       "                {}\n",
       "            ).addTo(marker_cluster_7e4488800c5083233b76b343f19de97d);\n",
       "        \n",
       "    \n",
       "            marker_4d23a228a7cad9b034737f705b6b5dde.bindTooltip(\n",
       "                `&lt;div&gt;\n",
       "                     10歳代\n",
       "                 &lt;/div&gt;`,\n",
       "                {&quot;sticky&quot;: true}\n",
       "            );\n",
       "        \n",
       "    \n",
       "            var marker_631d9d19e399fa336bf8814abf689980 = L.marker(\n",
       "                [35.867088, 139.963196],\n",
       "                {}\n",
       "            ).addTo(marker_cluster_7e4488800c5083233b76b343f19de97d);\n",
       "        \n",
       "    \n",
       "            marker_631d9d19e399fa336bf8814abf689980.bindTooltip(\n",
       "                `&lt;div&gt;\n",
       "                     10歳代\n",
       "                 &lt;/div&gt;`,\n",
       "                {&quot;sticky&quot;: true}\n",
       "            );\n",
       "        \n",
       "    \n",
       "            var marker_cd5d4bef7a3e930a844143d4c70886ba = L.marker(\n",
       "                [35.867088, 139.963196],\n",
       "                {}\n",
       "            ).addTo(marker_cluster_7e4488800c5083233b76b343f19de97d);\n",
       "        \n",
       "    \n",
       "            marker_cd5d4bef7a3e930a844143d4c70886ba.bindTooltip(\n",
       "                `&lt;div&gt;\n",
       "                     10歳代\n",
       "                 &lt;/div&gt;`,\n",
       "                {&quot;sticky&quot;: true}\n",
       "            );\n",
       "        \n",
       "    \n",
       "            var marker_eeba4deed8906b892718f7265aac1926 = L.marker(\n",
       "                [35.867088, 139.963196],\n",
       "                {}\n",
       "            ).addTo(marker_cluster_7e4488800c5083233b76b343f19de97d);\n",
       "        \n",
       "    \n",
       "            marker_eeba4deed8906b892718f7265aac1926.bindTooltip(\n",
       "                `&lt;div&gt;\n",
       "                     10歳代\n",
       "                 &lt;/div&gt;`,\n",
       "                {&quot;sticky&quot;: true}\n",
       "            );\n",
       "        \n",
       "    \n",
       "            var marker_fd410315fa18d8406d568b90a9a0993c = L.marker(\n",
       "                [35.864574, 139.962662],\n",
       "                {}\n",
       "            ).addTo(marker_cluster_7e4488800c5083233b76b343f19de97d);\n",
       "        \n",
       "    \n",
       "            marker_fd410315fa18d8406d568b90a9a0993c.bindTooltip(\n",
       "                `&lt;div&gt;\n",
       "                     20歳代\n",
       "                 &lt;/div&gt;`,\n",
       "                {&quot;sticky&quot;: true}\n",
       "            );\n",
       "        \n",
       "    \n",
       "            var marker_7d183804fe09febd5d2c39135d0b5dd7 = L.marker(\n",
       "                [35.864574, 139.962662],\n",
       "                {}\n",
       "            ).addTo(marker_cluster_7e4488800c5083233b76b343f19de97d);\n",
       "        \n",
       "    \n",
       "            marker_7d183804fe09febd5d2c39135d0b5dd7.bindTooltip(\n",
       "                `&lt;div&gt;\n",
       "                     20歳代\n",
       "                 &lt;/div&gt;`,\n",
       "                {&quot;sticky&quot;: true}\n",
       "            );\n",
       "        \n",
       "    \n",
       "            var marker_7859e75131a95925e87f76bde01c6b36 = L.marker(\n",
       "                [35.865929, 139.971985],\n",
       "                {}\n",
       "            ).addTo(marker_cluster_7e4488800c5083233b76b343f19de97d);\n",
       "        \n",
       "    \n",
       "            marker_7859e75131a95925e87f76bde01c6b36.bindTooltip(\n",
       "                `&lt;div&gt;\n",
       "                     65-69歳\n",
       "                 &lt;/div&gt;`,\n",
       "                {&quot;sticky&quot;: true}\n",
       "            );\n",
       "        \n",
       "    \n",
       "            var marker_b315e0f6fdc008747b0281ba6debf83b = L.marker(\n",
       "                [35.868034, 139.974197],\n",
       "                {}\n",
       "            ).addTo(marker_cluster_7e4488800c5083233b76b343f19de97d);\n",
       "        \n",
       "    \n",
       "            marker_b315e0f6fdc008747b0281ba6debf83b.bindTooltip(\n",
       "                `&lt;div&gt;\n",
       "                     30歳代\n",
       "                 &lt;/div&gt;`,\n",
       "                {&quot;sticky&quot;: true}\n",
       "            );\n",
       "        \n",
       "    \n",
       "            var marker_288b15f2e08ff799ee9d42bda1f4c207 = L.marker(\n",
       "                [35.868034, 139.974197],\n",
       "                {}\n",
       "            ).addTo(marker_cluster_7e4488800c5083233b76b343f19de97d);\n",
       "        \n",
       "    \n",
       "            marker_288b15f2e08ff799ee9d42bda1f4c207.bindTooltip(\n",
       "                `&lt;div&gt;\n",
       "                     20歳代\n",
       "                 &lt;/div&gt;`,\n",
       "                {&quot;sticky&quot;: true}\n",
       "            );\n",
       "        \n",
       "    \n",
       "            var marker_3f28a280c1e7d9e2b7113180cb500776 = L.marker(\n",
       "                [35.869129, 139.971756],\n",
       "                {}\n",
       "            ).addTo(marker_cluster_7e4488800c5083233b76b343f19de97d);\n",
       "        \n",
       "    \n",
       "            marker_3f28a280c1e7d9e2b7113180cb500776.bindTooltip(\n",
       "                `&lt;div&gt;\n",
       "                     20歳代\n",
       "                 &lt;/div&gt;`,\n",
       "                {&quot;sticky&quot;: true}\n",
       "            );\n",
       "        \n",
       "    \n",
       "            var marker_76711af48dbc9a34673c3a86bee57b7b = L.marker(\n",
       "                [35.869129, 139.971756],\n",
       "                {}\n",
       "            ).addTo(marker_cluster_7e4488800c5083233b76b343f19de97d);\n",
       "        \n",
       "    \n",
       "            marker_76711af48dbc9a34673c3a86bee57b7b.bindTooltip(\n",
       "                `&lt;div&gt;\n",
       "                     30歳代\n",
       "                 &lt;/div&gt;`,\n",
       "                {&quot;sticky&quot;: true}\n",
       "            );\n",
       "        \n",
       "    \n",
       "            var marker_0a47d3a670b199d734dc515115a0d8d3 = L.marker(\n",
       "                [35.866798, 139.968948],\n",
       "                {}\n",
       "            ).addTo(marker_cluster_7e4488800c5083233b76b343f19de97d);\n",
       "        \n",
       "    \n",
       "            marker_0a47d3a670b199d734dc515115a0d8d3.bindTooltip(\n",
       "                `&lt;div&gt;\n",
       "                     20歳代\n",
       "                 &lt;/div&gt;`,\n",
       "                {&quot;sticky&quot;: true}\n",
       "            );\n",
       "        \n",
       "    \n",
       "            var marker_f7474e1d1a87c7fa90cf522ca3f4bf22 = L.marker(\n",
       "                [35.866798, 139.968948],\n",
       "                {}\n",
       "            ).addTo(marker_cluster_7e4488800c5083233b76b343f19de97d);\n",
       "        \n",
       "    \n",
       "            marker_f7474e1d1a87c7fa90cf522ca3f4bf22.bindTooltip(\n",
       "                `&lt;div&gt;\n",
       "                     20歳代\n",
       "                 &lt;/div&gt;`,\n",
       "                {&quot;sticky&quot;: true}\n",
       "            );\n",
       "        \n",
       "    \n",
       "            var marker_7e72001fe79ce198ee03ecca992630c1 = L.marker(\n",
       "                [35.866798, 139.968948],\n",
       "                {}\n",
       "            ).addTo(marker_cluster_7e4488800c5083233b76b343f19de97d);\n",
       "        \n",
       "    \n",
       "            marker_7e72001fe79ce198ee03ecca992630c1.bindTooltip(\n",
       "                `&lt;div&gt;\n",
       "                     30歳代\n",
       "                 &lt;/div&gt;`,\n",
       "                {&quot;sticky&quot;: true}\n",
       "            );\n",
       "        \n",
       "    \n",
       "            var marker_d9212e67fc04e00b6b10aa338d3bcc19 = L.marker(\n",
       "                [35.869289, 139.967926],\n",
       "                {}\n",
       "            ).addTo(marker_cluster_7e4488800c5083233b76b343f19de97d);\n",
       "        \n",
       "    \n",
       "            marker_d9212e67fc04e00b6b10aa338d3bcc19.bindTooltip(\n",
       "                `&lt;div&gt;\n",
       "                     50歳代\n",
       "                 &lt;/div&gt;`,\n",
       "                {&quot;sticky&quot;: true}\n",
       "            );\n",
       "        \n",
       "    \n",
       "            var marker_1c61a8a8dbbfab44ae3ade56aae897e3 = L.marker(\n",
       "                [35.861916, 139.968491],\n",
       "                {}\n",
       "            ).addTo(marker_cluster_7e4488800c5083233b76b343f19de97d);\n",
       "        \n",
       "    \n",
       "            marker_1c61a8a8dbbfab44ae3ade56aae897e3.bindTooltip(\n",
       "                `&lt;div&gt;\n",
       "                     50歳代\n",
       "                 &lt;/div&gt;`,\n",
       "                {&quot;sticky&quot;: true}\n",
       "            );\n",
       "        \n",
       "    \n",
       "            var marker_27e5d64cf72ce754e90a780203a68d48 = L.marker(\n",
       "                [35.861916, 139.968491],\n",
       "                {}\n",
       "            ).addTo(marker_cluster_7e4488800c5083233b76b343f19de97d);\n",
       "        \n",
       "    \n",
       "            marker_27e5d64cf72ce754e90a780203a68d48.bindTooltip(\n",
       "                `&lt;div&gt;\n",
       "                     20歳代\n",
       "                 &lt;/div&gt;`,\n",
       "                {&quot;sticky&quot;: true}\n",
       "            );\n",
       "        \n",
       "    \n",
       "            var marker_9ae88842c2f4924f1e5f665cdbe3dde5 = L.marker(\n",
       "                [35.861916, 139.968491],\n",
       "                {}\n",
       "            ).addTo(marker_cluster_7e4488800c5083233b76b343f19de97d);\n",
       "        \n",
       "    \n",
       "            marker_9ae88842c2f4924f1e5f665cdbe3dde5.bindTooltip(\n",
       "                `&lt;div&gt;\n",
       "                     10歳代\n",
       "                 &lt;/div&gt;`,\n",
       "                {&quot;sticky&quot;: true}\n",
       "            );\n",
       "        \n",
       "    \n",
       "            var marker_b31f4684486454d6158d27c7bdffbf0e = L.marker(\n",
       "                [35.861916, 139.968491],\n",
       "                {}\n",
       "            ).addTo(marker_cluster_7e4488800c5083233b76b343f19de97d);\n",
       "        \n",
       "    \n",
       "            marker_b31f4684486454d6158d27c7bdffbf0e.bindTooltip(\n",
       "                `&lt;div&gt;\n",
       "                     30歳代\n",
       "                 &lt;/div&gt;`,\n",
       "                {&quot;sticky&quot;: true}\n",
       "            );\n",
       "        \n",
       "    \n",
       "            var marker_21ec834213c2ab569ca80678927d8b7b = L.marker(\n",
       "                [35.861916, 139.968491],\n",
       "                {}\n",
       "            ).addTo(marker_cluster_7e4488800c5083233b76b343f19de97d);\n",
       "        \n",
       "    \n",
       "            marker_21ec834213c2ab569ca80678927d8b7b.bindTooltip(\n",
       "                `&lt;div&gt;\n",
       "                     20歳代\n",
       "                 &lt;/div&gt;`,\n",
       "                {&quot;sticky&quot;: true}\n",
       "            );\n",
       "        \n",
       "    \n",
       "            var marker_08ff02b09181715af787660a7262a4d4 = L.marker(\n",
       "                [35.861916, 139.968491],\n",
       "                {}\n",
       "            ).addTo(marker_cluster_7e4488800c5083233b76b343f19de97d);\n",
       "        \n",
       "    \n",
       "            marker_08ff02b09181715af787660a7262a4d4.bindTooltip(\n",
       "                `&lt;div&gt;\n",
       "                     30歳代\n",
       "                 &lt;/div&gt;`,\n",
       "                {&quot;sticky&quot;: true}\n",
       "            );\n",
       "        \n",
       "    \n",
       "            var marker_453a1fb9d07f474b226f0bc9a0da72d8 = L.marker(\n",
       "                [35.861916, 139.968491],\n",
       "                {}\n",
       "            ).addTo(marker_cluster_7e4488800c5083233b76b343f19de97d);\n",
       "        \n",
       "    \n",
       "            marker_453a1fb9d07f474b226f0bc9a0da72d8.bindTooltip(\n",
       "                `&lt;div&gt;\n",
       "                     50歳代\n",
       "                 &lt;/div&gt;`,\n",
       "                {&quot;sticky&quot;: true}\n",
       "            );\n",
       "        \n",
       "    \n",
       "            var marker_9239865310f4409b13de62ce539dd748 = L.marker(\n",
       "                [35.861916, 139.968491],\n",
       "                {}\n",
       "            ).addTo(marker_cluster_7e4488800c5083233b76b343f19de97d);\n",
       "        \n",
       "    \n",
       "            marker_9239865310f4409b13de62ce539dd748.bindTooltip(\n",
       "                `&lt;div&gt;\n",
       "                     30歳代\n",
       "                 &lt;/div&gt;`,\n",
       "                {&quot;sticky&quot;: true}\n",
       "            );\n",
       "        \n",
       "    \n",
       "            var marker_df3091d5d235357c023031fbd2296b4f = L.marker(\n",
       "                [35.861916, 139.968491],\n",
       "                {}\n",
       "            ).addTo(marker_cluster_7e4488800c5083233b76b343f19de97d);\n",
       "        \n",
       "    \n",
       "            marker_df3091d5d235357c023031fbd2296b4f.bindTooltip(\n",
       "                `&lt;div&gt;\n",
       "                     10歳代\n",
       "                 &lt;/div&gt;`,\n",
       "                {&quot;sticky&quot;: true}\n",
       "            );\n",
       "        \n",
       "    \n",
       "            var marker_5f04b789dbebcfce2c0926f201bf7861 = L.marker(\n",
       "                [35.858974, 139.962036],\n",
       "                {}\n",
       "            ).addTo(marker_cluster_7e4488800c5083233b76b343f19de97d);\n",
       "        \n",
       "    \n",
       "            marker_5f04b789dbebcfce2c0926f201bf7861.bindTooltip(\n",
       "                `&lt;div&gt;\n",
       "                     10歳代\n",
       "                 &lt;/div&gt;`,\n",
       "                {&quot;sticky&quot;: true}\n",
       "            );\n",
       "        \n",
       "    \n",
       "            var marker_87f067b637327a9fbd57b3befdac77d7 = L.marker(\n",
       "                [35.858974, 139.962036],\n",
       "                {}\n",
       "            ).addTo(marker_cluster_7e4488800c5083233b76b343f19de97d);\n",
       "        \n",
       "    \n",
       "            marker_87f067b637327a9fbd57b3befdac77d7.bindTooltip(\n",
       "                `&lt;div&gt;\n",
       "                     20歳代\n",
       "                 &lt;/div&gt;`,\n",
       "                {&quot;sticky&quot;: true}\n",
       "            );\n",
       "        \n",
       "    \n",
       "            var marker_efb0d01c0215e981669e1d5da51b2107 = L.marker(\n",
       "                [35.858974, 139.962036],\n",
       "                {}\n",
       "            ).addTo(marker_cluster_7e4488800c5083233b76b343f19de97d);\n",
       "        \n",
       "    \n",
       "            marker_efb0d01c0215e981669e1d5da51b2107.bindTooltip(\n",
       "                `&lt;div&gt;\n",
       "                     30歳代\n",
       "                 &lt;/div&gt;`,\n",
       "                {&quot;sticky&quot;: true}\n",
       "            );\n",
       "        \n",
       "    \n",
       "            var marker_ff74b1f5f97ab6ed4f4b0c02d8a957a3 = L.marker(\n",
       "                [35.858974, 139.962036],\n",
       "                {}\n",
       "            ).addTo(marker_cluster_7e4488800c5083233b76b343f19de97d);\n",
       "        \n",
       "    \n",
       "            marker_ff74b1f5f97ab6ed4f4b0c02d8a957a3.bindTooltip(\n",
       "                `&lt;div&gt;\n",
       "                     20歳代\n",
       "                 &lt;/div&gt;`,\n",
       "                {&quot;sticky&quot;: true}\n",
       "            );\n",
       "        \n",
       "    \n",
       "            var marker_94a6a022fabc8aea187026244a277d98 = L.marker(\n",
       "                [35.858974, 139.962036],\n",
       "                {}\n",
       "            ).addTo(marker_cluster_7e4488800c5083233b76b343f19de97d);\n",
       "        \n",
       "    \n",
       "            marker_94a6a022fabc8aea187026244a277d98.bindTooltip(\n",
       "                `&lt;div&gt;\n",
       "                     20歳代\n",
       "                 &lt;/div&gt;`,\n",
       "                {&quot;sticky&quot;: true}\n",
       "            );\n",
       "        \n",
       "    \n",
       "            var marker_cede4d668424645f09a70e154f68c6ba = L.marker(\n",
       "                [35.85675, 139.962128],\n",
       "                {}\n",
       "            ).addTo(marker_cluster_7e4488800c5083233b76b343f19de97d);\n",
       "        \n",
       "    \n",
       "            marker_cede4d668424645f09a70e154f68c6ba.bindTooltip(\n",
       "                `&lt;div&gt;\n",
       "                     30歳代\n",
       "                 &lt;/div&gt;`,\n",
       "                {&quot;sticky&quot;: true}\n",
       "            );\n",
       "        \n",
       "    \n",
       "            var marker_e5f910106f6e5280da5be7b128e0cefe = L.marker(\n",
       "                [35.857044, 139.958267],\n",
       "                {}\n",
       "            ).addTo(marker_cluster_7e4488800c5083233b76b343f19de97d);\n",
       "        \n",
       "    \n",
       "            marker_e5f910106f6e5280da5be7b128e0cefe.bindTooltip(\n",
       "                `&lt;div&gt;\n",
       "                     70歳以上\n",
       "                 &lt;/div&gt;`,\n",
       "                {&quot;sticky&quot;: true}\n",
       "            );\n",
       "        \n",
       "    \n",
       "            var marker_7fcb98194cf79d26517e8ef0285a444f = L.marker(\n",
       "                [35.857044, 139.958267],\n",
       "                {}\n",
       "            ).addTo(marker_cluster_7e4488800c5083233b76b343f19de97d);\n",
       "        \n",
       "    \n",
       "            marker_7fcb98194cf79d26517e8ef0285a444f.bindTooltip(\n",
       "                `&lt;div&gt;\n",
       "                     10歳代\n",
       "                 &lt;/div&gt;`,\n",
       "                {&quot;sticky&quot;: true}\n",
       "            );\n",
       "        \n",
       "    \n",
       "            var marker_c44edbb308cfc7f44f964ef063112de3 = L.marker(\n",
       "                [35.868122, 139.943359],\n",
       "                {}\n",
       "            ).addTo(marker_cluster_7e4488800c5083233b76b343f19de97d);\n",
       "        \n",
       "    \n",
       "            marker_c44edbb308cfc7f44f964ef063112de3.bindTooltip(\n",
       "                `&lt;div&gt;\n",
       "                     10歳代\n",
       "                 &lt;/div&gt;`,\n",
       "                {&quot;sticky&quot;: true}\n",
       "            );\n",
       "        \n",
       "    \n",
       "            var marker_3be55e69232cdfe973aacd48facb367a = L.marker(\n",
       "                [35.862904, 139.970398],\n",
       "                {}\n",
       "            ).addTo(marker_cluster_7e4488800c5083233b76b343f19de97d);\n",
       "        \n",
       "    \n",
       "            marker_3be55e69232cdfe973aacd48facb367a.bindTooltip(\n",
       "                `&lt;div&gt;\n",
       "                     40歳代\n",
       "                 &lt;/div&gt;`,\n",
       "                {&quot;sticky&quot;: true}\n",
       "            );\n",
       "        \n",
       "    \n",
       "            var marker_0cdbed6445255c5d40f1621261df0f6f = L.marker(\n",
       "                [35.862904, 139.970398],\n",
       "                {}\n",
       "            ).addTo(marker_cluster_7e4488800c5083233b76b343f19de97d);\n",
       "        \n",
       "    \n",
       "            marker_0cdbed6445255c5d40f1621261df0f6f.bindTooltip(\n",
       "                `&lt;div&gt;\n",
       "                     10歳代\n",
       "                 &lt;/div&gt;`,\n",
       "                {&quot;sticky&quot;: true}\n",
       "            );\n",
       "        \n",
       "    \n",
       "            var marker_5c18913da7edcd25051b5dd1255de1d7 = L.marker(\n",
       "                [35.862904, 139.970398],\n",
       "                {}\n",
       "            ).addTo(marker_cluster_7e4488800c5083233b76b343f19de97d);\n",
       "        \n",
       "    \n",
       "            marker_5c18913da7edcd25051b5dd1255de1d7.bindTooltip(\n",
       "                `&lt;div&gt;\n",
       "                     40歳代\n",
       "                 &lt;/div&gt;`,\n",
       "                {&quot;sticky&quot;: true}\n",
       "            );\n",
       "        \n",
       "    \n",
       "            var marker_f67ae545ad45926c5d403e067722e5d3 = L.marker(\n",
       "                [35.862904, 139.970398],\n",
       "                {}\n",
       "            ).addTo(marker_cluster_7e4488800c5083233b76b343f19de97d);\n",
       "        \n",
       "    \n",
       "            marker_f67ae545ad45926c5d403e067722e5d3.bindTooltip(\n",
       "                `&lt;div&gt;\n",
       "                     10歳代\n",
       "                 &lt;/div&gt;`,\n",
       "                {&quot;sticky&quot;: true}\n",
       "            );\n",
       "        \n",
       "    \n",
       "            var marker_39f9bc7ee27248e6c5b8751e2b9f79e5 = L.marker(\n",
       "                [35.862904, 139.970398],\n",
       "                {}\n",
       "            ).addTo(marker_cluster_7e4488800c5083233b76b343f19de97d);\n",
       "        \n",
       "    \n",
       "            marker_39f9bc7ee27248e6c5b8751e2b9f79e5.bindTooltip(\n",
       "                `&lt;div&gt;\n",
       "                     20歳代\n",
       "                 &lt;/div&gt;`,\n",
       "                {&quot;sticky&quot;: true}\n",
       "            );\n",
       "        \n",
       "    \n",
       "            var marker_4331d4c58e3574e77748d56f5f63d54f = L.marker(\n",
       "                [35.862904, 139.970398],\n",
       "                {}\n",
       "            ).addTo(marker_cluster_7e4488800c5083233b76b343f19de97d);\n",
       "        \n",
       "    \n",
       "            marker_4331d4c58e3574e77748d56f5f63d54f.bindTooltip(\n",
       "                `&lt;div&gt;\n",
       "                     65-69歳\n",
       "                 &lt;/div&gt;`,\n",
       "                {&quot;sticky&quot;: true}\n",
       "            );\n",
       "        \n",
       "    \n",
       "            var marker_a8a464215db8c1e493e598130e576b43 = L.marker(\n",
       "                [35.862904, 139.970398],\n",
       "                {}\n",
       "            ).addTo(marker_cluster_7e4488800c5083233b76b343f19de97d);\n",
       "        \n",
       "    \n",
       "            marker_a8a464215db8c1e493e598130e576b43.bindTooltip(\n",
       "                `&lt;div&gt;\n",
       "                     10歳未満\n",
       "                 &lt;/div&gt;`,\n",
       "                {&quot;sticky&quot;: true}\n",
       "            );\n",
       "        \n",
       "    \n",
       "            var marker_83f13185bc6bb502a5817584a3a972c4 = L.marker(\n",
       "                [35.862904, 139.970398],\n",
       "                {}\n",
       "            ).addTo(marker_cluster_7e4488800c5083233b76b343f19de97d);\n",
       "        \n",
       "    \n",
       "            marker_83f13185bc6bb502a5817584a3a972c4.bindTooltip(\n",
       "                `&lt;div&gt;\n",
       "                     10歳代\n",
       "                 &lt;/div&gt;`,\n",
       "                {&quot;sticky&quot;: true}\n",
       "            );\n",
       "        \n",
       "    \n",
       "            var marker_0a3b38888f9759a9cac4252001a2c4e4 = L.marker(\n",
       "                [35.862904, 139.970398],\n",
       "                {}\n",
       "            ).addTo(marker_cluster_7e4488800c5083233b76b343f19de97d);\n",
       "        \n",
       "    \n",
       "            marker_0a3b38888f9759a9cac4252001a2c4e4.bindTooltip(\n",
       "                `&lt;div&gt;\n",
       "                     20歳代\n",
       "                 &lt;/div&gt;`,\n",
       "                {&quot;sticky&quot;: true}\n",
       "            );\n",
       "        \n",
       "    \n",
       "            var marker_a1e38e6e1b252c6e0f6958533158ddc9 = L.marker(\n",
       "                [35.862904, 139.970398],\n",
       "                {}\n",
       "            ).addTo(marker_cluster_7e4488800c5083233b76b343f19de97d);\n",
       "        \n",
       "    \n",
       "            marker_a1e38e6e1b252c6e0f6958533158ddc9.bindTooltip(\n",
       "                `&lt;div&gt;\n",
       "                     20歳代\n",
       "                 &lt;/div&gt;`,\n",
       "                {&quot;sticky&quot;: true}\n",
       "            );\n",
       "        \n",
       "    \n",
       "            var marker_02b012ba44618ebc634e62c007b974a4 = L.marker(\n",
       "                [35.854397, 139.962891],\n",
       "                {}\n",
       "            ).addTo(marker_cluster_7e4488800c5083233b76b343f19de97d);\n",
       "        \n",
       "    \n",
       "            marker_02b012ba44618ebc634e62c007b974a4.bindTooltip(\n",
       "                `&lt;div&gt;\n",
       "                     20歳代\n",
       "                 &lt;/div&gt;`,\n",
       "                {&quot;sticky&quot;: true}\n",
       "            );\n",
       "        \n",
       "    \n",
       "            var marker_ce078d7a188825fe69a17003678dd208 = L.marker(\n",
       "                [35.854397, 139.962891],\n",
       "                {}\n",
       "            ).addTo(marker_cluster_7e4488800c5083233b76b343f19de97d);\n",
       "        \n",
       "    \n",
       "            marker_ce078d7a188825fe69a17003678dd208.bindTooltip(\n",
       "                `&lt;div&gt;\n",
       "                     10歳代\n",
       "                 &lt;/div&gt;`,\n",
       "                {&quot;sticky&quot;: true}\n",
       "            );\n",
       "        \n",
       "    \n",
       "            var marker_1b7e086e759b971cfcc4bab9d8a99fe8 = L.marker(\n",
       "                [35.854397, 139.962891],\n",
       "                {}\n",
       "            ).addTo(marker_cluster_7e4488800c5083233b76b343f19de97d);\n",
       "        \n",
       "    \n",
       "            marker_1b7e086e759b971cfcc4bab9d8a99fe8.bindTooltip(\n",
       "                `&lt;div&gt;\n",
       "                     20歳代\n",
       "                 &lt;/div&gt;`,\n",
       "                {&quot;sticky&quot;: true}\n",
       "            );\n",
       "        \n",
       "    \n",
       "            var marker_01b4b25c283c19af7b2c2fc12ad66015 = L.marker(\n",
       "                [35.854397, 139.962891],\n",
       "                {}\n",
       "            ).addTo(marker_cluster_7e4488800c5083233b76b343f19de97d);\n",
       "        \n",
       "    \n",
       "            marker_01b4b25c283c19af7b2c2fc12ad66015.bindTooltip(\n",
       "                `&lt;div&gt;\n",
       "                     20歳代\n",
       "                 &lt;/div&gt;`,\n",
       "                {&quot;sticky&quot;: true}\n",
       "            );\n",
       "        \n",
       "    \n",
       "            var marker_b5111d473255bc0d8fd352cde3ef7302 = L.marker(\n",
       "                [35.854397, 139.962891],\n",
       "                {}\n",
       "            ).addTo(marker_cluster_7e4488800c5083233b76b343f19de97d);\n",
       "        \n",
       "    \n",
       "            marker_b5111d473255bc0d8fd352cde3ef7302.bindTooltip(\n",
       "                `&lt;div&gt;\n",
       "                     20歳代\n",
       "                 &lt;/div&gt;`,\n",
       "                {&quot;sticky&quot;: true}\n",
       "            );\n",
       "        \n",
       "    \n",
       "            var marker_3c68aa8160f0f90ecb1e33482750f9c4 = L.marker(\n",
       "                [35.854397, 139.962891],\n",
       "                {}\n",
       "            ).addTo(marker_cluster_7e4488800c5083233b76b343f19de97d);\n",
       "        \n",
       "    \n",
       "            marker_3c68aa8160f0f90ecb1e33482750f9c4.bindTooltip(\n",
       "                `&lt;div&gt;\n",
       "                     20歳代\n",
       "                 &lt;/div&gt;`,\n",
       "                {&quot;sticky&quot;: true}\n",
       "            );\n",
       "        \n",
       "    \n",
       "            var marker_20c5a783aa863fb95e29ad75ff8d57ff = L.marker(\n",
       "                [35.866894, 139.957932],\n",
       "                {}\n",
       "            ).addTo(marker_cluster_7e4488800c5083233b76b343f19de97d);\n",
       "        \n",
       "    \n",
       "            marker_20c5a783aa863fb95e29ad75ff8d57ff.bindTooltip(\n",
       "                `&lt;div&gt;\n",
       "                     10歳代\n",
       "                 &lt;/div&gt;`,\n",
       "                {&quot;sticky&quot;: true}\n",
       "            );\n",
       "        \n",
       "    \n",
       "            var marker_ed9f32626bcd06d2c941ce5c48d71f96 = L.marker(\n",
       "                [35.866894, 139.957932],\n",
       "                {}\n",
       "            ).addTo(marker_cluster_7e4488800c5083233b76b343f19de97d);\n",
       "        \n",
       "    \n",
       "            marker_ed9f32626bcd06d2c941ce5c48d71f96.bindTooltip(\n",
       "                `&lt;div&gt;\n",
       "                     40歳代\n",
       "                 &lt;/div&gt;`,\n",
       "                {&quot;sticky&quot;: true}\n",
       "            );\n",
       "        \n",
       "    \n",
       "            var marker_9a5493aa3535e850de16799aa489809e = L.marker(\n",
       "                [35.866894, 139.957932],\n",
       "                {}\n",
       "            ).addTo(marker_cluster_7e4488800c5083233b76b343f19de97d);\n",
       "        \n",
       "    \n",
       "            marker_9a5493aa3535e850de16799aa489809e.bindTooltip(\n",
       "                `&lt;div&gt;\n",
       "                     20歳代\n",
       "                 &lt;/div&gt;`,\n",
       "                {&quot;sticky&quot;: true}\n",
       "            );\n",
       "        \n",
       "    \n",
       "            var marker_5446dd16f70a9216d215084453e6c5ed = L.marker(\n",
       "                [35.866894, 139.957932],\n",
       "                {}\n",
       "            ).addTo(marker_cluster_7e4488800c5083233b76b343f19de97d);\n",
       "        \n",
       "    \n",
       "            marker_5446dd16f70a9216d215084453e6c5ed.bindTooltip(\n",
       "                `&lt;div&gt;\n",
       "                     40歳代\n",
       "                 &lt;/div&gt;`,\n",
       "                {&quot;sticky&quot;: true}\n",
       "            );\n",
       "        \n",
       "    \n",
       "            var marker_580098752e051d65a7f9fde16930cf7a = L.marker(\n",
       "                [35.862438, 139.959137],\n",
       "                {}\n",
       "            ).addTo(marker_cluster_7e4488800c5083233b76b343f19de97d);\n",
       "        \n",
       "    \n",
       "            marker_580098752e051d65a7f9fde16930cf7a.bindTooltip(\n",
       "                `&lt;div&gt;\n",
       "                     70歳以上\n",
       "                 &lt;/div&gt;`,\n",
       "                {&quot;sticky&quot;: true}\n",
       "            );\n",
       "        \n",
       "    \n",
       "            var marker_9552cb303d78e1df50a50f6a9dc56c5b = L.marker(\n",
       "                [35.863903, 139.956039],\n",
       "                {}\n",
       "            ).addTo(marker_cluster_7e4488800c5083233b76b343f19de97d);\n",
       "        \n",
       "    \n",
       "            marker_9552cb303d78e1df50a50f6a9dc56c5b.bindTooltip(\n",
       "                `&lt;div&gt;\n",
       "                     40歳代\n",
       "                 &lt;/div&gt;`,\n",
       "                {&quot;sticky&quot;: true}\n",
       "            );\n",
       "        \n",
       "    \n",
       "            var marker_eeb885b0c212987235a5b0c426b86eb4 = L.marker(\n",
       "                [35.863903, 139.956039],\n",
       "                {}\n",
       "            ).addTo(marker_cluster_7e4488800c5083233b76b343f19de97d);\n",
       "        \n",
       "    \n",
       "            marker_eeb885b0c212987235a5b0c426b86eb4.bindTooltip(\n",
       "                `&lt;div&gt;\n",
       "                     10歳代\n",
       "                 &lt;/div&gt;`,\n",
       "                {&quot;sticky&quot;: true}\n",
       "            );\n",
       "        \n",
       "    \n",
       "            var marker_d13819f4dd939a9ccb7fcc83f91c766f = L.marker(\n",
       "                [35.869198, 139.957932],\n",
       "                {}\n",
       "            ).addTo(marker_cluster_7e4488800c5083233b76b343f19de97d);\n",
       "        \n",
       "    \n",
       "            marker_d13819f4dd939a9ccb7fcc83f91c766f.bindTooltip(\n",
       "                `&lt;div&gt;\n",
       "                     10歳代\n",
       "                 &lt;/div&gt;`,\n",
       "                {&quot;sticky&quot;: true}\n",
       "            );\n",
       "        \n",
       "    \n",
       "            var marker_3734d3338cf0786f8b88dab0ecbb739d = L.marker(\n",
       "                [35.882629, 139.959305],\n",
       "                {}\n",
       "            ).addTo(marker_cluster_7e4488800c5083233b76b343f19de97d);\n",
       "        \n",
       "    \n",
       "            marker_3734d3338cf0786f8b88dab0ecbb739d.bindTooltip(\n",
       "                `&lt;div&gt;\n",
       "                     70歳以上\n",
       "                 &lt;/div&gt;`,\n",
       "                {&quot;sticky&quot;: true}\n",
       "            );\n",
       "        \n",
       "    \n",
       "            var marker_e533217097cb0b024819c499903c850a = L.marker(\n",
       "                [35.882629, 139.959305],\n",
       "                {}\n",
       "            ).addTo(marker_cluster_7e4488800c5083233b76b343f19de97d);\n",
       "        \n",
       "    \n",
       "            marker_e533217097cb0b024819c499903c850a.bindTooltip(\n",
       "                `&lt;div&gt;\n",
       "                     10歳代\n",
       "                 &lt;/div&gt;`,\n",
       "                {&quot;sticky&quot;: true}\n",
       "            );\n",
       "        \n",
       "    \n",
       "            var marker_41180cf1efc78fc2b53ce5dc30d47904 = L.marker(\n",
       "                [35.88113, 139.98645],\n",
       "                {}\n",
       "            ).addTo(marker_cluster_7e4488800c5083233b76b343f19de97d);\n",
       "        \n",
       "    \n",
       "            marker_41180cf1efc78fc2b53ce5dc30d47904.bindTooltip(\n",
       "                `&lt;div&gt;\n",
       "                     20歳代\n",
       "                 &lt;/div&gt;`,\n",
       "                {&quot;sticky&quot;: true}\n",
       "            );\n",
       "        \n",
       "    \n",
       "            var marker_35c1efeeef9a1d5ea39c0efe18f464e9 = L.marker(\n",
       "                [35.879082, 139.975952],\n",
       "                {}\n",
       "            ).addTo(marker_cluster_7e4488800c5083233b76b343f19de97d);\n",
       "        \n",
       "    \n",
       "            marker_35c1efeeef9a1d5ea39c0efe18f464e9.bindTooltip(\n",
       "                `&lt;div&gt;\n",
       "                     20歳代\n",
       "                 &lt;/div&gt;`,\n",
       "                {&quot;sticky&quot;: true}\n",
       "            );\n",
       "        \n",
       "    \n",
       "            var marker_d152716c2bdcbfc1084953594fa56ed1 = L.marker(\n",
       "                [35.879082, 139.975952],\n",
       "                {}\n",
       "            ).addTo(marker_cluster_7e4488800c5083233b76b343f19de97d);\n",
       "        \n",
       "    \n",
       "            marker_d152716c2bdcbfc1084953594fa56ed1.bindTooltip(\n",
       "                `&lt;div&gt;\n",
       "                     10歳代\n",
       "                 &lt;/div&gt;`,\n",
       "                {&quot;sticky&quot;: true}\n",
       "            );\n",
       "        \n",
       "    \n",
       "            var marker_bfe31151645227587aac522887010f36 = L.marker(\n",
       "                [35.879082, 139.975952],\n",
       "                {}\n",
       "            ).addTo(marker_cluster_7e4488800c5083233b76b343f19de97d);\n",
       "        \n",
       "    \n",
       "            marker_bfe31151645227587aac522887010f36.bindTooltip(\n",
       "                `&lt;div&gt;\n",
       "                     20歳代\n",
       "                 &lt;/div&gt;`,\n",
       "                {&quot;sticky&quot;: true}\n",
       "            );\n",
       "        \n",
       "    \n",
       "            var marker_079627d9c960165387e90fd2e17a20ec = L.marker(\n",
       "                [35.879082, 139.975952],\n",
       "                {}\n",
       "            ).addTo(marker_cluster_7e4488800c5083233b76b343f19de97d);\n",
       "        \n",
       "    \n",
       "            marker_079627d9c960165387e90fd2e17a20ec.bindTooltip(\n",
       "                `&lt;div&gt;\n",
       "                     20歳代\n",
       "                 &lt;/div&gt;`,\n",
       "                {&quot;sticky&quot;: true}\n",
       "            );\n",
       "        \n",
       "    \n",
       "            var marker_fa6b4f1700aa47bbc2c2655c4a781cc9 = L.marker(\n",
       "                [35.879082, 139.975952],\n",
       "                {}\n",
       "            ).addTo(marker_cluster_7e4488800c5083233b76b343f19de97d);\n",
       "        \n",
       "    \n",
       "            marker_fa6b4f1700aa47bbc2c2655c4a781cc9.bindTooltip(\n",
       "                `&lt;div&gt;\n",
       "                     40歳代\n",
       "                 &lt;/div&gt;`,\n",
       "                {&quot;sticky&quot;: true}\n",
       "            );\n",
       "        \n",
       "    \n",
       "            var marker_fd276b0c5d7cd4eba427d6088f13f4b7 = L.marker(\n",
       "                [35.879082, 139.975952],\n",
       "                {}\n",
       "            ).addTo(marker_cluster_7e4488800c5083233b76b343f19de97d);\n",
       "        \n",
       "    \n",
       "            marker_fd276b0c5d7cd4eba427d6088f13f4b7.bindTooltip(\n",
       "                `&lt;div&gt;\n",
       "                     10歳代\n",
       "                 &lt;/div&gt;`,\n",
       "                {&quot;sticky&quot;: true}\n",
       "            );\n",
       "        \n",
       "    \n",
       "            var marker_fb33ea3bb63cf12ea909415ee2d8e091 = L.marker(\n",
       "                [35.879082, 139.975952],\n",
       "                {}\n",
       "            ).addTo(marker_cluster_7e4488800c5083233b76b343f19de97d);\n",
       "        \n",
       "    \n",
       "            marker_fb33ea3bb63cf12ea909415ee2d8e091.bindTooltip(\n",
       "                `&lt;div&gt;\n",
       "                     30歳代\n",
       "                 &lt;/div&gt;`,\n",
       "                {&quot;sticky&quot;: true}\n",
       "            );\n",
       "        \n",
       "    \n",
       "            var marker_5feaefd2299024c20cc90479eccc926d = L.marker(\n",
       "                [35.879082, 139.975952],\n",
       "                {}\n",
       "            ).addTo(marker_cluster_7e4488800c5083233b76b343f19de97d);\n",
       "        \n",
       "    \n",
       "            marker_5feaefd2299024c20cc90479eccc926d.bindTooltip(\n",
       "                `&lt;div&gt;\n",
       "                     30歳代\n",
       "                 &lt;/div&gt;`,\n",
       "                {&quot;sticky&quot;: true}\n",
       "            );\n",
       "        \n",
       "    \n",
       "            var marker_dbd040d5a70076291b837c57ece9b5cb = L.marker(\n",
       "                [35.886456, 139.980759],\n",
       "                {}\n",
       "            ).addTo(marker_cluster_7e4488800c5083233b76b343f19de97d);\n",
       "        \n",
       "    \n",
       "            marker_dbd040d5a70076291b837c57ece9b5cb.bindTooltip(\n",
       "                `&lt;div&gt;\n",
       "                     20歳代\n",
       "                 &lt;/div&gt;`,\n",
       "                {&quot;sticky&quot;: true}\n",
       "            );\n",
       "        \n",
       "    \n",
       "            var marker_c70db3f39f83ce7fe9972e99dbfe7ca9 = L.marker(\n",
       "                [35.886456, 139.980759],\n",
       "                {}\n",
       "            ).addTo(marker_cluster_7e4488800c5083233b76b343f19de97d);\n",
       "        \n",
       "    \n",
       "            marker_c70db3f39f83ce7fe9972e99dbfe7ca9.bindTooltip(\n",
       "                `&lt;div&gt;\n",
       "                     10歳代\n",
       "                 &lt;/div&gt;`,\n",
       "                {&quot;sticky&quot;: true}\n",
       "            );\n",
       "        \n",
       "    \n",
       "            var marker_360c3bf90938cfbe7a19b68f7f8692ee = L.marker(\n",
       "                [35.886009, 139.970963],\n",
       "                {}\n",
       "            ).addTo(marker_cluster_7e4488800c5083233b76b343f19de97d);\n",
       "        \n",
       "    \n",
       "            marker_360c3bf90938cfbe7a19b68f7f8692ee.bindTooltip(\n",
       "                `&lt;div&gt;\n",
       "                     10歳未満\n",
       "                 &lt;/div&gt;`,\n",
       "                {&quot;sticky&quot;: true}\n",
       "            );\n",
       "        \n",
       "    \n",
       "            var marker_2c7eb96520e98c33ff6e59c824db45f3 = L.marker(\n",
       "                [35.886009, 139.970963],\n",
       "                {}\n",
       "            ).addTo(marker_cluster_7e4488800c5083233b76b343f19de97d);\n",
       "        \n",
       "    \n",
       "            marker_2c7eb96520e98c33ff6e59c824db45f3.bindTooltip(\n",
       "                `&lt;div&gt;\n",
       "                     10歳代\n",
       "                 &lt;/div&gt;`,\n",
       "                {&quot;sticky&quot;: true}\n",
       "            );\n",
       "        \n",
       "    \n",
       "            var marker_9f3c8c1347c7206f385ce1f97db306d1 = L.marker(\n",
       "                [35.889114, 139.971802],\n",
       "                {}\n",
       "            ).addTo(marker_cluster_7e4488800c5083233b76b343f19de97d);\n",
       "        \n",
       "    \n",
       "            marker_9f3c8c1347c7206f385ce1f97db306d1.bindTooltip(\n",
       "                `&lt;div&gt;\n",
       "                     70歳以上\n",
       "                 &lt;/div&gt;`,\n",
       "                {&quot;sticky&quot;: true}\n",
       "            );\n",
       "        \n",
       "    \n",
       "            var marker_fac8f6e713422315bf36b0e6b1ffc91c = L.marker(\n",
       "                [35.889114, 139.971802],\n",
       "                {}\n",
       "            ).addTo(marker_cluster_7e4488800c5083233b76b343f19de97d);\n",
       "        \n",
       "    \n",
       "            marker_fac8f6e713422315bf36b0e6b1ffc91c.bindTooltip(\n",
       "                `&lt;div&gt;\n",
       "                     65-69歳\n",
       "                 &lt;/div&gt;`,\n",
       "                {&quot;sticky&quot;: true}\n",
       "            );\n",
       "        \n",
       "    \n",
       "            var marker_9b6dca7032e4a52fa50557da875f48c1 = L.marker(\n",
       "                [35.889114, 139.971802],\n",
       "                {}\n",
       "            ).addTo(marker_cluster_7e4488800c5083233b76b343f19de97d);\n",
       "        \n",
       "    \n",
       "            marker_9b6dca7032e4a52fa50557da875f48c1.bindTooltip(\n",
       "                `&lt;div&gt;\n",
       "                     70歳以上\n",
       "                 &lt;/div&gt;`,\n",
       "                {&quot;sticky&quot;: true}\n",
       "            );\n",
       "        \n",
       "    \n",
       "            var marker_751f13183141d14438d01d455bda7fea = L.marker(\n",
       "                [35.889473, 139.966446],\n",
       "                {}\n",
       "            ).addTo(marker_cluster_7e4488800c5083233b76b343f19de97d);\n",
       "        \n",
       "    \n",
       "            marker_751f13183141d14438d01d455bda7fea.bindTooltip(\n",
       "                `&lt;div&gt;\n",
       "                     40歳代\n",
       "                 &lt;/div&gt;`,\n",
       "                {&quot;sticky&quot;: true}\n",
       "            );\n",
       "        \n",
       "    \n",
       "            var marker_9fd2452bf91fb277df2706abc2009fbe = L.marker(\n",
       "                [35.889473, 139.966446],\n",
       "                {}\n",
       "            ).addTo(marker_cluster_7e4488800c5083233b76b343f19de97d);\n",
       "        \n",
       "    \n",
       "            marker_9fd2452bf91fb277df2706abc2009fbe.bindTooltip(\n",
       "                `&lt;div&gt;\n",
       "                     70歳以上\n",
       "                 &lt;/div&gt;`,\n",
       "                {&quot;sticky&quot;: true}\n",
       "            );\n",
       "        \n",
       "    \n",
       "            var marker_de72db715ac7bb37087e94dc8c3e2e1c = L.marker(\n",
       "                [35.891541, 139.968033],\n",
       "                {}\n",
       "            ).addTo(marker_cluster_7e4488800c5083233b76b343f19de97d);\n",
       "        \n",
       "    \n",
       "            marker_de72db715ac7bb37087e94dc8c3e2e1c.bindTooltip(\n",
       "                `&lt;div&gt;\n",
       "                     50歳代\n",
       "                 &lt;/div&gt;`,\n",
       "                {&quot;sticky&quot;: true}\n",
       "            );\n",
       "        \n",
       "    \n",
       "            var marker_774acd1a141c8205f6f660c34b99e324 = L.marker(\n",
       "                [35.880825, 139.967804],\n",
       "                {}\n",
       "            ).addTo(marker_cluster_7e4488800c5083233b76b343f19de97d);\n",
       "        \n",
       "    \n",
       "            marker_774acd1a141c8205f6f660c34b99e324.bindTooltip(\n",
       "                `&lt;div&gt;\n",
       "                     40歳代\n",
       "                 &lt;/div&gt;`,\n",
       "                {&quot;sticky&quot;: true}\n",
       "            );\n",
       "        \n",
       "    \n",
       "            var marker_00065cfb451362285d04813bbf05dcae = L.marker(\n",
       "                [35.880825, 139.967804],\n",
       "                {}\n",
       "            ).addTo(marker_cluster_7e4488800c5083233b76b343f19de97d);\n",
       "        \n",
       "    \n",
       "            marker_00065cfb451362285d04813bbf05dcae.bindTooltip(\n",
       "                `&lt;div&gt;\n",
       "                     20歳代\n",
       "                 &lt;/div&gt;`,\n",
       "                {&quot;sticky&quot;: true}\n",
       "            );\n",
       "        \n",
       "    \n",
       "            var marker_494b8b7454bec02530a47829bd31e9ca = L.marker(\n",
       "                [35.880825, 139.967804],\n",
       "                {}\n",
       "            ).addTo(marker_cluster_7e4488800c5083233b76b343f19de97d);\n",
       "        \n",
       "    \n",
       "            marker_494b8b7454bec02530a47829bd31e9ca.bindTooltip(\n",
       "                `&lt;div&gt;\n",
       "                     10歳代\n",
       "                 &lt;/div&gt;`,\n",
       "                {&quot;sticky&quot;: true}\n",
       "            );\n",
       "        \n",
       "    \n",
       "            var marker_c0db8d88171ea2c26d71c7b096997903 = L.marker(\n",
       "                [35.880825, 139.967804],\n",
       "                {}\n",
       "            ).addTo(marker_cluster_7e4488800c5083233b76b343f19de97d);\n",
       "        \n",
       "    \n",
       "            marker_c0db8d88171ea2c26d71c7b096997903.bindTooltip(\n",
       "                `&lt;div&gt;\n",
       "                     10歳代\n",
       "                 &lt;/div&gt;`,\n",
       "                {&quot;sticky&quot;: true}\n",
       "            );\n",
       "        \n",
       "    \n",
       "            var marker_48a75eb03af1421ae5e4caca7320c0a7 = L.marker(\n",
       "                [35.88258, 139.969193],\n",
       "                {}\n",
       "            ).addTo(marker_cluster_7e4488800c5083233b76b343f19de97d);\n",
       "        \n",
       "    \n",
       "            marker_48a75eb03af1421ae5e4caca7320c0a7.bindTooltip(\n",
       "                `&lt;div&gt;\n",
       "                     40歳代\n",
       "                 &lt;/div&gt;`,\n",
       "                {&quot;sticky&quot;: true}\n",
       "            );\n",
       "        \n",
       "    \n",
       "            var marker_b3f8abf8aa7bede12f66d6565ac2e999 = L.marker(\n",
       "                [35.88258, 139.969193],\n",
       "                {}\n",
       "            ).addTo(marker_cluster_7e4488800c5083233b76b343f19de97d);\n",
       "        \n",
       "    \n",
       "            marker_b3f8abf8aa7bede12f66d6565ac2e999.bindTooltip(\n",
       "                `&lt;div&gt;\n",
       "                     10歳代\n",
       "                 &lt;/div&gt;`,\n",
       "                {&quot;sticky&quot;: true}\n",
       "            );\n",
       "        \n",
       "    \n",
       "            var marker_11ff6d4b12827b43a31a0f42c57e616f = L.marker(\n",
       "                [35.88258, 139.969193],\n",
       "                {}\n",
       "            ).addTo(marker_cluster_7e4488800c5083233b76b343f19de97d);\n",
       "        \n",
       "    \n",
       "            marker_11ff6d4b12827b43a31a0f42c57e616f.bindTooltip(\n",
       "                `&lt;div&gt;\n",
       "                     20歳代\n",
       "                 &lt;/div&gt;`,\n",
       "                {&quot;sticky&quot;: true}\n",
       "            );\n",
       "        \n",
       "    \n",
       "            var marker_60baa583b066cf76f9f03c7d7dd0994c = L.marker(\n",
       "                [35.88258, 139.969193],\n",
       "                {}\n",
       "            ).addTo(marker_cluster_7e4488800c5083233b76b343f19de97d);\n",
       "        \n",
       "    \n",
       "            marker_60baa583b066cf76f9f03c7d7dd0994c.bindTooltip(\n",
       "                `&lt;div&gt;\n",
       "                     10歳代\n",
       "                 &lt;/div&gt;`,\n",
       "                {&quot;sticky&quot;: true}\n",
       "            );\n",
       "        \n",
       "    \n",
       "            var marker_e3f3c48da60dfab056cbf4986907f2f0 = L.marker(\n",
       "                [35.88258, 139.969193],\n",
       "                {}\n",
       "            ).addTo(marker_cluster_7e4488800c5083233b76b343f19de97d);\n",
       "        \n",
       "    \n",
       "            marker_e3f3c48da60dfab056cbf4986907f2f0.bindTooltip(\n",
       "                `&lt;div&gt;\n",
       "                     10歳代\n",
       "                 &lt;/div&gt;`,\n",
       "                {&quot;sticky&quot;: true}\n",
       "            );\n",
       "        \n",
       "    \n",
       "            var marker_62f5274c9082ca0b1360c608a76855f5 = L.marker(\n",
       "                [35.88258, 139.969193],\n",
       "                {}\n",
       "            ).addTo(marker_cluster_7e4488800c5083233b76b343f19de97d);\n",
       "        \n",
       "    \n",
       "            marker_62f5274c9082ca0b1360c608a76855f5.bindTooltip(\n",
       "                `&lt;div&gt;\n",
       "                     30歳代\n",
       "                 &lt;/div&gt;`,\n",
       "                {&quot;sticky&quot;: true}\n",
       "            );\n",
       "        \n",
       "    \n",
       "            var marker_47119e9adfa3dcaa0faf51fd5b1242cb = L.marker(\n",
       "                [35.88258, 139.969193],\n",
       "                {}\n",
       "            ).addTo(marker_cluster_7e4488800c5083233b76b343f19de97d);\n",
       "        \n",
       "    \n",
       "            marker_47119e9adfa3dcaa0faf51fd5b1242cb.bindTooltip(\n",
       "                `&lt;div&gt;\n",
       "                     法人・団体、被害者なし\n",
       "                 &lt;/div&gt;`,\n",
       "                {&quot;sticky&quot;: true}\n",
       "            );\n",
       "        \n",
       "    \n",
       "            var marker_767ba079b7741dcc44df27713d8501de = L.marker(\n",
       "                [35.902401, 139.950058],\n",
       "                {}\n",
       "            ).addTo(marker_cluster_7e4488800c5083233b76b343f19de97d);\n",
       "        \n",
       "    \n",
       "            marker_767ba079b7741dcc44df27713d8501de.bindTooltip(\n",
       "                `&lt;div&gt;\n",
       "                     20歳代\n",
       "                 &lt;/div&gt;`,\n",
       "                {&quot;sticky&quot;: true}\n",
       "            );\n",
       "        \n",
       "    \n",
       "            var marker_b0a466d15647b9a8afe3a6375433dba0 = L.marker(\n",
       "                [35.902401, 139.950058],\n",
       "                {}\n",
       "            ).addTo(marker_cluster_7e4488800c5083233b76b343f19de97d);\n",
       "        \n",
       "    \n",
       "            marker_b0a466d15647b9a8afe3a6375433dba0.bindTooltip(\n",
       "                `&lt;div&gt;\n",
       "                     30歳代\n",
       "                 &lt;/div&gt;`,\n",
       "                {&quot;sticky&quot;: true}\n",
       "            );\n",
       "        \n",
       "    \n",
       "            var marker_3c505c09272270a70215c0921eebc951 = L.marker(\n",
       "                [35.891659, 139.953995],\n",
       "                {}\n",
       "            ).addTo(marker_cluster_7e4488800c5083233b76b343f19de97d);\n",
       "        \n",
       "    \n",
       "            marker_3c505c09272270a70215c0921eebc951.bindTooltip(\n",
       "                `&lt;div&gt;\n",
       "                     10歳代\n",
       "                 &lt;/div&gt;`,\n",
       "                {&quot;sticky&quot;: true}\n",
       "            );\n",
       "        \n",
       "    \n",
       "            var marker_88ec1ffcc6bb4b2132c9d8744af17c09 = L.marker(\n",
       "                [35.891659, 139.953995],\n",
       "                {}\n",
       "            ).addTo(marker_cluster_7e4488800c5083233b76b343f19de97d);\n",
       "        \n",
       "    \n",
       "            marker_88ec1ffcc6bb4b2132c9d8744af17c09.bindTooltip(\n",
       "                `&lt;div&gt;\n",
       "                     10歳代\n",
       "                 &lt;/div&gt;`,\n",
       "                {&quot;sticky&quot;: true}\n",
       "            );\n",
       "        \n",
       "    \n",
       "            var marker_752dbb510eb8fcad1d5ccf49a638fce5 = L.marker(\n",
       "                [35.891659, 139.953995],\n",
       "                {}\n",
       "            ).addTo(marker_cluster_7e4488800c5083233b76b343f19de97d);\n",
       "        \n",
       "    \n",
       "            marker_752dbb510eb8fcad1d5ccf49a638fce5.bindTooltip(\n",
       "                `&lt;div&gt;\n",
       "                     10歳代\n",
       "                 &lt;/div&gt;`,\n",
       "                {&quot;sticky&quot;: true}\n",
       "            );\n",
       "        \n",
       "    \n",
       "            var marker_145818a1527262f528a8ec8d7aabd064 = L.marker(\n",
       "                [35.891659, 139.953995],\n",
       "                {}\n",
       "            ).addTo(marker_cluster_7e4488800c5083233b76b343f19de97d);\n",
       "        \n",
       "    \n",
       "            marker_145818a1527262f528a8ec8d7aabd064.bindTooltip(\n",
       "                `&lt;div&gt;\n",
       "                     10歳代\n",
       "                 &lt;/div&gt;`,\n",
       "                {&quot;sticky&quot;: true}\n",
       "            );\n",
       "        \n",
       "    \n",
       "            var marker_74e03e773346f4102b25e336ce0be45f = L.marker(\n",
       "                [35.891659, 139.953995],\n",
       "                {}\n",
       "            ).addTo(marker_cluster_7e4488800c5083233b76b343f19de97d);\n",
       "        \n",
       "    \n",
       "            marker_74e03e773346f4102b25e336ce0be45f.bindTooltip(\n",
       "                `&lt;div&gt;\n",
       "                     20歳代\n",
       "                 &lt;/div&gt;`,\n",
       "                {&quot;sticky&quot;: true}\n",
       "            );\n",
       "        \n",
       "    \n",
       "            var marker_bf797c344f6acf1fb9c977fb77c80fd9 = L.marker(\n",
       "                [35.891659, 139.953995],\n",
       "                {}\n",
       "            ).addTo(marker_cluster_7e4488800c5083233b76b343f19de97d);\n",
       "        \n",
       "    \n",
       "            marker_bf797c344f6acf1fb9c977fb77c80fd9.bindTooltip(\n",
       "                `&lt;div&gt;\n",
       "                     10歳代\n",
       "                 &lt;/div&gt;`,\n",
       "                {&quot;sticky&quot;: true}\n",
       "            );\n",
       "        \n",
       "    \n",
       "            var marker_505303b7be09b2185b8508599665c258 = L.marker(\n",
       "                [35.891659, 139.953995],\n",
       "                {}\n",
       "            ).addTo(marker_cluster_7e4488800c5083233b76b343f19de97d);\n",
       "        \n",
       "    \n",
       "            marker_505303b7be09b2185b8508599665c258.bindTooltip(\n",
       "                `&lt;div&gt;\n",
       "                     20歳代\n",
       "                 &lt;/div&gt;`,\n",
       "                {&quot;sticky&quot;: true}\n",
       "            );\n",
       "        \n",
       "    \n",
       "            var marker_4b74a7366ac5758984853d2238d7b651 = L.marker(\n",
       "                [35.891659, 139.953995],\n",
       "                {}\n",
       "            ).addTo(marker_cluster_7e4488800c5083233b76b343f19de97d);\n",
       "        \n",
       "    \n",
       "            marker_4b74a7366ac5758984853d2238d7b651.bindTooltip(\n",
       "                `&lt;div&gt;\n",
       "                     40歳代\n",
       "                 &lt;/div&gt;`,\n",
       "                {&quot;sticky&quot;: true}\n",
       "            );\n",
       "        \n",
       "    \n",
       "            var marker_08c99cb0ecc655096b7c0de93a84b64d = L.marker(\n",
       "                [35.891659, 139.953995],\n",
       "                {}\n",
       "            ).addTo(marker_cluster_7e4488800c5083233b76b343f19de97d);\n",
       "        \n",
       "    \n",
       "            marker_08c99cb0ecc655096b7c0de93a84b64d.bindTooltip(\n",
       "                `&lt;div&gt;\n",
       "                     10歳代\n",
       "                 &lt;/div&gt;`,\n",
       "                {&quot;sticky&quot;: true}\n",
       "            );\n",
       "        \n",
       "    \n",
       "            var marker_f6becd406fe0e6ba2252fbd4809b5728 = L.marker(\n",
       "                [35.891659, 139.953995],\n",
       "                {}\n",
       "            ).addTo(marker_cluster_7e4488800c5083233b76b343f19de97d);\n",
       "        \n",
       "    \n",
       "            marker_f6becd406fe0e6ba2252fbd4809b5728.bindTooltip(\n",
       "                `&lt;div&gt;\n",
       "                     10歳代\n",
       "                 &lt;/div&gt;`,\n",
       "                {&quot;sticky&quot;: true}\n",
       "            );\n",
       "        \n",
       "    \n",
       "            var marker_f78ad91d6d7a5cc9df0530b094ed9dff = L.marker(\n",
       "                [35.891659, 139.953995],\n",
       "                {}\n",
       "            ).addTo(marker_cluster_7e4488800c5083233b76b343f19de97d);\n",
       "        \n",
       "    \n",
       "            marker_f78ad91d6d7a5cc9df0530b094ed9dff.bindTooltip(\n",
       "                `&lt;div&gt;\n",
       "                     30歳代\n",
       "                 &lt;/div&gt;`,\n",
       "                {&quot;sticky&quot;: true}\n",
       "            );\n",
       "        \n",
       "    \n",
       "            var marker_53256bdcb73fff6875b34f55e5432593 = L.marker(\n",
       "                [35.891659, 139.953995],\n",
       "                {}\n",
       "            ).addTo(marker_cluster_7e4488800c5083233b76b343f19de97d);\n",
       "        \n",
       "    \n",
       "            marker_53256bdcb73fff6875b34f55e5432593.bindTooltip(\n",
       "                `&lt;div&gt;\n",
       "                     20歳代\n",
       "                 &lt;/div&gt;`,\n",
       "                {&quot;sticky&quot;: true}\n",
       "            );\n",
       "        \n",
       "    \n",
       "            var marker_7aa6d1105445dd7c4ca76c60c4aac97c = L.marker(\n",
       "                [35.891659, 139.953995],\n",
       "                {}\n",
       "            ).addTo(marker_cluster_7e4488800c5083233b76b343f19de97d);\n",
       "        \n",
       "    \n",
       "            marker_7aa6d1105445dd7c4ca76c60c4aac97c.bindTooltip(\n",
       "                `&lt;div&gt;\n",
       "                     10歳代\n",
       "                 &lt;/div&gt;`,\n",
       "                {&quot;sticky&quot;: true}\n",
       "            );\n",
       "        \n",
       "    \n",
       "            var marker_5d9993b7a7e697ffaa1d6a416421eddf = L.marker(\n",
       "                [35.891659, 139.953995],\n",
       "                {}\n",
       "            ).addTo(marker_cluster_7e4488800c5083233b76b343f19de97d);\n",
       "        \n",
       "    \n",
       "            marker_5d9993b7a7e697ffaa1d6a416421eddf.bindTooltip(\n",
       "                `&lt;div&gt;\n",
       "                     20歳代\n",
       "                 &lt;/div&gt;`,\n",
       "                {&quot;sticky&quot;: true}\n",
       "            );\n",
       "        \n",
       "    \n",
       "            var marker_4f292d1ddc6b1e32a569b80654d2bdc7 = L.marker(\n",
       "                [35.891659, 139.953995],\n",
       "                {}\n",
       "            ).addTo(marker_cluster_7e4488800c5083233b76b343f19de97d);\n",
       "        \n",
       "    \n",
       "            marker_4f292d1ddc6b1e32a569b80654d2bdc7.bindTooltip(\n",
       "                `&lt;div&gt;\n",
       "                     40歳代\n",
       "                 &lt;/div&gt;`,\n",
       "                {&quot;sticky&quot;: true}\n",
       "            );\n",
       "        \n",
       "    \n",
       "            var marker_33c3943336837ca349287bd36378895c = L.marker(\n",
       "                [35.891659, 139.953995],\n",
       "                {}\n",
       "            ).addTo(marker_cluster_7e4488800c5083233b76b343f19de97d);\n",
       "        \n",
       "    \n",
       "            marker_33c3943336837ca349287bd36378895c.bindTooltip(\n",
       "                `&lt;div&gt;\n",
       "                     10歳代\n",
       "                 &lt;/div&gt;`,\n",
       "                {&quot;sticky&quot;: true}\n",
       "            );\n",
       "        \n",
       "    \n",
       "            var marker_e7ad093483474fb9d8e7c2323f41c3e3 = L.marker(\n",
       "                [35.891659, 139.953995],\n",
       "                {}\n",
       "            ).addTo(marker_cluster_7e4488800c5083233b76b343f19de97d);\n",
       "        \n",
       "    \n",
       "            marker_e7ad093483474fb9d8e7c2323f41c3e3.bindTooltip(\n",
       "                `&lt;div&gt;\n",
       "                     10歳代\n",
       "                 &lt;/div&gt;`,\n",
       "                {&quot;sticky&quot;: true}\n",
       "            );\n",
       "        \n",
       "    \n",
       "            var marker_970d57e992b950c78dc8f6ecc4033b5f = L.marker(\n",
       "                [35.891659, 139.953995],\n",
       "                {}\n",
       "            ).addTo(marker_cluster_7e4488800c5083233b76b343f19de97d);\n",
       "        \n",
       "    \n",
       "            marker_970d57e992b950c78dc8f6ecc4033b5f.bindTooltip(\n",
       "                `&lt;div&gt;\n",
       "                     40歳代\n",
       "                 &lt;/div&gt;`,\n",
       "                {&quot;sticky&quot;: true}\n",
       "            );\n",
       "        \n",
       "    \n",
       "            var marker_f8b98a007feaa517e7f5ee9744d4ceb2 = L.marker(\n",
       "                [35.891659, 139.953995],\n",
       "                {}\n",
       "            ).addTo(marker_cluster_7e4488800c5083233b76b343f19de97d);\n",
       "        \n",
       "    \n",
       "            marker_f8b98a007feaa517e7f5ee9744d4ceb2.bindTooltip(\n",
       "                `&lt;div&gt;\n",
       "                     20歳代\n",
       "                 &lt;/div&gt;`,\n",
       "                {&quot;sticky&quot;: true}\n",
       "            );\n",
       "        \n",
       "    \n",
       "            var marker_514afa9eda96445a3dcf7a42b6e34555 = L.marker(\n",
       "                [35.891659, 139.953995],\n",
       "                {}\n",
       "            ).addTo(marker_cluster_7e4488800c5083233b76b343f19de97d);\n",
       "        \n",
       "    \n",
       "            marker_514afa9eda96445a3dcf7a42b6e34555.bindTooltip(\n",
       "                `&lt;div&gt;\n",
       "                     10歳代\n",
       "                 &lt;/div&gt;`,\n",
       "                {&quot;sticky&quot;: true}\n",
       "            );\n",
       "        \n",
       "    \n",
       "            var marker_793df71e83d1d34ae5504513fcb66dfa = L.marker(\n",
       "                [35.891659, 139.953995],\n",
       "                {}\n",
       "            ).addTo(marker_cluster_7e4488800c5083233b76b343f19de97d);\n",
       "        \n",
       "    \n",
       "            marker_793df71e83d1d34ae5504513fcb66dfa.bindTooltip(\n",
       "                `&lt;div&gt;\n",
       "                     20歳代\n",
       "                 &lt;/div&gt;`,\n",
       "                {&quot;sticky&quot;: true}\n",
       "            );\n",
       "        \n",
       "    \n",
       "            var marker_a1f956c7147b21d5e575697ccb71accf = L.marker(\n",
       "                [35.891659, 139.953995],\n",
       "                {}\n",
       "            ).addTo(marker_cluster_7e4488800c5083233b76b343f19de97d);\n",
       "        \n",
       "    \n",
       "            marker_a1f956c7147b21d5e575697ccb71accf.bindTooltip(\n",
       "                `&lt;div&gt;\n",
       "                     20歳代\n",
       "                 &lt;/div&gt;`,\n",
       "                {&quot;sticky&quot;: true}\n",
       "            );\n",
       "        \n",
       "    \n",
       "            var marker_92b64fd7f6e044e52f086b945b3efa90 = L.marker(\n",
       "                [35.896427, 139.937088],\n",
       "                {}\n",
       "            ).addTo(marker_cluster_7e4488800c5083233b76b343f19de97d);\n",
       "        \n",
       "    \n",
       "            marker_92b64fd7f6e044e52f086b945b3efa90.bindTooltip(\n",
       "                `&lt;div&gt;\n",
       "                     30歳代\n",
       "                 &lt;/div&gt;`,\n",
       "                {&quot;sticky&quot;: true}\n",
       "            );\n",
       "        \n",
       "    \n",
       "            var marker_eb54ea85060d8b1652c17ce42bd4f421 = L.marker(\n",
       "                [35.896942, 139.944931],\n",
       "                {}\n",
       "            ).addTo(marker_cluster_7e4488800c5083233b76b343f19de97d);\n",
       "        \n",
       "    \n",
       "            marker_eb54ea85060d8b1652c17ce42bd4f421.bindTooltip(\n",
       "                `&lt;div&gt;\n",
       "                     20歳代\n",
       "                 &lt;/div&gt;`,\n",
       "                {&quot;sticky&quot;: true}\n",
       "            );\n",
       "        \n",
       "    \n",
       "            var marker_8a87903ba862c19dca81d490f786dc5b = L.marker(\n",
       "                [35.857388, 139.97847],\n",
       "                {}\n",
       "            ).addTo(marker_cluster_7e4488800c5083233b76b343f19de97d);\n",
       "        \n",
       "    \n",
       "            marker_8a87903ba862c19dca81d490f786dc5b.bindTooltip(\n",
       "                `&lt;div&gt;\n",
       "                     20歳代\n",
       "                 &lt;/div&gt;`,\n",
       "                {&quot;sticky&quot;: true}\n",
       "            );\n",
       "        \n",
       "    \n",
       "            var marker_4f25f89d0448731849e2d7e45a1d5db8 = L.marker(\n",
       "                [35.859604, 139.977722],\n",
       "                {}\n",
       "            ).addTo(marker_cluster_7e4488800c5083233b76b343f19de97d);\n",
       "        \n",
       "    \n",
       "            marker_4f25f89d0448731849e2d7e45a1d5db8.bindTooltip(\n",
       "                `&lt;div&gt;\n",
       "                     30歳代\n",
       "                 &lt;/div&gt;`,\n",
       "                {&quot;sticky&quot;: true}\n",
       "            );\n",
       "        \n",
       "    \n",
       "            var marker_a5dd685166a2cfcfdf34605367680c60 = L.marker(\n",
       "                [35.859604, 139.977722],\n",
       "                {}\n",
       "            ).addTo(marker_cluster_7e4488800c5083233b76b343f19de97d);\n",
       "        \n",
       "    \n",
       "            marker_a5dd685166a2cfcfdf34605367680c60.bindTooltip(\n",
       "                `&lt;div&gt;\n",
       "                     20歳代\n",
       "                 &lt;/div&gt;`,\n",
       "                {&quot;sticky&quot;: true}\n",
       "            );\n",
       "        \n",
       "    \n",
       "            var marker_3bdfacf067fae68a6ef6a65134ab7ac7 = L.marker(\n",
       "                [35.856449, 139.967957],\n",
       "                {}\n",
       "            ).addTo(marker_cluster_7e4488800c5083233b76b343f19de97d);\n",
       "        \n",
       "    \n",
       "            marker_3bdfacf067fae68a6ef6a65134ab7ac7.bindTooltip(\n",
       "                `&lt;div&gt;\n",
       "                     10歳代\n",
       "                 &lt;/div&gt;`,\n",
       "                {&quot;sticky&quot;: true}\n",
       "            );\n",
       "        \n",
       "    \n",
       "            var marker_34687d079ee2e31da9c66b6b0d2422a2 = L.marker(\n",
       "                [35.856449, 139.967957],\n",
       "                {}\n",
       "            ).addTo(marker_cluster_7e4488800c5083233b76b343f19de97d);\n",
       "        \n",
       "    \n",
       "            marker_34687d079ee2e31da9c66b6b0d2422a2.bindTooltip(\n",
       "                `&lt;div&gt;\n",
       "                     10歳代\n",
       "                 &lt;/div&gt;`,\n",
       "                {&quot;sticky&quot;: true}\n",
       "            );\n",
       "        \n",
       "    \n",
       "            var marker_e9863f51a9a2535b971a47d8ca332592 = L.marker(\n",
       "                [35.856449, 139.967957],\n",
       "                {}\n",
       "            ).addTo(marker_cluster_7e4488800c5083233b76b343f19de97d);\n",
       "        \n",
       "    \n",
       "            marker_e9863f51a9a2535b971a47d8ca332592.bindTooltip(\n",
       "                `&lt;div&gt;\n",
       "                     10歳代\n",
       "                 &lt;/div&gt;`,\n",
       "                {&quot;sticky&quot;: true}\n",
       "            );\n",
       "        \n",
       "    \n",
       "            var marker_8331106d0211db01a37976bf7fe3a713 = L.marker(\n",
       "                [35.856449, 139.967957],\n",
       "                {}\n",
       "            ).addTo(marker_cluster_7e4488800c5083233b76b343f19de97d);\n",
       "        \n",
       "    \n",
       "            marker_8331106d0211db01a37976bf7fe3a713.bindTooltip(\n",
       "                `&lt;div&gt;\n",
       "                     10歳代\n",
       "                 &lt;/div&gt;`,\n",
       "                {&quot;sticky&quot;: true}\n",
       "            );\n",
       "        \n",
       "    \n",
       "            var marker_c125f0993d16f1d4e311a40fdb2dff62 = L.marker(\n",
       "                [35.864445, 139.986511],\n",
       "                {}\n",
       "            ).addTo(marker_cluster_7e4488800c5083233b76b343f19de97d);\n",
       "        \n",
       "    \n",
       "            marker_c125f0993d16f1d4e311a40fdb2dff62.bindTooltip(\n",
       "                `&lt;div&gt;\n",
       "                     40歳代\n",
       "                 &lt;/div&gt;`,\n",
       "                {&quot;sticky&quot;: true}\n",
       "            );\n",
       "        \n",
       "    \n",
       "            var marker_f0765c010109544b7907f87971daec2c = L.marker(\n",
       "                [35.864445, 139.986511],\n",
       "                {}\n",
       "            ).addTo(marker_cluster_7e4488800c5083233b76b343f19de97d);\n",
       "        \n",
       "    \n",
       "            marker_f0765c010109544b7907f87971daec2c.bindTooltip(\n",
       "                `&lt;div&gt;\n",
       "                     10歳代\n",
       "                 &lt;/div&gt;`,\n",
       "                {&quot;sticky&quot;: true}\n",
       "            );\n",
       "        \n",
       "    \n",
       "            var marker_dedd1170df9f915f99e6041e64ef8be3 = L.marker(\n",
       "                [35.864445, 139.986511],\n",
       "                {}\n",
       "            ).addTo(marker_cluster_7e4488800c5083233b76b343f19de97d);\n",
       "        \n",
       "    \n",
       "            marker_dedd1170df9f915f99e6041e64ef8be3.bindTooltip(\n",
       "                `&lt;div&gt;\n",
       "                     10歳代\n",
       "                 &lt;/div&gt;`,\n",
       "                {&quot;sticky&quot;: true}\n",
       "            );\n",
       "        \n",
       "    \n",
       "            var marker_e301754fde50a31fe47ad4b44dc15f22 = L.marker(\n",
       "                [35.864445, 139.986511],\n",
       "                {}\n",
       "            ).addTo(marker_cluster_7e4488800c5083233b76b343f19de97d);\n",
       "        \n",
       "    \n",
       "            marker_e301754fde50a31fe47ad4b44dc15f22.bindTooltip(\n",
       "                `&lt;div&gt;\n",
       "                     10歳代\n",
       "                 &lt;/div&gt;`,\n",
       "                {&quot;sticky&quot;: true}\n",
       "            );\n",
       "        \n",
       "    \n",
       "            var marker_7e1ed2392e1c2ab72da71d460c9f1d91 = L.marker(\n",
       "                [35.864445, 139.986511],\n",
       "                {}\n",
       "            ).addTo(marker_cluster_7e4488800c5083233b76b343f19de97d);\n",
       "        \n",
       "    \n",
       "            marker_7e1ed2392e1c2ab72da71d460c9f1d91.bindTooltip(\n",
       "                `&lt;div&gt;\n",
       "                     10歳代\n",
       "                 &lt;/div&gt;`,\n",
       "                {&quot;sticky&quot;: true}\n",
       "            );\n",
       "        \n",
       "    \n",
       "            var marker_c2ea6de8ba36b70463cbf52b9471a132 = L.marker(\n",
       "                [35.864445, 139.986511],\n",
       "                {}\n",
       "            ).addTo(marker_cluster_7e4488800c5083233b76b343f19de97d);\n",
       "        \n",
       "    \n",
       "            marker_c2ea6de8ba36b70463cbf52b9471a132.bindTooltip(\n",
       "                `&lt;div&gt;\n",
       "                     20歳代\n",
       "                 &lt;/div&gt;`,\n",
       "                {&quot;sticky&quot;: true}\n",
       "            );\n",
       "        \n",
       "    \n",
       "            var marker_e44fc47fc03e96c2b0e148bfd3864c13 = L.marker(\n",
       "                [35.861809, 139.97142],\n",
       "                {}\n",
       "            ).addTo(marker_cluster_7e4488800c5083233b76b343f19de97d);\n",
       "        \n",
       "    \n",
       "            marker_e44fc47fc03e96c2b0e148bfd3864c13.bindTooltip(\n",
       "                `&lt;div&gt;\n",
       "                     40歳代\n",
       "                 &lt;/div&gt;`,\n",
       "                {&quot;sticky&quot;: true}\n",
       "            );\n",
       "        \n",
       "    \n",
       "            var marker_78a0d1fdf1313da8dc82bdfc36a92724 = L.marker(\n",
       "                [35.861809, 139.97142],\n",
       "                {}\n",
       "            ).addTo(marker_cluster_7e4488800c5083233b76b343f19de97d);\n",
       "        \n",
       "    \n",
       "            marker_78a0d1fdf1313da8dc82bdfc36a92724.bindTooltip(\n",
       "                `&lt;div&gt;\n",
       "                     30歳代\n",
       "                 &lt;/div&gt;`,\n",
       "                {&quot;sticky&quot;: true}\n",
       "            );\n",
       "        \n",
       "    \n",
       "            var marker_40d89344c007dd20d702cbf9ea598c69 = L.marker(\n",
       "                [35.861809, 139.97142],\n",
       "                {}\n",
       "            ).addTo(marker_cluster_7e4488800c5083233b76b343f19de97d);\n",
       "        \n",
       "    \n",
       "            marker_40d89344c007dd20d702cbf9ea598c69.bindTooltip(\n",
       "                `&lt;div&gt;\n",
       "                     20歳代\n",
       "                 &lt;/div&gt;`,\n",
       "                {&quot;sticky&quot;: true}\n",
       "            );\n",
       "        \n",
       "    \n",
       "            var marker_80b3c9344c831a60dd6b73097d86166a = L.marker(\n",
       "                [35.861809, 139.97142],\n",
       "                {}\n",
       "            ).addTo(marker_cluster_7e4488800c5083233b76b343f19de97d);\n",
       "        \n",
       "    \n",
       "            marker_80b3c9344c831a60dd6b73097d86166a.bindTooltip(\n",
       "                `&lt;div&gt;\n",
       "                     30歳代\n",
       "                 &lt;/div&gt;`,\n",
       "                {&quot;sticky&quot;: true}\n",
       "            );\n",
       "        \n",
       "    \n",
       "            var marker_37db7c3148b429e126a8b9303a8562c1 = L.marker(\n",
       "                [35.861809, 139.97142],\n",
       "                {}\n",
       "            ).addTo(marker_cluster_7e4488800c5083233b76b343f19de97d);\n",
       "        \n",
       "    \n",
       "            marker_37db7c3148b429e126a8b9303a8562c1.bindTooltip(\n",
       "                `&lt;div&gt;\n",
       "                     40歳代\n",
       "                 &lt;/div&gt;`,\n",
       "                {&quot;sticky&quot;: true}\n",
       "            );\n",
       "        \n",
       "    \n",
       "            var marker_d337a9a3e57e0aa35c34e0d19996680d = L.marker(\n",
       "                [35.861809, 139.97142],\n",
       "                {}\n",
       "            ).addTo(marker_cluster_7e4488800c5083233b76b343f19de97d);\n",
       "        \n",
       "    \n",
       "            marker_d337a9a3e57e0aa35c34e0d19996680d.bindTooltip(\n",
       "                `&lt;div&gt;\n",
       "                     60-64歳\n",
       "                 &lt;/div&gt;`,\n",
       "                {&quot;sticky&quot;: true}\n",
       "            );\n",
       "        \n",
       "    \n",
       "            var marker_de041378fc7ceac0268d78ee7068e327 = L.marker(\n",
       "                [35.861809, 139.97142],\n",
       "                {}\n",
       "            ).addTo(marker_cluster_7e4488800c5083233b76b343f19de97d);\n",
       "        \n",
       "    \n",
       "            marker_de041378fc7ceac0268d78ee7068e327.bindTooltip(\n",
       "                `&lt;div&gt;\n",
       "                     10歳代\n",
       "                 &lt;/div&gt;`,\n",
       "                {&quot;sticky&quot;: true}\n",
       "            );\n",
       "        \n",
       "    \n",
       "            var marker_15b59300392e234b940895a65a25b995 = L.marker(\n",
       "                [35.861809, 139.97142],\n",
       "                {}\n",
       "            ).addTo(marker_cluster_7e4488800c5083233b76b343f19de97d);\n",
       "        \n",
       "    \n",
       "            marker_15b59300392e234b940895a65a25b995.bindTooltip(\n",
       "                `&lt;div&gt;\n",
       "                     20歳代\n",
       "                 &lt;/div&gt;`,\n",
       "                {&quot;sticky&quot;: true}\n",
       "            );\n",
       "        \n",
       "    \n",
       "            var marker_d784a71c9879c2d354d6ca3874293729 = L.marker(\n",
       "                [35.861809, 139.97142],\n",
       "                {}\n",
       "            ).addTo(marker_cluster_7e4488800c5083233b76b343f19de97d);\n",
       "        \n",
       "    \n",
       "            marker_d784a71c9879c2d354d6ca3874293729.bindTooltip(\n",
       "                `&lt;div&gt;\n",
       "                     20歳代\n",
       "                 &lt;/div&gt;`,\n",
       "                {&quot;sticky&quot;: true}\n",
       "            );\n",
       "        \n",
       "    \n",
       "            var marker_f181198d6a5e75a8f495ae2076dc121d = L.marker(\n",
       "                [35.861809, 139.97142],\n",
       "                {}\n",
       "            ).addTo(marker_cluster_7e4488800c5083233b76b343f19de97d);\n",
       "        \n",
       "    \n",
       "            marker_f181198d6a5e75a8f495ae2076dc121d.bindTooltip(\n",
       "                `&lt;div&gt;\n",
       "                     30歳代\n",
       "                 &lt;/div&gt;`,\n",
       "                {&quot;sticky&quot;: true}\n",
       "            );\n",
       "        \n",
       "    \n",
       "            var marker_adbde8468d4d1733fa29daab224cf560 = L.marker(\n",
       "                [35.861809, 139.97142],\n",
       "                {}\n",
       "            ).addTo(marker_cluster_7e4488800c5083233b76b343f19de97d);\n",
       "        \n",
       "    \n",
       "            marker_adbde8468d4d1733fa29daab224cf560.bindTooltip(\n",
       "                `&lt;div&gt;\n",
       "                     20歳代\n",
       "                 &lt;/div&gt;`,\n",
       "                {&quot;sticky&quot;: true}\n",
       "            );\n",
       "        \n",
       "    \n",
       "            var marker_3c9e806a9285dcbd55d3f9753ca41bf2 = L.marker(\n",
       "                [35.861809, 139.97142],\n",
       "                {}\n",
       "            ).addTo(marker_cluster_7e4488800c5083233b76b343f19de97d);\n",
       "        \n",
       "    \n",
       "            marker_3c9e806a9285dcbd55d3f9753ca41bf2.bindTooltip(\n",
       "                `&lt;div&gt;\n",
       "                     70歳以上\n",
       "                 &lt;/div&gt;`,\n",
       "                {&quot;sticky&quot;: true}\n",
       "            );\n",
       "        \n",
       "    \n",
       "            var marker_f9aa46fd0acb98686d5c39ec09cba065 = L.marker(\n",
       "                [35.861694, 139.973999],\n",
       "                {}\n",
       "            ).addTo(marker_cluster_7e4488800c5083233b76b343f19de97d);\n",
       "        \n",
       "    \n",
       "            marker_f9aa46fd0acb98686d5c39ec09cba065.bindTooltip(\n",
       "                `&lt;div&gt;\n",
       "                     70歳以上\n",
       "                 &lt;/div&gt;`,\n",
       "                {&quot;sticky&quot;: true}\n",
       "            );\n",
       "        \n",
       "    \n",
       "            var marker_c2154ce143171b16adb75c7d2f0c5522 = L.marker(\n",
       "                [35.861694, 139.973999],\n",
       "                {}\n",
       "            ).addTo(marker_cluster_7e4488800c5083233b76b343f19de97d);\n",
       "        \n",
       "    \n",
       "            marker_c2154ce143171b16adb75c7d2f0c5522.bindTooltip(\n",
       "                `&lt;div&gt;\n",
       "                     20歳代\n",
       "                 &lt;/div&gt;`,\n",
       "                {&quot;sticky&quot;: true}\n",
       "            );\n",
       "        \n",
       "    \n",
       "            var marker_00c61b9d1b0f18ea1663bd9799ee466d = L.marker(\n",
       "                [35.861694, 139.973999],\n",
       "                {}\n",
       "            ).addTo(marker_cluster_7e4488800c5083233b76b343f19de97d);\n",
       "        \n",
       "    \n",
       "            marker_00c61b9d1b0f18ea1663bd9799ee466d.bindTooltip(\n",
       "                `&lt;div&gt;\n",
       "                     20歳代\n",
       "                 &lt;/div&gt;`,\n",
       "                {&quot;sticky&quot;: true}\n",
       "            );\n",
       "        \n",
       "    \n",
       "            var marker_8f45af268155b08aa8b78e04a4bfcc98 = L.marker(\n",
       "                [35.861694, 139.973999],\n",
       "                {}\n",
       "            ).addTo(marker_cluster_7e4488800c5083233b76b343f19de97d);\n",
       "        \n",
       "    \n",
       "            marker_8f45af268155b08aa8b78e04a4bfcc98.bindTooltip(\n",
       "                `&lt;div&gt;\n",
       "                     30歳代\n",
       "                 &lt;/div&gt;`,\n",
       "                {&quot;sticky&quot;: true}\n",
       "            );\n",
       "        \n",
       "    \n",
       "            var marker_62248656b22910ca532354bf01bfe871 = L.marker(\n",
       "                [35.861694, 139.973999],\n",
       "                {}\n",
       "            ).addTo(marker_cluster_7e4488800c5083233b76b343f19de97d);\n",
       "        \n",
       "    \n",
       "            marker_62248656b22910ca532354bf01bfe871.bindTooltip(\n",
       "                `&lt;div&gt;\n",
       "                     30歳代\n",
       "                 &lt;/div&gt;`,\n",
       "                {&quot;sticky&quot;: true}\n",
       "            );\n",
       "        \n",
       "    \n",
       "            var marker_d5ca283a828342ab5f4787e0e8b77d12 = L.marker(\n",
       "                [35.861694, 139.973999],\n",
       "                {}\n",
       "            ).addTo(marker_cluster_7e4488800c5083233b76b343f19de97d);\n",
       "        \n",
       "    \n",
       "            marker_d5ca283a828342ab5f4787e0e8b77d12.bindTooltip(\n",
       "                `&lt;div&gt;\n",
       "                     20歳代\n",
       "                 &lt;/div&gt;`,\n",
       "                {&quot;sticky&quot;: true}\n",
       "            );\n",
       "        \n",
       "    \n",
       "            var marker_4901fd6fe0679e0df7837d69555fa3cb = L.marker(\n",
       "                [35.860302, 139.975159],\n",
       "                {}\n",
       "            ).addTo(marker_cluster_7e4488800c5083233b76b343f19de97d);\n",
       "        \n",
       "    \n",
       "            marker_4901fd6fe0679e0df7837d69555fa3cb.bindTooltip(\n",
       "                `&lt;div&gt;\n",
       "                     70歳以上\n",
       "                 &lt;/div&gt;`,\n",
       "                {&quot;sticky&quot;: true}\n",
       "            );\n",
       "        \n",
       "    \n",
       "            var marker_c71ccbe4c7e9d8e536b49e8ced9e6f00 = L.marker(\n",
       "                [35.860302, 139.975159],\n",
       "                {}\n",
       "            ).addTo(marker_cluster_7e4488800c5083233b76b343f19de97d);\n",
       "        \n",
       "    \n",
       "            marker_c71ccbe4c7e9d8e536b49e8ced9e6f00.bindTooltip(\n",
       "                `&lt;div&gt;\n",
       "                     20歳代\n",
       "                 &lt;/div&gt;`,\n",
       "                {&quot;sticky&quot;: true}\n",
       "            );\n",
       "        \n",
       "    \n",
       "            var marker_f21363d693d03d2689a6451a0f49e029 = L.marker(\n",
       "                [35.860302, 139.975159],\n",
       "                {}\n",
       "            ).addTo(marker_cluster_7e4488800c5083233b76b343f19de97d);\n",
       "        \n",
       "    \n",
       "            marker_f21363d693d03d2689a6451a0f49e029.bindTooltip(\n",
       "                `&lt;div&gt;\n",
       "                     10歳代\n",
       "                 &lt;/div&gt;`,\n",
       "                {&quot;sticky&quot;: true}\n",
       "            );\n",
       "        \n",
       "    \n",
       "            var marker_ccb1685d62dead29272a70695cff0fd9 = L.marker(\n",
       "                [35.860302, 139.975159],\n",
       "                {}\n",
       "            ).addTo(marker_cluster_7e4488800c5083233b76b343f19de97d);\n",
       "        \n",
       "    \n",
       "            marker_ccb1685d62dead29272a70695cff0fd9.bindTooltip(\n",
       "                `&lt;div&gt;\n",
       "                     20歳代\n",
       "                 &lt;/div&gt;`,\n",
       "                {&quot;sticky&quot;: true}\n",
       "            );\n",
       "        \n",
       "    \n",
       "            var marker_ef175d80e4d66f54f687356c0ccfdde5 = L.marker(\n",
       "                [35.860302, 139.975159],\n",
       "                {}\n",
       "            ).addTo(marker_cluster_7e4488800c5083233b76b343f19de97d);\n",
       "        \n",
       "    \n",
       "            marker_ef175d80e4d66f54f687356c0ccfdde5.bindTooltip(\n",
       "                `&lt;div&gt;\n",
       "                     30歳代\n",
       "                 &lt;/div&gt;`,\n",
       "                {&quot;sticky&quot;: true}\n",
       "            );\n",
       "        \n",
       "    \n",
       "            var marker_c6a69a209c82c1db2c5f0cfbc3070431 = L.marker(\n",
       "                [35.860302, 139.975159],\n",
       "                {}\n",
       "            ).addTo(marker_cluster_7e4488800c5083233b76b343f19de97d);\n",
       "        \n",
       "    \n",
       "            marker_c6a69a209c82c1db2c5f0cfbc3070431.bindTooltip(\n",
       "                `&lt;div&gt;\n",
       "                     20歳代\n",
       "                 &lt;/div&gt;`,\n",
       "                {&quot;sticky&quot;: true}\n",
       "            );\n",
       "        \n",
       "    \n",
       "            var marker_3ad23e8d9c49ca976fc04f2bb160f34f = L.marker(\n",
       "                [35.860302, 139.975159],\n",
       "                {}\n",
       "            ).addTo(marker_cluster_7e4488800c5083233b76b343f19de97d);\n",
       "        \n",
       "    \n",
       "            marker_3ad23e8d9c49ca976fc04f2bb160f34f.bindTooltip(\n",
       "                `&lt;div&gt;\n",
       "                     20歳代\n",
       "                 &lt;/div&gt;`,\n",
       "                {&quot;sticky&quot;: true}\n",
       "            );\n",
       "        \n",
       "    \n",
       "            var marker_bbd5e058a7b2865f85965defd85c3ef2 = L.marker(\n",
       "                [35.860302, 139.975159],\n",
       "                {}\n",
       "            ).addTo(marker_cluster_7e4488800c5083233b76b343f19de97d);\n",
       "        \n",
       "    \n",
       "            marker_bbd5e058a7b2865f85965defd85c3ef2.bindTooltip(\n",
       "                `&lt;div&gt;\n",
       "                     60-64歳\n",
       "                 &lt;/div&gt;`,\n",
       "                {&quot;sticky&quot;: true}\n",
       "            );\n",
       "        \n",
       "    \n",
       "            var marker_6731ed757d57236a2b249f4e757cc575 = L.marker(\n",
       "                [35.863529, 139.974228],\n",
       "                {}\n",
       "            ).addTo(marker_cluster_7e4488800c5083233b76b343f19de97d);\n",
       "        \n",
       "    \n",
       "            marker_6731ed757d57236a2b249f4e757cc575.bindTooltip(\n",
       "                `&lt;div&gt;\n",
       "                     20歳代\n",
       "                 &lt;/div&gt;`,\n",
       "                {&quot;sticky&quot;: true}\n",
       "            );\n",
       "        \n",
       "    \n",
       "            var marker_ca4aa4cc2c4556c3df8aa5f419022421 = L.marker(\n",
       "                [35.863529, 139.974228],\n",
       "                {}\n",
       "            ).addTo(marker_cluster_7e4488800c5083233b76b343f19de97d);\n",
       "        \n",
       "    \n",
       "            marker_ca4aa4cc2c4556c3df8aa5f419022421.bindTooltip(\n",
       "                `&lt;div&gt;\n",
       "                     10歳代\n",
       "                 &lt;/div&gt;`,\n",
       "                {&quot;sticky&quot;: true}\n",
       "            );\n",
       "        \n",
       "    \n",
       "            var marker_4e9f259792cc40afb475626038062fad = L.marker(\n",
       "                [35.863529, 139.974228],\n",
       "                {}\n",
       "            ).addTo(marker_cluster_7e4488800c5083233b76b343f19de97d);\n",
       "        \n",
       "    \n",
       "            marker_4e9f259792cc40afb475626038062fad.bindTooltip(\n",
       "                `&lt;div&gt;\n",
       "                     10歳代\n",
       "                 &lt;/div&gt;`,\n",
       "                {&quot;sticky&quot;: true}\n",
       "            );\n",
       "        \n",
       "    \n",
       "            var marker_4a1cdbfbe627172089057be80359e578 = L.marker(\n",
       "                [35.863529, 139.974228],\n",
       "                {}\n",
       "            ).addTo(marker_cluster_7e4488800c5083233b76b343f19de97d);\n",
       "        \n",
       "    \n",
       "            marker_4a1cdbfbe627172089057be80359e578.bindTooltip(\n",
       "                `&lt;div&gt;\n",
       "                     50歳代\n",
       "                 &lt;/div&gt;`,\n",
       "                {&quot;sticky&quot;: true}\n",
       "            );\n",
       "        \n",
       "    \n",
       "            var marker_ebb30984c430ce3cb23245f99da26c8f = L.marker(\n",
       "                [35.863529, 139.974228],\n",
       "                {}\n",
       "            ).addTo(marker_cluster_7e4488800c5083233b76b343f19de97d);\n",
       "        \n",
       "    \n",
       "            marker_ebb30984c430ce3cb23245f99da26c8f.bindTooltip(\n",
       "                `&lt;div&gt;\n",
       "                     10歳代\n",
       "                 &lt;/div&gt;`,\n",
       "                {&quot;sticky&quot;: true}\n",
       "            );\n",
       "        \n",
       "    \n",
       "            var marker_9a662570a973e7d48562be7a0e83ca78 = L.marker(\n",
       "                [35.866447, 139.97612],\n",
       "                {}\n",
       "            ).addTo(marker_cluster_7e4488800c5083233b76b343f19de97d);\n",
       "        \n",
       "    \n",
       "            marker_9a662570a973e7d48562be7a0e83ca78.bindTooltip(\n",
       "                `&lt;div&gt;\n",
       "                     10歳代\n",
       "                 &lt;/div&gt;`,\n",
       "                {&quot;sticky&quot;: true}\n",
       "            );\n",
       "        \n",
       "    \n",
       "            var marker_485951b92b9b765216a8f56848045bf0 = L.marker(\n",
       "                [35.866447, 139.97612],\n",
       "                {}\n",
       "            ).addTo(marker_cluster_7e4488800c5083233b76b343f19de97d);\n",
       "        \n",
       "    \n",
       "            marker_485951b92b9b765216a8f56848045bf0.bindTooltip(\n",
       "                `&lt;div&gt;\n",
       "                     10歳代\n",
       "                 &lt;/div&gt;`,\n",
       "                {&quot;sticky&quot;: true}\n",
       "            );\n",
       "        \n",
       "    \n",
       "            var marker_2c40545824e1a118bef81e77a2f6257f = L.marker(\n",
       "                [35.866447, 139.97612],\n",
       "                {}\n",
       "            ).addTo(marker_cluster_7e4488800c5083233b76b343f19de97d);\n",
       "        \n",
       "    \n",
       "            marker_2c40545824e1a118bef81e77a2f6257f.bindTooltip(\n",
       "                `&lt;div&gt;\n",
       "                     10歳代\n",
       "                 &lt;/div&gt;`,\n",
       "                {&quot;sticky&quot;: true}\n",
       "            );\n",
       "        \n",
       "    \n",
       "            var marker_1d15f0e5c2af6ec1aa7008949c205249 = L.marker(\n",
       "                [35.866447, 139.97612],\n",
       "                {}\n",
       "            ).addTo(marker_cluster_7e4488800c5083233b76b343f19de97d);\n",
       "        \n",
       "    \n",
       "            marker_1d15f0e5c2af6ec1aa7008949c205249.bindTooltip(\n",
       "                `&lt;div&gt;\n",
       "                     10歳代\n",
       "                 &lt;/div&gt;`,\n",
       "                {&quot;sticky&quot;: true}\n",
       "            );\n",
       "        \n",
       "    \n",
       "            var marker_640f8fc6ce0af558e2f1f51c2a724b61 = L.marker(\n",
       "                [35.866447, 139.97612],\n",
       "                {}\n",
       "            ).addTo(marker_cluster_7e4488800c5083233b76b343f19de97d);\n",
       "        \n",
       "    \n",
       "            marker_640f8fc6ce0af558e2f1f51c2a724b61.bindTooltip(\n",
       "                `&lt;div&gt;\n",
       "                     20歳代\n",
       "                 &lt;/div&gt;`,\n",
       "                {&quot;sticky&quot;: true}\n",
       "            );\n",
       "        \n",
       "    \n",
       "            var marker_00ce9f24d5aa2ea6db7904b3e744d35f = L.marker(\n",
       "                [35.866447, 139.97612],\n",
       "                {}\n",
       "            ).addTo(marker_cluster_7e4488800c5083233b76b343f19de97d);\n",
       "        \n",
       "    \n",
       "            marker_00ce9f24d5aa2ea6db7904b3e744d35f.bindTooltip(\n",
       "                `&lt;div&gt;\n",
       "                     20歳代\n",
       "                 &lt;/div&gt;`,\n",
       "                {&quot;sticky&quot;: true}\n",
       "            );\n",
       "        \n",
       "    \n",
       "            var marker_d4e19278b8e49b752159f55c7669ecac = L.marker(\n",
       "                [35.866447, 139.97612],\n",
       "                {}\n",
       "            ).addTo(marker_cluster_7e4488800c5083233b76b343f19de97d);\n",
       "        \n",
       "    \n",
       "            marker_d4e19278b8e49b752159f55c7669ecac.bindTooltip(\n",
       "                `&lt;div&gt;\n",
       "                     20歳代\n",
       "                 &lt;/div&gt;`,\n",
       "                {&quot;sticky&quot;: true}\n",
       "            );\n",
       "        \n",
       "    \n",
       "            var marker_21b6ad316c2d1be79c0584f59815e620 = L.marker(\n",
       "                [35.866447, 139.97612],\n",
       "                {}\n",
       "            ).addTo(marker_cluster_7e4488800c5083233b76b343f19de97d);\n",
       "        \n",
       "    \n",
       "            marker_21b6ad316c2d1be79c0584f59815e620.bindTooltip(\n",
       "                `&lt;div&gt;\n",
       "                     10歳代\n",
       "                 &lt;/div&gt;`,\n",
       "                {&quot;sticky&quot;: true}\n",
       "            );\n",
       "        \n",
       "    \n",
       "            var marker_39b1d475380fc3e71d91f682631b0757 = L.marker(\n",
       "                [35.866447, 139.97612],\n",
       "                {}\n",
       "            ).addTo(marker_cluster_7e4488800c5083233b76b343f19de97d);\n",
       "        \n",
       "    \n",
       "            marker_39b1d475380fc3e71d91f682631b0757.bindTooltip(\n",
       "                `&lt;div&gt;\n",
       "                     20歳代\n",
       "                 &lt;/div&gt;`,\n",
       "                {&quot;sticky&quot;: true}\n",
       "            );\n",
       "        \n",
       "    \n",
       "            var marker_bc96c9657ce73899eff981a7c2111d29 = L.marker(\n",
       "                [35.866447, 139.97612],\n",
       "                {}\n",
       "            ).addTo(marker_cluster_7e4488800c5083233b76b343f19de97d);\n",
       "        \n",
       "    \n",
       "            marker_bc96c9657ce73899eff981a7c2111d29.bindTooltip(\n",
       "                `&lt;div&gt;\n",
       "                     10歳代\n",
       "                 &lt;/div&gt;`,\n",
       "                {&quot;sticky&quot;: true}\n",
       "            );\n",
       "        \n",
       "    \n",
       "            var marker_98c9bb8dd91c484db5c70acc16bfd7c3 = L.marker(\n",
       "                [35.864346, 139.977219],\n",
       "                {}\n",
       "            ).addTo(marker_cluster_7e4488800c5083233b76b343f19de97d);\n",
       "        \n",
       "    \n",
       "            marker_98c9bb8dd91c484db5c70acc16bfd7c3.bindTooltip(\n",
       "                `&lt;div&gt;\n",
       "                     40歳代\n",
       "                 &lt;/div&gt;`,\n",
       "                {&quot;sticky&quot;: true}\n",
       "            );\n",
       "        \n",
       "    \n",
       "            var marker_33f758bd4867d919c6c696a69ede7fe9 = L.marker(\n",
       "                [35.864346, 139.977219],\n",
       "                {}\n",
       "            ).addTo(marker_cluster_7e4488800c5083233b76b343f19de97d);\n",
       "        \n",
       "    \n",
       "            marker_33f758bd4867d919c6c696a69ede7fe9.bindTooltip(\n",
       "                `&lt;div&gt;\n",
       "                     20歳代\n",
       "                 &lt;/div&gt;`,\n",
       "                {&quot;sticky&quot;: true}\n",
       "            );\n",
       "        \n",
       "    \n",
       "            var marker_9d1d043ae5c538f6e3d6a1c5c0231ed0 = L.marker(\n",
       "                [35.864346, 139.977219],\n",
       "                {}\n",
       "            ).addTo(marker_cluster_7e4488800c5083233b76b343f19de97d);\n",
       "        \n",
       "    \n",
       "            marker_9d1d043ae5c538f6e3d6a1c5c0231ed0.bindTooltip(\n",
       "                `&lt;div&gt;\n",
       "                     40歳代\n",
       "                 &lt;/div&gt;`,\n",
       "                {&quot;sticky&quot;: true}\n",
       "            );\n",
       "        \n",
       "    \n",
       "            var marker_fc7af9b7cbd9176a6852301ac425a875 = L.marker(\n",
       "                [35.864346, 139.977219],\n",
       "                {}\n",
       "            ).addTo(marker_cluster_7e4488800c5083233b76b343f19de97d);\n",
       "        \n",
       "    \n",
       "            marker_fc7af9b7cbd9176a6852301ac425a875.bindTooltip(\n",
       "                `&lt;div&gt;\n",
       "                     30歳代\n",
       "                 &lt;/div&gt;`,\n",
       "                {&quot;sticky&quot;: true}\n",
       "            );\n",
       "        \n",
       "    \n",
       "            var marker_725407d8b3373e00340093d291842c65 = L.marker(\n",
       "                [35.862926, 139.97995],\n",
       "                {}\n",
       "            ).addTo(marker_cluster_7e4488800c5083233b76b343f19de97d);\n",
       "        \n",
       "    \n",
       "            marker_725407d8b3373e00340093d291842c65.bindTooltip(\n",
       "                `&lt;div&gt;\n",
       "                     20歳代\n",
       "                 &lt;/div&gt;`,\n",
       "                {&quot;sticky&quot;: true}\n",
       "            );\n",
       "        \n",
       "    \n",
       "            var marker_83d736104b9916a3cea2e4f7db9b9539 = L.marker(\n",
       "                [35.860554, 139.981522],\n",
       "                {}\n",
       "            ).addTo(marker_cluster_7e4488800c5083233b76b343f19de97d);\n",
       "        \n",
       "    \n",
       "            marker_83d736104b9916a3cea2e4f7db9b9539.bindTooltip(\n",
       "                `&lt;div&gt;\n",
       "                     20歳代\n",
       "                 &lt;/div&gt;`,\n",
       "                {&quot;sticky&quot;: true}\n",
       "            );\n",
       "        \n",
       "    \n",
       "            var marker_1cc6f0123a0d1c68c641a41121fe26cf = L.marker(\n",
       "                [35.860554, 139.981522],\n",
       "                {}\n",
       "            ).addTo(marker_cluster_7e4488800c5083233b76b343f19de97d);\n",
       "        \n",
       "    \n",
       "            marker_1cc6f0123a0d1c68c641a41121fe26cf.bindTooltip(\n",
       "                `&lt;div&gt;\n",
       "                     30歳代\n",
       "                 &lt;/div&gt;`,\n",
       "                {&quot;sticky&quot;: true}\n",
       "            );\n",
       "        \n",
       "    \n",
       "            var marker_35929bfa6e7f7998f93c315d8282089f = L.marker(\n",
       "                [35.862904, 139.970398],\n",
       "                {}\n",
       "            ).addTo(marker_cluster_7e4488800c5083233b76b343f19de97d);\n",
       "        \n",
       "    \n",
       "            marker_35929bfa6e7f7998f93c315d8282089f.bindTooltip(\n",
       "                `&lt;div&gt;\n",
       "                     20歳代\n",
       "                 &lt;/div&gt;`,\n",
       "                {&quot;sticky&quot;: true}\n",
       "            );\n",
       "        \n",
       "    \n",
       "            var marker_3e32a008436cf45566ec832eec58a9af = L.marker(\n",
       "                [35.857903, 139.972931],\n",
       "                {}\n",
       "            ).addTo(marker_cluster_7e4488800c5083233b76b343f19de97d);\n",
       "        \n",
       "    \n",
       "            marker_3e32a008436cf45566ec832eec58a9af.bindTooltip(\n",
       "                `&lt;div&gt;\n",
       "                     10歳代\n",
       "                 &lt;/div&gt;`,\n",
       "                {&quot;sticky&quot;: true}\n",
       "            );\n",
       "        \n",
       "    \n",
       "            var marker_369c75a352fb01552fbaf28aa4277bea = L.marker(\n",
       "                [35.855583, 139.972137],\n",
       "                {}\n",
       "            ).addTo(marker_cluster_7e4488800c5083233b76b343f19de97d);\n",
       "        \n",
       "    \n",
       "            marker_369c75a352fb01552fbaf28aa4277bea.bindTooltip(\n",
       "                `&lt;div&gt;\n",
       "                     20歳代\n",
       "                 &lt;/div&gt;`,\n",
       "                {&quot;sticky&quot;: true}\n",
       "            );\n",
       "        \n",
       "    \n",
       "            var marker_b86758ad4248866607deec5644518cbb = L.marker(\n",
       "                [35.855583, 139.972137],\n",
       "                {}\n",
       "            ).addTo(marker_cluster_7e4488800c5083233b76b343f19de97d);\n",
       "        \n",
       "    \n",
       "            marker_b86758ad4248866607deec5644518cbb.bindTooltip(\n",
       "                `&lt;div&gt;\n",
       "                     10歳代\n",
       "                 &lt;/div&gt;`,\n",
       "                {&quot;sticky&quot;: true}\n",
       "            );\n",
       "        \n",
       "    \n",
       "            var marker_19d3df987fbc44f83e5313058aad2f58 = L.marker(\n",
       "                [35.855583, 139.972137],\n",
       "                {}\n",
       "            ).addTo(marker_cluster_7e4488800c5083233b76b343f19de97d);\n",
       "        \n",
       "    \n",
       "            marker_19d3df987fbc44f83e5313058aad2f58.bindTooltip(\n",
       "                `&lt;div&gt;\n",
       "                     20歳代\n",
       "                 &lt;/div&gt;`,\n",
       "                {&quot;sticky&quot;: true}\n",
       "            );\n",
       "        \n",
       "    \n",
       "            var marker_9e9d5d3a691d577df0eafd5f153fb8f8 = L.marker(\n",
       "                [35.855583, 139.972137],\n",
       "                {}\n",
       "            ).addTo(marker_cluster_7e4488800c5083233b76b343f19de97d);\n",
       "        \n",
       "    \n",
       "            marker_9e9d5d3a691d577df0eafd5f153fb8f8.bindTooltip(\n",
       "                `&lt;div&gt;\n",
       "                     30歳代\n",
       "                 &lt;/div&gt;`,\n",
       "                {&quot;sticky&quot;: true}\n",
       "            );\n",
       "        \n",
       "    \n",
       "            var marker_388c800f2abf2e52170bd5a6a4d56a8d = L.marker(\n",
       "                [35.859303, 139.970566],\n",
       "                {}\n",
       "            ).addTo(marker_cluster_7e4488800c5083233b76b343f19de97d);\n",
       "        \n",
       "    \n",
       "            marker_388c800f2abf2e52170bd5a6a4d56a8d.bindTooltip(\n",
       "                `&lt;div&gt;\n",
       "                     60-64歳\n",
       "                 &lt;/div&gt;`,\n",
       "                {&quot;sticky&quot;: true}\n",
       "            );\n",
       "        \n",
       "    \n",
       "            var marker_17e4b82131842f9354463dbd47d561c8 = L.marker(\n",
       "                [35.859303, 139.970566],\n",
       "                {}\n",
       "            ).addTo(marker_cluster_7e4488800c5083233b76b343f19de97d);\n",
       "        \n",
       "    \n",
       "            marker_17e4b82131842f9354463dbd47d561c8.bindTooltip(\n",
       "                `&lt;div&gt;\n",
       "                     30歳代\n",
       "                 &lt;/div&gt;`,\n",
       "                {&quot;sticky&quot;: true}\n",
       "            );\n",
       "        \n",
       "    \n",
       "            var marker_7bdd88776e3052838734bfdcae115482 = L.marker(\n",
       "                [35.859303, 139.970566],\n",
       "                {}\n",
       "            ).addTo(marker_cluster_7e4488800c5083233b76b343f19de97d);\n",
       "        \n",
       "    \n",
       "            marker_7bdd88776e3052838734bfdcae115482.bindTooltip(\n",
       "                `&lt;div&gt;\n",
       "                     20歳代\n",
       "                 &lt;/div&gt;`,\n",
       "                {&quot;sticky&quot;: true}\n",
       "            );\n",
       "        \n",
       "    \n",
       "            var marker_67e076bdf3fdbfdf43b8a79601ef9b37 = L.marker(\n",
       "                [35.859303, 139.970566],\n",
       "                {}\n",
       "            ).addTo(marker_cluster_7e4488800c5083233b76b343f19de97d);\n",
       "        \n",
       "    \n",
       "            marker_67e076bdf3fdbfdf43b8a79601ef9b37.bindTooltip(\n",
       "                `&lt;div&gt;\n",
       "                     50歳代\n",
       "                 &lt;/div&gt;`,\n",
       "                {&quot;sticky&quot;: true}\n",
       "            );\n",
       "        \n",
       "    \n",
       "            var marker_65eec965368d221a3945cc7da2a0840a = L.marker(\n",
       "                [35.859303, 139.970566],\n",
       "                {}\n",
       "            ).addTo(marker_cluster_7e4488800c5083233b76b343f19de97d);\n",
       "        \n",
       "    \n",
       "            marker_65eec965368d221a3945cc7da2a0840a.bindTooltip(\n",
       "                `&lt;div&gt;\n",
       "                     30歳代\n",
       "                 &lt;/div&gt;`,\n",
       "                {&quot;sticky&quot;: true}\n",
       "            );\n",
       "        \n",
       "    \n",
       "            var marker_eab8cdfaa7100e2651409ae775b4974b = L.marker(\n",
       "                [35.859303, 139.970566],\n",
       "                {}\n",
       "            ).addTo(marker_cluster_7e4488800c5083233b76b343f19de97d);\n",
       "        \n",
       "    \n",
       "            marker_eab8cdfaa7100e2651409ae775b4974b.bindTooltip(\n",
       "                `&lt;div&gt;\n",
       "                     10歳代\n",
       "                 &lt;/div&gt;`,\n",
       "                {&quot;sticky&quot;: true}\n",
       "            );\n",
       "        \n",
       "    \n",
       "            var marker_2d83780c4bc580650bad76fa787652b2 = L.marker(\n",
       "                [35.859303, 139.970566],\n",
       "                {}\n",
       "            ).addTo(marker_cluster_7e4488800c5083233b76b343f19de97d);\n",
       "        \n",
       "    \n",
       "            marker_2d83780c4bc580650bad76fa787652b2.bindTooltip(\n",
       "                `&lt;div&gt;\n",
       "                     30歳代\n",
       "                 &lt;/div&gt;`,\n",
       "                {&quot;sticky&quot;: true}\n",
       "            );\n",
       "        \n",
       "    \n",
       "            var marker_03fca4332f3c728ac5e5c0679ee7d03c = L.marker(\n",
       "                [35.859303, 139.970566],\n",
       "                {}\n",
       "            ).addTo(marker_cluster_7e4488800c5083233b76b343f19de97d);\n",
       "        \n",
       "    \n",
       "            marker_03fca4332f3c728ac5e5c0679ee7d03c.bindTooltip(\n",
       "                `&lt;div&gt;\n",
       "                     10歳代\n",
       "                 &lt;/div&gt;`,\n",
       "                {&quot;sticky&quot;: true}\n",
       "            );\n",
       "        \n",
       "    \n",
       "            var marker_dc781b5e98b2fb513aa4885ac806dcec = L.marker(\n",
       "                [35.859303, 139.970566],\n",
       "                {}\n",
       "            ).addTo(marker_cluster_7e4488800c5083233b76b343f19de97d);\n",
       "        \n",
       "    \n",
       "            marker_dc781b5e98b2fb513aa4885ac806dcec.bindTooltip(\n",
       "                `&lt;div&gt;\n",
       "                     30歳代\n",
       "                 &lt;/div&gt;`,\n",
       "                {&quot;sticky&quot;: true}\n",
       "            );\n",
       "        \n",
       "    \n",
       "            var marker_febaf7a4924e7d01ccb506e3616bd680 = L.marker(\n",
       "                [35.853264, 139.96521],\n",
       "                {}\n",
       "            ).addTo(marker_cluster_7e4488800c5083233b76b343f19de97d);\n",
       "        \n",
       "    \n",
       "            marker_febaf7a4924e7d01ccb506e3616bd680.bindTooltip(\n",
       "                `&lt;div&gt;\n",
       "                     40歳代\n",
       "                 &lt;/div&gt;`,\n",
       "                {&quot;sticky&quot;: true}\n",
       "            );\n",
       "        \n",
       "    \n",
       "            var marker_f3fa86986010dc230ab4f1c23433a9ca = L.marker(\n",
       "                [35.853264, 139.96521],\n",
       "                {}\n",
       "            ).addTo(marker_cluster_7e4488800c5083233b76b343f19de97d);\n",
       "        \n",
       "    \n",
       "            marker_f3fa86986010dc230ab4f1c23433a9ca.bindTooltip(\n",
       "                `&lt;div&gt;\n",
       "                     40歳代\n",
       "                 &lt;/div&gt;`,\n",
       "                {&quot;sticky&quot;: true}\n",
       "            );\n",
       "        \n",
       "    \n",
       "            var marker_de8cb617de237e5df07f54c361c86355 = L.marker(\n",
       "                [35.876255, 139.992081],\n",
       "                {}\n",
       "            ).addTo(marker_cluster_7e4488800c5083233b76b343f19de97d);\n",
       "        \n",
       "    \n",
       "            marker_de8cb617de237e5df07f54c361c86355.bindTooltip(\n",
       "                `&lt;div&gt;\n",
       "                     20歳代\n",
       "                 &lt;/div&gt;`,\n",
       "                {&quot;sticky&quot;: true}\n",
       "            );\n",
       "        \n",
       "    \n",
       "            var marker_d6039a142f0a43c4db10de0ffca34180 = L.marker(\n",
       "                [35.84705, 140.034134],\n",
       "                {}\n",
       "            ).addTo(marker_cluster_7e4488800c5083233b76b343f19de97d);\n",
       "        \n",
       "    \n",
       "            marker_d6039a142f0a43c4db10de0ffca34180.bindTooltip(\n",
       "                `&lt;div&gt;\n",
       "                     10歳代\n",
       "                 &lt;/div&gt;`,\n",
       "                {&quot;sticky&quot;: true}\n",
       "            );\n",
       "        \n",
       "    \n",
       "            var marker_e42930fc15ba2049c711e34c5abe501e = L.marker(\n",
       "                [35.858639, 139.983749],\n",
       "                {}\n",
       "            ).addTo(marker_cluster_7e4488800c5083233b76b343f19de97d);\n",
       "        \n",
       "    \n",
       "            marker_e42930fc15ba2049c711e34c5abe501e.bindTooltip(\n",
       "                `&lt;div&gt;\n",
       "                     20歳代\n",
       "                 &lt;/div&gt;`,\n",
       "                {&quot;sticky&quot;: true}\n",
       "            );\n",
       "        \n",
       "    \n",
       "            var marker_814b19bcdc46a4773331d46189bf63ac = L.marker(\n",
       "                [35.844578, 139.968948],\n",
       "                {}\n",
       "            ).addTo(marker_cluster_7e4488800c5083233b76b343f19de97d);\n",
       "        \n",
       "    \n",
       "            marker_814b19bcdc46a4773331d46189bf63ac.bindTooltip(\n",
       "                `&lt;div&gt;\n",
       "                     30歳代\n",
       "                 &lt;/div&gt;`,\n",
       "                {&quot;sticky&quot;: true}\n",
       "            );\n",
       "        \n",
       "    \n",
       "            var marker_fc013b317ab529ccabd67281cd1667a7 = L.marker(\n",
       "                [35.864445, 139.986511],\n",
       "                {}\n",
       "            ).addTo(marker_cluster_7e4488800c5083233b76b343f19de97d);\n",
       "        \n",
       "    \n",
       "            marker_fc013b317ab529ccabd67281cd1667a7.bindTooltip(\n",
       "                `&lt;div&gt;\n",
       "                     30歳代\n",
       "                 &lt;/div&gt;`,\n",
       "                {&quot;sticky&quot;: true}\n",
       "            );\n",
       "        \n",
       "    \n",
       "            var marker_897c31189a3454ae7fd035b8baf49b45 = L.marker(\n",
       "                [35.864445, 139.986511],\n",
       "                {}\n",
       "            ).addTo(marker_cluster_7e4488800c5083233b76b343f19de97d);\n",
       "        \n",
       "    \n",
       "            marker_897c31189a3454ae7fd035b8baf49b45.bindTooltip(\n",
       "                `&lt;div&gt;\n",
       "                     50歳代\n",
       "                 &lt;/div&gt;`,\n",
       "                {&quot;sticky&quot;: true}\n",
       "            );\n",
       "        \n",
       "    \n",
       "            var marker_8589204ab6e08463dae0db847ad4dad3 = L.marker(\n",
       "                [35.864445, 139.986511],\n",
       "                {}\n",
       "            ).addTo(marker_cluster_7e4488800c5083233b76b343f19de97d);\n",
       "        \n",
       "    \n",
       "            marker_8589204ab6e08463dae0db847ad4dad3.bindTooltip(\n",
       "                `&lt;div&gt;\n",
       "                     30歳代\n",
       "                 &lt;/div&gt;`,\n",
       "                {&quot;sticky&quot;: true}\n",
       "            );\n",
       "        \n",
       "    \n",
       "            var marker_ab48a6e2ec667a583c542663cbaaabb6 = L.marker(\n",
       "                [35.864445, 139.986511],\n",
       "                {}\n",
       "            ).addTo(marker_cluster_7e4488800c5083233b76b343f19de97d);\n",
       "        \n",
       "    \n",
       "            marker_ab48a6e2ec667a583c542663cbaaabb6.bindTooltip(\n",
       "                `&lt;div&gt;\n",
       "                     30歳代\n",
       "                 &lt;/div&gt;`,\n",
       "                {&quot;sticky&quot;: true}\n",
       "            );\n",
       "        \n",
       "    \n",
       "            var marker_27ff96489094364b1ad6f6d5b7b73e66 = L.marker(\n",
       "                [35.860302, 139.975159],\n",
       "                {}\n",
       "            ).addTo(marker_cluster_7e4488800c5083233b76b343f19de97d);\n",
       "        \n",
       "    \n",
       "            marker_27ff96489094364b1ad6f6d5b7b73e66.bindTooltip(\n",
       "                `&lt;div&gt;\n",
       "                     50歳代\n",
       "                 &lt;/div&gt;`,\n",
       "                {&quot;sticky&quot;: true}\n",
       "            );\n",
       "        \n",
       "    \n",
       "            var marker_f1b234c41c273581c5de0700ac0717d5 = L.marker(\n",
       "                [35.850071, 139.983734],\n",
       "                {}\n",
       "            ).addTo(marker_cluster_7e4488800c5083233b76b343f19de97d);\n",
       "        \n",
       "    \n",
       "            marker_f1b234c41c273581c5de0700ac0717d5.bindTooltip(\n",
       "                `&lt;div&gt;\n",
       "                     20歳代\n",
       "                 &lt;/div&gt;`,\n",
       "                {&quot;sticky&quot;: true}\n",
       "            );\n",
       "        \n",
       "    \n",
       "            var marker_03422fc54bbac5b4cd52bcc0e951b78a = L.marker(\n",
       "                [35.850071, 139.983734],\n",
       "                {}\n",
       "            ).addTo(marker_cluster_7e4488800c5083233b76b343f19de97d);\n",
       "        \n",
       "    \n",
       "            marker_03422fc54bbac5b4cd52bcc0e951b78a.bindTooltip(\n",
       "                `&lt;div&gt;\n",
       "                     20歳代\n",
       "                 &lt;/div&gt;`,\n",
       "                {&quot;sticky&quot;: true}\n",
       "            );\n",
       "        \n",
       "    \n",
       "            var marker_ce5aeb88e2b9560e38fbda504d2ff858 = L.marker(\n",
       "                [35.856525, 139.976288],\n",
       "                {}\n",
       "            ).addTo(marker_cluster_7e4488800c5083233b76b343f19de97d);\n",
       "        \n",
       "    \n",
       "            marker_ce5aeb88e2b9560e38fbda504d2ff858.bindTooltip(\n",
       "                `&lt;div&gt;\n",
       "                     20歳代\n",
       "                 &lt;/div&gt;`,\n",
       "                {&quot;sticky&quot;: true}\n",
       "            );\n",
       "        \n",
       "    \n",
       "            var marker_2ed830b94af1686617b91439ed103f8a = L.marker(\n",
       "                [35.853741, 139.975143],\n",
       "                {}\n",
       "            ).addTo(marker_cluster_7e4488800c5083233b76b343f19de97d);\n",
       "        \n",
       "    \n",
       "            marker_2ed830b94af1686617b91439ed103f8a.bindTooltip(\n",
       "                `&lt;div&gt;\n",
       "                     30歳代\n",
       "                 &lt;/div&gt;`,\n",
       "                {&quot;sticky&quot;: true}\n",
       "            );\n",
       "        \n",
       "    \n",
       "            var marker_98cbb0fa441fb969a8346257b0beeff5 = L.marker(\n",
       "                [35.853741, 139.975143],\n",
       "                {}\n",
       "            ).addTo(marker_cluster_7e4488800c5083233b76b343f19de97d);\n",
       "        \n",
       "    \n",
       "            marker_98cbb0fa441fb969a8346257b0beeff5.bindTooltip(\n",
       "                `&lt;div&gt;\n",
       "                     20歳代\n",
       "                 &lt;/div&gt;`,\n",
       "                {&quot;sticky&quot;: true}\n",
       "            );\n",
       "        \n",
       "    \n",
       "            var marker_7ad22a580dde6eb42093a18a123e6afe = L.marker(\n",
       "                [35.853741, 139.975143],\n",
       "                {}\n",
       "            ).addTo(marker_cluster_7e4488800c5083233b76b343f19de97d);\n",
       "        \n",
       "    \n",
       "            marker_7ad22a580dde6eb42093a18a123e6afe.bindTooltip(\n",
       "                `&lt;div&gt;\n",
       "                     10歳代\n",
       "                 &lt;/div&gt;`,\n",
       "                {&quot;sticky&quot;: true}\n",
       "            );\n",
       "        \n",
       "    \n",
       "            var marker_cf7dacb58c165c9ad041ad7c759ea8eb = L.marker(\n",
       "                [35.853451, 139.977646],\n",
       "                {}\n",
       "            ).addTo(marker_cluster_7e4488800c5083233b76b343f19de97d);\n",
       "        \n",
       "    \n",
       "            marker_cf7dacb58c165c9ad041ad7c759ea8eb.bindTooltip(\n",
       "                `&lt;div&gt;\n",
       "                     20歳代\n",
       "                 &lt;/div&gt;`,\n",
       "                {&quot;sticky&quot;: true}\n",
       "            );\n",
       "        \n",
       "    \n",
       "            var marker_6e6d0b837bd01fba97d4f8e64770e311 = L.marker(\n",
       "                [35.83136, 139.96756],\n",
       "                {}\n",
       "            ).addTo(marker_cluster_7e4488800c5083233b76b343f19de97d);\n",
       "        \n",
       "    \n",
       "            marker_6e6d0b837bd01fba97d4f8e64770e311.bindTooltip(\n",
       "                `&lt;div&gt;\n",
       "                     10歳代\n",
       "                 &lt;/div&gt;`,\n",
       "                {&quot;sticky&quot;: true}\n",
       "            );\n",
       "        \n",
       "    \n",
       "            var marker_cd6a2f511616d8f70feea5bbbcc4d34a = L.marker(\n",
       "                [35.856003, 139.993591],\n",
       "                {}\n",
       "            ).addTo(marker_cluster_7e4488800c5083233b76b343f19de97d);\n",
       "        \n",
       "    \n",
       "            marker_cd6a2f511616d8f70feea5bbbcc4d34a.bindTooltip(\n",
       "                `&lt;div&gt;\n",
       "                     10歳代\n",
       "                 &lt;/div&gt;`,\n",
       "                {&quot;sticky&quot;: true}\n",
       "            );\n",
       "        \n",
       "    \n",
       "            var marker_0af39f818dcaf24d37edc555a4914eef = L.marker(\n",
       "                [35.856003, 139.993591],\n",
       "                {}\n",
       "            ).addTo(marker_cluster_7e4488800c5083233b76b343f19de97d);\n",
       "        \n",
       "    \n",
       "            marker_0af39f818dcaf24d37edc555a4914eef.bindTooltip(\n",
       "                `&lt;div&gt;\n",
       "                     10歳代\n",
       "                 &lt;/div&gt;`,\n",
       "                {&quot;sticky&quot;: true}\n",
       "            );\n",
       "        \n",
       "    \n",
       "            var marker_53e3f68bd24e19e5072b9a06e5e48c08 = L.marker(\n",
       "                [35.856003, 139.993591],\n",
       "                {}\n",
       "            ).addTo(marker_cluster_7e4488800c5083233b76b343f19de97d);\n",
       "        \n",
       "    \n",
       "            marker_53e3f68bd24e19e5072b9a06e5e48c08.bindTooltip(\n",
       "                `&lt;div&gt;\n",
       "                     法人・団体、被害者なし\n",
       "                 &lt;/div&gt;`,\n",
       "                {&quot;sticky&quot;: true}\n",
       "            );\n",
       "        \n",
       "    \n",
       "            var marker_3d231d69e1e89227b7117887e2b59947 = L.marker(\n",
       "                [35.856003, 139.993591],\n",
       "                {}\n",
       "            ).addTo(marker_cluster_7e4488800c5083233b76b343f19de97d);\n",
       "        \n",
       "    \n",
       "            marker_3d231d69e1e89227b7117887e2b59947.bindTooltip(\n",
       "                `&lt;div&gt;\n",
       "                     40歳代\n",
       "                 &lt;/div&gt;`,\n",
       "                {&quot;sticky&quot;: true}\n",
       "            );\n",
       "        \n",
       "    \n",
       "            var marker_6735cbe467fdabeaa2e89579088816be = L.marker(\n",
       "                [35.891659, 139.953995],\n",
       "                {}\n",
       "            ).addTo(marker_cluster_7e4488800c5083233b76b343f19de97d);\n",
       "        \n",
       "    \n",
       "            marker_6735cbe467fdabeaa2e89579088816be.bindTooltip(\n",
       "                `&lt;div&gt;\n",
       "                     70歳以上\n",
       "                 &lt;/div&gt;`,\n",
       "                {&quot;sticky&quot;: true}\n",
       "            );\n",
       "        \n",
       "    \n",
       "            var marker_4aa55b77be51c314fc8de2988988d73e = L.marker(\n",
       "                [35.85392, 139.971054],\n",
       "                {}\n",
       "            ).addTo(marker_cluster_7e4488800c5083233b76b343f19de97d);\n",
       "        \n",
       "    \n",
       "            marker_4aa55b77be51c314fc8de2988988d73e.bindTooltip(\n",
       "                `&lt;div&gt;\n",
       "                     10歳代\n",
       "                 &lt;/div&gt;`,\n",
       "                {&quot;sticky&quot;: true}\n",
       "            );\n",
       "        \n",
       "    \n",
       "            var marker_1abc51a22c070cab47f64d0801a290c4 = L.marker(\n",
       "                [35.85392, 139.971054],\n",
       "                {}\n",
       "            ).addTo(marker_cluster_7e4488800c5083233b76b343f19de97d);\n",
       "        \n",
       "    \n",
       "            marker_1abc51a22c070cab47f64d0801a290c4.bindTooltip(\n",
       "                `&lt;div&gt;\n",
       "                     50歳代\n",
       "                 &lt;/div&gt;`,\n",
       "                {&quot;sticky&quot;: true}\n",
       "            );\n",
       "        \n",
       "    \n",
       "            var marker_247a9b17fa73fa9457a79f1d33ffc8b5 = L.marker(\n",
       "                [35.85392, 139.971054],\n",
       "                {}\n",
       "            ).addTo(marker_cluster_7e4488800c5083233b76b343f19de97d);\n",
       "        \n",
       "    \n",
       "            marker_247a9b17fa73fa9457a79f1d33ffc8b5.bindTooltip(\n",
       "                `&lt;div&gt;\n",
       "                     40歳代\n",
       "                 &lt;/div&gt;`,\n",
       "                {&quot;sticky&quot;: true}\n",
       "            );\n",
       "        \n",
       "    \n",
       "            var marker_e38fb2f112fd24765113fb01733dcacb = L.marker(\n",
       "                [35.85392, 139.971054],\n",
       "                {}\n",
       "            ).addTo(marker_cluster_7e4488800c5083233b76b343f19de97d);\n",
       "        \n",
       "    \n",
       "            marker_e38fb2f112fd24765113fb01733dcacb.bindTooltip(\n",
       "                `&lt;div&gt;\n",
       "                     30歳代\n",
       "                 &lt;/div&gt;`,\n",
       "                {&quot;sticky&quot;: true}\n",
       "            );\n",
       "        \n",
       "    \n",
       "            var marker_538cae3052611f8748f9b26f9e3b3b2d = L.marker(\n",
       "                [35.851498, 139.987534],\n",
       "                {}\n",
       "            ).addTo(marker_cluster_7e4488800c5083233b76b343f19de97d);\n",
       "        \n",
       "    \n",
       "            marker_538cae3052611f8748f9b26f9e3b3b2d.bindTooltip(\n",
       "                `&lt;div&gt;\n",
       "                     20歳代\n",
       "                 &lt;/div&gt;`,\n",
       "                {&quot;sticky&quot;: true}\n",
       "            );\n",
       "        \n",
       "    \n",
       "            var marker_caf986e8f46e782a39b9b9e94a08008b = L.marker(\n",
       "                [35.849293, 139.987366],\n",
       "                {}\n",
       "            ).addTo(marker_cluster_7e4488800c5083233b76b343f19de97d);\n",
       "        \n",
       "    \n",
       "            marker_caf986e8f46e782a39b9b9e94a08008b.bindTooltip(\n",
       "                `&lt;div&gt;\n",
       "                     10歳代\n",
       "                 &lt;/div&gt;`,\n",
       "                {&quot;sticky&quot;: true}\n",
       "            );\n",
       "        \n",
       "    \n",
       "            var marker_47b705cdd17b3264ed404edc3e453f88 = L.marker(\n",
       "                [35.915867, 139.952377],\n",
       "                {}\n",
       "            ).addTo(marker_cluster_7e4488800c5083233b76b343f19de97d);\n",
       "        \n",
       "    \n",
       "            marker_47b705cdd17b3264ed404edc3e453f88.bindTooltip(\n",
       "                `&lt;div&gt;\n",
       "                     20歳代\n",
       "                 &lt;/div&gt;`,\n",
       "                {&quot;sticky&quot;: true}\n",
       "            );\n",
       "        \n",
       "    \n",
       "            var marker_4e699de4770b963f4af8a9115a48b2ac = L.marker(\n",
       "                [35.923737, 139.939484],\n",
       "                {}\n",
       "            ).addTo(marker_cluster_7e4488800c5083233b76b343f19de97d);\n",
       "        \n",
       "    \n",
       "            marker_4e699de4770b963f4af8a9115a48b2ac.bindTooltip(\n",
       "                `&lt;div&gt;\n",
       "                     10歳代\n",
       "                 &lt;/div&gt;`,\n",
       "                {&quot;sticky&quot;: true}\n",
       "            );\n",
       "        \n",
       "    \n",
       "            var marker_b869f0a85aa9c613581e6e37c7e8154c = L.marker(\n",
       "                [35.923737, 139.939484],\n",
       "                {}\n",
       "            ).addTo(marker_cluster_7e4488800c5083233b76b343f19de97d);\n",
       "        \n",
       "    \n",
       "            marker_b869f0a85aa9c613581e6e37c7e8154c.bindTooltip(\n",
       "                `&lt;div&gt;\n",
       "                     10歳代\n",
       "                 &lt;/div&gt;`,\n",
       "                {&quot;sticky&quot;: true}\n",
       "            );\n",
       "        \n",
       "    \n",
       "            var marker_c6e1b0e92fb3f266fe0b53ba4d8d551d = L.marker(\n",
       "                [35.911968, 139.961746],\n",
       "                {}\n",
       "            ).addTo(marker_cluster_7e4488800c5083233b76b343f19de97d);\n",
       "        \n",
       "    \n",
       "            marker_c6e1b0e92fb3f266fe0b53ba4d8d551d.bindTooltip(\n",
       "                `&lt;div&gt;\n",
       "                     10歳代\n",
       "                 &lt;/div&gt;`,\n",
       "                {&quot;sticky&quot;: true}\n",
       "            );\n",
       "        \n",
       "    \n",
       "            var marker_5b01cc1b080aa83270b8715494f4eb1f = L.marker(\n",
       "                [35.911968, 139.961746],\n",
       "                {}\n",
       "            ).addTo(marker_cluster_7e4488800c5083233b76b343f19de97d);\n",
       "        \n",
       "    \n",
       "            marker_5b01cc1b080aa83270b8715494f4eb1f.bindTooltip(\n",
       "                `&lt;div&gt;\n",
       "                     10歳代\n",
       "                 &lt;/div&gt;`,\n",
       "                {&quot;sticky&quot;: true}\n",
       "            );\n",
       "        \n",
       "    \n",
       "            var marker_617de1d55748afcdfcb4f5578253e7f4 = L.marker(\n",
       "                [35.911968, 139.961746],\n",
       "                {}\n",
       "            ).addTo(marker_cluster_7e4488800c5083233b76b343f19de97d);\n",
       "        \n",
       "    \n",
       "            marker_617de1d55748afcdfcb4f5578253e7f4.bindTooltip(\n",
       "                `&lt;div&gt;\n",
       "                     30歳代\n",
       "                 &lt;/div&gt;`,\n",
       "                {&quot;sticky&quot;: true}\n",
       "            );\n",
       "        \n",
       "    \n",
       "            var marker_cb73d318ea33b295eb6440336bad2914 = L.marker(\n",
       "                [35.911968, 139.961746],\n",
       "                {}\n",
       "            ).addTo(marker_cluster_7e4488800c5083233b76b343f19de97d);\n",
       "        \n",
       "    \n",
       "            marker_cb73d318ea33b295eb6440336bad2914.bindTooltip(\n",
       "                `&lt;div&gt;\n",
       "                     20歳代\n",
       "                 &lt;/div&gt;`,\n",
       "                {&quot;sticky&quot;: true}\n",
       "            );\n",
       "        \n",
       "    \n",
       "            var marker_0d5505b1ab8761185f819959d54a1d39 = L.marker(\n",
       "                [35.911968, 139.961746],\n",
       "                {}\n",
       "            ).addTo(marker_cluster_7e4488800c5083233b76b343f19de97d);\n",
       "        \n",
       "    \n",
       "            marker_0d5505b1ab8761185f819959d54a1d39.bindTooltip(\n",
       "                `&lt;div&gt;\n",
       "                     20歳代\n",
       "                 &lt;/div&gt;`,\n",
       "                {&quot;sticky&quot;: true}\n",
       "            );\n",
       "        \n",
       "    \n",
       "            var marker_cadcd93975eff7e39fc414632afd2d3f = L.marker(\n",
       "                [35.911968, 139.961746],\n",
       "                {}\n",
       "            ).addTo(marker_cluster_7e4488800c5083233b76b343f19de97d);\n",
       "        \n",
       "    \n",
       "            marker_cadcd93975eff7e39fc414632afd2d3f.bindTooltip(\n",
       "                `&lt;div&gt;\n",
       "                     40歳代\n",
       "                 &lt;/div&gt;`,\n",
       "                {&quot;sticky&quot;: true}\n",
       "            );\n",
       "        \n",
       "    \n",
       "            var marker_49bfb72a3506d0a89147d01657858cba = L.marker(\n",
       "                [35.911968, 139.961746],\n",
       "                {}\n",
       "            ).addTo(marker_cluster_7e4488800c5083233b76b343f19de97d);\n",
       "        \n",
       "    \n",
       "            marker_49bfb72a3506d0a89147d01657858cba.bindTooltip(\n",
       "                `&lt;div&gt;\n",
       "                     法人・団体、被害者なし\n",
       "                 &lt;/div&gt;`,\n",
       "                {&quot;sticky&quot;: true}\n",
       "            );\n",
       "        \n",
       "    \n",
       "            var marker_1485976a7cc613a9eae7d5c9eaf37afc = L.marker(\n",
       "                [35.911968, 139.961746],\n",
       "                {}\n",
       "            ).addTo(marker_cluster_7e4488800c5083233b76b343f19de97d);\n",
       "        \n",
       "    \n",
       "            marker_1485976a7cc613a9eae7d5c9eaf37afc.bindTooltip(\n",
       "                `&lt;div&gt;\n",
       "                     60-64歳\n",
       "                 &lt;/div&gt;`,\n",
       "                {&quot;sticky&quot;: true}\n",
       "            );\n",
       "        \n",
       "    \n",
       "            var marker_c84c0e306727bcfdd27f3c72eed7c417 = L.marker(\n",
       "                [35.916023, 139.956726],\n",
       "                {}\n",
       "            ).addTo(marker_cluster_7e4488800c5083233b76b343f19de97d);\n",
       "        \n",
       "    \n",
       "            marker_c84c0e306727bcfdd27f3c72eed7c417.bindTooltip(\n",
       "                `&lt;div&gt;\n",
       "                     10歳代\n",
       "                 &lt;/div&gt;`,\n",
       "                {&quot;sticky&quot;: true}\n",
       "            );\n",
       "        \n",
       "    \n",
       "            var marker_ee45679622848634ebf6892b323b06e7 = L.marker(\n",
       "                [35.916023, 139.956726],\n",
       "                {}\n",
       "            ).addTo(marker_cluster_7e4488800c5083233b76b343f19de97d);\n",
       "        \n",
       "    \n",
       "            marker_ee45679622848634ebf6892b323b06e7.bindTooltip(\n",
       "                `&lt;div&gt;\n",
       "                     10歳代\n",
       "                 &lt;/div&gt;`,\n",
       "                {&quot;sticky&quot;: true}\n",
       "            );\n",
       "        \n",
       "    \n",
       "            var marker_c808913d5629ce5bbf3a0fd802dfb1dc = L.marker(\n",
       "                [35.916023, 139.956726],\n",
       "                {}\n",
       "            ).addTo(marker_cluster_7e4488800c5083233b76b343f19de97d);\n",
       "        \n",
       "    \n",
       "            marker_c808913d5629ce5bbf3a0fd802dfb1dc.bindTooltip(\n",
       "                `&lt;div&gt;\n",
       "                     10歳代\n",
       "                 &lt;/div&gt;`,\n",
       "                {&quot;sticky&quot;: true}\n",
       "            );\n",
       "        \n",
       "    \n",
       "            var marker_a54766c226b81608ff4fb245611fa9cf = L.marker(\n",
       "                [35.915054, 139.959076],\n",
       "                {}\n",
       "            ).addTo(marker_cluster_7e4488800c5083233b76b343f19de97d);\n",
       "        \n",
       "    \n",
       "            marker_a54766c226b81608ff4fb245611fa9cf.bindTooltip(\n",
       "                `&lt;div&gt;\n",
       "                     10歳代\n",
       "                 &lt;/div&gt;`,\n",
       "                {&quot;sticky&quot;: true}\n",
       "            );\n",
       "        \n",
       "    \n",
       "            var marker_77155b1070a380532b3a3e398e2288c5 = L.marker(\n",
       "                [35.915054, 139.959076],\n",
       "                {}\n",
       "            ).addTo(marker_cluster_7e4488800c5083233b76b343f19de97d);\n",
       "        \n",
       "    \n",
       "            marker_77155b1070a380532b3a3e398e2288c5.bindTooltip(\n",
       "                `&lt;div&gt;\n",
       "                     10歳代\n",
       "                 &lt;/div&gt;`,\n",
       "                {&quot;sticky&quot;: true}\n",
       "            );\n",
       "        \n",
       "    \n",
       "            var marker_4ba789d9e8de38a2cc02f45e81eb7214 = L.marker(\n",
       "                [35.915054, 139.959076],\n",
       "                {}\n",
       "            ).addTo(marker_cluster_7e4488800c5083233b76b343f19de97d);\n",
       "        \n",
       "    \n",
       "            marker_4ba789d9e8de38a2cc02f45e81eb7214.bindTooltip(\n",
       "                `&lt;div&gt;\n",
       "                     10歳代\n",
       "                 &lt;/div&gt;`,\n",
       "                {&quot;sticky&quot;: true}\n",
       "            );\n",
       "        \n",
       "    \n",
       "            var marker_341127acbcadef8ffb4a815a8cae8db0 = L.marker(\n",
       "                [35.915054, 139.959076],\n",
       "                {}\n",
       "            ).addTo(marker_cluster_7e4488800c5083233b76b343f19de97d);\n",
       "        \n",
       "    \n",
       "            marker_341127acbcadef8ffb4a815a8cae8db0.bindTooltip(\n",
       "                `&lt;div&gt;\n",
       "                     10歳代\n",
       "                 &lt;/div&gt;`,\n",
       "                {&quot;sticky&quot;: true}\n",
       "            );\n",
       "        \n",
       "    \n",
       "            var marker_d885e3a006058fffc6d0a5cc3a1cc62d = L.marker(\n",
       "                [35.896736, 139.974243],\n",
       "                {}\n",
       "            ).addTo(marker_cluster_7e4488800c5083233b76b343f19de97d);\n",
       "        \n",
       "    \n",
       "            marker_d885e3a006058fffc6d0a5cc3a1cc62d.bindTooltip(\n",
       "                `&lt;div&gt;\n",
       "                     40歳代\n",
       "                 &lt;/div&gt;`,\n",
       "                {&quot;sticky&quot;: true}\n",
       "            );\n",
       "        \n",
       "    \n",
       "            var marker_98dbe327d9905ed8e295cddb39ff4f84 = L.marker(\n",
       "                [35.896736, 139.974243],\n",
       "                {}\n",
       "            ).addTo(marker_cluster_7e4488800c5083233b76b343f19de97d);\n",
       "        \n",
       "    \n",
       "            marker_98dbe327d9905ed8e295cddb39ff4f84.bindTooltip(\n",
       "                `&lt;div&gt;\n",
       "                     20歳代\n",
       "                 &lt;/div&gt;`,\n",
       "                {&quot;sticky&quot;: true}\n",
       "            );\n",
       "        \n",
       "    \n",
       "            var marker_41dc155e30720c0fbe01b810ae3ba24a = L.marker(\n",
       "                [35.896736, 139.974243],\n",
       "                {}\n",
       "            ).addTo(marker_cluster_7e4488800c5083233b76b343f19de97d);\n",
       "        \n",
       "    \n",
       "            marker_41dc155e30720c0fbe01b810ae3ba24a.bindTooltip(\n",
       "                `&lt;div&gt;\n",
       "                     40歳代\n",
       "                 &lt;/div&gt;`,\n",
       "                {&quot;sticky&quot;: true}\n",
       "            );\n",
       "        \n",
       "    \n",
       "            var marker_0d829fdd35852b2f237a32e4a24687ca = L.marker(\n",
       "                [35.896736, 139.974243],\n",
       "                {}\n",
       "            ).addTo(marker_cluster_7e4488800c5083233b76b343f19de97d);\n",
       "        \n",
       "    \n",
       "            marker_0d829fdd35852b2f237a32e4a24687ca.bindTooltip(\n",
       "                `&lt;div&gt;\n",
       "                     60-64歳\n",
       "                 &lt;/div&gt;`,\n",
       "                {&quot;sticky&quot;: true}\n",
       "            );\n",
       "        \n",
       "    \n",
       "            var marker_eeabd05c6b5fa6db77cec1b87a8b4811 = L.marker(\n",
       "                [35.868122, 139.943359],\n",
       "                {}\n",
       "            ).addTo(marker_cluster_7e4488800c5083233b76b343f19de97d);\n",
       "        \n",
       "    \n",
       "            marker_eeabd05c6b5fa6db77cec1b87a8b4811.bindTooltip(\n",
       "                `&lt;div&gt;\n",
       "                     60-64歳\n",
       "                 &lt;/div&gt;`,\n",
       "                {&quot;sticky&quot;: true}\n",
       "            );\n",
       "        \n",
       "    \n",
       "            var marker_01240dc6e75e2a1671c8c273ac2182fe = L.marker(\n",
       "                [35.859928, 139.949814],\n",
       "                {}\n",
       "            ).addTo(marker_cluster_7e4488800c5083233b76b343f19de97d);\n",
       "        \n",
       "    \n",
       "            marker_01240dc6e75e2a1671c8c273ac2182fe.bindTooltip(\n",
       "                `&lt;div&gt;\n",
       "                     20歳代\n",
       "                 &lt;/div&gt;`,\n",
       "                {&quot;sticky&quot;: true}\n",
       "            );\n",
       "        \n",
       "    \n",
       "            var marker_4a225b7c750c87c22eb0ca04622ba782 = L.marker(\n",
       "                [35.859928, 139.949814],\n",
       "                {}\n",
       "            ).addTo(marker_cluster_7e4488800c5083233b76b343f19de97d);\n",
       "        \n",
       "    \n",
       "            marker_4a225b7c750c87c22eb0ca04622ba782.bindTooltip(\n",
       "                `&lt;div&gt;\n",
       "                     20歳代\n",
       "                 &lt;/div&gt;`,\n",
       "                {&quot;sticky&quot;: true}\n",
       "            );\n",
       "        \n",
       "    \n",
       "            var marker_62477fd42ef2bd6fb3582f2d15eae72b = L.marker(\n",
       "                [35.859928, 139.949814],\n",
       "                {}\n",
       "            ).addTo(marker_cluster_7e4488800c5083233b76b343f19de97d);\n",
       "        \n",
       "    \n",
       "            marker_62477fd42ef2bd6fb3582f2d15eae72b.bindTooltip(\n",
       "                `&lt;div&gt;\n",
       "                     40歳代\n",
       "                 &lt;/div&gt;`,\n",
       "                {&quot;sticky&quot;: true}\n",
       "            );\n",
       "        \n",
       "    \n",
       "            var marker_f68c65d67ed09c34fb6389410b6e0e72 = L.marker(\n",
       "                [35.859928, 139.949814],\n",
       "                {}\n",
       "            ).addTo(marker_cluster_7e4488800c5083233b76b343f19de97d);\n",
       "        \n",
       "    \n",
       "            marker_f68c65d67ed09c34fb6389410b6e0e72.bindTooltip(\n",
       "                `&lt;div&gt;\n",
       "                     10歳代\n",
       "                 &lt;/div&gt;`,\n",
       "                {&quot;sticky&quot;: true}\n",
       "            );\n",
       "        \n",
       "    \n",
       "            var marker_effb8b33695c697ecf65128d55b7d20c = L.marker(\n",
       "                [35.859928, 139.949814],\n",
       "                {}\n",
       "            ).addTo(marker_cluster_7e4488800c5083233b76b343f19de97d);\n",
       "        \n",
       "    \n",
       "            marker_effb8b33695c697ecf65128d55b7d20c.bindTooltip(\n",
       "                `&lt;div&gt;\n",
       "                     20歳代\n",
       "                 &lt;/div&gt;`,\n",
       "                {&quot;sticky&quot;: true}\n",
       "            );\n",
       "        \n",
       "    \n",
       "            var marker_a9abde397ab3779ba1d3948d6a8443be = L.marker(\n",
       "                [35.859928, 139.949814],\n",
       "                {}\n",
       "            ).addTo(marker_cluster_7e4488800c5083233b76b343f19de97d);\n",
       "        \n",
       "    \n",
       "            marker_a9abde397ab3779ba1d3948d6a8443be.bindTooltip(\n",
       "                `&lt;div&gt;\n",
       "                     30歳代\n",
       "                 &lt;/div&gt;`,\n",
       "                {&quot;sticky&quot;: true}\n",
       "            );\n",
       "        \n",
       "    \n",
       "            var marker_c94481cb37f670da19a65dc535ff0ed6 = L.marker(\n",
       "                [35.859928, 139.949814],\n",
       "                {}\n",
       "            ).addTo(marker_cluster_7e4488800c5083233b76b343f19de97d);\n",
       "        \n",
       "    \n",
       "            marker_c94481cb37f670da19a65dc535ff0ed6.bindTooltip(\n",
       "                `&lt;div&gt;\n",
       "                     20歳代\n",
       "                 &lt;/div&gt;`,\n",
       "                {&quot;sticky&quot;: true}\n",
       "            );\n",
       "        \n",
       "    \n",
       "            var marker_9bdd4571df4b0983670fe325708ec86a = L.marker(\n",
       "                [35.859928, 139.949814],\n",
       "                {}\n",
       "            ).addTo(marker_cluster_7e4488800c5083233b76b343f19de97d);\n",
       "        \n",
       "    \n",
       "            marker_9bdd4571df4b0983670fe325708ec86a.bindTooltip(\n",
       "                `&lt;div&gt;\n",
       "                     10歳代\n",
       "                 &lt;/div&gt;`,\n",
       "                {&quot;sticky&quot;: true}\n",
       "            );\n",
       "        \n",
       "    \n",
       "            var marker_981738ef3559d7b4f7559f791f15ca1a = L.marker(\n",
       "                [35.854702, 139.957123],\n",
       "                {}\n",
       "            ).addTo(marker_cluster_7e4488800c5083233b76b343f19de97d);\n",
       "        \n",
       "    \n",
       "            marker_981738ef3559d7b4f7559f791f15ca1a.bindTooltip(\n",
       "                `&lt;div&gt;\n",
       "                     20歳代\n",
       "                 &lt;/div&gt;`,\n",
       "                {&quot;sticky&quot;: true}\n",
       "            );\n",
       "        \n",
       "    \n",
       "            var marker_f5e5c4acd304bfe4292ad42f1a932e5c = L.marker(\n",
       "                [35.804619, 139.996078],\n",
       "                {}\n",
       "            ).addTo(marker_cluster_7e4488800c5083233b76b343f19de97d);\n",
       "        \n",
       "    \n",
       "            marker_f5e5c4acd304bfe4292ad42f1a932e5c.bindTooltip(\n",
       "                `&lt;div&gt;\n",
       "                     10歳代\n",
       "                 &lt;/div&gt;`,\n",
       "                {&quot;sticky&quot;: true}\n",
       "            );\n",
       "        \n",
       "    \n",
       "            var marker_10eb6e1215e68497b48cfbd9ce8da604 = L.marker(\n",
       "                [35.802979, 139.991287],\n",
       "                {}\n",
       "            ).addTo(marker_cluster_7e4488800c5083233b76b343f19de97d);\n",
       "        \n",
       "    \n",
       "            marker_10eb6e1215e68497b48cfbd9ce8da604.bindTooltip(\n",
       "                `&lt;div&gt;\n",
       "                     10歳代\n",
       "                 &lt;/div&gt;`,\n",
       "                {&quot;sticky&quot;: true}\n",
       "            );\n",
       "        \n",
       "    \n",
       "            var marker_ebeb492b2695b42d5823b2857d1c38e5 = L.marker(\n",
       "                [35.805519, 139.993011],\n",
       "                {}\n",
       "            ).addTo(marker_cluster_7e4488800c5083233b76b343f19de97d);\n",
       "        \n",
       "    \n",
       "            marker_ebeb492b2695b42d5823b2857d1c38e5.bindTooltip(\n",
       "                `&lt;div&gt;\n",
       "                     10歳代\n",
       "                 &lt;/div&gt;`,\n",
       "                {&quot;sticky&quot;: true}\n",
       "            );\n",
       "        \n",
       "    \n",
       "            var marker_e13b6319a9fb6768cfc8b5bb302ca88a = L.marker(\n",
       "                [35.801025, 139.980179],\n",
       "                {}\n",
       "            ).addTo(marker_cluster_7e4488800c5083233b76b343f19de97d);\n",
       "        \n",
       "    \n",
       "            marker_e13b6319a9fb6768cfc8b5bb302ca88a.bindTooltip(\n",
       "                `&lt;div&gt;\n",
       "                     10歳代\n",
       "                 &lt;/div&gt;`,\n",
       "                {&quot;sticky&quot;: true}\n",
       "            );\n",
       "        \n",
       "    \n",
       "            var marker_3d29ca65ddbb4760dce3019240a47845 = L.marker(\n",
       "                [35.80201, 139.977814],\n",
       "                {}\n",
       "            ).addTo(marker_cluster_7e4488800c5083233b76b343f19de97d);\n",
       "        \n",
       "    \n",
       "            marker_3d29ca65ddbb4760dce3019240a47845.bindTooltip(\n",
       "                `&lt;div&gt;\n",
       "                     50歳代\n",
       "                 &lt;/div&gt;`,\n",
       "                {&quot;sticky&quot;: true}\n",
       "            );\n",
       "        \n",
       "    \n",
       "            var marker_f548b2b33618ba991fca99f99c3fade0 = L.marker(\n",
       "                [35.80201, 139.977814],\n",
       "                {}\n",
       "            ).addTo(marker_cluster_7e4488800c5083233b76b343f19de97d);\n",
       "        \n",
       "    \n",
       "            marker_f548b2b33618ba991fca99f99c3fade0.bindTooltip(\n",
       "                `&lt;div&gt;\n",
       "                     30歳代\n",
       "                 &lt;/div&gt;`,\n",
       "                {&quot;sticky&quot;: true}\n",
       "            );\n",
       "        \n",
       "    \n",
       "            var marker_9659809313cc095b9003e63a92e5b95e = L.marker(\n",
       "                [35.8078, 139.99794],\n",
       "                {}\n",
       "            ).addTo(marker_cluster_7e4488800c5083233b76b343f19de97d);\n",
       "        \n",
       "    \n",
       "            marker_9659809313cc095b9003e63a92e5b95e.bindTooltip(\n",
       "                `&lt;div&gt;\n",
       "                     20歳代\n",
       "                 &lt;/div&gt;`,\n",
       "                {&quot;sticky&quot;: true}\n",
       "            );\n",
       "        \n",
       "    \n",
       "            var marker_b21b95f58cf51d77697523583fb7f537 = L.marker(\n",
       "                [35.8078, 139.99794],\n",
       "                {}\n",
       "            ).addTo(marker_cluster_7e4488800c5083233b76b343f19de97d);\n",
       "        \n",
       "    \n",
       "            marker_b21b95f58cf51d77697523583fb7f537.bindTooltip(\n",
       "                `&lt;div&gt;\n",
       "                     10歳代\n",
       "                 &lt;/div&gt;`,\n",
       "                {&quot;sticky&quot;: true}\n",
       "            );\n",
       "        \n",
       "    \n",
       "            var marker_790b4648025b4c4e2f10458ec57160fa = L.marker(\n",
       "                [35.8078, 139.99794],\n",
       "                {}\n",
       "            ).addTo(marker_cluster_7e4488800c5083233b76b343f19de97d);\n",
       "        \n",
       "    \n",
       "            marker_790b4648025b4c4e2f10458ec57160fa.bindTooltip(\n",
       "                `&lt;div&gt;\n",
       "                     30歳代\n",
       "                 &lt;/div&gt;`,\n",
       "                {&quot;sticky&quot;: true}\n",
       "            );\n",
       "        \n",
       "    \n",
       "            var marker_71315052c4627e1c257a69d3377815d4 = L.marker(\n",
       "                [35.8078, 139.99794],\n",
       "                {}\n",
       "            ).addTo(marker_cluster_7e4488800c5083233b76b343f19de97d);\n",
       "        \n",
       "    \n",
       "            marker_71315052c4627e1c257a69d3377815d4.bindTooltip(\n",
       "                `&lt;div&gt;\n",
       "                     10歳代\n",
       "                 &lt;/div&gt;`,\n",
       "                {&quot;sticky&quot;: true}\n",
       "            );\n",
       "        \n",
       "    \n",
       "            var marker_a8f632a62719b258bb8601419ed9c73f = L.marker(\n",
       "                [35.8078, 139.99794],\n",
       "                {}\n",
       "            ).addTo(marker_cluster_7e4488800c5083233b76b343f19de97d);\n",
       "        \n",
       "    \n",
       "            marker_a8f632a62719b258bb8601419ed9c73f.bindTooltip(\n",
       "                `&lt;div&gt;\n",
       "                     10歳代\n",
       "                 &lt;/div&gt;`,\n",
       "                {&quot;sticky&quot;: true}\n",
       "            );\n",
       "        \n",
       "    \n",
       "            var marker_442e0d1a847384a139080e88805e6610 = L.marker(\n",
       "                [35.8078, 139.99794],\n",
       "                {}\n",
       "            ).addTo(marker_cluster_7e4488800c5083233b76b343f19de97d);\n",
       "        \n",
       "    \n",
       "            marker_442e0d1a847384a139080e88805e6610.bindTooltip(\n",
       "                `&lt;div&gt;\n",
       "                     10歳代\n",
       "                 &lt;/div&gt;`,\n",
       "                {&quot;sticky&quot;: true}\n",
       "            );\n",
       "        \n",
       "    \n",
       "            var marker_fe90a3d5cb8f42d322d41e868a1778c5 = L.marker(\n",
       "                [35.8078, 139.99794],\n",
       "                {}\n",
       "            ).addTo(marker_cluster_7e4488800c5083233b76b343f19de97d);\n",
       "        \n",
       "    \n",
       "            marker_fe90a3d5cb8f42d322d41e868a1778c5.bindTooltip(\n",
       "                `&lt;div&gt;\n",
       "                     10歳代\n",
       "                 &lt;/div&gt;`,\n",
       "                {&quot;sticky&quot;: true}\n",
       "            );\n",
       "        \n",
       "    \n",
       "            var marker_319211d2dffc9641f57499b1a862a905 = L.marker(\n",
       "                [35.8078, 139.99794],\n",
       "                {}\n",
       "            ).addTo(marker_cluster_7e4488800c5083233b76b343f19de97d);\n",
       "        \n",
       "    \n",
       "            marker_319211d2dffc9641f57499b1a862a905.bindTooltip(\n",
       "                `&lt;div&gt;\n",
       "                     10歳代\n",
       "                 &lt;/div&gt;`,\n",
       "                {&quot;sticky&quot;: true}\n",
       "            );\n",
       "        \n",
       "    \n",
       "            var marker_b9e05c4230ae36c7901f2362c19f8cf6 = L.marker(\n",
       "                [35.8078, 139.99794],\n",
       "                {}\n",
       "            ).addTo(marker_cluster_7e4488800c5083233b76b343f19de97d);\n",
       "        \n",
       "    \n",
       "            marker_b9e05c4230ae36c7901f2362c19f8cf6.bindTooltip(\n",
       "                `&lt;div&gt;\n",
       "                     70歳以上\n",
       "                 &lt;/div&gt;`,\n",
       "                {&quot;sticky&quot;: true}\n",
       "            );\n",
       "        \n",
       "    \n",
       "            var marker_10949ab7508b1535a542c4e7b4e5d8e2 = L.marker(\n",
       "                [35.8078, 139.99794],\n",
       "                {}\n",
       "            ).addTo(marker_cluster_7e4488800c5083233b76b343f19de97d);\n",
       "        \n",
       "    \n",
       "            marker_10949ab7508b1535a542c4e7b4e5d8e2.bindTooltip(\n",
       "                `&lt;div&gt;\n",
       "                     20歳代\n",
       "                 &lt;/div&gt;`,\n",
       "                {&quot;sticky&quot;: true}\n",
       "            );\n",
       "        \n",
       "    \n",
       "            var marker_936d6f6ca230e8b8628b0a362943154d = L.marker(\n",
       "                [35.8078, 139.99794],\n",
       "                {}\n",
       "            ).addTo(marker_cluster_7e4488800c5083233b76b343f19de97d);\n",
       "        \n",
       "    \n",
       "            marker_936d6f6ca230e8b8628b0a362943154d.bindTooltip(\n",
       "                `&lt;div&gt;\n",
       "                     10歳代\n",
       "                 &lt;/div&gt;`,\n",
       "                {&quot;sticky&quot;: true}\n",
       "            );\n",
       "        \n",
       "    \n",
       "            var marker_edde8cf257023606e0e955617926cb1c = L.marker(\n",
       "                [35.8078, 139.99794],\n",
       "                {}\n",
       "            ).addTo(marker_cluster_7e4488800c5083233b76b343f19de97d);\n",
       "        \n",
       "    \n",
       "            marker_edde8cf257023606e0e955617926cb1c.bindTooltip(\n",
       "                `&lt;div&gt;\n",
       "                     20歳代\n",
       "                 &lt;/div&gt;`,\n",
       "                {&quot;sticky&quot;: true}\n",
       "            );\n",
       "        \n",
       "    \n",
       "            var marker_06205551c14791e22be8571bf83b8590 = L.marker(\n",
       "                [35.8078, 139.99794],\n",
       "                {}\n",
       "            ).addTo(marker_cluster_7e4488800c5083233b76b343f19de97d);\n",
       "        \n",
       "    \n",
       "            marker_06205551c14791e22be8571bf83b8590.bindTooltip(\n",
       "                `&lt;div&gt;\n",
       "                     40歳代\n",
       "                 &lt;/div&gt;`,\n",
       "                {&quot;sticky&quot;: true}\n",
       "            );\n",
       "        \n",
       "    \n",
       "            var marker_cd2949a9002e1c79e3fcf303276bf8e9 = L.marker(\n",
       "                [35.8078, 139.99794],\n",
       "                {}\n",
       "            ).addTo(marker_cluster_7e4488800c5083233b76b343f19de97d);\n",
       "        \n",
       "    \n",
       "            marker_cd2949a9002e1c79e3fcf303276bf8e9.bindTooltip(\n",
       "                `&lt;div&gt;\n",
       "                     10歳代\n",
       "                 &lt;/div&gt;`,\n",
       "                {&quot;sticky&quot;: true}\n",
       "            );\n",
       "        \n",
       "    \n",
       "            var marker_4edef21f6011fd671e011c9190ed084d = L.marker(\n",
       "                [35.8078, 139.99794],\n",
       "                {}\n",
       "            ).addTo(marker_cluster_7e4488800c5083233b76b343f19de97d);\n",
       "        \n",
       "    \n",
       "            marker_4edef21f6011fd671e011c9190ed084d.bindTooltip(\n",
       "                `&lt;div&gt;\n",
       "                     10歳代\n",
       "                 &lt;/div&gt;`,\n",
       "                {&quot;sticky&quot;: true}\n",
       "            );\n",
       "        \n",
       "    \n",
       "            var marker_8c7a536271ce03734ac52c726185285e = L.marker(\n",
       "                [35.8078, 139.99794],\n",
       "                {}\n",
       "            ).addTo(marker_cluster_7e4488800c5083233b76b343f19de97d);\n",
       "        \n",
       "    \n",
       "            marker_8c7a536271ce03734ac52c726185285e.bindTooltip(\n",
       "                `&lt;div&gt;\n",
       "                     10歳代\n",
       "                 &lt;/div&gt;`,\n",
       "                {&quot;sticky&quot;: true}\n",
       "            );\n",
       "        \n",
       "    \n",
       "            var marker_644a7ac2189f4674cf43aecd21400516 = L.marker(\n",
       "                [35.809856, 139.996445],\n",
       "                {}\n",
       "            ).addTo(marker_cluster_7e4488800c5083233b76b343f19de97d);\n",
       "        \n",
       "    \n",
       "            marker_644a7ac2189f4674cf43aecd21400516.bindTooltip(\n",
       "                `&lt;div&gt;\n",
       "                     30歳代\n",
       "                 &lt;/div&gt;`,\n",
       "                {&quot;sticky&quot;: true}\n",
       "            );\n",
       "        \n",
       "    \n",
       "            var marker_be8ac44a55a0855056ecfc41a6c94745 = L.marker(\n",
       "                [35.877697, 139.949219],\n",
       "                {}\n",
       "            ).addTo(marker_cluster_7e4488800c5083233b76b343f19de97d);\n",
       "        \n",
       "    \n",
       "            marker_be8ac44a55a0855056ecfc41a6c94745.bindTooltip(\n",
       "                `&lt;div&gt;\n",
       "                     40歳代\n",
       "                 &lt;/div&gt;`,\n",
       "                {&quot;sticky&quot;: true}\n",
       "            );\n",
       "        \n",
       "&lt;/script&gt;\n",
       "&lt;/html&gt;\" style=\"position:absolute;width:100%;height:100%;left:0;top:0;border:none !important;\" allowfullscreen webkitallowfullscreen mozallowfullscreen></iframe></div></div>"
      ],
      "text/plain": [
       "<folium.folium.Map at 0x28d6afa0c10>"
      ]
     },
     "execution_count": 47,
     "metadata": {},
     "output_type": "execute_result"
    }
   ],
   "source": [
    "# make the map\n",
    "m = folium.Map(location=[center_lat,center_lon], \n",
    "               zoom_start=12)\n",
    "\n",
    "# マーカーがメチャクチャ多い場合はclusterで処理！\n",
    "marker_cluster = plugins.MarkerCluster().add_to(m)\n",
    " \n",
    "# kashiwaのデータフレームをループしてマーカーを作る\n",
    "for index, row in kashiwa.iterrows():\n",
    "    latlon = [row['lat'],row['lon']]\n",
    "    folium.Marker(latlon, \n",
    "                  tooltip=row['被害者の年齢'],\n",
    "                ).add_to(marker_cluster) # mapにではなくmarker_clusterに足す\n",
    "\n",
    "# show the map\n",
    "m"
   ]
  },
  {
   "attachments": {},
   "cell_type": "markdown",
   "metadata": {
    "slideshow": {
     "slide_type": "slide"
    }
   },
   "source": [
    "# EXTRA Time?\n",
    "\n",
    "時間が余った人は違う場所の犯罪マップ作りに挑戦。\n",
    "\n",
    "このサイトから都道府県を選び、データをダウンロード：\n",
    "\n",
    "https://www.npa.go.jp/toukei/seianki/hanzaiopendatalink.html\n",
    "\n",
    "注意！ジオコーティングは時間がかかるので、データを千件以下に絞ってからジオコーティングをするように。"
   ]
  }
 ],
 "metadata": {
  "celltoolbar": "Slideshow",
  "kernelspec": {
   "display_name": "Python 3 (ipykernel)",
   "language": "python",
   "name": "python3"
  },
  "language_info": {
   "codemirror_mode": {
    "name": "ipython",
    "version": 3
   },
   "file_extension": ".py",
   "mimetype": "text/x-python",
   "name": "python",
   "nbconvert_exporter": "python",
   "pygments_lexer": "ipython3",
   "version": "3.11.3"
  }
 },
 "nbformat": 4,
 "nbformat_minor": 2
}
