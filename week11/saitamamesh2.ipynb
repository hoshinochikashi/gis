{
 "cells": [
  {
   "cell_type": "code",
   "execution_count": null,
   "metadata": {},
   "outputs": [],
   "source": [
    "import geopandas as gpd\n",
    "import pandas as pd\n",
    "import contextily as ctx\n",
    "import plotly.express as px\n",
    "import contextily as cx\n",
    "import numpy as np\n",
    "import matplotlib.pyplot as plt\n",
    "\n",
    "# set font\n",
    "import matplotlib as mpl\n",
    "\n",
    "# for Mac\n",
    "#mpl.rc('font',family='Hiragino Maru Gothic Pro')\n",
    "\n",
    "# for PC\n",
    "mpl.rc('font',family='MS Gothic')"
   ]
  },
  {
   "cell_type": "code",
   "execution_count": null,
   "metadata": {},
   "outputs": [],
   "source": [
    "# 空間データなので geopandas (gpd) でインポート\n",
    "\n",
    "saitamamesh1 = gpd.read_file('data/SDDSWS5338.zip')\n",
    "saitamamesh2 = gpd.read_file('data/SDDSWS5339.zip')\n",
    "saitamamesh3 = gpd.read_file('data/SDDSWS5438.zip')\n",
    "saitamamesh4 = gpd.read_file('data/SDDSWS5439.zip')"
   ]
  },
  {
   "cell_type": "code",
   "execution_count": null,
   "metadata": {},
   "outputs": [],
   "source": [
    "# combine all four mesh shapes\n",
    "saitamamesh = gpd.pd.concat([saitamamesh1,saitamamesh2,saitamamesh3,saitamamesh4])"
   ]
  },
  {
   "cell_type": "code",
   "execution_count": null,
   "metadata": {},
   "outputs": [],
   "source": [
    "# quick plot\n",
    "saitamamesh.plot(figsize=(20,20),edgecolor='white',linewidth=0.1,column='MESH1_ID')"
   ]
  },
  {
   "cell_type": "code",
   "execution_count": null,
   "metadata": {},
   "outputs": [],
   "source": [
    "# csvデータなので pandas (pd) でインポート\n",
    "# 文字化け予防のために encoding='cp932' \n",
    "saitamadata1 = pd.read_csv('data/tblT001100S5338.zip', encoding='cp932')\n",
    "saitamadata2 = pd.read_csv('data/tblT001100S5339.zip', encoding='cp932')\n",
    "saitamadata3 = pd.read_csv('data/tblT001100S5438.zip', encoding='cp932')\n",
    "saitamadata4 = pd.read_csv('data/tblT001100S5439.zip', encoding='cp932')\n",
    "saitamadata5 = pd.read_csv('data/tblT000846S5338.zip', encoding='cp932')\n",
    "saitamadata6 = pd.read_csv('data/tblT000846S5339.zip', encoding='cp932')\n",
    "saitamadata7 = pd.read_csv('data/tblT000846S5438.zip', encoding='cp932')\n",
    "saitamadata8 = pd.read_csv('data/tblT000846S5439.zip', encoding='cp932')"
   ]
  },
  {
   "cell_type": "code",
   "execution_count": null,
   "metadata": {},
   "outputs": [],
   "source": [
    "# check data\n",
    "saitamadata5.head()"
   ]
  },
  {
   "cell_type": "code",
   "execution_count": null,
   "metadata": {},
   "outputs": [],
   "source": [
    "# 8つのテーブルから１行目を削除\n",
    "saitamadata1 = saitamadata1[1:]\n",
    "saitamadata2 = saitamadata2[1:]\n",
    "saitamadata3 = saitamadata3[1:]\n",
    "saitamadata4 = saitamadata4[1:]\n",
    "saitamadata5 = saitamadata5[1:]\n",
    "saitamadata6 = saitamadata6[1:]\n",
    "saitamadata7 = saitamadata7[1:]\n",
    "saitamadata8 = saitamadata8[1:]"
   ]
  },
  {
   "cell_type": "code",
   "execution_count": null,
   "metadata": {},
   "outputs": [],
   "source": [
    "# ４つのテーブルから「＊」を非数に置き換える\n",
    "saitamadata1 = saitamadata1.replace('*',np.nan)\n",
    "saitamadata2 = saitamadata2.replace('*',np.nan)\n",
    "saitamadata3 = saitamadata3.replace('*',np.nan)\n",
    "saitamadata4 = saitamadata4.replace('*',np.nan)\n",
    "saitamadata5 = saitamadata5.replace('*',np.nan)\n",
    "saitamadata6 = saitamadata6.replace('*',np.nan)\n",
    "saitamadata7 = saitamadata7.replace('*',np.nan)\n",
    "saitamadata8 = saitamadata8.replace('*',np.nan)"
   ]
  },
  {
   "cell_type": "code",
   "execution_count": null,
   "metadata": {},
   "outputs": [],
   "source": [
    "saitamadata2020 = pd.concat([saitamadata1,saitamadata2,saitamadata3,saitamadata4])"
   ]
  },
  {
   "cell_type": "code",
   "execution_count": null,
   "metadata": {},
   "outputs": [],
   "source": [
    "saitamadata2015 = pd.concat([saitamadata5,saitamadata6,saitamadata7,saitamadata8])"
   ]
  },
  {
   "cell_type": "code",
   "execution_count": null,
   "metadata": {},
   "outputs": [],
   "source": [
    "saitamadata2015.head()"
   ]
  },
  {
   "cell_type": "code",
   "execution_count": null,
   "metadata": {},
   "outputs": [],
   "source": [
    "# get rid of HTKSYORI, HTKSAKI, GASSAN\n",
    "columns_to_drop = ['HTKSYORI','HTKSAKI','GASSAN']\n",
    "saitamadata2015 = saitamadata2015.drop(columns=columns_to_drop)"
   ]
  },
  {
   "cell_type": "code",
   "execution_count": null,
   "metadata": {},
   "outputs": [],
   "source": [
    "saitamadata2015"
   ]
  },
  {
   "cell_type": "code",
   "execution_count": null,
   "metadata": {},
   "outputs": [],
   "source": [
    "# get rid of HTKSYORI, HTKSAKI, GASSAN\n",
    "columns_to_drop = ['HTKSYORI','HTKSAKI','GASSAN']\n",
    "saitamadata2020 = saitamadata2020.drop(columns=columns_to_drop)"
   ]
  },
  {
   "cell_type": "code",
   "execution_count": null,
   "metadata": {},
   "outputs": [],
   "source": [
    "saitamadata2020"
   ]
  },
  {
   "cell_type": "code",
   "execution_count": null,
   "metadata": {},
   "outputs": [],
   "source": [
    "# combine 2015 and 2020 data\n",
    "saitamadata = pd.merge(saitamadata2020,saitamadata2015,on='KEY_CODE')"
   ]
  },
  {
   "cell_type": "code",
   "execution_count": null,
   "metadata": {},
   "outputs": [],
   "source": [
    "# check data info\n",
    "saitamadata.info()"
   ]
  },
  {
   "cell_type": "code",
   "execution_count": null,
   "metadata": {},
   "outputs": [],
   "source": [
    "# まずはカラムをアウトプット\n",
    "saitamadata.columns"
   ]
  },
  {
   "cell_type": "code",
   "execution_count": null,
   "metadata": {},
   "outputs": [],
   "source": [
    "# 1番目以降をアウトプット\n",
    "saitamadata.columns[1:]"
   ]
  },
  {
   "cell_type": "code",
   "execution_count": null,
   "metadata": {},
   "outputs": [],
   "source": [
    "# 元のデータを入れ替える\n",
    "saitamadata[saitamadata.columns[1:]]=saitamadata[saitamadata.columns[1:]].astype(float)"
   ]
  },
  {
   "cell_type": "code",
   "execution_count": null,
   "metadata": {},
   "outputs": [],
   "source": [
    "# check!\n",
    "saitamadata.info()"
   ]
  },
  {
   "cell_type": "code",
   "execution_count": null,
   "metadata": {},
   "outputs": [],
   "source": [
    "# KEY_CODEをfloatに\n",
    "saitamamesh['KEY_CODE']=saitamamesh['KEY_CODE'].astype(float)"
   ]
  },
  {
   "cell_type": "code",
   "execution_count": null,
   "metadata": {},
   "outputs": [],
   "source": [
    "# merge the data\n",
    "saitamamesh = saitamamesh.merge(saitamadata, on='KEY_CODE')"
   ]
  },
  {
   "cell_type": "code",
   "execution_count": null,
   "metadata": {},
   "outputs": [],
   "source": [
    "# check!\n",
    "saitamamesh.sample(5)"
   ]
  },
  {
   "cell_type": "code",
   "execution_count": null,
   "metadata": {},
   "outputs": [],
   "source": [
    "# reproject to 3857 (web mercator)\n",
    "saitamamesh = chibamesh.to_crs(3857)"
   ]
  },
  {
   "cell_type": "code",
   "execution_count": null,
   "metadata": {},
   "outputs": [],
   "source": [
    "# make a quick plot\n",
    "saitamamesh.plot(column='T001100001')"
   ]
  },
  {
   "cell_type": "code",
   "execution_count": null,
   "metadata": {},
   "outputs": [],
   "source": [
    "# make a quick plot\n",
    "saitamamesh.plot(column='T000846001')"
   ]
  },
  {
   "cell_type": "code",
   "execution_count": null,
   "metadata": {},
   "outputs": [],
   "source": [
    "# 2020 population map\n",
    "ax = saitamamesh.plot(figsize=(12,12),\n",
    "         column='T001100001',\n",
    "         legend=True,\n",
    "         cmap='autumn_r',\n",
    "         edgecolor='black',\n",
    "         linewidth=0.1,\n",
    "         alpha=0.8,\n",
    "         legend_kwds={'shrink':0.5},\n",
    "         vmin=0,\n",
    "         vmax=15000\n",
    "         )\n",
    "\n",
    "# hide axes\n",
    "ax.axis('off')\n",
    "\n",
    "# title\n",
    "ax.set_title('2020人口　総数人',fontsize=24, pad=20) # タイトルの周りにスペースを足すために pad=20\n",
    "\n",
    "# Set map extent\n",
    "ax.set_xlim(saitamamesh.total_bounds[0], saitamamesh.total_bounds[2])\n",
    "ax.set_ylim(saitamamesh.total_bounds[1], saitamamesh.total_bounds[3])\n",
    "\n",
    "# add basemap\n",
    "cx.add_basemap(ax,source=cx.providers.Stamen.TonerLite)"
   ]
  },
  {
   "cell_type": "code",
   "execution_count": null,
   "metadata": {},
   "outputs": [],
   "source": [
    "saitamamesh.total_bounds"
   ]
  },
  {
   "cell_type": "code",
   "execution_count": null,
   "metadata": {},
   "outputs": [],
   "source": [
    "# population map\n",
    "fig, ax = plt.subplots(nrows=1,ncols=2,figsize=(20,20)) # 1 row, 2 columns, side by side\n",
    "\n",
    "# 2015 population\n",
    "saitamamesh.plot(ax = ax[0], # 左のマップ\n",
    "    column='T000846001',\n",
    "         legend=True,\n",
    "         legend_kwds={'shrink': 0.3},\n",
    "         cmap='autumn_r',\n",
    "         edgecolor='black',\n",
    "         linewidth=0.1,\n",
    "         alpha=0.8,\n",
    "         vmin=0,\n",
    "         vmax=15000)\n",
    "\n",
    "# 2020 population\n",
    "saitamamesh.plot(ax = ax[1], # 右のマップ\n",
    "    column='T001100001',\n",
    "         legend=True,\n",
    "         legend_kwds={'shrink': 0.3},\n",
    "         cmap='autumn_r',\n",
    "         edgecolor='black',\n",
    "         linewidth=0.1,\n",
    "         alpha=0.8,\n",
    "         vmin=0,\n",
    "         vmax=15000)\n",
    "\n",
    "# hide axes\n",
    "ax[0].axis('off') # 左\n",
    "ax[1].axis('off') # 右\n",
    "\n",
    "# title\n",
    "ax[0].set_title('2015 人口総数',fontsize=24); # 左\n",
    "ax[1].set_title('2020 人口総数',fontsize=24); # 右\n",
    "\n",
    "# Get the total bounds of the geometries\n",
    "xmin, ymin, xmax, ymax = chibamesh.total_bounds\n",
    "\n",
    "# Set the plot limits based on the total bounds\n",
    "ax[0].set_xlim(xmin, xmax) # 左\n",
    "ax[0].set_ylim(ymin, ymax) # 左 \n",
    "ax[1].set_xlim(xmin, xmax) # 右\n",
    "ax[1].set_ylim(ymin, ymax) # 右\n",
    "\n",
    "# サブプロット間のスペースを調整\n",
    "plt.tight_layout()\n",
    "\n",
    "# add basemap\n",
    "cx.add_basemap(ax[0],source=cx.providers.Stamen.TonerLite) # 左\n",
    "cx.add_basemap(ax[1],source=cx.providers.Stamen.TonerLite) # 右"
   ]
  },
  {
   "cell_type": "code",
   "execution_count": null,
   "metadata": {},
   "outputs": [],
   "source": [
    "# create a new field\n",
    "saitamamesh['pop_change_2015_2020'] = np.nan"
   ]
  },
  {
   "cell_type": "code",
   "execution_count": null,
   "metadata": {},
   "outputs": [],
   "source": [
    "# check!\n",
    "saitamamesh[['KEY_CODE','T001100001','T000846001','pop_change_2015_2020']].sample(5)"
   ]
  },
  {
   "cell_type": "code",
   "execution_count": null,
   "metadata": {},
   "outputs": [],
   "source": [
    "# population map\n",
    "fig,ax = plt.subplots(nrows=1, ncols=1, figsize=(12,12)) # 一つのマップなのでnrows,ncols=1\n",
    "\n",
    "# 2015-2020 population change\n",
    "saitamamesh.plot(ax = ax,\n",
    "        column='pop_change_2015_2020',\n",
    "        legend=True,\n",
    "        legend_kwds={'shrink': 0.5},\n",
    "        cmap='autumn_r',\n",
    "        edgecolor='black',\n",
    "        linewidth=0.1,\n",
    "        alpha=0.8,)\n",
    "\n",
    "# hide axes\n",
    "ax.axis('off')\n",
    "\n",
    "# title\n",
    "ax.set_title('2015 年から 2020 年までの人口の変化',fontsize=24, pad=20);\n",
    "\n",
    "# Get the total bounds of the geometries\n",
    "xmin, ymin, xmax, ymax = chibamesh.total_bounds\n",
    "\n",
    "# Set the plot limits based on the total bounds\n",
    "ax.set_xlim(xmin, xmax)\n",
    "ax.set_ylim(ymin, ymax)\n",
    "\n",
    "# add basemap\n",
    "cx.add_basemap(ax,source=cx.providers.Stamen.TonerLite)"
   ]
  },
  {
   "cell_type": "code",
   "execution_count": null,
   "metadata": {},
   "outputs": [],
   "source": [
    "# population map\n",
    "fig,ax = plt.subplots(nrows=1, ncols=1, figsize=(12,12))\n",
    "\n",
    "# 2015-2020 population change\n",
    "saitamamesh.plot(ax = ax,\n",
    "    column='pop_change_2015_2020',\n",
    "         legend=True,\n",
    "         legend_kwds={'shrink': 0.5},\n",
    "         cmap='seismic',\n",
    "         edgecolor='black',\n",
    "         linewidth=0.1,\n",
    "         alpha=0.8,\n",
    "         vmin=-3000, # vminとvmaxが同じことによって、中間値がゼロになる\n",
    "         vmax=3000\n",
    "         )\n",
    "\n",
    "# hide axes\n",
    "ax.axis('off')\n",
    "\n",
    "# title\n",
    "ax.set_title('東京・千葉 2015-2020 人口の変化',fontsize=30, pad=20)\n",
    "\n",
    "# Get the total bounds of the geometries\n",
    "xmin, ymin, xmax, ymax = chibamesh.total_bounds\n",
    "\n",
    "# Set the plot limits based on the total bounds\n",
    "ax.set_xlim(xmin, xmax)\n",
    "ax.set_ylim(ymin, ymax)\n",
    "\n",
    "# サブプロット間のスペースを調整\n",
    "plt.tight_layout()\n",
    "\n",
    "# add basemap\n",
    "cx.add_basemap(ax,source=cx.providers.Stamen.TonerLite)\n"
   ]
  },
  {
   "cell_type": "code",
   "execution_count": null,
   "metadata": {},
   "outputs": [],
   "source": [
    "# sort by population change\n",
    "saitamamesh = chibamesh.sort_values(by='pop_change_2015_2020')"
   ]
  },
  {
   "cell_type": "code",
   "execution_count": null,
   "metadata": {},
   "outputs": [],
   "source": [
    "# check!\n",
    "saitamamesh['pop_change_2015_2020']"
   ]
  },
  {
   "cell_type": "code",
   "execution_count": null,
   "metadata": {},
   "outputs": [],
   "source": [
    "# population map\n",
    "fig,ax = plt.subplots(nrows=1, ncols=1, figsize=(12,12))\n",
    "\n",
    "# 2015-2020 population change\n",
    "saitamamesh.tail(20).plot(ax = ax,\n",
    "    column='pop_change_2015_2020',\n",
    "         legend=True,\n",
    "         legend_kwds={'shrink': 0.5},\n",
    "         cmap='seismic',\n",
    "         edgecolor='black',\n",
    "         linewidth=1,\n",
    "         alpha=0.8,\n",
    "         vmin=-3000,\n",
    "         vmax=3000)\n",
    "\n",
    "# hide axes\n",
    "ax.axis('off')\n",
    "\n",
    "# title\n",
    "ax.set_title('人口増加率上位 20 地域',fontsize=24, pad=20)\n",
    "\n",
    "# サブプロット間のスペースを調整\n",
    "plt.tight_layout()\n",
    "\n",
    "# add basemap\n",
    "cx.add_basemap(ax,source=cx.providers.Stamen.TonerLite)"
   ]
  },
  {
   "cell_type": "code",
   "execution_count": null,
   "metadata": {},
   "outputs": [],
   "source": [
    "# population map\n",
    "fig,ax = plt.subplots(nrows=1, ncols=1, figsize=(12,12))\n",
    "\n",
    "# 2015-2020 population change\n",
    "saitamamesh.head(20).plot(ax = ax,\n",
    "    column='pop_change_2015_2020',\n",
    "         legend=True,legend_kwds={'shrink': 0.5},\n",
    "         cmap='seismic',\n",
    "         edgecolor='black',\n",
    "         linewidth=1,\n",
    "         alpha=0.8,\n",
    "         vmin=-3000,\n",
    "         vmax=3000)\n",
    "\n",
    "# hide axes\n",
    "ax.axis('off')\n",
    "\n",
    "# title\n",
    "ax.set_title('人口減少率上位 20 地域',fontsize=24, pad=20)\n",
    "\n",
    "# サブプロット間のスペースを調整\n",
    "plt.tight_layout()\n",
    "\n",
    "# add basemap\n",
    "cx.add_basemap(ax,source=cx.providers.Stamen.TonerLite)\n"
   ]
  },
  {
   "cell_type": "code",
   "execution_count": null,
   "metadata": {},
   "outputs": [],
   "source": [
    "# population map\n",
    "fig,ax = plt.subplots(nrows=1,ncols=1,figsize=(12,12))\n",
    "\n",
    "# 2015-2020 population change\n",
    "saitamamesh.head(20).plot(ax = ax,\n",
    "        column='pop_change_2015_2020',\n",
    "        legend=True,legend_kwds={'shrink': 0.5},\n",
    "        cmap='seismic',\n",
    "        edgecolor='black',\n",
    "        linewidth=1,\n",
    "        alpha=0.8,\n",
    "        vmin=-3000,\n",
    "        vmax=3000)\n",
    "\n",
    "# 2015-2020 population change\n",
    "saitamamesh.tail(20).plot(ax = ax,\n",
    "        column='pop_change_2015_2020',\n",
    "        cmap='seismic',\n",
    "        edgecolor='black',\n",
    "        linewidth=1,\n",
    "        alpha=0.8,\n",
    "        vmin=-3000,\n",
    "        vmax=3000)\n",
    "\n",
    "# hide axes\n",
    "ax.axis('off')\n",
    "\n",
    "# title\n",
    "ax.set_title('人口増加と減少の上位 20 地域',fontsize=24, pad=20)\n",
    "\n",
    "# サブプロット間のスペースを調整\n",
    "plt.tight_layout()\n",
    "\n",
    "# add basemap\n",
    "cx.add_basemap(ax,source=cx.providers.Stamen.TonerLite)"
   ]
  }
 ],
 "metadata": {
  "kernelspec": {
   "display_name": "gis",
   "language": "python",
   "name": "python3"
  },
  "language_info": {
   "codemirror_mode": {
    "name": "ipython",
    "version": 3
   },
   "file_extension": ".py",
   "mimetype": "text/x-python",
   "name": "python",
   "nbconvert_exporter": "python",
   "pygments_lexer": "ipython3",
   "version": "3.11.3"
  },
  "orig_nbformat": 4
 },
 "nbformat": 4,
 "nbformat_minor": 2
}
